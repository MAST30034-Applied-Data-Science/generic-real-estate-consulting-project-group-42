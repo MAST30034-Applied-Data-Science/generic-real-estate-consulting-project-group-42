{
 "cells": [
  {
   "cell_type": "code",
   "execution_count": 2,
   "metadata": {},
   "outputs": [
    {
     "name": "stderr",
     "output_type": "stream",
     "text": [
      "/usr/lib/python3/dist-packages/requests/__init__.py:89: RequestsDependencyWarning: urllib3 (1.26.12) or chardet (3.0.4) doesn't match a supported version!\n",
      "  warnings.warn(\"urllib3 ({}) or chardet ({}) doesn't match a supported \"\n"
     ]
    }
   ],
   "source": [
    "# plotting libraries\n",
    "import matplotlib.pyplot as plt\n",
    "import numpy as np\n",
    "import pandas as pd\n",
    "\n",
    "# visualisations \n",
    "import geopandas as gpd \n",
    "import folium\n",
    "import numpy as np "
   ]
  },
  {
   "cell_type": "markdown",
   "metadata": {},
   "source": [
    "Heat map of median rental prices per postcode"
   ]
  },
  {
   "cell_type": "code",
   "execution_count": 28,
   "metadata": {},
   "outputs": [],
   "source": [
    "# create geoJSON file of postcode and geometry coordinates \n",
    "sf = gpd.read_file(\"../data/raw/POA_2021_AUST_GDA2020_SHP/POA_2021_AUST_GDA2020.shp\")\n",
    "postcodes = pd.read_csv(\"../data/raw/external/postcode.csv\", names = [\"POA_CODE21\", \"Name\", \"Area\"])\n",
    "postcodes['POA_CODE21'] = postcodes['POA_CODE21'].astype(int)\n",
    "\n",
    "# Convert the geometry shaape to to latitude and longitude\n",
    "# TAKEN FROM TUTE 2 NOTEBOOK\n",
    "sf['geometry'] = sf['geometry'].to_crs(\"+proj=longlat +ellps=WGS84 +datum=WGS84 +no_defs\")\n",
    "sf = sf[sf['POA_CODE21'].between('3000', '4000')]\n",
    "sf['POA_CODE21'] = sf['POA_CODE21'].astype(int)\n",
    "\n",
    "\n",
    "\n",
    "gdf = gpd.GeoDataFrame(\n",
    "    pd.merge(postcodes, sf, on='POA_CODE21', how='inner')\n",
    ")\n",
    "\n",
    "geoJSON = gdf[['POA_CODE21', 'geometry']].drop_duplicates('POA_CODE21').to_json()"
   ]
  },
  {
   "cell_type": "code",
   "execution_count": 37,
   "metadata": {},
   "outputs": [],
   "source": [
    "# (y, x) since we want (lat, long)\n",
    "gdf['centroid'] = gdf['geometry'].apply(lambda x: (x.centroid.y, x.centroid.x))\n",
    "gdf[['Name', 'POA_CODE21', 'centroid']].head()\n",
    "\n",
    "df = pd.read_csv(f'../data/curated/median_rental_postcode.csv')\n",
    "df.reset_index()\n",
    "df.rename({'Postcode': 'POA_CODE21'})\n",
    "\n",
    "m = folium.Map(location=[-37.8136, 144.9631], tiles=\"Stamen Terrain\", zoom_start=10)\n",
    "\n",
    "c = folium.Choropleth(\n",
    "            geo_data=geoJSON, # geoJSON \n",
    "            name='choropleth', # name of plot\n",
    "            data=df, # data source\n",
    "            columns=['Postcode', 'Cost'], # the columns required\n",
    "            key_on='properties.POA_CODE21', # this is from the geoJSON's properties\n",
    "            fill_color='YlOrRd', # color scheme\n",
    "            nan_fill_color='grey',\n",
    "            legend_name= 'Median Rental Prices'\n",
    "        )\n",
    "\n",
    "c.add_to(m)\n",
    "m.save(f'../plots/victoria_rental_prices_heatmap')\n"
   ]
  },
  {
   "cell_type": "code",
   "execution_count": null,
   "metadata": {},
   "outputs": [],
   "source": []
  }
 ],
 "metadata": {
  "kernelspec": {
   "display_name": "Python 3.8.10 64-bit",
   "language": "python",
   "name": "python3"
  },
  "language_info": {
   "codemirror_mode": {
    "name": "ipython",
    "version": 3
   },
   "file_extension": ".py",
   "mimetype": "text/x-python",
   "name": "python",
   "nbconvert_exporter": "python",
   "pygments_lexer": "ipython3",
   "version": "3.8.10"
  },
  "orig_nbformat": 4,
  "vscode": {
   "interpreter": {
    "hash": "916dbcbb3f70747c44a77c7bcd40155683ae19c65e1c03b4aa3499c5328201f1"
   }
  }
 },
 "nbformat": 4,
 "nbformat_minor": 2
}
