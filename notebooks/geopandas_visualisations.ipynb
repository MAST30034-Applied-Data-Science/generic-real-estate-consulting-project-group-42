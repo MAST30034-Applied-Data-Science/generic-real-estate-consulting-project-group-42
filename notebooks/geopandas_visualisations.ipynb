{
 "cells": [
  {
   "cell_type": "markdown",
   "metadata": {},
   "source": [
    "# Visualisation of median rental prices by postcode"
   ]
  },
  {
   "cell_type": "code",
   "execution_count": 1,
   "metadata": {},
   "outputs": [
    {
     "name": "stderr",
     "output_type": "stream",
     "text": [
      "/usr/lib/python3/dist-packages/requests/__init__.py:89: RequestsDependencyWarning: urllib3 (1.26.11) or chardet (3.0.4) doesn't match a supported version!\n",
      "  warnings.warn(\"urllib3 ({}) or chardet ({}) doesn't match a supported \"\n"
     ]
    }
   ],
   "source": [
    "# Import necessary libraries\n",
    "import folium\n",
    "import geopandas as gpd\n",
    "import pandas as pd"
   ]
  },
  {
   "cell_type": "code",
   "execution_count": 2,
   "metadata": {},
   "outputs": [],
   "source": [
    "# Create geoJSON file of postcode and geometry coordinates \n",
    "sf = gpd.read_file(\"../data/raw/external/POA_2021_AUST_GDA2020/POA_2021_AUST_GDA2020.shp\")\n",
    "postcodes = pd.read_csv(\"../data/raw/external/postcode.csv\", names = [\"POA_CODE21\", \"Name\", \"Area\"])\n",
    "postcodes[\"POA_CODE21\"] = postcodes[\"POA_CODE21\"].astype(int)\n",
    "\n",
    "# Convert the geometry shape to to latitude and longitude\n",
    "# TAKEN FROM TUTE 2 NOTEBOOK\n",
    "sf[\"geometry\"] = sf[\"geometry\"].to_crs(\"+proj=longlat +ellps=WGS84 +datum=WGS84 +no_defs\")\n",
    "sf = sf[sf[\"POA_CODE21\"].between(\"3000\", \"4000\")]\n",
    "sf[\"POA_CODE21\"] = sf[\"POA_CODE21\"].astype(int)\n",
    "\n",
    "gdf = gpd.GeoDataFrame(\n",
    "    pd.merge(postcodes, sf, on=\"POA_CODE21\", how=\"inner\")\n",
    ")\n",
    "\n",
    "geoJSON = gdf[[\"POA_CODE21\", \"geometry\"]].drop_duplicates(\"POA_CODE21\").to_json()"
   ]
  },
  {
   "cell_type": "code",
   "execution_count": 3,
   "metadata": {},
   "outputs": [],
   "source": [
    "# (y, x) since we want (lat, long)\n",
    "gdf[\"centroid\"] = gdf[\"geometry\"].apply(lambda x: (x.centroid.y, x.centroid.x))\n",
    "gdf[[\"Name\", \"POA_CODE21\", \"centroid\"]].head()\n",
    "\n",
    "# input necessary dataframe and calculate median for each postcode \n",
    "property_df = pd.read_csv(\"../data/curated/categorised_distances.csv\")\n",
    "df = pd.DataFrame(property_df.groupby([\"Postcode\"])[\"Cost\"].median()).reset_index()\n",
    "df.rename({\"Postcode\": \"POA_CODE21\"})\n",
    "\n",
    "m = folium.Map(location=[-37.8136, 144.9631], tiles=\"Stamen Terrain\", zoom_start=10)\n",
    "\n",
    "c = folium.Choropleth(\n",
    "            geo_data=geoJSON, # geoJSON \n",
    "            name=\"choropleth\", # name of plot\n",
    "            data=df, # data source\n",
    "            columns=[\"Postcode\", \"Cost\"], # the columns required\n",
    "            key_on=\"properties.POA_CODE21\", # this is from the geoJSON's properties\n",
    "            fill_color=\"YlOrRd\", # color scheme\n",
    "            nan_fill_color=\"grey\",\n",
    "            legend_name= \"Median Rental Prices\"\n",
    "        )\n",
    "\n",
    "c.add_to(m)\n",
    "m.save(f\"../plots/victoria_rental_prices_heatmap\")"
   ]
  },
  {
   "cell_type": "markdown",
   "metadata": {},
   "source": [
    "For better comparisons, outliers with median rental prices of greater than $XX were omitted. This gave a better visualisation of the rental distribution in more suburbs"
   ]
  },
  {
   "cell_type": "code",
   "execution_count": 4,
   "metadata": {},
   "outputs": [
    {
     "data": {
      "text/html": [
       "<div>\n",
       "<style scoped>\n",
       "    .dataframe tbody tr th:only-of-type {\n",
       "        vertical-align: middle;\n",
       "    }\n",
       "\n",
       "    .dataframe tbody tr th {\n",
       "        vertical-align: top;\n",
       "    }\n",
       "\n",
       "    .dataframe thead th {\n",
       "        text-align: right;\n",
       "    }\n",
       "</style>\n",
       "<table border=\"1\" class=\"dataframe\">\n",
       "  <thead>\n",
       "    <tr style=\"text-align: right;\">\n",
       "      <th></th>\n",
       "      <th>Postcode</th>\n",
       "      <th>Cost</th>\n",
       "    </tr>\n",
       "  </thead>\n",
       "  <tbody>\n",
       "    <tr>\n",
       "      <th>380</th>\n",
       "      <td>3929</td>\n",
       "      <td>2650.000</td>\n",
       "    </tr>\n",
       "    <tr>\n",
       "      <th>279</th>\n",
       "      <td>3621</td>\n",
       "      <td>1825.000</td>\n",
       "    </tr>\n",
       "    <tr>\n",
       "      <th>392</th>\n",
       "      <td>3944</td>\n",
       "      <td>1800.000</td>\n",
       "    </tr>\n",
       "    <tr>\n",
       "      <th>272</th>\n",
       "      <td>3564</td>\n",
       "      <td>1495.165</td>\n",
       "    </tr>\n",
       "    <tr>\n",
       "      <th>320</th>\n",
       "      <td>3759</td>\n",
       "      <td>1200.000</td>\n",
       "    </tr>\n",
       "    <tr>\n",
       "      <th>...</th>\n",
       "      <td>...</td>\n",
       "      <td>...</td>\n",
       "    </tr>\n",
       "    <tr>\n",
       "      <th>211</th>\n",
       "      <td>3318</td>\n",
       "      <td>230.000</td>\n",
       "    </tr>\n",
       "    <tr>\n",
       "      <th>259</th>\n",
       "      <td>3490</td>\n",
       "      <td>220.000</td>\n",
       "    </tr>\n",
       "    <tr>\n",
       "      <th>235</th>\n",
       "      <td>3409</td>\n",
       "      <td>200.000</td>\n",
       "    </tr>\n",
       "    <tr>\n",
       "      <th>333</th>\n",
       "      <td>3799</td>\n",
       "      <td>200.000</td>\n",
       "    </tr>\n",
       "    <tr>\n",
       "      <th>238</th>\n",
       "      <td>3424</td>\n",
       "      <td>115.000</td>\n",
       "    </tr>\n",
       "  </tbody>\n",
       "</table>\n",
       "<p>409 rows × 2 columns</p>\n",
       "</div>"
      ],
      "text/plain": [
       "     Postcode      Cost\n",
       "380      3929  2650.000\n",
       "279      3621  1825.000\n",
       "392      3944  1800.000\n",
       "272      3564  1495.165\n",
       "320      3759  1200.000\n",
       "..        ...       ...\n",
       "211      3318   230.000\n",
       "259      3490   220.000\n",
       "235      3409   200.000\n",
       "333      3799   200.000\n",
       "238      3424   115.000\n",
       "\n",
       "[409 rows x 2 columns]"
      ]
     },
     "execution_count": 4,
     "metadata": {},
     "output_type": "execute_result"
    }
   ],
   "source": [
    "df.sort_values(by = [\"Cost\"], ascending = False)"
   ]
  },
  {
   "cell_type": "code",
   "execution_count": 5,
   "metadata": {},
   "outputs": [
    {
     "data": {
      "image/png": "[encoded data removed]",
      "text/plain": [
       "<Figure size 432x288 with 1 Axes>"
      ]
     },
     "metadata": {
      "needs_background": "light"
     },
     "output_type": "display_data"
    }
   ],
   "source": [
    "medianprices = df.boxplot(column = [\"Cost\"], vert = False)"
   ]
  },
  {
   "cell_type": "code",
   "execution_count": 6,
   "metadata": {},
   "outputs": [
    {
     "data": {
      "image/png": "[encoded data removed]",
      "text/plain": [
       "<Figure size 640x480 with 1 Axes>"
      ]
     },
     "metadata": {},
     "output_type": "display_data"
    }
   ],
   "source": [
    "df_adjusted = df[(df[\"Cost\"] <= 700)]\n",
    "medianprices = df_adjusted.boxplot(column = [\"Cost\"], vert = False)"
   ]
  },
  {
   "cell_type": "code",
   "execution_count": 7,
   "metadata": {},
   "outputs": [],
   "source": [
    "m = folium.Map(location=[-37.8136, 144.9631], tiles=\"Stamen Terrain\", zoom_start=10)\n",
    "\n",
    "c = folium.Choropleth(\n",
    "            geo_data=geoJSON, # geoJSON \n",
    "            name=\"choropleth\", # name of plot\n",
    "            data=df_adjusted, # data source\n",
    "            columns=[\"Postcode\", \"Cost\"], # the columns required\n",
    "            key_on=\"properties.POA_CODE21\", # this is from the geoJSON's properties\n",
    "            fill_color=\"YlOrRd\", # color scheme\n",
    "            nan_fill_color=\"grey\",\n",
    "            legend_name= \"Median Rental Prices\"\n",
    "        )\n",
    "\n",
    "c.add_to(m)\n",
    "m.save(f\"../plots/victoria_rental_prices_heatmap_reduced\")"
   ]
  }
 ],
 "metadata": {
  "kernelspec": {
   "display_name": "Python 3.8.10 64-bit",
   "language": "python",
   "name": "python3"
  },
  "language_info": {
   "codemirror_mode": {
    "name": "ipython",
    "version": 3
   },
   "file_extension": ".py",
   "mimetype": "text/x-python",
   "name": "python",
   "nbconvert_exporter": "python",
   "pygments_lexer": "ipython3",
   "version": "3.8.10"
  },
  "orig_nbformat": 4,
  "vscode": {
   "interpreter": {
    "hash": "916dbcbb3f70747c44a77c7bcd40155683ae19c65e1c03b4aa3499c5328201f1"
   }
  }
 },
 "nbformat": 4,
 "nbformat_minor": 2
}
