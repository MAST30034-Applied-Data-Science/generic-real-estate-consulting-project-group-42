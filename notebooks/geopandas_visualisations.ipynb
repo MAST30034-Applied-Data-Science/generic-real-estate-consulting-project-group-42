{
 "cells": [
  {
   "cell_type": "markdown",
   "metadata": {},
   "source": [
    "<h1>Visualisation of median rental prices by postcode</h1>"
   ]
  },
  {
   "cell_type": "code",
   "execution_count": null,
   "metadata": {},
   "outputs": [],
   "source": [
    "# Import necessary libraries\n",
    "import folium\n",
    "import geopandas as gpd\n",
    "import pandas as pd"
   ]
  },
  {
   "cell_type": "code",
   "execution_count": null,
   "metadata": {},
   "outputs": [],
   "source": [
    "# Create geoJSON file of postcode and geometry coordinates \n",
    "sf = gpd.read_file(\"../data/raw/external/POA_2021_AUST_GDA2020/POA_2021_AUST_GDA2020.shp\")\n",
    "postcodes = pd.read_csv(\"../data/raw/external/postcode.csv\", names = [\"POA_CODE21\", \"Name\", \"Area\"])\n",
    "postcodes[\"POA_CODE21\"] = postcodes[\"POA_CODE21\"].astype(int)\n",
    "\n",
    "# Convert the geometry shape to to latitude and longitude\n",
    "# TAKEN FROM TUTE 2 NOTEBOOK\n",
    "sf[\"geometry\"] = sf[\"geometry\"].to_crs(\"+proj=longlat +ellps=WGS84 +datum=WGS84 +no_defs\")\n",
    "sf = sf[sf[\"POA_CODE21\"].between(\"3000\", \"4000\")]\n",
    "sf[\"POA_CODE21\"] = sf[\"POA_CODE21\"].astype(int)\n",
    "\n",
    "gdf = gpd.GeoDataFrame(\n",
    "    pd.merge(postcodes, sf, on=\"POA_CODE21\", how=\"inner\")\n",
    ")\n",
    "\n",
    "geoJSON = gdf[[\"POA_CODE21\", \"geometry\"]].drop_duplicates(\"POA_CODE21\").to_json()"
   ]
  },
  {
   "cell_type": "markdown",
   "metadata": {},
   "source": [
    "## Rental prices heatmap"
   ]
  },
  {
   "cell_type": "code",
   "execution_count": null,
   "metadata": {},
   "outputs": [],
   "source": [
    "# (y, x) since we want (lat, long)\n",
    "gdf[\"centroid\"] = gdf[\"geometry\"].apply(lambda x: (x.centroid.y, x.centroid.x))\n",
    "gdf[[\"Name\", \"POA_CODE21\", \"centroid\"]].head()\n",
    "\n",
    "# input necessary dataframe and calculate median for each postcode \n",
    "property_df = pd.read_csv(\"../data/curated/categorised_distances.csv\")\n",
    "df = pd.DataFrame(property_df.groupby([\"Postcode\"])[\"Cost\"].median()).reset_index()\n",
    "df.rename({\"Postcode\": \"POA_CODE21\"})\n",
    "\n",
    "m = folium.Map(location=[-37.8136, 144.9631], tiles=\"Stamen Terrain\", zoom_start=10)\n",
    "\n",
    "c = folium.Choropleth(\n",
    "            geo_data=geoJSON, # geoJSON \n",
    "            name=\"choropleth\", # name of plot\n",
    "            data=df, # data source\n",
    "            columns=[\"Postcode\", \"Cost\"], # the columns required\n",
    "            key_on=\"properties.POA_CODE21\", # this is from the geoJSON's properties\n",
    "            fill_color=\"YlOrRd\", # color scheme\n",
    "            nan_fill_color=\"grey\",\n",
    "            legend_name= \"Median Rental Prices\"\n",
    "        )\n",
    "\n",
    "c.add_to(m)\n",
    "m.save(f\"../plots/victoria_rental_prices_heatmap.html\")\n",
    "m"
   ]
  },
  {
   "cell_type": "markdown",
   "metadata": {},
   "source": [
    "For better comparisons, outliers with median rental prices of greater than $XX were omitted. This gave a better visualisation of the rental distribution in more suburbs"
   ]
  },
  {
   "cell_type": "code",
   "execution_count": null,
   "metadata": {},
   "outputs": [],
   "source": [
    "medianprices = df.boxplot(column = [\"Cost\"], vert = False)"
   ]
  },
  {
   "cell_type": "code",
   "execution_count": null,
   "metadata": {},
   "outputs": [],
   "source": [
    "df_adjusted = df[(df[\"Cost\"] <= 700)]\n",
    "medianprices = df_adjusted.boxplot(column = [\"Cost\"], vert = False)"
   ]
  },
  {
   "cell_type": "code",
   "execution_count": null,
   "metadata": {},
   "outputs": [],
   "source": [
    "m = folium.Map(location=[-37.8136, 144.9631], tiles=\"Stamen Terrain\", zoom_start=10)\n",
    "\n",
    "c = folium.Choropleth(\n",
    "            geo_data=geoJSON, # geoJSON \n",
    "            name=\"choropleth\", # name of plot\n",
    "            data=df_adjusted, # data source\n",
    "            columns=[\"Postcode\", \"Cost\"], # the columns required\n",
    "            key_on=\"properties.POA_CODE21\", # this is from the geoJSON's properties\n",
    "            fill_color=\"YlOrRd\", # color scheme\n",
    "            nan_fill_color=\"grey\",\n",
    "            legend_name= \"Median Rental Prices\"\n",
    "        )\n",
    "\n",
    "c.add_to(m)\n",
    "m.save(f\"../plots/victoria_rental_prices_heatmap_reduced.html\")\n",
    "m"
   ]
  }
 ],
 "metadata": {
  "kernelspec": {
   "display_name": "Python 3.8.10 64-bit",
   "language": "python",
   "name": "python3"
  },
  "language_info": {
   "codemirror_mode": {
    "name": "ipython",
    "version": 3
   },
   "file_extension": ".py",
   "mimetype": "text/x-python",
   "name": "python",
   "nbconvert_exporter": "python",
   "pygments_lexer": "ipython3",
   "version": "3.10.4"
  },
  "orig_nbformat": 4,
  "vscode": {
   "interpreter": {
    "hash": "916dbcbb3f70747c44a77c7bcd40155683ae19c65e1c03b4aa3499c5328201f1"
   }
  }
 },
 "nbformat": 4,
 "nbformat_minor": 2
}
