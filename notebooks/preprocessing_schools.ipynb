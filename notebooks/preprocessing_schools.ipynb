{
 "cells": [
  {
   "cell_type": "code",
   "execution_count": 1,
   "metadata": {},
   "outputs": [
    {
     "name": "stderr",
     "output_type": "stream",
     "text": [
      "/usr/lib/python3/dist-packages/requests/__init__.py:89: RequestsDependencyWarning: urllib3 (1.26.11) or chardet (3.0.4) doesn't match a supported version!\n",
      "  warnings.warn(\"urllib3 ({}) or chardet ({}) doesn't match a supported \"\n"
     ]
    }
   ],
   "source": [
    "import geopy.distance\n",
    "import json\n",
    "import os\n",
    "import pandas as pd\n",
    "import time\n",
    "\n",
    "from dotenv import load_dotenv\n",
    "from shapely.geometry import Point, Polygon\n",
    "from openrouteservice import client, directions, isochrones"
   ]
  },
  {
   "cell_type": "code",
   "execution_count": 11,
   "metadata": {},
   "outputs": [],
   "source": [
    "output_dir = '../data/curated/'\n",
    "\n",
    "## set variables\n",
    "load_dotenv()\n",
    "tokens = []\n",
    "for i in range(1,35): # number of keys\n",
    "    token = os.environ.get(f'token_{i}')\n",
    "    tokens.append(token)\n",
    "nearby_properties = {}"
   ]
  },
  {
   "cell_type": "code",
   "execution_count": 20,
   "metadata": {},
   "outputs": [],
   "source": [
    "## read  data\n",
    "property_data = json.load(open( f\"{output_dir}properties_processed.json\" ))\n",
    "school_data = pd.read_csv(f'{output_dir}schools/school_info.csv')\n",
    "filtered_schools = school_data[(school_data['School_Type'] == 'Primary')|(school_data['School_Type'] =='Pri/Sec')|(school_data['School_Type'] == 'Secondary')]"
   ]
  },
  {
   "cell_type": "code",
   "execution_count": null,
   "metadata": {},
   "outputs": [],
   "source": [
    "## for each school find the properties in 30 min driving distance\n",
    "for i in range(0,5):\n",
    "    token = tokens[7+i]\n",
    "    schools = filtered_schools.iloc[i*500:i*500+500]\n",
    "    for index, row in schools.iterrows():\n",
    "        school_coords = [row['Longitude'], row['Latitude']]\n",
    "        school_key = f\"{row['School_Type']}, {school_coords}\"\n",
    "\n",
    "        ## marker since num schools > isochrone quota\n",
    "        if school_key not in nearby_properties.keys():\n",
    "            ors = client.Client(key=token)\n",
    "\n",
    "            ## find search region\n",
    "            params_iso = {'locations': [school_coords],\n",
    "                        'profile': 'driving-car',\n",
    "                        'range':[1800] # 30 mins\n",
    "                        }\n",
    "            iso = ors.isochrones(**params_iso)['features'][0]['geometry']\n",
    "\n",
    "            ## find all properties that fall in the search region\n",
    "            for property in property_data['Coordinates'].keys():\n",
    "                backwards = list(map(float,property_data['Coordinates'][property][1:-1].split(',')))\n",
    "                coords = Point(backwards[1], backwards[0])\n",
    "                if coords.within(Polygon(iso['coordinates'][0])):\n",
    "                    if school_key in nearby_properties.keys():\n",
    "                        nearby_properties[school_key].append(property)\n",
    "                    else:\n",
    "                        nearby_properties[school_key] = [property]\n",
    "            if school_key not in nearby_properties.keys():\n",
    "                nearby_properties[school_key] = []\n",
    "            time.sleep(0.5)"
   ]
  },
  {
   "cell_type": "code",
   "execution_count": 62,
   "metadata": {},
   "outputs": [],
   "source": [
    "## reverse dictionary to find the schools within a 30 min drive of each property\n",
    "nearby_schools = {}\n",
    "for property in property_data['Coordinates'].keys():\n",
    "    nearby_schools[property]=[]\n",
    "    for school in nearby_properties.keys():\n",
    "        if property in nearby_properties[school]:\n",
    "            nearby_schools[property].append(school)"
   ]
  },
  {
   "cell_type": "code",
   "execution_count": 112,
   "metadata": {},
   "outputs": [],
   "source": [
    "## find the schools with the closest distance\n",
    "def get_closest(property, schools):\n",
    "    prop_coords = (property[1],property[0])\n",
    "    if len(schools) == 0: ## for if no nearby schools\n",
    "        return 0\n",
    "    \n",
    "    distances = []\n",
    "    for school in schools:\n",
    "        distances.append(geopy.distance.geodesic(prop_coords, (school[1],school[0])))\n",
    "    \n",
    "    return schools[distances.index(min(distances))]"
   ]
  },
  {
   "cell_type": "code",
   "execution_count": 123,
   "metadata": {},
   "outputs": [],
   "source": [
    "## find the route\n",
    "def get_route(start, end, token):\n",
    "    if end == 0: ## for if no nearby schools\n",
    "        return {'distance': 0.0, 'duration':0.0}\n",
    "    \n",
    "    coords = [tuple(start), tuple(end)]\n",
    "    ors = client.Client(key=token)\n",
    "    request = {'coordinates': coords,\n",
    "            'profile': 'driving-car',\n",
    "            'geometry': 'true',\n",
    "            'format_out':'geojson'}\n",
    "    route = ors.directions(**request)\n",
    "    time.sleep(0.5)\n",
    "    return route['features'][0]['properties']['summary']"
   ]
  },
  {
   "cell_type": "code",
   "execution_count": 94,
   "metadata": {},
   "outputs": [],
   "source": [
    "school_dist = {}\n",
    "school_dist['Primary']={}\n",
    "school_dist['Secondary']={}"
   ]
  },
  {
   "cell_type": "code",
   "execution_count": 175,
   "metadata": {},
   "outputs": [],
   "source": [
    "## find nearest schools\n",
    "for i in range(0,34):\n",
    "    token = tokens[i]\n",
    "    x = len(school_dist['Primary'])\n",
    "    y = x + 666 # API max 2000/calls per loop 3\n",
    "\n",
    "    if y > len(nearby_schools.keys()):\n",
    "        y = len(nearby_schools.keys())\n",
    "\n",
    "    for property in range(x,y):\n",
    "        schools = nearby_schools[str(property)]\n",
    "        values = []\n",
    "        for school in schools:\n",
    "            split = list(school.split(', '))\n",
    "            values.append((split[0], list(map(float,[split[1][1:],split[2][:-1]]))))\n",
    "        backwards = list(map(float,property_data['Coordinates'][str(property)][1:-1].split(',')))\n",
    "        prop_coords = [backwards[1], backwards[0]]\n",
    "    \n",
    "        ## separate school types\n",
    "        pri_sec = [x[1] for x in values if x[0]=='Pri/Sec']\n",
    "        pri = [x[1] for x in values if x[0]=='Primary']\n",
    "        sec = [x[1] for x in values if x[0]=='Secondary']\n",
    "    \n",
    "        ## find closest school\n",
    "        pri_sec_school = get_closest(prop_coords,pri_sec)\n",
    "        pri_school = get_closest(prop_coords,pri)\n",
    "        sec_school = get_closest(prop_coords,sec)\n",
    "    \n",
    "        ## get route to closest school\n",
    "        pri_sec_route = get_route(prop_coords,pri_sec_school, token)\n",
    "        pri_route = get_route(prop_coords,pri_school, token)\n",
    "        sec_route = get_route(prop_coords,sec_school, token)\n",
    "    \n",
    "        ## save information\n",
    "        if (pri_sec_route['duration'] < pri_route['duration']) & (pri_sec_route['duration']!=0) | (pri_sec_route['duration'] > pri_route['duration']) & (pri_route['duration']==0):\n",
    "            school_dist['Primary'][str(property)] = pri_sec_route\n",
    "        else:\n",
    "            school_dist['Primary'][str(property)] = pri_route\n",
    "        \n",
    "        if (pri_sec_route['duration'] < sec_route['duration']) & (pri_sec_route['duration']!=0) | (pri_sec_route['duration'] > sec_route['duration']) & (sec_route['duration']==0):\n",
    "            school_dist['Secondary'][str(property)] = pri_sec_route\n",
    "        else:\n",
    "            school_dist['Secondary'][str(property)] = sec_route"
   ]
  },
  {
   "cell_type": "code",
   "execution_count": 179,
   "metadata": {},
   "outputs": [],
   "source": [
    "school_count = {}\n",
    "for property in nearby_schools.keys():\n",
    "    school_count[property] = len(nearby_schools[property])"
   ]
  },
  {
   "cell_type": "code",
   "execution_count": 182,
   "metadata": {},
   "outputs": [],
   "source": [
    "property_data['Nearby_Schools'] = school_count\n",
    "property_data['Primary_Distance'] = school_dist['Primary']\n",
    "property_data['Secondary_Distance'] = school_dist['Secondary']"
   ]
  },
  {
   "cell_type": "code",
   "execution_count": 185,
   "metadata": {},
   "outputs": [],
   "source": [
    "## write json\n",
    "json.dump(property_data, open(f\"{output_dir}school_info.json\", 'w'))\n",
    "\n",
    "# write csv\n",
    "data = pd.read_json(f\"{output_dir}school_info.json\")\n",
    "data.to_csv(f\"{output_dir}school_info.csv\")"
   ]
  }
 ],
 "metadata": {
  "kernelspec": {
   "display_name": "Python 3.8.10 64-bit",
   "language": "python",
   "name": "python3"
  },
  "language_info": {
   "codemirror_mode": {
    "name": "ipython",
    "version": 3
   },
   "file_extension": ".py",
   "mimetype": "text/x-python",
   "name": "python",
   "nbconvert_exporter": "python",
   "pygments_lexer": "ipython3",
   "version": "3.8.10"
  },
  "orig_nbformat": 4,
  "vscode": {
   "interpreter": {
    "hash": "916dbcbb3f70747c44a77c7bcd40155683ae19c65e1c03b4aa3499c5328201f1"
   }
  }
 },
 "nbformat": 4,
 "nbformat_minor": 2
}
