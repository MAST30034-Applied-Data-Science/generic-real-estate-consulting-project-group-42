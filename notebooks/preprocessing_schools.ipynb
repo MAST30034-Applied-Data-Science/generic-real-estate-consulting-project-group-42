{
 "cells": [
  {
   "cell_type": "code",
   "execution_count": 16,
   "metadata": {},
   "outputs": [],
   "source": [
    "import geopy.distance\n",
    "import json\n",
    "import os\n",
    "import pandas as pd\n",
    "import time\n",
    "\n",
    "from dotenv import load_dotenv\n",
    "from shapely.geometry import shape, Point\n",
    "from openrouteservice import client, directions, isochrones"
   ]
  },
  {
   "cell_type": "code",
   "execution_count": 2,
   "metadata": {},
   "outputs": [],
   "source": [
    "output_dir = '../data/curated/'\n",
    "\n",
    "## set variables\n",
    "load_dotenv()\n",
    "tokens = []\n",
    "for i in range(1,24): # number of keys\n",
    "    token = os.environ.get(f'token_{i}')\n",
    "    tokens.append(token)"
   ]
  },
  {
   "cell_type": "code",
   "execution_count": 4,
   "metadata": {},
   "outputs": [],
   "source": [
    "## read  data\n",
    "property_data = json.load(open( f\"{output_dir}properties_processed.json\" ))\n",
    "school_data = pd.read_csv(f'{output_dir}schools/school_info.csv')\n",
    "filtered_schools = school_data[(school_data['School_Type'] == 'Primary')|(school_data['School_Type'] =='Pri/Sec')|(school_data['School_Type'] == 'Secondary')]"
   ]
  },
  {
   "cell_type": "code",
   "execution_count": null,
   "metadata": {},
   "outputs": [],
   "source": [
    "## for each school find the properties in 30 min driving distance\n",
    "token = tokens[0]\n",
    "\n",
    "nearby_properties = {}\n",
    "for index, row in filtered_schools.iterrows():\n",
    "    school_coords = [row['Longitude'], row['Latitude']]\n",
    "    school_key = (row['School_Type'], school_coords)\n",
    "\n",
    "    ## marker since num schools > isochrone quota\n",
    "    if school_key not in nearby_properties.keys():\n",
    "        ors = client.Client(key=token)\n",
    "\n",
    "        ## find search region\n",
    "        params_iso = {'locations': school_coords,\n",
    "                    'profile': 'driving-car',\n",
    "                    'range':[1800]\n",
    "                    }\n",
    "        iso = ors.isochrones(**params_iso)['features'][0]['geometry']\n",
    "\n",
    "        for property in property_data['Coordinates'].keys():\n",
    "            coords = property_data['Coordinates'][property]\n",
    "            if shape(iso).contains(Point(tuple(coords))):\n",
    "                if school_key in nearby_properties.keys():\n",
    "                    nearby_properties[school_key].append(property)\n",
    "                else:\n",
    "                    nearby_properties[school_key] = [property]"
   ]
  },
  {
   "cell_type": "code",
   "execution_count": null,
   "metadata": {},
   "outputs": [],
   "source": [
    "## reverse to find the schools within a 30 min drive\n",
    "nearby_schools = {}\n",
    "for property in property_data['Coordinates'].keys():\n",
    "    for school in nearby_properties.keys():\n",
    "        if property in nearby_properties[school]:\n",
    "            if property in nearby_schools.keys():\n",
    "                nearby_schools[property].append(school)\n",
    "            else:\n",
    "                nearby_schools[property] = [school]"
   ]
  },
  {
   "cell_type": "code",
   "execution_count": null,
   "metadata": {},
   "outputs": [],
   "source": [
    "def get_closest(property, schools):\n",
    "    prop_coords = tuple(property)\n",
    "    if len(schools) == 0:\n",
    "        return 0\n",
    "    \n",
    "    distances = []\n",
    "    for school in schools:\n",
    "        distances.append(geopy.distance.geodesic(prop_coords, tuple(school)))\n",
    "    \n",
    "    return schools[distances.index(min(distances))]"
   ]
  },
  {
   "cell_type": "code",
   "execution_count": null,
   "metadata": {},
   "outputs": [],
   "source": [
    "def get_route(start, end):\n",
    "    if end == 0:\n",
    "        return {'distance': '0', 'duration':'0'}\n",
    "    \n",
    "    coords = [tuple(start), tuple(end)]\n",
    "    ors = client.Client(key=token)\n",
    "    request = {'coordinates': coords,\n",
    "            'profile': 'driving-car',\n",
    "            'geometry': 'true',\n",
    "            'format_out':'geojson'}\n",
    "    route = ors.directions(**request)\n",
    "    return route['features'][0]['properties']['summary']"
   ]
  },
  {
   "cell_type": "code",
   "execution_count": null,
   "metadata": {},
   "outputs": [],
   "source": [
    "## find nearest schools\n",
    "school_dist = {}\n",
    "for property in nearby_schools.keys():\n",
    "    value = nearby_schools[property]\n",
    "    backwards = list(map(float,property_data['Coordinates'][str(property)][1:-1].split(',')))\n",
    "    prop_coords = [backwards[1], backwards[0]]\n",
    "\n",
    "    ## separate school types\n",
    "    pri_sec = [y for x,y in value if x=='Pri/Sec']\n",
    "    pri = [y for x,y in value if x=='Primary']\n",
    "    sec = [y for x,y in value if x=='Secondary']\n",
    "\n",
    "    ## find closest school\n",
    "    pri_sec_school = get_closest(prop_coords,pri_sec)\n",
    "    pri_school = get_closest(prop_coords,pri)\n",
    "    sec_school = get_closest(prop_coords,sec)\n",
    "\n",
    "    ## get route to closest school\n",
    "    pri_sec_route = get_closest(prop_coords,pri_sec_school)\n",
    "    pri_route = get_closest(prop_coords,pri_school)\n",
    "    sec_route = get_closest(prop_coords,sec_school)\n",
    "\n",
    "    ## save information\n",
    "    if (pri_sec_route['duration'] < pri_route['duration']) & (pri_sec_route['duration']!=0) | (pri_sec_route['duration'] > pri_route['duration']) & (pri_sec_route['duration']==0):\n",
    "        school_dist[property]['Primary'] = pri_sec_route\n",
    "    else:\n",
    "        school_dist[property]['Primary'] = pri_route\n",
    "    \n",
    "    if (pri_sec_route['duration'] < sec_route['duration']) & (pri_sec_route['duration']!=0) | (pri_sec_route['duration'] > sec_route['duration']) & (pri_sec_route['duration']==0):\n",
    "        school_dist[property]['Secondary'] = pri_sec_route\n",
    "    else:\n",
    "        school_dist[property]['Secondary'] = sec_route"
   ]
  },
  {
   "cell_type": "code",
   "execution_count": null,
   "metadata": {},
   "outputs": [],
   "source": []
  }
 ],
 "metadata": {
  "kernelspec": {
   "display_name": "Python 3.8.10 64-bit",
   "language": "python",
   "name": "python3"
  },
  "language_info": {
   "codemirror_mode": {
    "name": "ipython",
    "version": 3
   },
   "file_extension": ".py",
   "mimetype": "text/x-python",
   "name": "python",
   "nbconvert_exporter": "python",
   "pygments_lexer": "ipython3",
   "version": "3.8.10"
  },
  "orig_nbformat": 4,
  "vscode": {
   "interpreter": {
    "hash": "916dbcbb3f70747c44a77c7bcd40155683ae19c65e1c03b4aa3499c5328201f1"
   }
  }
 },
 "nbformat": 4,
 "nbformat_minor": 2
}
