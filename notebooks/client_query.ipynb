{
 "cells": [
  {
   "cell_type": "code",
   "execution_count": 26,
   "metadata": {},
   "outputs": [
    {
     "name": "stderr",
     "output_type": "stream",
     "text": [
      "/usr/lib/python3/dist-packages/requests/__init__.py:89: RequestsDependencyWarning: urllib3 (1.26.11) or chardet (3.0.4) doesn't match a supported version!\n",
      "  warnings.warn(\"urllib3 ({}) or chardet ({}) doesn't match a supported \"\n"
     ]
    }
   ],
   "source": [
    "## import modules\n",
    "import folium\n",
    "import geopandas as gpd\n",
    "import pandas as pd"
   ]
  },
  {
   "cell_type": "code",
   "execution_count": 17,
   "metadata": {},
   "outputs": [],
   "source": [
    "## download data\n",
    "forecast = pd.read_csv('../data/curated/median_rental_postcode_filtered.csv')\n",
    "afford = pd.read_csv('../data/curated/affordability.csv')[['Postcode', 'Standardised Affordability']]\n",
    "live = pd.read_csv('../data/curated/liveability.csv')[['Postcode', 'Standardised Liveability']]\n",
    "\n",
    "data = forecast.merge(afford, how='outer', on='Postcode').merge(live, how='outer', on='Postcode')"
   ]
  },
  {
   "cell_type": "code",
   "execution_count": 33,
   "metadata": {},
   "outputs": [],
   "source": [
    "postcodes = pd.read_csv('../data/raw/external/postcode.csv', header=None) "
   ]
  },
  {
   "cell_type": "code",
   "execution_count": 34,
   "metadata": {},
   "outputs": [
    {
     "data": {
      "text/html": [
       "<div>\n",
       "<style scoped>\n",
       "    .dataframe tbody tr th:only-of-type {\n",
       "        vertical-align: middle;\n",
       "    }\n",
       "\n",
       "    .dataframe tbody tr th {\n",
       "        vertical-align: top;\n",
       "    }\n",
       "\n",
       "    .dataframe thead th {\n",
       "        text-align: right;\n",
       "    }\n",
       "</style>\n",
       "<table border=\"1\" class=\"dataframe\">\n",
       "  <thead>\n",
       "    <tr style=\"text-align: right;\">\n",
       "      <th></th>\n",
       "      <th>0</th>\n",
       "      <th>1</th>\n",
       "      <th>2</th>\n",
       "    </tr>\n",
       "  </thead>\n",
       "  <tbody>\n",
       "    <tr>\n",
       "      <th>0</th>\n",
       "      <td>3000</td>\n",
       "      <td>MELBOURNE</td>\n",
       "      <td>MELBOURNE CITY</td>\n",
       "    </tr>\n",
       "    <tr>\n",
       "      <th>1</th>\n",
       "      <td>3001</td>\n",
       "      <td>MELBOURNE</td>\n",
       "      <td>MELBOURNE CITY</td>\n",
       "    </tr>\n",
       "    <tr>\n",
       "      <th>2</th>\n",
       "      <td>3002</td>\n",
       "      <td>EAST MELBOURNE</td>\n",
       "      <td>MELBOURNE CITY</td>\n",
       "    </tr>\n",
       "    <tr>\n",
       "      <th>3</th>\n",
       "      <td>3003</td>\n",
       "      <td>WEST MELBOURNE</td>\n",
       "      <td>MELBOURNE CITY</td>\n",
       "    </tr>\n",
       "    <tr>\n",
       "      <th>4</th>\n",
       "      <td>3004</td>\n",
       "      <td>MELBOURNE</td>\n",
       "      <td>MELBOURNE CITY</td>\n",
       "    </tr>\n",
       "    <tr>\n",
       "      <th>...</th>\n",
       "      <td>...</td>\n",
       "      <td>...</td>\n",
       "      <td>...</td>\n",
       "    </tr>\n",
       "    <tr>\n",
       "      <th>3108</th>\n",
       "      <td>3995</td>\n",
       "      <td>WATTLE BANK</td>\n",
       "      <td>VIC FAR COUNTRY</td>\n",
       "    </tr>\n",
       "    <tr>\n",
       "      <th>3109</th>\n",
       "      <td>3995</td>\n",
       "      <td>WONTHAGGI</td>\n",
       "      <td>VIC FAR COUNTRY</td>\n",
       "    </tr>\n",
       "    <tr>\n",
       "      <th>3110</th>\n",
       "      <td>3995</td>\n",
       "      <td>WOOLAMAI</td>\n",
       "      <td>VIC FAR COUNTRY</td>\n",
       "    </tr>\n",
       "    <tr>\n",
       "      <th>3111</th>\n",
       "      <td>3996</td>\n",
       "      <td>INVERLOCH</td>\n",
       "      <td>VIC FAR COUNTRY</td>\n",
       "    </tr>\n",
       "    <tr>\n",
       "      <th>3112</th>\n",
       "      <td>3996</td>\n",
       "      <td>POUND CREEK</td>\n",
       "      <td>VIC FAR COUNTRY</td>\n",
       "    </tr>\n",
       "  </tbody>\n",
       "</table>\n",
       "<p>3113 rows × 3 columns</p>\n",
       "</div>"
      ],
      "text/plain": [
       "         0               1                2\n",
       "0     3000       MELBOURNE   MELBOURNE CITY\n",
       "1     3001       MELBOURNE   MELBOURNE CITY\n",
       "2     3002  EAST MELBOURNE   MELBOURNE CITY\n",
       "3     3003  WEST MELBOURNE   MELBOURNE CITY\n",
       "4     3004       MELBOURNE   MELBOURNE CITY\n",
       "...    ...             ...              ...\n",
       "3108  3995     WATTLE BANK  VIC FAR COUNTRY\n",
       "3109  3995       WONTHAGGI  VIC FAR COUNTRY\n",
       "3110  3995        WOOLAMAI  VIC FAR COUNTRY\n",
       "3111  3996       INVERLOCH  VIC FAR COUNTRY\n",
       "3112  3996     POUND CREEK  VIC FAR COUNTRY\n",
       "\n",
       "[3113 rows x 3 columns]"
      ]
     },
     "execution_count": 34,
     "metadata": {},
     "output_type": "execute_result"
    }
   ],
   "source": [
    "postcodes"
   ]
  }
 ],
 "metadata": {
  "kernelspec": {
   "display_name": "Python 3.8.10 64-bit",
   "language": "python",
   "name": "python3"
  },
  "language_info": {
   "codemirror_mode": {
    "name": "ipython",
    "version": 3
   },
   "file_extension": ".py",
   "mimetype": "text/x-python",
   "name": "python",
   "nbconvert_exporter": "python",
   "pygments_lexer": "ipython3",
   "version": "3.8.10"
  },
  "orig_nbformat": 4,
  "vscode": {
   "interpreter": {
    "hash": "916dbcbb3f70747c44a77c7bcd40155683ae19c65e1c03b4aa3499c5328201f1"
   }
  }
 },
 "nbformat": 4,
 "nbformat_minor": 2
}
