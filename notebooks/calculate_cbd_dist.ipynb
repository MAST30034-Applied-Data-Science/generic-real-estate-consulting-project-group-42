{
 "cells": [
  {
   "cell_type": "code",
   "execution_count": 2,
   "metadata": {},
   "outputs": [
    {
     "name": "stderr",
     "output_type": "stream",
     "text": [
      "/usr/lib/python3/dist-packages/requests/__init__.py:89: RequestsDependencyWarning: urllib3 (1.26.12) or chardet (3.0.4) doesn't match a supported version!\n",
      "  warnings.warn(\"urllib3 ({}) or chardet ({}) doesn't match a supported \"\n"
     ]
    }
   ],
   "source": [
    "import json\n",
    "import os\n",
    "import pandas as pd\n",
    "import time\n",
    "\n",
    "from dotenv import load_dotenv\n",
    "from openrouteservice import client, directions, isochrones, places"
   ]
  },
  {
   "cell_type": "code",
   "execution_count": 3,
   "metadata": {},
   "outputs": [],
   "source": [
    "token_1 = '5b3ce3597851110001cf6248699b88c2149c41bcb3188f454422896f' # raph\n",
    "token_2 = '5b3ce3597851110001cf62486ee6a1f873a140fe9be5649ca406044d' # raph\n",
    "token_3 = '5b3ce3597851110001cf6248dc19b6c0177649fe978adbc90d7d99b8' # rapj\n",
    "token_4 = '5b3ce3597851110001cf6248a037d56d5b27416d9a07d63e77e3d190' # raph\n",
    "\n",
    "token_6 = '5b3ce3597851110001cf624876aeb78adea8420baafd351196cbd985' # mira\n",
    "token_7 = '5b3ce3597851110001cf6248367bd3f936244212a4797e74c7b273ea' # ana\n",
    "token_8 = '5b3ce3597851110001cf624838df250aaf294f39970c4cf365e50280' # daniel\n",
    "token_9 = '5b3ce3597851110001cf6248ac0814a15df749a7ad88ebe2f35e9c54' # shae\n",
    "token_10 = '5b3ce3597851110001cf62486727983b54614849a0263ead65e2eeae' # bec\n",
    "token_11 = '5b3ce3597851110001cf6248300bb89e20f441a496d19ebd08a9ce17' # ruby\n",
    "token_12 = '5b3ce3597851110001cf62486e654f420ae04b3c9ddc3af4942caa49' # ruby's bf\n",
    "token_13 = '5b3ce3597851110001cf6248c00dc4500e774a1b8919fba3788779a6' # kelman's friends 1\n",
    "token_14 = '5b3ce3597851110001cf62485a80770d4c07494dac05ab3619b9c208' # kelman's friends 2\n",
    "token_15 = '5b3ce3597851110001cf6248d57e2a1220eb4ff5953538e19034b040' # kelman's friends 3\n",
    "token_16 = '5b3ce3597851110001cf624834fb5b7e9af147f4877c90a0d8784485' # kelman's friends 4\n",
    "token_17 = '5b3ce3597851110001cf624867cce3b107eb47ff859cec8004c435cf' # kelman's friends 5\n",
    "token_18 = '5b3ce3597851110001cf62486ee6a1f873a140fe9be5649ca406044d' # raph 1\n",
    "token_19 = '5b3ce3597851110001cf6248dc19b6c0177649fe978adbc90d7d99b8' # raph 2\n",
    "token_20 = '5b3ce3597851110001cf624859b80c3d594147d4bb888bc323a446eb' # winona 1\n",
    "token_21 = '5b3ce3597851110001cf6248a7d915bb377b44f69f942df6e942be0c' # winona 2\n",
    "token_22 = '5b3ce3597851110001cf624899ceb8cfb4b045cfb0aa7b7cdd27e482' # noah\n",
    "token_23 = '5b3ce3597851110001cf6248444ceabe552f4bb99053d3f9943750a4' # kelman's friends 6"
   ]
  },
  {
   "cell_type": "code",
   "execution_count": 14,
   "metadata": {},
   "outputs": [],
   "source": [
    "output_dir = '../data/curated/'\n",
    "\n",
    "## set variables\n",
    "load_dotenv()\n",
    "tokens = [token_1, token_2, token_3, token_4, token_6, \n",
    "            token_7, token_8, token_9, token_10, token_11, \n",
    "            token_12, token_13, token_14, token_15, token_16, \n",
    "            token_17, token_18, token_19, token_20, token_21, \n",
    "            token_22, token_23 ]\n",
    "for i in range(1,24): ## number of keys\n",
    "    token = os.environ.get(f'token_{i}')\n",
    "    tokens.append(token)\n",
    "    \n",
    "melbourne_cbd = [144.9631, -37.8136] # taken from google maps \n",
    "cbd_dict = {}"
   ]
  },
  {
   "cell_type": "code",
   "execution_count": 15,
   "metadata": {},
   "outputs": [
    {
     "data": {
      "text/plain": [
       "7686"
      ]
     },
     "execution_count": 15,
     "metadata": {},
     "output_type": "execute_result"
    }
   ],
   "source": [
    "## read apartment data\n",
    "property_data = json.load(open( f\"{output_dir}cbd_distance.json\" ))\n",
    "cbd_dict = property_data['CBD_distance']\n",
    "\n",
    "completed = {k:v for k,v in cbd_dict.items() if v is not None}\n",
    "len(completed)"
   ]
  },
  {
   "cell_type": "code",
   "execution_count": 6,
   "metadata": {},
   "outputs": [],
   "source": [
    "# load previously run cbd_dict\n",
    "cbd_dict = json.load(open(f\"{output_dir}cbd_distance.json\"))"
   ]
  },
  {
   "cell_type": "code",
   "execution_count": 88,
   "metadata": {},
   "outputs": [],
   "source": [
    "token = tokens[15] #do with more tokens \n",
    "\n",
    "## set x and y\n",
    "x = len(completed)\n",
    "y = len(completed)+500 ## from smallest API quota\n",
    "if y > len(property_data['Coordinates'].keys()):\n",
    "    y = len(property_data['Coordinates'].keys())\n",
    "\n",
    "for index in range(x,y):\n",
    "    backwards = list(map(float,property_data['Coordinates'][str(index)][1:-1].split(',')))\n",
    "    coords = [[backwards[1], backwards[0]]]\n",
    "    ors = client.Client(key=token)\n",
    "    \n",
    "    all = [[str(coords[0][0]),str(coords[0][1])],[str(melbourne_cbd[0]),str(melbourne_cbd[1])]]\n",
    "\n",
    "    ## get car route\n",
    "    request = {'coordinates': all,\n",
    "            'profile': 'driving-car',\n",
    "            'geometry': 'true',\n",
    "            'format_out':'geojson'}\n",
    "    route = ors.directions(**request)\n",
    "    info = route['features'][0]['properties']['summary']\n",
    "\n",
    "    ## add information\n",
    "    cbd_dict[str(index)] = info\n",
    "    time.sleep(0.5)"
   ]
  },
  {
   "cell_type": "code",
   "execution_count": 89,
   "metadata": {},
   "outputs": [
    {
     "name": "stdout",
     "output_type": "stream",
     "text": [
      "13226\n"
     ]
    }
   ],
   "source": [
    "# check how many cbd distances have been filled in the property data \n",
    "completed = {k:v for k,v in cbd_dict.items() if v is not None}\n",
    "print(len(completed))"
   ]
  },
  {
   "cell_type": "markdown",
   "metadata": {},
   "source": [
    "Driveways are longer than 350m to the main road and cannot be detected by ors. Hence, impute as 0"
   ]
  },
  {
   "cell_type": "code",
   "execution_count": 44,
   "metadata": {},
   "outputs": [],
   "source": [
    "# imputing 0 due to 'Could not find routable point within a radius of 350.0 meters of specified coordinate' error\n",
    "# the driveway is 450m not on map, api limited to 350m to search for a route\n",
    "cbd_dict[str(10561)] = 0 "
   ]
  },
  {
   "cell_type": "code",
   "execution_count": 64,
   "metadata": {},
   "outputs": [],
   "source": [
    "# imputing 0 due to 'Could not find routable point within a radius of 350.0 meters of specified coordinate' error\n",
    "# the driveway is 500m not on map, api limited to 350m to search for a route\n",
    "cbd_dict[str(11129)] = 0 "
   ]
  },
  {
   "cell_type": "markdown",
   "metadata": {},
   "source": [
    "Not on map"
   ]
  },
  {
   "cell_type": "code",
   "execution_count": 75,
   "metadata": {},
   "outputs": [],
   "source": [
    "# imputing 0 due to 'Could not find routable point within a radius of 350.0 meters of specified coordinate' error\n",
    "# Benalla residence not forming route\n",
    "cbd_dict[str(11728)] = 0 \n",
    "cbd_dict[str(11729)] = 0"
   ]
  },
  {
   "cell_type": "markdown",
   "metadata": {},
   "source": [
    "Road closed in Rockbank "
   ]
  },
  {
   "cell_type": "code",
   "execution_count": 38,
   "metadata": {},
   "outputs": [],
   "source": [
    "# imputing 0 due to 'Could not find routable point within a radius of 350.0 meters of specified coordinate' error\n",
    "# road closed\n",
    "cbd_dict[str(10497)] = 0\n",
    "cbd_dict[str(10581)] = 0\n",
    "cbd_dict[str(10590)] = 0\n",
    "cbd_dict[str(10591)] = 0\n"
   ]
  },
  {
   "cell_type": "markdown",
   "metadata": {},
   "source": [
    "House on the ocean?"
   ]
  },
  {
   "cell_type": "code",
   "execution_count": 86,
   "metadata": {},
   "outputs": [],
   "source": [
    "# imputing 0 due to 'Could not find routable point within a radius of 350.0 meters of specified coordinate' error\n",
    "# house is on the water it seems\n",
    "cbd_dict[str(12797)] = 0"
   ]
  },
  {
   "cell_type": "markdown",
   "metadata": {},
   "source": [
    "Save data"
   ]
  },
  {
   "cell_type": "code",
   "execution_count": 90,
   "metadata": {},
   "outputs": [],
   "source": [
    "property_data['CBD_distance'] = cbd_dict\n",
    "\n",
    "## write json\n",
    "json.dump(property_data, open(f\"{output_dir}cbd_distance.json\", 'w'))\n",
    "\n",
    "# write csv\n",
    "data = pd.read_json(f\"{output_dir}cbd_distance.json\")\n",
    "data.to_csv(f\"{output_dir}cbd_distance.csv\")"
   ]
  },
  {
   "cell_type": "code",
   "execution_count": null,
   "metadata": {},
   "outputs": [],
   "source": []
  }
 ],
 "metadata": {
  "kernelspec": {
   "display_name": "Python 3.8.10 64-bit",
   "language": "python",
   "name": "python3"
  },
  "language_info": {
   "codemirror_mode": {
    "name": "ipython",
    "version": 3
   },
   "file_extension": ".py",
   "mimetype": "text/x-python",
   "name": "python",
   "nbconvert_exporter": "python",
   "pygments_lexer": "ipython3",
   "version": "3.8.10"
  },
  "orig_nbformat": 4,
  "vscode": {
   "interpreter": {
    "hash": "916dbcbb3f70747c44a77c7bcd40155683ae19c65e1c03b4aa3499c5328201f1"
   }
  }
 },
 "nbformat": 4,
 "nbformat_minor": 2
}
