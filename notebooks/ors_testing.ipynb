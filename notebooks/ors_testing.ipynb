{
 "cells": [
  {
   "cell_type": "code",
   "execution_count": 1,
   "metadata": {},
   "outputs": [
    {
     "name": "stderr",
     "output_type": "stream",
     "text": [
      "/usr/lib/python3/dist-packages/requests/__init__.py:89: RequestsDependencyWarning: urllib3 (1.26.11) or chardet (3.0.4) doesn't match a supported version!\n",
      "  warnings.warn(\"urllib3 ({}) or chardet ({}) doesn't match a supported \"\n"
     ]
    }
   ],
   "source": [
    "## import shit\n",
    "\n",
    "import folium\n",
    "import geopandas\n",
    "\n",
    "from openrouteservice import client, places\n",
    "from shapely import geometry"
   ]
  },
  {
   "cell_type": "code",
   "execution_count": 2,
   "metadata": {},
   "outputs": [],
   "source": [
    "## read in SAL\n",
    "\n",
    "sal = geopandas.read_file('../data/raw/external/SAL_shapefile/SAL_2021_AUST_GDA2020.shp')\n",
    "\n",
    "## small test before for loop\n",
    "test = sal.query('SAL_NAME21 == \"Wendouree\"')\n",
    "test_shape = test.dissolve(by='SAL_NAME21')\n",
    "test_shape = test_shape['geometry'][0]"
   ]
  },
  {
   "cell_type": "code",
   "execution_count": 3,
   "metadata": {},
   "outputs": [],
   "source": [
    "test_json = geometry.mapping(geometry.shape(test_shape))"
   ]
  },
  {
   "cell_type": "code",
   "execution_count": 72,
   "metadata": {},
   "outputs": [
    {
     "data": {
      "text/plain": [
       "[{'type': 'Feature',\n",
       "  'geometry': {'type': 'Point', 'coordinates': [143.82002, -37.539683]},\n",
       "  'properties': {'osm_id': 134721032,\n",
       "   'osm_type': 2,\n",
       "   'distance': 0.0,\n",
       "   'category_ids': {'604': {'category_name': 'station',\n",
       "     'category_group': 'transport'}},\n",
       "   'osm_tags': {'name': 'Wendouree'}}}]"
      ]
     },
     "execution_count": 72,
     "metadata": {},
     "output_type": "execute_result"
    }
   ],
   "source": [
    "## appoach one (from pub example)\n",
    "\n",
    "# bus_station: 587, bus_stop: 588, railway_station: 604, tram_stop: 605, platform: 607, pt_stop_area: 609, pt_station: 610\n",
    "\n",
    "ors = client.Client(key=api_key)\n",
    "query = {'request': 'pois',\n",
    "        'geojson': test_json,\n",
    "        'filter_category_ids': [604]}\n",
    "railway_station = ors.places(**query)['features']\n",
    "railway_station\n",
    "#railway_station[0]['geometry']['coordinates']"
   ]
  },
  {
   "cell_type": "code",
   "execution_count": null,
   "metadata": {},
   "outputs": [],
   "source": [
    "## approach two (from api playground)\n",
    "\n",
    "import requests\n",
    "\n",
    "body = {\"request\":\"pois\",\n",
    "        \"geometry\":{\"geojson\":test_json},\n",
    "        \"filters\":{\"category_ids\":[604]},\n",
    "        \"limit\":10\n",
    "        }\n",
    "\n",
    "headers =  {\n",
    "    'Accept': 'application/json, application/geo+json, application/gpx+xml, img/png; charset=utf-8',\n",
    "    'Authorization': api_key,\n",
    "    'Content-Type': 'application/json; charset=utf-8'\n",
    "}\n",
    "\n",
    "call = requests.post('https://api.openrouteservice.org/pois', json=body, headers=headers)\n",
    "   \n",
    "print(call.status_code, call.reason)\n",
    "print(call.text)"
   ]
  },
  {
   "cell_type": "code",
   "execution_count": 4,
   "metadata": {},
   "outputs": [
    {
     "data": {
      "text/plain": [
       "15353"
      ]
     },
     "execution_count": 4,
     "metadata": {},
     "output_type": "execute_result"
    }
   ],
   "source": [
    "## create the loop\n",
    "sal_vic = sal.query('STE_NAME21 == \"Victoria\"')\n",
    "vic_shapes = sal.dissolve(by='SAL_NAME21')\n",
    "len(vic_shapes)"
   ]
  },
  {
   "cell_type": "markdown",
   "metadata": {},
   "source": [
    "Code/Websites used:\n",
    "\n",
    "For finding Victoria: https://spatialvision.com.au/blog-open-source-spatial-geopandas-part-1/\n",
    "\n",
    "Model of using ORS: https://openrouteservice.org/example-optimize-pub-crawl-with-ors/\n",
    "\n",
    "Query categories: https://github.com/GIScience/openpoiservice/blob/master/openpoiservice/server/categories/categories.yml or https://giscience.github.io/openrouteservice/documentation/Places.html\n",
    "\n",
    "Other model: https://openrouteservice.org/dev/#/api-docs/pois/post"
   ]
  }
 ],
 "metadata": {
  "kernelspec": {
   "display_name": "Python 3.8.10 64-bit",
   "language": "python",
   "name": "python3"
  },
  "language_info": {
   "codemirror_mode": {
    "name": "ipython",
    "version": 3
   },
   "file_extension": ".py",
   "mimetype": "text/x-python",
   "name": "python",
   "nbconvert_exporter": "python",
   "pygments_lexer": "ipython3",
   "version": "3.8.10"
  },
  "orig_nbformat": 4,
  "vscode": {
   "interpreter": {
    "hash": "916dbcbb3f70747c44a77c7bcd40155683ae19c65e1c03b4aa3499c5328201f1"
   }
  }
 },
 "nbformat": 4,
 "nbformat_minor": 2
}
