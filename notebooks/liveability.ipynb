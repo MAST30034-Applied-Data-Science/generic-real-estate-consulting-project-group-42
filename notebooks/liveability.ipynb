{
 "cells": [
  {
   "cell_type": "markdown",
   "metadata": {},
   "source": [
    "<h1>Liveability</h1>"
   ]
  },
  {
   "cell_type": "code",
   "execution_count": null,
   "metadata": {},
   "outputs": [],
   "source": [
    "# Importing necessary libraries\n",
    "import folium\n",
    "import geopandas as gpd \n",
    "import pandas as pd\n",
    "import sys\n",
    "\n",
    "sys.path.insert(0, \"../scripts/\")\n",
    "from helper_functions import convert_census_to_postcode"
   ]
  },
  {
   "cell_type": "markdown",
   "metadata": {},
   "source": [
    "## Read in relevant data"
   ]
  },
  {
   "cell_type": "code",
   "execution_count": null,
   "metadata": {},
   "outputs": [],
   "source": [
    "all_property_df = pd.read_csv(\"../data/curated/categorised_distances.csv\")\n",
    "\n",
    "property_df = all_property_df[[\"Cost\", \"Bed\", \"Bath\", \"Parking\", \"Postcode\"]]\n",
    "distances_df = all_property_df[[\"Bed\", \"Bath\", \"Parking\", \"Postcode\", \"Railway_Duration\", \"CBD_Duration\", \"Post_Office_Duration\", \"Park_Distance\", \n",
    "                                \"Nearby_Schools\"]]\n",
    "\n",
    "schools_df = pd.read_csv(\"../data/curated/schools/school_counts.csv\")"
   ]
  },
  {
   "cell_type": "markdown",
   "metadata": {},
   "source": [
    "## Dataset creation"
   ]
  },
  {
   "cell_type": "markdown",
   "metadata": {},
   "source": [
    "### Calculating the average number of nearby amenities per postcode"
   ]
  },
  {
   "cell_type": "code",
   "execution_count": null,
   "metadata": {},
   "outputs": [],
   "source": [
    "# Calculate average duration of distances\n",
    "avg_cbd_dur = distances_df.groupby(by = \"Postcode\")[\"CBD_Duration\"].mean()\n",
    "avg_station_dur = distances_df.groupby(by = \"Postcode\")[\"Railway_Duration\"].mean()\n",
    "avg_park_dist = distances_df.groupby(by = \"Postcode\")[\"Park_Distance\"].mean()\n",
    "avg_post_dur = distances_df.groupby(by = \"Postcode\")[\"Post_Office_Duration\"].mean()\n",
    "avg_num_schools = distances_df.groupby(by = \"Postcode\")[\"Nearby_Schools\"].mean()\n",
    "\n",
    "# Creating dataframe of average amenities per postcode\n",
    "amenities_df = pd.DataFrame()\n",
    "amenities_df[\"Postcode\"] = property_df[\"Postcode\"].unique()\n",
    "amenities_df[\"Average Duration to CBD\"] = avg_cbd_dur.to_list()\n",
    "amenities_df[\"Average Duration to Station\"] = avg_station_dur.to_list()\n",
    "amenities_df[\"Average Distance to Park\"] = avg_park_dist.to_list()\n",
    "amenities_df[\"Average Duration to Post Office\"] = avg_post_dur.to_list()\n",
    "amenities_df[\"Average # of Schools\"] = avg_num_schools.to_list()\n",
    "amenities_df.head()"
   ]
  },
  {
   "cell_type": "markdown",
   "metadata": {},
   "source": [
    "### Calculating the average number of facilities"
   ]
  },
  {
   "cell_type": "code",
   "execution_count": null,
   "metadata": {},
   "outputs": [],
   "source": [
    "avg_bed = property_df.groupby(by = \"Postcode\")[\"Bed\"].mean()\n",
    "avg_bath = property_df.groupby(by = \"Postcode\")[\"Bath\"].mean()\n",
    "avg_parking = property_df.groupby(by = \"Postcode\")[\"Parking\"].mean()\n",
    "\n",
    "# Creating dataframe of average facilities per postcode\n",
    "facilities_df = pd.DataFrame()\n",
    "facilities_df[\"Postcode\"] = property_df[\"Postcode\"].unique()\n",
    "facilities_df[\"Average # Beds\"] = avg_bed.to_list()\n",
    "facilities_df[\"Average # Baths\"] = avg_bath.to_list()\n",
    "facilities_df[\"Average # Parking\"] = avg_parking.to_list()\n",
    "facilities_df.head()"
   ]
  },
  {
   "cell_type": "markdown",
   "metadata": {},
   "source": [
    "### Join dataframes"
   ]
  },
  {
   "cell_type": "code",
   "execution_count": null,
   "metadata": {},
   "outputs": [],
   "source": [
    "# Joining facilities and amenities dataframes\n",
    "amenities_df.set_index(\"Postcode\", inplace = True)\n",
    "facilities_df.set_index(\"Postcode\", inplace = True)\n",
    "postcode_property_df = amenities_df.join(facilities_df, on = \"Postcode\")\n",
    "postcode_property_df.head()"
   ]
  },
  {
   "cell_type": "markdown",
   "metadata": {},
   "source": [
    "### Obtaining census/population data"
   ]
  },
  {
   "cell_type": "code",
   "execution_count": null,
   "metadata": {},
   "outputs": [],
   "source": [
    "# Reading in csv files for obtaining census data\n",
    "# Read in census dataframes and convert to postcode mapping\n",
    "census_df = pd.read_csv(\"../data/curated/census_data.csv\")\n",
    "sa2_postcode_map = pd.read_csv(\"../data/curated/sa2_postcode_mapping_2021.csv\")\n",
    "census_by_postcode_df = convert_census_to_postcode(census_df, sa2_postcode_map, \"mean_no_zero\")"
   ]
  },
  {
   "cell_type": "code",
   "execution_count": null,
   "metadata": {},
   "outputs": [],
   "source": [
    "# Removing unnecessary columns from census data (only need columns containing data from 2021)\n",
    "census_by_postcode_df = census_by_postcode_df[[\"postcode_2021\", \"tot_population_21\", \"avg_med_mortg_rep_21\", \"avg_med_person_inc_21\", \"avg_med_rent_21\", \n",
    "                            \"avg_med_hh_inc_21\", \"tot_avg_hh_size_21\"]]\n",
    "\n",
    "# Selecting columns required for assessing liveability\n",
    "population_df = census_by_postcode_df[[\"postcode_2021\", \"tot_avg_hh_size_21\"]]\n",
    "\n",
    "# Renaming postcode column of census dataframe and setting to index\n",
    "population_df = population_df.rename({\"postcode_2021\": \"Postcode\"}, axis = 1)\n",
    "population_df = population_df.set_index(\"Postcode\")\n",
    "\n",
    "# Joining census population dataframe and facilities and amenities dataframe\n",
    "df = population_df.join(postcode_property_df, on = \"Postcode\")\n",
    "df.head()"
   ]
  },
  {
   "cell_type": "markdown",
   "metadata": {},
   "source": [
    "## Calculating liveability metric"
   ]
  },
  {
   "cell_type": "code",
   "execution_count": null,
   "metadata": {},
   "outputs": [],
   "source": [
    "# If the number of facilities is 0 (i.e. for number of bedrooms or number of parking spaces) replace 0 value with arbitrary small value epsilon\n",
    "EPSILON = 10**(-6)\n",
    " \n",
    "df.loc[df[\"Average # Beds\"] == 0, \"Average # Beds\"] = EPSILON\n",
    "df.loc[df[\"Average # Parking\"] == 0, \"Average # Parking\"] = EPSILON"
   ]
  },
  {
   "cell_type": "code",
   "execution_count": null,
   "metadata": {},
   "outputs": [],
   "source": [
    "TOTAL_PROPERTIES = len(property_df)\n",
    "TOTAL_SCHOOLS = len(schools_df)\n",
    "\n",
    "# Counting the number of properties per postcode\n",
    "num_properties = property_df.groupby(\"Postcode\").size()"
   ]
  },
  {
   "cell_type": "code",
   "execution_count": null,
   "metadata": {},
   "outputs": [],
   "source": [
    "# Calcuting the contribution of each postcode to the total number of rental properties as a proportion\n",
    "df[\"Property Proportion\"] = num_properties / TOTAL_PROPERTIES\n",
    "df[\"Schools Proportion\"] = df[\"Average # of Schools\"] / TOTAL_SCHOOLS\n",
    "\n",
    "# Calculating the average number of facilities per person in a household (for each postcode)\n",
    "df[\"Beds per Person\"] = df[\"Average # Beds\"] / df[\"tot_avg_hh_size_21\"]\n",
    "df[\"Baths per Person\"] = df[\"Average # Baths\"] / df[\"tot_avg_hh_size_21\"]\n",
    "df[\"Parking per Person\"] = df[\"Average # Parking\"] / df[\"tot_avg_hh_size_21\"]\n",
    "\n",
    "# Calculating non-stadardised liveability metric\n",
    "df[\"Liveability\"] = ((1 / df[\"Average Duration to CBD\"]) + df[\"Average Duration to Station\"] + df[\"Average Distance to Park\"] + \n",
    "                    df[\"Average Duration to Post Office\"] + (df[\"Property Proportion\"] * 100) + df[\"Beds per Person\"] + df[\"Baths per Person\"] + \n",
    "                    df[\"Parking per Person\"] + df[\"Schools Proportion\"])\n",
    "\n",
    "# Standardised liveability metric\n",
    "min_liveability = df.sort_values(by = \"Liveability\").head(1)[\"Liveability\"].tolist()[0]\n",
    "max_liveability = df.sort_values(by = \"Liveability\", ascending = False).head(1)[\"Liveability\"].tolist()[0]\n",
    "\n",
    "# Taking 1 - standardised liveability (to make sure metric ranks 0 as least liveable & 1 as most liveable)\n",
    "df[\"Standardised Liveability\"] = (df[\"Liveability\"] - min_liveability) / (max_liveability - min_liveability)\n",
    "df = df.reset_index()\n",
    "\n",
    "liveability_df = df[[\"Postcode\", \"Standardised Liveability\"]]\n",
    "liveability_df.to_csv(\"../data/curated/liveability.csv\", index=False)\n",
    "\n",
    "# Top 10 affordable postcodes\n",
    "most_liveable_df = liveability_df.sort_values(by=\"Standardised Liveability\", ascending = False).head(10)\n",
    "most_liveable_df"
   ]
  },
  {
   "cell_type": "markdown",
   "metadata": {},
   "source": [
    "## Graphing standardised affordability"
   ]
  },
  {
   "cell_type": "code",
   "execution_count": null,
   "metadata": {},
   "outputs": [],
   "source": [
    "# Creating geoJSON file of postcode and geometry coordinates \n",
    "sf = gpd.read_file(\"../data/raw/external/POA_2021_AUST_GDA2020/POA_2021_AUST_GDA2020.shp\")\n",
    "postcodes = pd.read_csv(\"../data/raw/external/postcode.csv\", names = [\"POA_CODE21\", \"Name\", \"Area\"])\n",
    "postcodes[\"POA_CODE21\"] = postcodes[\"POA_CODE21\"].astype(int)\n",
    "\n",
    "# Converting the geometry shaape to to latitude and longitude\n",
    "# TAKEN FROM TUTE 2 NOTEBOOK\n",
    "sf[\"geometry\"] = sf[\"geometry\"].to_crs(\"+proj=longlat +ellps=WGS84 +datum=WGS84 +no_defs\")\n",
    "sf = sf[sf[\"POA_CODE21\"].between(\"3000\", \"4000\")]\n",
    "sf[\"POA_CODE21\"] = sf[\"POA_CODE21\"].astype(int)\n",
    "\n",
    "\n",
    "\n",
    "gdf = gpd.GeoDataFrame(\n",
    "    pd.merge(postcodes, sf, on = \"POA_CODE21\", how = \"inner\")\n",
    ")\n",
    "\n",
    "geoJSON = gdf[[\"POA_CODE21\", \"geometry\"]].drop_duplicates(\"POA_CODE21\").to_json()"
   ]
  },
  {
   "cell_type": "markdown",
   "metadata": {},
   "source": [
    "**Liveability heatmap**"
   ]
  },
  {
   "cell_type": "code",
   "execution_count": null,
   "metadata": {},
   "outputs": [],
   "source": [
    "# (y, x) since we want (lat, long)\n",
    "gdf[\"centroid\"] = gdf[\"geometry\"].apply(lambda x: (x.centroid.y, x.centroid.x))\n",
    "gdf[[\"Name\", \"POA_CODE21\", \"centroid\"]].head()\n",
    "\n",
    "liveability_df.rename({\"Postcode\": \"POA_CODE21\"})\n",
    "\n",
    "m = folium.Map(location = [-37.8136, 144.9631], tiles = \"Stamen Terrain\", zoom_start = 10)\n",
    "\n",
    "c = folium.Choropleth(\n",
    "            geo_data = geoJSON, # geoJSON \n",
    "            name = \"choropleth\", # name of plot\n",
    "            data = liveability_df, # data source\n",
    "            columns = [\"Postcode\", \"Standardised Liveability\"], # the columns required\n",
    "            key_on = \"properties.POA_CODE21\", # this is from the geoJSON's properties\n",
    "            fill_color = \"YlOrRd\", # color scheme\n",
    "            nan_fill_color = \"grey\",\n",
    "            legend_name = \"Liveability\"\n",
    "        )\n",
    "\n",
    "c.add_to(m)\n",
    "m.save(f\"../plots/liveability_heatmap.html\")\n",
    "m"
   ]
  },
  {
   "cell_type": "markdown",
   "metadata": {},
   "source": [
    "**Most liveable heatmap**"
   ]
  },
  {
   "cell_type": "code",
   "execution_count": null,
   "metadata": {},
   "outputs": [],
   "source": [
    "# Export most liveable heatmap\n",
    "postcodes[\"POA_CODE21\"] = postcodes[\"POA_CODE21\"].astype(int)\n",
    "postcodes = postcodes.loc[postcodes[\"POA_CODE21\"].isin(most_liveable_df[\"Postcode\"].to_list())]\n",
    "\n",
    "gdf = gpd.GeoDataFrame(\n",
    "    pd.merge(postcodes, sf, on = \"POA_CODE21\", how = \"inner\")\n",
    ")\n",
    "\n",
    "geoJSON = gdf[[\"POA_CODE21\", \"geometry\"]].drop_duplicates(\"POA_CODE21\").to_json()\n",
    "\n",
    "m = folium.Map(location = [-37.8136, 144.9631], tiles = \"Stamen Terrain\", zoom_start = 10)\n",
    "\n",
    "m.add_child(folium.Choropleth(geo_data = geoJSON, name = \"choropleth\",))\n",
    "m.save(f\"../plots/most_liveable_heatmap.html\")\n",
    "m"
   ]
  }
 ],
 "metadata": {
  "kernelspec": {
   "display_name": "Python 3.8.10 64-bit",
   "language": "python",
   "name": "python3"
  },
  "language_info": {
   "codemirror_mode": {
    "name": "ipython",
    "version": 3
   },
   "file_extension": ".py",
   "mimetype": "text/x-python",
   "name": "python",
   "nbconvert_exporter": "python",
   "pygments_lexer": "ipython3",
   "version": "3.10.4"
  },
  "orig_nbformat": 4,
  "vscode": {
   "interpreter": {
    "hash": "916dbcbb3f70747c44a77c7bcd40155683ae19c65e1c03b4aa3499c5328201f1"
   }
  }
 },
 "nbformat": 4,
 "nbformat_minor": 2
}
