{
 "cells": [
  {
   "cell_type": "code",
   "execution_count": 43,
   "metadata": {},
   "outputs": [],
   "source": [
    "import sys\n",
    "sys.path.insert(0, '../scripts/')\n",
    "from helper_functions import convert_census_to_postcode\n",
    "\n",
    "import pandas as pd\n",
    "import numpy as np\n",
    "import seaborn as sns\n",
    "import matplotlib.pyplot as plt\n",
    "from scipy.interpolate import interp1d\n",
    "from statsmodels.tsa.vector_ar.var_model import VAR\n",
    "\n",
    "import matplotlib.pyplot as plt\n",
    "\n",
    "import statsmodels.api as sm\n",
    "from statsmodels.formula.api import ols\n",
    "\n",
    "import geopandas as gpd\n",
    "\n",
    "from scipy.interpolate import interp1d\n",
    "\n",
    "output_dir = '../data/curated/'\n"
   ]
  },
  {
   "cell_type": "markdown",
   "metadata": {},
   "source": [
    "<h3> Preparation for forecasting </h3>"
   ]
  },
  {
   "cell_type": "code",
   "execution_count": 4,
   "metadata": {},
   "outputs": [],
   "source": [
    "properties_df = pd.read_csv(\"../data/curated/properties_processed.csv\", index_col=0)\n",
    "properties_df['Postcode'] = properties_df['Postcode'].astype(str)\n",
    "\n",
    "# read in census dataframes\n",
    "census_df = pd.read_csv(\"../data/curated/census_data.csv\")\n",
    "sa2_postcode_map = pd.read_csv(\"../data/curated/sa2_postcode_mapping_2021.csv\")"
   ]
  },
  {
   "cell_type": "code",
   "execution_count": 5,
   "metadata": {},
   "outputs": [],
   "source": [
    "census_df_postcode_agg = convert_census_to_postcode(census_df, sa2_postcode_map, 'mean_no_zero')"
   ]
  },
  {
   "cell_type": "markdown",
   "metadata": {},
   "source": [
    "Median Rental Prices"
   ]
  },
  {
   "cell_type": "code",
   "execution_count": 7,
   "metadata": {},
   "outputs": [],
   "source": [
    "median_rent = properties_df.groupby([\"Postcode\"])[\"Cost\"].median()\n"
   ]
  },
  {
   "cell_type": "code",
   "execution_count": 8,
   "metadata": {},
   "outputs": [],
   "source": [
    "median_rent.to_csv(f'{output_dir}median_rental_postcode.csv')"
   ]
  },
  {
   "cell_type": "code",
   "execution_count": 78,
   "metadata": {},
   "outputs": [
    {
     "name": "stdout",
     "output_type": "stream",
     "text": [
      "[2022, 2023, 2024, 2025, 2026]\n"
     ]
    },
    {
     "name": "stderr",
     "output_type": "stream",
     "text": [
      "/usr/local/lib/python3.10/dist-packages/statsmodels/tsa/base/tsa_model.py:471: ValueWarning: No frequency information was provided, so inferred frequency AS-JAN will be used.\n",
      "  self._init_dates(dates, freq)\n"
     ]
    }
   ],
   "source": [
    "impute_features = ['tot_population', 'avg_med_mortg_rep', 'avg_med_person_inc', 'avg_med_rent', 'avg_med_hh_inc', 'tot_avg_hh_size']\n",
    "init_years = [11, 16, 21]\n",
    "new_years = list(range(11, 22))\n",
    "\n",
    "\n",
    "for i in [2]:\n",
    "    data = census_df_postcode_agg.iloc[i]\n",
    "    #print(census_df_postcode_agg.iloc[i])\n",
    "\n",
    "    # interpolation \n",
    "    interpolated_dict = dict()\n",
    "    interpolated_dict['date']= [f'20{year}' for year in new_years]\n",
    "\n",
    "    for feature in impute_features:\n",
    "        init_y = data[[f'{feature}_{init_years[0]}', f'{feature}_{init_years[1]}', f'{feature}_{init_years[2]}']].tolist()\n",
    "        #print(init_y)\n",
    "\n",
    "        interp_func = interp1d(init_years, init_y)\n",
    "        new_y = list(interp_func(new_years))\n",
    "        #print(new_y)\n",
    "\n",
    "        interpolated_dict[feature] = new_y\n",
    "\n",
    "    # creation of new dataframe\n",
    "    interpolated_df = pd.DataFrame(interpolated_dict)\n",
    "    \n",
    "\n",
    "    # model\n",
    "    interpolated_df['date'] = pd.to_datetime(interpolated_df['date'])\n",
    "    interpolated_df = interpolated_df.set_index('date')\n",
    "\n",
    "    model = VAR(endog=interpolated_df)\n",
    "    model_fit = model.fit()\n",
    "\n",
    "    forecasted_values = model_fit.forecast(interpolated_df.values[-1:], 5)\n",
    "\n",
    "    forecasted_avg_med_rent = [row[3] for row in forecasted_values]\n",
    "    forecasted_years = range(2022, 2022+len(forecasted_avg_med_rent))\n",
    "    print(list(forecasted_years))\n",
    "\n",
    "    break "
   ]
  },
  {
   "cell_type": "code",
   "execution_count": 65,
   "metadata": {},
   "outputs": [
    {
     "data": {
      "text/html": [
       "<div>\n",
       "<style scoped>\n",
       "    .dataframe tbody tr th:only-of-type {\n",
       "        vertical-align: middle;\n",
       "    }\n",
       "\n",
       "    .dataframe tbody tr th {\n",
       "        vertical-align: top;\n",
       "    }\n",
       "\n",
       "    .dataframe thead th {\n",
       "        text-align: right;\n",
       "    }\n",
       "</style>\n",
       "<table border=\"1\" class=\"dataframe\">\n",
       "  <thead>\n",
       "    <tr style=\"text-align: right;\">\n",
       "      <th></th>\n",
       "      <th>tot_population</th>\n",
       "      <th>avg_med_mortg_rep</th>\n",
       "      <th>avg_med_person_inc</th>\n",
       "      <th>avg_med_rent</th>\n",
       "      <th>avg_med_hh_inc</th>\n",
       "      <th>tot_avg_hh_size</th>\n",
       "    </tr>\n",
       "    <tr>\n",
       "      <th>date</th>\n",
       "      <th></th>\n",
       "      <th></th>\n",
       "      <th></th>\n",
       "      <th></th>\n",
       "      <th></th>\n",
       "      <th></th>\n",
       "    </tr>\n",
       "  </thead>\n",
       "  <tbody>\n",
       "    <tr>\n",
       "      <th>2011-01-01</th>\n",
       "      <td>15496.0</td>\n",
       "      <td>2200.0</td>\n",
       "      <td>701.5</td>\n",
       "      <td>418.5</td>\n",
       "      <td>1493.5</td>\n",
       "      <td>2.15</td>\n",
       "    </tr>\n",
       "    <tr>\n",
       "      <th>2012-01-01</th>\n",
       "      <td>16523.4</td>\n",
       "      <td>2170.0</td>\n",
       "      <td>704.4</td>\n",
       "      <td>413.8</td>\n",
       "      <td>1488.0</td>\n",
       "      <td>2.15</td>\n",
       "    </tr>\n",
       "    <tr>\n",
       "      <th>2013-01-01</th>\n",
       "      <td>17550.8</td>\n",
       "      <td>2140.0</td>\n",
       "      <td>707.3</td>\n",
       "      <td>409.1</td>\n",
       "      <td>1482.5</td>\n",
       "      <td>2.15</td>\n",
       "    </tr>\n",
       "    <tr>\n",
       "      <th>2014-01-01</th>\n",
       "      <td>18578.2</td>\n",
       "      <td>2110.0</td>\n",
       "      <td>710.2</td>\n",
       "      <td>404.4</td>\n",
       "      <td>1477.0</td>\n",
       "      <td>2.15</td>\n",
       "    </tr>\n",
       "    <tr>\n",
       "      <th>2015-01-01</th>\n",
       "      <td>19605.6</td>\n",
       "      <td>2080.0</td>\n",
       "      <td>713.1</td>\n",
       "      <td>399.7</td>\n",
       "      <td>1471.5</td>\n",
       "      <td>2.15</td>\n",
       "    </tr>\n",
       "    <tr>\n",
       "      <th>2016-01-01</th>\n",
       "      <td>20633.0</td>\n",
       "      <td>2050.0</td>\n",
       "      <td>716.0</td>\n",
       "      <td>395.0</td>\n",
       "      <td>1466.0</td>\n",
       "      <td>2.15</td>\n",
       "    </tr>\n",
       "    <tr>\n",
       "      <th>2017-01-01</th>\n",
       "      <td>21123.0</td>\n",
       "      <td>2057.0</td>\n",
       "      <td>772.8</td>\n",
       "      <td>393.1</td>\n",
       "      <td>1523.0</td>\n",
       "      <td>2.11</td>\n",
       "    </tr>\n",
       "    <tr>\n",
       "      <th>2018-01-01</th>\n",
       "      <td>21613.0</td>\n",
       "      <td>2064.0</td>\n",
       "      <td>829.6</td>\n",
       "      <td>391.2</td>\n",
       "      <td>1580.0</td>\n",
       "      <td>2.07</td>\n",
       "    </tr>\n",
       "    <tr>\n",
       "      <th>2019-01-01</th>\n",
       "      <td>22103.0</td>\n",
       "      <td>2071.0</td>\n",
       "      <td>886.4</td>\n",
       "      <td>389.3</td>\n",
       "      <td>1637.0</td>\n",
       "      <td>2.03</td>\n",
       "    </tr>\n",
       "    <tr>\n",
       "      <th>2020-01-01</th>\n",
       "      <td>22593.0</td>\n",
       "      <td>2078.0</td>\n",
       "      <td>943.2</td>\n",
       "      <td>387.4</td>\n",
       "      <td>1694.0</td>\n",
       "      <td>1.99</td>\n",
       "    </tr>\n",
       "    <tr>\n",
       "      <th>2021-01-01</th>\n",
       "      <td>23083.0</td>\n",
       "      <td>2085.0</td>\n",
       "      <td>1000.0</td>\n",
       "      <td>385.5</td>\n",
       "      <td>1751.0</td>\n",
       "      <td>1.95</td>\n",
       "    </tr>\n",
       "  </tbody>\n",
       "</table>\n",
       "</div>"
      ],
      "text/plain": [
       "            tot_population  avg_med_mortg_rep  avg_med_person_inc  \\\n",
       "date                                                                \n",
       "2011-01-01         15496.0             2200.0               701.5   \n",
       "2012-01-01         16523.4             2170.0               704.4   \n",
       "2013-01-01         17550.8             2140.0               707.3   \n",
       "2014-01-01         18578.2             2110.0               710.2   \n",
       "2015-01-01         19605.6             2080.0               713.1   \n",
       "2016-01-01         20633.0             2050.0               716.0   \n",
       "2017-01-01         21123.0             2057.0               772.8   \n",
       "2018-01-01         21613.0             2064.0               829.6   \n",
       "2019-01-01         22103.0             2071.0               886.4   \n",
       "2020-01-01         22593.0             2078.0               943.2   \n",
       "2021-01-01         23083.0             2085.0              1000.0   \n",
       "\n",
       "            avg_med_rent  avg_med_hh_inc  tot_avg_hh_size  \n",
       "date                                                       \n",
       "2011-01-01         418.5          1493.5             2.15  \n",
       "2012-01-01         413.8          1488.0             2.15  \n",
       "2013-01-01         409.1          1482.5             2.15  \n",
       "2014-01-01         404.4          1477.0             2.15  \n",
       "2015-01-01         399.7          1471.5             2.15  \n",
       "2016-01-01         395.0          1466.0             2.15  \n",
       "2017-01-01         393.1          1523.0             2.11  \n",
       "2018-01-01         391.2          1580.0             2.07  \n",
       "2019-01-01         389.3          1637.0             2.03  \n",
       "2020-01-01         387.4          1694.0             1.99  \n",
       "2021-01-01         385.5          1751.0             1.95  "
      ]
     },
     "execution_count": 65,
     "metadata": {},
     "output_type": "execute_result"
    }
   ],
   "source": [
    "interpolated_df"
   ]
  },
  {
   "cell_type": "code",
   "execution_count": null,
   "metadata": {},
   "outputs": [],
   "source": []
  }
 ],
 "metadata": {
  "kernelspec": {
   "display_name": "Python 3.8.10 64-bit",
   "language": "python",
   "name": "python3"
  },
  "language_info": {
   "codemirror_mode": {
    "name": "ipython",
    "version": 3
   },
   "file_extension": ".py",
   "mimetype": "text/x-python",
   "name": "python",
   "nbconvert_exporter": "python",
   "pygments_lexer": "ipython3",
   "version": "3.10.4"
  },
  "orig_nbformat": 4,
  "vscode": {
   "interpreter": {
    "hash": "916dbcbb3f70747c44a77c7bcd40155683ae19c65e1c03b4aa3499c5328201f1"
   }
  }
 },
 "nbformat": 4,
 "nbformat_minor": 2
}
