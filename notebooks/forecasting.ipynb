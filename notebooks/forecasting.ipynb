{
 "cells": [
  {
   "cell_type": "code",
   "execution_count": 3,
   "metadata": {},
   "outputs": [],
   "source": [
    "import sys\n",
    "sys.path.insert(0, '../scripts/')\n",
    "from helper_functions import convert_census_to_postcode\n",
    "\n",
    "import pandas as pd\n",
    "import numpy as np\n",
    "import seaborn as sns\n",
    "import matplotlib.pyplot as plt\n",
    "from scipy.interpolate import interp1d\n",
    "\n",
    "import matplotlib.pyplot as plt\n",
    "\n",
    "import statsmodels.api as sm\n",
    "from statsmodels.formula.api import ols\n",
    "\n",
    "import geopandas as gpd\n",
    "\n",
    "from scipy.interpolate import interp1d\n",
    "\n",
    "output_dir = '../data/curated/'\n"
   ]
  },
  {
   "cell_type": "markdown",
   "metadata": {},
   "source": [
    "<h3> Preparation for forecasting </h3>"
   ]
  },
  {
   "cell_type": "code",
   "execution_count": 4,
   "metadata": {},
   "outputs": [],
   "source": [
    "properties_df = pd.read_csv(\"../data/curated/properties_processed.csv\", index_col=0)\n",
    "properties_df['Postcode'] = properties_df['Postcode'].astype(str)\n",
    "\n",
    "# read in census dataframes\n",
    "census_df = pd.read_csv(\"../data/curated/census_data.csv\")\n",
    "sa2_postcode_map = pd.read_csv(\"../data/curated/sa2_postcode_mapping_2021.csv\")"
   ]
  },
  {
   "cell_type": "code",
   "execution_count": 5,
   "metadata": {},
   "outputs": [],
   "source": [
    "census_df_postcode_agg = convert_census_to_postcode(census_df, sa2_postcode_map, 'mean_no_zero')"
   ]
  },
  {
   "cell_type": "markdown",
   "metadata": {},
   "source": [
    "Median Rental Prices"
   ]
  },
  {
   "cell_type": "code",
   "execution_count": 7,
   "metadata": {},
   "outputs": [],
   "source": [
    "median_rent = properties_df.groupby([\"Postcode\"])[\"Cost\"].median()\n"
   ]
  },
  {
   "cell_type": "code",
   "execution_count": 8,
   "metadata": {},
   "outputs": [],
   "source": [
    "median_rent.to_csv(f'{output_dir}median_rental_postcode.csv')"
   ]
  },
  {
   "cell_type": "code",
   "execution_count": 28,
   "metadata": {},
   "outputs": [
    {
     "name": "stdout",
     "output_type": "stream",
     "text": [
      "postcode_2021    3003.0\n",
      "Name: 2, dtype: float64\n"
     ]
    },
    {
     "data": {
      "image/png": "[encoded data removed]",
      "text/plain": [
       "<Figure size 432x288 with 1 Axes>"
      ]
     },
     "metadata": {
      "needs_background": "light"
     },
     "output_type": "display_data"
    }
   ],
   "source": [
    "impute_features = ['tot_population', 'avg_med_mortg_rep', 'avg_med_person_inc', 'avg_med_rent', 'avg_med_hh_inc', 'tot_avg_hh_size']\n",
    "init_years = [11, 16, 21]\n",
    "new_years = list(range(11, 22))\n",
    "\n",
    "\n",
    "for i in [2]:\n",
    "    data = census_df_postcode_agg.iloc[i]\n",
    "    #print(census_df_postcode_agg.iloc[i])\n",
    "\n",
    "    # interpolation \n",
    "    interpolated_dict = dict()\n",
    "    interpolated_dict['date']= [f'20{year}' for year in new_years]\n",
    "\n",
    "    for feature in impute_features:\n",
    "        init_y = data[[f'{feature}_{init_years[0]}', f'{feature}_{init_years[1]}', f'{feature}_{init_years[2]}']].tolist()\n",
    "        #print(init_y)\n",
    "\n",
    "        interp_func = interp1d(init_years, init_y)\n",
    "        new_y = list(interp_func(new_years))\n",
    "        #print(new_y)\n",
    "\n",
    "        interpolated_dict[feature] = new_y\n",
    "\n",
    "    # creation of new dataframe\n",
    "    interpolated_df = pd.DataFrame(interpolated_dict)\n",
    "    \n",
    "    print(data[['postcode_2021']])\n",
    "    interpolated_df.plot.scatter(x='date', y='avg_med_rent')\n",
    "\n",
    "    # model\n",
    "    interpolated_df['date'] = pd.to_datetime(interpolated_df['date'])\n",
    "    interpolated_df = interpolated_df.set_index('date')\n",
    "    interpolated_df = interpolated_df.asfreq('YS')\n",
    "    interpolated_df = interpolated_df.sort_index()\n",
    "\n",
    "\n",
    "    break "
   ]
  },
  {
   "cell_type": "code",
   "execution_count": null,
   "metadata": {},
   "outputs": [],
   "source": []
  }
 ],
 "metadata": {
  "kernelspec": {
   "display_name": "Python 3.8.10 64-bit",
   "language": "python",
   "name": "python3"
  },
  "language_info": {
   "codemirror_mode": {
    "name": "ipython",
    "version": 3
   },
   "file_extension": ".py",
   "mimetype": "text/x-python",
   "name": "python",
   "nbconvert_exporter": "python",
   "pygments_lexer": "ipython3",
   "version": "3.10.4"
  },
  "orig_nbformat": 4,
  "vscode": {
   "interpreter": {
    "hash": "916dbcbb3f70747c44a77c7bcd40155683ae19c65e1c03b4aa3499c5328201f1"
   }
  }
 },
 "nbformat": 4,
 "nbformat_minor": 2
}
