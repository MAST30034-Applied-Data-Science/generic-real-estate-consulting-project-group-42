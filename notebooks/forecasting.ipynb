{
 "cells": [
  {
   "cell_type": "code",
   "execution_count": 33,
   "metadata": {},
   "outputs": [],
   "source": [
    "import pandas as pd\n",
    "import numpy as np\n",
    "import seaborn as sns\n",
    "import matplotlib.pyplot as plt\n",
    "from scipy.interpolate import interp1d\n",
    "\n",
    "import statsmodels.api as sm\n",
    "from statsmodels.formula.api import ols\n",
    "\n",
    "import geopandas as gpd\n",
    "\n",
    "output_dir = '../data/curated/'\n"
   ]
  },
  {
   "cell_type": "code",
   "execution_count": 2,
   "metadata": {},
   "outputs": [],
   "source": [
    "properties_df = pd.read_csv(\"../data/curated/properties_processed.csv\", index_col=0)\n",
    "properties_df['Postcode'] = properties_df['Postcode'].astype(str)\n",
    "\n",
    "# read in census dataframes\n",
    "census_df = pd.read_csv(\"../data/curated/census_data.csv\")\n",
    "sa2_postcode_map = pd.read_csv(\"../data/curated/sa2_postcode_mapping_2021.csv\")"
   ]
  },
  {
   "cell_type": "code",
   "execution_count": 3,
   "metadata": {},
   "outputs": [],
   "source": [
    "def convert_census_to_postcode(census_df, sa2_postcode_map, agg_func):\n",
    "    ''' Inputs census data as indexed by SA2 and converts it to postcode through aggregation\n",
    "    '''\n",
    "\n",
    "    census_df_postcode = sa2_postcode_map.merge(census_df, on='sa2_2021').drop('sa2_2021', axis=1)\n",
    "    census_df_postcode = census_df_postcode[census_df_postcode['postcode_2021'] >= 3000]\n",
    "\n",
    "    census_df_postcode_agg = census_df_postcode.groupby('postcode_2021').agg(\n",
    "        tot_population_11 = pd.NamedAgg(column='Tot_persons_C11_P', aggfunc=sum),\n",
    "        tot_population_16 = pd.NamedAgg(column='Tot_persons_C16_P', aggfunc=sum),\n",
    "        tot_population_21 = pd.NamedAgg(column='Tot_persons_C21_P', aggfunc=sum),\n",
    "        avg_med_mortg_rep_11 = pd.NamedAgg(column='Med_mortg_rep_mon_C2011', aggfunc=agg_func),\n",
    "        avg_med_mortg_rep_16 = pd.NamedAgg(column='Med_mortg_rep_mon_C2016', aggfunc=agg_func),\n",
    "        avg_med_mortg_rep_21 = pd.NamedAgg(column='Med_mortg_rep_mon_C2021', aggfunc=agg_func),\n",
    "        avg_med_person_inc_11 = pd.NamedAgg(column='Med_person_inc_we_C2011', aggfunc=agg_func),\n",
    "        avg_med_person_inc_16 = pd.NamedAgg(column='Med_person_inc_we_C2016', aggfunc=agg_func),\n",
    "        avg_med_person_inc_21 = pd.NamedAgg(column='Med_person_inc_we_C2021', aggfunc=agg_func),\n",
    "        avg_med_rent_16 = pd.NamedAgg(column='Med_rent_weekly_C2011', aggfunc=agg_func),\n",
    "        avg_med_rent_11 = pd.NamedAgg(column='Med_rent_weekly_C2016', aggfunc=agg_func),\n",
    "        avg_med_rent_21 = pd.NamedAgg(column='Med_rent_weekly_C2021', aggfunc=agg_func),\n",
    "        avg_med_hh_inc_16 = pd.NamedAgg(column='Med_tot_hh_inc_wee_C2011', aggfunc=agg_func),\n",
    "        avg_med_hh_inc_11 = pd.NamedAgg(column='Med_tot_hh_inc_wee_C2016', aggfunc=agg_func),\n",
    "        avg_med_hh_inc_21 = pd.NamedAgg(column='Med_tot_hh_inc_wee_C2021', aggfunc=agg_func),\n",
    "        tot_avg_hh_size_16 = pd.NamedAgg(column='Average_hh_size_C2011', aggfunc=agg_func),\n",
    "        tot_avg_hh_size_11 = pd.NamedAgg(column='Average_hh_size_C2016', aggfunc=agg_func),\n",
    "        tot_avg_hh_size_21 = pd.NamedAgg(column='Average_hh_size_C2021', aggfunc=agg_func),\n",
    "    ).reset_index()\n",
    "\n",
    "    return census_df_postcode_agg"
   ]
  },
  {
   "cell_type": "code",
   "execution_count": 4,
   "metadata": {},
   "outputs": [],
   "source": [
    "mean_no_zero = lambda lst: round(np.mean([x for x in lst if x > 0]), 2)\n",
    "census_df_postcode = convert_census_to_postcode(census_df, sa2_postcode_map, mean_no_zero)"
   ]
  },
  {
   "cell_type": "code",
   "execution_count": 5,
   "metadata": {},
   "outputs": [],
   "source": [
    "median_rent = properties_df.groupby([\"Postcode\"])[\"Cost\"].median()\n"
   ]
  },
  {
   "cell_type": "code",
   "execution_count": 46,
   "metadata": {},
   "outputs": [
    {
     "name": "stdout",
     "output_type": "stream",
     "text": [
      "    date  tot_population  avg_med_mortg_rep  avg_med_person_inc  avg_med_rent  \\\n",
      "0   2011        124551.0           2213.380             862.180       447.060   \n",
      "1   2012        133074.0           2178.780            1786.508       436.800   \n",
      "2   2013        141597.0           2144.180            2710.836       426.540   \n",
      "3   2014        150120.0           2109.580            3635.164       416.280   \n",
      "4   2015        158643.0           2074.980            4559.492       406.020   \n",
      "5   2016        167166.0           2040.380            5483.820       395.760   \n",
      "6   2017        169417.6           2040.342            5680.608       400.246   \n",
      "7   2018        171669.2           2040.304            5877.396       404.732   \n",
      "8   2019        173920.8           2040.266            6074.184       409.218   \n",
      "9   2020        176172.4           2040.228            6270.972       413.704   \n",
      "10  2021        178424.0           2040.190            6467.760       418.190   \n",
      "\n",
      "    avg_med_hh_inc  tot_avg_hh_size  \n",
      "0         1896.760            1.970  \n",
      "1         1813.914            1.952  \n",
      "2         1731.068            1.934  \n",
      "3         1648.222            1.916  \n",
      "4         1565.376            1.898  \n",
      "5         1482.530            1.880  \n",
      "6         1617.906            1.876  \n",
      "7         1753.282            1.872  \n",
      "8         1888.658            1.868  \n",
      "9         2024.034            1.864  \n",
      "10        2159.410            1.860  \n"
     ]
    }
   ],
   "source": [
    "impute_features = ['tot_population', 'avg_med_mortg_rep', 'avg_med_person_inc', 'avg_med_rent', 'avg_med_hh_inc', 'tot_avg_hh_size']\n",
    "init_years = [11, 16, 21]\n",
    "new_years = list(range(11, 22))\n",
    "\n",
    "for i in range(len(census_df_postcode['postcode_2021'])):\n",
    "    data = census_df_postcode.iloc[i]\n",
    "\n",
    "    # create interpolated dataframe \n",
    "    interpolated_dict = dict()\n",
    "    interpolated_dict['date'] = [f'20{year}' for year in new_years]\n",
    "    for feature in impute_features:\n",
    "        init_y = data[[f'{feature}_{init_years[0]}', f'{feature}_{init_years[1]}', f'{feature}_{init_years[2]}']].tolist()\n",
    "        \n",
    "        interp_func = interp1d(init_years, init_y)\n",
    "        new_y = list(interp_func(new_years))\n",
    "\n",
    "        interpolated_dict[feature] = new_y\n",
    "    interpolated_df = pd.DataFrame(interpolated_dict)\n",
    "    \n",
    "    print(interpolated_df)\n",
    "    \n",
    "    break\n"
   ]
  },
  {
   "cell_type": "code",
   "execution_count": null,
   "metadata": {},
   "outputs": [],
   "source": []
  },
  {
   "cell_type": "code",
   "execution_count": 14,
   "metadata": {},
   "outputs": [],
   "source": [
    "median_rent.to_csv(f'{output_dir}median_rental_postcode.csv')"
   ]
  },
  {
   "cell_type": "code",
   "execution_count": null,
   "metadata": {},
   "outputs": [],
   "source": []
  }
 ],
 "metadata": {
  "kernelspec": {
   "display_name": "Python 3.8.10 64-bit",
   "language": "python",
   "name": "python3"
  },
  "language_info": {
   "codemirror_mode": {
    "name": "ipython",
    "version": 3
   },
   "file_extension": ".py",
   "mimetype": "text/x-python",
   "name": "python",
   "nbconvert_exporter": "python",
   "pygments_lexer": "ipython3",
   "version": "3.10.4"
  },
  "orig_nbformat": 4,
  "vscode": {
   "interpreter": {
    "hash": "916dbcbb3f70747c44a77c7bcd40155683ae19c65e1c03b4aa3499c5328201f1"
   }
  }
 },
 "nbformat": 4,
 "nbformat_minor": 2
}
