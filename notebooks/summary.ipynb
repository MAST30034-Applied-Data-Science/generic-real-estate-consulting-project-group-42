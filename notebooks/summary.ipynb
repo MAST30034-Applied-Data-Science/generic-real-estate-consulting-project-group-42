{
 "cells": [
  {
   "cell_type": "markdown",
   "metadata": {},
   "source": [
    "# Summary"
   ]
  },
  {
   "cell_type": "code",
   "execution_count": 1,
   "metadata": {},
   "outputs": [],
   "source": [
    "import pandas as pd\n",
    "import sys\n",
    "\n",
    "sys.path.insert(0, \"../scripts/\")\n",
    "\n",
    "from helper_functions import convert_census_to_postcode"
   ]
  },
  {
   "cell_type": "markdown",
   "metadata": {},
   "source": [
    "<h3>Data & Methodology</h3>"
   ]
  },
  {
   "cell_type": "markdown",
   "metadata": {},
   "source": [
    "**Web scraping**\n"
   ]
  },
  {
   "cell_type": "markdown",
   "metadata": {},
   "source": [
    "Web scraping was performed on Domain.com. A maximum of 10 web pages of rental properties for each postcode were scraped according to the postcodes sourced from postcode.csv. The *download_property_data.py* script works by first scraping the URLs from the main Domain.com per postcode, then looping through each URL to extract the features. "
   ]
  },
  {
   "cell_type": "markdown",
   "metadata": {},
   "source": [
    "The main challenge with scraping was extracting the relevant features through HTML Regex matching. In the initial stages of web scraping, we also attempted the integration of Selenium to access all elements of the page such as the description. However, this was not included as the description was ultimately deemed unnecessary to the value of the research, and the process almost tripled the scraping time. Hence, the following features were scraped from domain.com\n",
    "- Property Address/Name\n",
    "- Cost\n",
    "- Coordinates\n",
    "- Number of Bedrooms, Bathrooms and Parking Spaces\n",
    "- Property Type\n",
    "- Agency that listed the property "
   ]
  },
  {
   "cell_type": "markdown",
   "metadata": {},
   "source": [
    "The following steps were taken to preprocess the scraped data:\n",
    "1. Reformat all costs to numeric characters only without commas.\n",
    "2. Null value imputations:\n",
    "    - Bedrooms and parking: replace with numeric value zero\n",
    "    - Bathrooms: replace with numeric value one\n",
    "    - Postcodes and coordinates: invalid rows, removed from dataset\n",
    "3. Convert numeric columns from string to integer or float values.\n",
    "4. Remove any rows with cost <= $0 or cost > $20000."
   ]
  },
  {
   "cell_type": "markdown",
   "metadata": {},
   "source": [
    "This is a sample of the final data-set with final features:\n"
   ]
  },
  {
   "cell_type": "code",
   "execution_count": 2,
   "metadata": {},
   "outputs": [
    {
     "data": {
      "text/html": [
       "<div>\n",
       "<style scoped>\n",
       "    .dataframe tbody tr th:only-of-type {\n",
       "        vertical-align: middle;\n",
       "    }\n",
       "\n",
       "    .dataframe tbody tr th {\n",
       "        vertical-align: top;\n",
       "    }\n",
       "\n",
       "    .dataframe thead th {\n",
       "        text-align: right;\n",
       "    }\n",
       "</style>\n",
       "<table border=\"1\" class=\"dataframe\">\n",
       "  <thead>\n",
       "    <tr style=\"text-align: right;\">\n",
       "      <th></th>\n",
       "      <th>Name</th>\n",
       "      <th>Cost</th>\n",
       "      <th>Coordinates</th>\n",
       "      <th>Bed</th>\n",
       "      <th>Bath</th>\n",
       "      <th>Parking</th>\n",
       "      <th>Property_Type</th>\n",
       "      <th>Agency</th>\n",
       "      <th>Postcode</th>\n",
       "    </tr>\n",
       "  </thead>\n",
       "  <tbody>\n",
       "    <tr>\n",
       "      <th>0</th>\n",
       "      <td>5408/500 Elizabeth Street Melbourne VIC 3000</td>\n",
       "      <td>440.0</td>\n",
       "      <td>[-37.8072443, 144.9602814]</td>\n",
       "      <td>1</td>\n",
       "      <td>1</td>\n",
       "      <td>0</td>\n",
       "      <td>Apartment / Unit / Flat</td>\n",
       "      <td>BRADY residential</td>\n",
       "      <td>3000</td>\n",
       "    </tr>\n",
       "    <tr>\n",
       "      <th>1</th>\n",
       "      <td>502/118 Russell Street Melbourne VIC 3000</td>\n",
       "      <td>620.0</td>\n",
       "      <td>[-37.8135864, 144.9687232]</td>\n",
       "      <td>1</td>\n",
       "      <td>1</td>\n",
       "      <td>0</td>\n",
       "      <td>Apartment / Unit / Flat</td>\n",
       "      <td>Dingle Partners</td>\n",
       "      <td>3000</td>\n",
       "    </tr>\n",
       "    <tr>\n",
       "      <th>2</th>\n",
       "      <td>202A/441 Lonsdale Street Melbourne VIC 3000</td>\n",
       "      <td>300.0</td>\n",
       "      <td>[-37.8134292, 144.9594445]</td>\n",
       "      <td>1</td>\n",
       "      <td>1</td>\n",
       "      <td>0</td>\n",
       "      <td>Apartment / Unit / Flat</td>\n",
       "      <td>Biggin &amp; Scott Stonnington</td>\n",
       "      <td>3000</td>\n",
       "    </tr>\n",
       "    <tr>\n",
       "      <th>3</th>\n",
       "      <td>57/243 Collins Street Melbourne VIC 3000</td>\n",
       "      <td>400.0</td>\n",
       "      <td>[-37.8159969, 144.9657956]</td>\n",
       "      <td>1</td>\n",
       "      <td>1</td>\n",
       "      <td>0</td>\n",
       "      <td>Apartment / Unit / Flat</td>\n",
       "      <td>Harcourts Melbourne City</td>\n",
       "      <td>3000</td>\n",
       "    </tr>\n",
       "    <tr>\n",
       "      <th>4</th>\n",
       "      <td>2311/601 Little Lonsdale Street Melbourne VIC ...</td>\n",
       "      <td>625.0</td>\n",
       "      <td>[-37.8137564, 144.9537143]</td>\n",
       "      <td>2</td>\n",
       "      <td>2</td>\n",
       "      <td>1</td>\n",
       "      <td>Apartment / Unit / Flat</td>\n",
       "      <td>Harcourts Melbourne City</td>\n",
       "      <td>3000</td>\n",
       "    </tr>\n",
       "  </tbody>\n",
       "</table>\n",
       "</div>"
      ],
      "text/plain": [
       "                                                Name   Cost  \\\n",
       "0       5408/500 Elizabeth Street Melbourne VIC 3000  440.0   \n",
       "1          502/118 Russell Street Melbourne VIC 3000  620.0   \n",
       "2        202A/441 Lonsdale Street Melbourne VIC 3000  300.0   \n",
       "3           57/243 Collins Street Melbourne VIC 3000  400.0   \n",
       "4  2311/601 Little Lonsdale Street Melbourne VIC ...  625.0   \n",
       "\n",
       "                  Coordinates  Bed  Bath  Parking            Property_Type  \\\n",
       "0  [-37.8072443, 144.9602814]    1     1        0  Apartment / Unit / Flat   \n",
       "1  [-37.8135864, 144.9687232]    1     1        0  Apartment / Unit / Flat   \n",
       "2  [-37.8134292, 144.9594445]    1     1        0  Apartment / Unit / Flat   \n",
       "3  [-37.8159969, 144.9657956]    1     1        0  Apartment / Unit / Flat   \n",
       "4  [-37.8137564, 144.9537143]    2     2        1  Apartment / Unit / Flat   \n",
       "\n",
       "                       Agency  Postcode  \n",
       "0           BRADY residential      3000  \n",
       "1             Dingle Partners      3000  \n",
       "2  Biggin & Scott Stonnington      3000  \n",
       "3    Harcourts Melbourne City      3000  \n",
       "4    Harcourts Melbourne City      3000  "
      ]
     },
     "execution_count": 2,
     "metadata": {},
     "output_type": "execute_result"
    }
   ],
   "source": [
    "pd.read_csv(\"../data/curated/properties_processed.csv\", index_col=0).head()"
   ]
  },
  {
   "cell_type": "markdown",
   "metadata": {},
   "source": [
    "**Open Route Service Data**"
   ]
  },
  {
   "cell_type": "markdown",
   "metadata": {},
   "source": [
    "For data on nearby facilities and their distances, Open Route Service (ORS) data was accessed which can be seen in *preprocessing_distances.py* and *preprocessing_school_distances.py*. These scripts use the preprocessed property data to reduce the number of requests to the server."
   ]
  },
  {
   "cell_type": "markdown",
   "metadata": {},
   "source": [
    "Points of Interest (POIs) selected:\n",
    "- Railway station - a marker of public transport accessibility\n",
    "- Parks - a place of gathering for families, particularly with children\n",
    "- Post office - a marker of the city or town centre\n",
    "- Melbourne CBD - defined as the GPO on Bourke St (in accordance with Google Maps)\n",
    "- Primary and secondary schools\n"
   ]
  },
  {
   "cell_type": "markdown",
   "metadata": {},
   "source": [
    "ORS functions used with POIs:\n",
    "- Points of Interest - to find the nearest railway, park and post office\n",
    "- Directions - to find the driving route to the POIs\n",
    "- Isochrones - 30 min driving distance around a point\n"
   ]
  },
  {
   "cell_type": "markdown",
   "metadata": {},
   "source": [
    "There were many limitations and challenges that are highlighted below:\n",
    "- ORS quotas on requests - both in a 24hr period and a 60 second period which slowed progress in data collection\n",
    "- Security - API tokens are sensitive information so were stored locally in .env files \n",
    "- Radius limit in the POI function - a maximum radius of 2km lead to a large amount of zero values, particularly for rural properties\n",
    "- Zero values - all values were categorised to limit skew in the data created from zero values\n",
    "- Open Street Maps (ORS Maps Client) - minor roads, long driveways and outdated construction work on roads meant some driving distances had be imputed manually (using either Google Maps or OSM with some estimates)\n"
   ]
  },
  {
   "cell_type": "markdown",
   "metadata": {},
   "source": [
    "A simulation of the ORS pipeline with visualisations can be found in *visualise_ors.ipynb*. This data was also then merged with the preprocessed property dataframe in *merge_datasets.py*. A sample of this data can be found below:"
   ]
  },
  {
   "cell_type": "code",
   "execution_count": 3,
   "metadata": {},
   "outputs": [
    {
     "data": {
      "text/html": [
       "<div>\n",
       "<style scoped>\n",
       "    .dataframe tbody tr th:only-of-type {\n",
       "        vertical-align: middle;\n",
       "    }\n",
       "\n",
       "    .dataframe tbody tr th {\n",
       "        vertical-align: top;\n",
       "    }\n",
       "\n",
       "    .dataframe thead th {\n",
       "        text-align: right;\n",
       "    }\n",
       "</style>\n",
       "<table border=\"1\" class=\"dataframe\">\n",
       "  <thead>\n",
       "    <tr style=\"text-align: right;\">\n",
       "      <th></th>\n",
       "      <th>Name</th>\n",
       "      <th>Cost</th>\n",
       "      <th>Coordinates</th>\n",
       "      <th>Bed</th>\n",
       "      <th>Bath</th>\n",
       "      <th>Parking</th>\n",
       "      <th>Property_Type</th>\n",
       "      <th>Agency</th>\n",
       "      <th>Postcode</th>\n",
       "      <th>CBD_Distance</th>\n",
       "      <th>...</th>\n",
       "      <th>Railway_Duration</th>\n",
       "      <th>Park_Distance</th>\n",
       "      <th>Park_Duration</th>\n",
       "      <th>Post_Office_Distance</th>\n",
       "      <th>Post_Office_Duration</th>\n",
       "      <th>Nearby_Schools</th>\n",
       "      <th>Primary_Distance</th>\n",
       "      <th>Primary_Duration</th>\n",
       "      <th>Secondary_Distance</th>\n",
       "      <th>Secondary_Duration</th>\n",
       "    </tr>\n",
       "  </thead>\n",
       "  <tbody>\n",
       "    <tr>\n",
       "      <th>0</th>\n",
       "      <td>5408/500 Elizabeth Street Melbourne VIC 3000</td>\n",
       "      <td>440.0</td>\n",
       "      <td>[-37.8072443, 144.9602814]</td>\n",
       "      <td>1</td>\n",
       "      <td>1</td>\n",
       "      <td>0</td>\n",
       "      <td>Apartment / Unit / Flat</td>\n",
       "      <td>BRADY residential</td>\n",
       "      <td>3000</td>\n",
       "      <td>749.2</td>\n",
       "      <td>...</td>\n",
       "      <td>93.1</td>\n",
       "      <td>423.1</td>\n",
       "      <td>68.7</td>\n",
       "      <td>327.5</td>\n",
       "      <td>41.7</td>\n",
       "      <td>612</td>\n",
       "      <td>1511.1</td>\n",
       "      <td>158.2</td>\n",
       "      <td>923.1</td>\n",
       "      <td>105.6</td>\n",
       "    </tr>\n",
       "    <tr>\n",
       "      <th>1</th>\n",
       "      <td>502/118 Russell Street Melbourne VIC 3000</td>\n",
       "      <td>620.0</td>\n",
       "      <td>[-37.8135864, 144.9687232]</td>\n",
       "      <td>1</td>\n",
       "      <td>1</td>\n",
       "      <td>0</td>\n",
       "      <td>Apartment / Unit / Flat</td>\n",
       "      <td>Dingle Partners</td>\n",
       "      <td>3000</td>\n",
       "      <td>951.3</td>\n",
       "      <td>...</td>\n",
       "      <td>126.5</td>\n",
       "      <td>470.2</td>\n",
       "      <td>65.5</td>\n",
       "      <td>470.1</td>\n",
       "      <td>68.3</td>\n",
       "      <td>630</td>\n",
       "      <td>1652.9</td>\n",
       "      <td>183.0</td>\n",
       "      <td>438.8</td>\n",
       "      <td>68.5</td>\n",
       "    </tr>\n",
       "    <tr>\n",
       "      <th>2</th>\n",
       "      <td>202A/441 Lonsdale Street Melbourne VIC 3000</td>\n",
       "      <td>300.0</td>\n",
       "      <td>[-37.8134292, 144.9594445]</td>\n",
       "      <td>1</td>\n",
       "      <td>1</td>\n",
       "      <td>0</td>\n",
       "      <td>Apartment / Unit / Flat</td>\n",
       "      <td>Biggin &amp; Scott Stonnington</td>\n",
       "      <td>3000</td>\n",
       "      <td>577.3</td>\n",
       "      <td>...</td>\n",
       "      <td>74.2</td>\n",
       "      <td>841.9</td>\n",
       "      <td>105.1</td>\n",
       "      <td>557.1</td>\n",
       "      <td>71.1</td>\n",
       "      <td>612</td>\n",
       "      <td>2154.9</td>\n",
       "      <td>233.7</td>\n",
       "      <td>738.2</td>\n",
       "      <td>110.8</td>\n",
       "    </tr>\n",
       "    <tr>\n",
       "      <th>3</th>\n",
       "      <td>57/243 Collins Street Melbourne VIC 3000</td>\n",
       "      <td>400.0</td>\n",
       "      <td>[-37.8159969, 144.9657956]</td>\n",
       "      <td>1</td>\n",
       "      <td>1</td>\n",
       "      <td>0</td>\n",
       "      <td>Apartment / Unit / Flat</td>\n",
       "      <td>Harcourts Melbourne City</td>\n",
       "      <td>3000</td>\n",
       "      <td>846.9</td>\n",
       "      <td>...</td>\n",
       "      <td>180.9</td>\n",
       "      <td>2019.2</td>\n",
       "      <td>294.8</td>\n",
       "      <td>184.3</td>\n",
       "      <td>47.4</td>\n",
       "      <td>625</td>\n",
       "      <td>2424.5</td>\n",
       "      <td>256.7</td>\n",
       "      <td>1211.2</td>\n",
       "      <td>160.1</td>\n",
       "    </tr>\n",
       "    <tr>\n",
       "      <th>4</th>\n",
       "      <td>2311/601 Little Lonsdale Street Melbourne VIC ...</td>\n",
       "      <td>625.0</td>\n",
       "      <td>[-37.8137564, 144.9537143]</td>\n",
       "      <td>2</td>\n",
       "      <td>2</td>\n",
       "      <td>1</td>\n",
       "      <td>Apartment / Unit / Flat</td>\n",
       "      <td>Harcourts Melbourne City</td>\n",
       "      <td>3000</td>\n",
       "      <td>1052.5</td>\n",
       "      <td>...</td>\n",
       "      <td>81.5</td>\n",
       "      <td>607.6</td>\n",
       "      <td>89.2</td>\n",
       "      <td>324.1</td>\n",
       "      <td>62.8</td>\n",
       "      <td>608</td>\n",
       "      <td>1626.5</td>\n",
       "      <td>239.6</td>\n",
       "      <td>268.9</td>\n",
       "      <td>50.8</td>\n",
       "    </tr>\n",
       "  </tbody>\n",
       "</table>\n",
       "<p>5 rows × 22 columns</p>\n",
       "</div>"
      ],
      "text/plain": [
       "                                                Name   Cost  \\\n",
       "0       5408/500 Elizabeth Street Melbourne VIC 3000  440.0   \n",
       "1          502/118 Russell Street Melbourne VIC 3000  620.0   \n",
       "2        202A/441 Lonsdale Street Melbourne VIC 3000  300.0   \n",
       "3           57/243 Collins Street Melbourne VIC 3000  400.0   \n",
       "4  2311/601 Little Lonsdale Street Melbourne VIC ...  625.0   \n",
       "\n",
       "                  Coordinates  Bed  Bath  Parking            Property_Type  \\\n",
       "0  [-37.8072443, 144.9602814]    1     1        0  Apartment / Unit / Flat   \n",
       "1  [-37.8135864, 144.9687232]    1     1        0  Apartment / Unit / Flat   \n",
       "2  [-37.8134292, 144.9594445]    1     1        0  Apartment / Unit / Flat   \n",
       "3  [-37.8159969, 144.9657956]    1     1        0  Apartment / Unit / Flat   \n",
       "4  [-37.8137564, 144.9537143]    2     2        1  Apartment / Unit / Flat   \n",
       "\n",
       "                       Agency  Postcode  CBD_Distance  ...  Railway_Duration  \\\n",
       "0           BRADY residential      3000         749.2  ...              93.1   \n",
       "1             Dingle Partners      3000         951.3  ...             126.5   \n",
       "2  Biggin & Scott Stonnington      3000         577.3  ...              74.2   \n",
       "3    Harcourts Melbourne City      3000         846.9  ...             180.9   \n",
       "4    Harcourts Melbourne City      3000        1052.5  ...              81.5   \n",
       "\n",
       "   Park_Distance  Park_Duration  Post_Office_Distance  Post_Office_Duration  \\\n",
       "0          423.1           68.7                 327.5                  41.7   \n",
       "1          470.2           65.5                 470.1                  68.3   \n",
       "2          841.9          105.1                 557.1                  71.1   \n",
       "3         2019.2          294.8                 184.3                  47.4   \n",
       "4          607.6           89.2                 324.1                  62.8   \n",
       "\n",
       "   Nearby_Schools  Primary_Distance  Primary_Duration  Secondary_Distance  \\\n",
       "0             612            1511.1             158.2               923.1   \n",
       "1             630            1652.9             183.0               438.8   \n",
       "2             612            2154.9             233.7               738.2   \n",
       "3             625            2424.5             256.7              1211.2   \n",
       "4             608            1626.5             239.6               268.9   \n",
       "\n",
       "   Secondary_Duration  \n",
       "0               105.6  \n",
       "1                68.5  \n",
       "2               110.8  \n",
       "3               160.1  \n",
       "4                50.8  \n",
       "\n",
       "[5 rows x 22 columns]"
      ]
     },
     "execution_count": 3,
     "metadata": {},
     "output_type": "execute_result"
    }
   ],
   "source": [
    "pd.read_csv(\"../data/curated/all_distances.csv\", index_col=0).head()"
   ]
  },
  {
   "cell_type": "markdown",
   "metadata": {},
   "source": [
    "**Census Data**"
   ]
  },
  {
   "cell_type": "markdown",
   "metadata": {},
   "source": [
    "Sourcing the census data was not as straightforward as initially thought, as the historical census data on the Australian Bureau of Statistics (ABS) website was granularised by Statistical Area Level 2 (SA2), whilst we needed postcode granularity. "
   ]
  },
  {
   "cell_type": "markdown",
   "metadata": {},
   "source": [
    "Unfortunately, the only SA2 to postcode conversion dataset available was for 2011,  and because SA2 and postcode areas were changed every census year, various mapping data had to be combined to create a '2021 SA2 to postcode' dataset. This was implemented in the *preprocessing_sa2_postcode_mapping.py* which merges the following datasets together:\n",
    "1. 2016 to 2021 SA2 mapping\n",
    "2. 2011 to 2016 SA2 mapping\n",
    "3. SA2 to postcode 2011 mapping\n",
    "4. 2011 to 2016 postcode mapping\n",
    "5. 2016 to 2021 postcode mapping"
   ]
  },
  {
   "cell_type": "markdown",
   "metadata": {},
   "source": [
    "Because SA2 covers a larger area than postcodes, when converting the census data to postcode granularity, all features were grouped with mean aggregation (excluding zeros) except for population which was grouped by sum. "
   ]
  },
  {
   "cell_type": "code",
   "execution_count": 4,
   "metadata": {},
   "outputs": [
    {
     "data": {
      "text/html": [
       "<div>\n",
       "<style scoped>\n",
       "    .dataframe tbody tr th:only-of-type {\n",
       "        vertical-align: middle;\n",
       "    }\n",
       "\n",
       "    .dataframe tbody tr th {\n",
       "        vertical-align: top;\n",
       "    }\n",
       "\n",
       "    .dataframe thead th {\n",
       "        text-align: right;\n",
       "    }\n",
       "</style>\n",
       "<table border=\"1\" class=\"dataframe\">\n",
       "  <thead>\n",
       "    <tr style=\"text-align: right;\">\n",
       "      <th></th>\n",
       "      <th>sa2_2021</th>\n",
       "      <th>Tot_persons_C11_P</th>\n",
       "      <th>Tot_persons_C16_P</th>\n",
       "      <th>Tot_persons_C21_P</th>\n",
       "      <th>Med_mortg_rep_mon_C2011</th>\n",
       "      <th>Med_mortg_rep_mon_C2016</th>\n",
       "      <th>Med_mortg_rep_mon_C2021</th>\n",
       "      <th>Med_person_inc_we_C2011</th>\n",
       "      <th>Med_person_inc_we_C2016</th>\n",
       "      <th>Med_person_inc_we_C2021</th>\n",
       "      <th>Med_rent_weekly_C2011</th>\n",
       "      <th>Med_rent_weekly_C2016</th>\n",
       "      <th>Med_rent_weekly_C2021</th>\n",
       "      <th>Med_tot_hh_inc_wee_C2011</th>\n",
       "      <th>Med_tot_hh_inc_wee_C2016</th>\n",
       "      <th>Med_tot_hh_inc_wee_C2021</th>\n",
       "      <th>Average_hh_size_C2011</th>\n",
       "      <th>Average_hh_size_C2016</th>\n",
       "      <th>Average_hh_size_C2021</th>\n",
       "    </tr>\n",
       "  </thead>\n",
       "  <tbody>\n",
       "    <tr>\n",
       "      <th>0</th>\n",
       "      <td>201011001</td>\n",
       "      <td>8348</td>\n",
       "      <td>11658</td>\n",
       "      <td>16835</td>\n",
       "      <td>1565</td>\n",
       "      <td>1615</td>\n",
       "      <td>1698</td>\n",
       "      <td>607</td>\n",
       "      <td>702</td>\n",
       "      <td>865</td>\n",
       "      <td>250</td>\n",
       "      <td>311</td>\n",
       "      <td>370</td>\n",
       "      <td>1406</td>\n",
       "      <td>1585</td>\n",
       "      <td>1952</td>\n",
       "      <td>2.8</td>\n",
       "      <td>2.8</td>\n",
       "      <td>2.8</td>\n",
       "    </tr>\n",
       "    <tr>\n",
       "      <th>1</th>\n",
       "      <td>201011002</td>\n",
       "      <td>12076</td>\n",
       "      <td>12046</td>\n",
       "      <td>12131</td>\n",
       "      <td>1430</td>\n",
       "      <td>1500</td>\n",
       "      <td>1700</td>\n",
       "      <td>575</td>\n",
       "      <td>670</td>\n",
       "      <td>842</td>\n",
       "      <td>230</td>\n",
       "      <td>260</td>\n",
       "      <td>313</td>\n",
       "      <td>1120</td>\n",
       "      <td>1327</td>\n",
       "      <td>1573</td>\n",
       "      <td>2.3</td>\n",
       "      <td>2.3</td>\n",
       "      <td>2.2</td>\n",
       "    </tr>\n",
       "    <tr>\n",
       "      <th>2</th>\n",
       "      <td>201011005</td>\n",
       "      <td>6604</td>\n",
       "      <td>7153</td>\n",
       "      <td>7261</td>\n",
       "      <td>1517</td>\n",
       "      <td>1580</td>\n",
       "      <td>1662</td>\n",
       "      <td>532</td>\n",
       "      <td>638</td>\n",
       "      <td>805</td>\n",
       "      <td>260</td>\n",
       "      <td>300</td>\n",
       "      <td>330</td>\n",
       "      <td>1401</td>\n",
       "      <td>1634</td>\n",
       "      <td>1927</td>\n",
       "      <td>2.8</td>\n",
       "      <td>2.8</td>\n",
       "      <td>2.7</td>\n",
       "    </tr>\n",
       "    <tr>\n",
       "      <th>3</th>\n",
       "      <td>201011006</td>\n",
       "      <td>5749</td>\n",
       "      <td>7082</td>\n",
       "      <td>10661</td>\n",
       "      <td>1430</td>\n",
       "      <td>1466</td>\n",
       "      <td>1500</td>\n",
       "      <td>514</td>\n",
       "      <td>595</td>\n",
       "      <td>775</td>\n",
       "      <td>195</td>\n",
       "      <td>265</td>\n",
       "      <td>360</td>\n",
       "      <td>1073</td>\n",
       "      <td>1272</td>\n",
       "      <td>1627</td>\n",
       "      <td>2.7</td>\n",
       "      <td>2.6</td>\n",
       "      <td>2.6</td>\n",
       "    </tr>\n",
       "    <tr>\n",
       "      <th>4</th>\n",
       "      <td>201011007</td>\n",
       "      <td>3782</td>\n",
       "      <td>3935</td>\n",
       "      <td>4230</td>\n",
       "      <td>1558</td>\n",
       "      <td>1600</td>\n",
       "      <td>1733</td>\n",
       "      <td>565</td>\n",
       "      <td>646</td>\n",
       "      <td>802</td>\n",
       "      <td>240</td>\n",
       "      <td>260</td>\n",
       "      <td>350</td>\n",
       "      <td>1336</td>\n",
       "      <td>1583</td>\n",
       "      <td>2065</td>\n",
       "      <td>3.0</td>\n",
       "      <td>3.0</td>\n",
       "      <td>3.0</td>\n",
       "    </tr>\n",
       "  </tbody>\n",
       "</table>\n",
       "</div>"
      ],
      "text/plain": [
       "    sa2_2021  Tot_persons_C11_P  Tot_persons_C16_P  Tot_persons_C21_P  \\\n",
       "0  201011001               8348              11658              16835   \n",
       "1  201011002              12076              12046              12131   \n",
       "2  201011005               6604               7153               7261   \n",
       "3  201011006               5749               7082              10661   \n",
       "4  201011007               3782               3935               4230   \n",
       "\n",
       "   Med_mortg_rep_mon_C2011  Med_mortg_rep_mon_C2016  Med_mortg_rep_mon_C2021  \\\n",
       "0                     1565                     1615                     1698   \n",
       "1                     1430                     1500                     1700   \n",
       "2                     1517                     1580                     1662   \n",
       "3                     1430                     1466                     1500   \n",
       "4                     1558                     1600                     1733   \n",
       "\n",
       "   Med_person_inc_we_C2011  Med_person_inc_we_C2016  Med_person_inc_we_C2021  \\\n",
       "0                      607                      702                      865   \n",
       "1                      575                      670                      842   \n",
       "2                      532                      638                      805   \n",
       "3                      514                      595                      775   \n",
       "4                      565                      646                      802   \n",
       "\n",
       "   Med_rent_weekly_C2011  Med_rent_weekly_C2016  Med_rent_weekly_C2021  \\\n",
       "0                    250                    311                    370   \n",
       "1                    230                    260                    313   \n",
       "2                    260                    300                    330   \n",
       "3                    195                    265                    360   \n",
       "4                    240                    260                    350   \n",
       "\n",
       "   Med_tot_hh_inc_wee_C2011  Med_tot_hh_inc_wee_C2016  \\\n",
       "0                      1406                      1585   \n",
       "1                      1120                      1327   \n",
       "2                      1401                      1634   \n",
       "3                      1073                      1272   \n",
       "4                      1336                      1583   \n",
       "\n",
       "   Med_tot_hh_inc_wee_C2021  Average_hh_size_C2011  Average_hh_size_C2016  \\\n",
       "0                      1952                    2.8                    2.8   \n",
       "1                      1573                    2.3                    2.3   \n",
       "2                      1927                    2.8                    2.8   \n",
       "3                      1627                    2.7                    2.6   \n",
       "4                      2065                    3.0                    3.0   \n",
       "\n",
       "   Average_hh_size_C2021  \n",
       "0                    2.8  \n",
       "1                    2.2  \n",
       "2                    2.7  \n",
       "3                    2.6  \n",
       "4                    3.0  "
      ]
     },
     "execution_count": 4,
     "metadata": {},
     "output_type": "execute_result"
    }
   ],
   "source": [
    "# census data by SA2\n",
    "census_df = pd.read_csv(\"../data/curated/census_data.csv\")\n",
    "census_df.head()"
   ]
  },
  {
   "cell_type": "code",
   "execution_count": 5,
   "metadata": {},
   "outputs": [
    {
     "data": {
      "text/html": [
       "<div>\n",
       "<style scoped>\n",
       "    .dataframe tbody tr th:only-of-type {\n",
       "        vertical-align: middle;\n",
       "    }\n",
       "\n",
       "    .dataframe tbody tr th {\n",
       "        vertical-align: top;\n",
       "    }\n",
       "\n",
       "    .dataframe thead th {\n",
       "        text-align: right;\n",
       "    }\n",
       "</style>\n",
       "<table border=\"1\" class=\"dataframe\">\n",
       "  <thead>\n",
       "    <tr style=\"text-align: right;\">\n",
       "      <th></th>\n",
       "      <th>postcode_2021</th>\n",
       "      <th>tot_population_11</th>\n",
       "      <th>tot_population_16</th>\n",
       "      <th>tot_population_21</th>\n",
       "      <th>avg_med_mortg_rep_11</th>\n",
       "      <th>avg_med_mortg_rep_16</th>\n",
       "      <th>avg_med_mortg_rep_21</th>\n",
       "      <th>avg_med_person_inc_11</th>\n",
       "      <th>avg_med_person_inc_16</th>\n",
       "      <th>avg_med_person_inc_21</th>\n",
       "      <th>avg_med_rent_16</th>\n",
       "      <th>avg_med_rent_11</th>\n",
       "      <th>avg_med_rent_21</th>\n",
       "      <th>avg_med_hh_inc_16</th>\n",
       "      <th>avg_med_hh_inc_11</th>\n",
       "      <th>avg_med_hh_inc_21</th>\n",
       "      <th>tot_avg_hh_size_16</th>\n",
       "      <th>tot_avg_hh_size_11</th>\n",
       "      <th>tot_avg_hh_size_21</th>\n",
       "    </tr>\n",
       "  </thead>\n",
       "  <tbody>\n",
       "    <tr>\n",
       "      <th>0</th>\n",
       "      <td>3000</td>\n",
       "      <td>124551</td>\n",
       "      <td>167166</td>\n",
       "      <td>178424</td>\n",
       "      <td>2213.38</td>\n",
       "      <td>2040.38</td>\n",
       "      <td>2040.19</td>\n",
       "      <td>862.18</td>\n",
       "      <td>5483.82</td>\n",
       "      <td>6467.76</td>\n",
       "      <td>395.76</td>\n",
       "      <td>447.06</td>\n",
       "      <td>418.19</td>\n",
       "      <td>1482.53</td>\n",
       "      <td>1896.76</td>\n",
       "      <td>2159.41</td>\n",
       "      <td>1.88</td>\n",
       "      <td>1.97</td>\n",
       "      <td>1.86</td>\n",
       "    </tr>\n",
       "    <tr>\n",
       "      <th>1</th>\n",
       "      <td>3002</td>\n",
       "      <td>68729</td>\n",
       "      <td>82804</td>\n",
       "      <td>89023</td>\n",
       "      <td>2357.78</td>\n",
       "      <td>2173.67</td>\n",
       "      <td>2155.22</td>\n",
       "      <td>1091.80</td>\n",
       "      <td>8969.60</td>\n",
       "      <td>10432.90</td>\n",
       "      <td>398.00</td>\n",
       "      <td>460.33</td>\n",
       "      <td>449.67</td>\n",
       "      <td>1709.40</td>\n",
       "      <td>2415.00</td>\n",
       "      <td>2598.80</td>\n",
       "      <td>1.82</td>\n",
       "      <td>1.91</td>\n",
       "      <td>1.87</td>\n",
       "    </tr>\n",
       "    <tr>\n",
       "      <th>2</th>\n",
       "      <td>3003</td>\n",
       "      <td>15496</td>\n",
       "      <td>20633</td>\n",
       "      <td>23083</td>\n",
       "      <td>2200.00</td>\n",
       "      <td>2050.00</td>\n",
       "      <td>2085.00</td>\n",
       "      <td>701.50</td>\n",
       "      <td>716.00</td>\n",
       "      <td>1000.00</td>\n",
       "      <td>395.00</td>\n",
       "      <td>418.50</td>\n",
       "      <td>385.50</td>\n",
       "      <td>1466.00</td>\n",
       "      <td>1493.50</td>\n",
       "      <td>1751.00</td>\n",
       "      <td>2.15</td>\n",
       "      <td>2.15</td>\n",
       "      <td>1.95</td>\n",
       "    </tr>\n",
       "    <tr>\n",
       "      <th>3</th>\n",
       "      <td>3004</td>\n",
       "      <td>100879</td>\n",
       "      <td>123254</td>\n",
       "      <td>129273</td>\n",
       "      <td>2331.58</td>\n",
       "      <td>2155.67</td>\n",
       "      <td>2149.75</td>\n",
       "      <td>1066.08</td>\n",
       "      <td>7152.46</td>\n",
       "      <td>8339.46</td>\n",
       "      <td>391.15</td>\n",
       "      <td>446.83</td>\n",
       "      <td>440.75</td>\n",
       "      <td>1688.85</td>\n",
       "      <td>2270.46</td>\n",
       "      <td>2471.46</td>\n",
       "      <td>1.83</td>\n",
       "      <td>1.89</td>\n",
       "      <td>1.84</td>\n",
       "    </tr>\n",
       "    <tr>\n",
       "      <th>4</th>\n",
       "      <td>3006</td>\n",
       "      <td>21150</td>\n",
       "      <td>30239</td>\n",
       "      <td>36164</td>\n",
       "      <td>2477.25</td>\n",
       "      <td>2217.75</td>\n",
       "      <td>2079.00</td>\n",
       "      <td>1132.40</td>\n",
       "      <td>16783.00</td>\n",
       "      <td>19507.00</td>\n",
       "      <td>406.80</td>\n",
       "      <td>501.00</td>\n",
       "      <td>461.00</td>\n",
       "      <td>1637.20</td>\n",
       "      <td>2883.20</td>\n",
       "      <td>3088.80</td>\n",
       "      <td>1.80</td>\n",
       "      <td>1.92</td>\n",
       "      <td>1.92</td>\n",
       "    </tr>\n",
       "  </tbody>\n",
       "</table>\n",
       "</div>"
      ],
      "text/plain": [
       "   postcode_2021  tot_population_11  tot_population_16  tot_population_21  \\\n",
       "0           3000             124551             167166             178424   \n",
       "1           3002              68729              82804              89023   \n",
       "2           3003              15496              20633              23083   \n",
       "3           3004             100879             123254             129273   \n",
       "4           3006              21150              30239              36164   \n",
       "\n",
       "   avg_med_mortg_rep_11  avg_med_mortg_rep_16  avg_med_mortg_rep_21  \\\n",
       "0               2213.38               2040.38               2040.19   \n",
       "1               2357.78               2173.67               2155.22   \n",
       "2               2200.00               2050.00               2085.00   \n",
       "3               2331.58               2155.67               2149.75   \n",
       "4               2477.25               2217.75               2079.00   \n",
       "\n",
       "   avg_med_person_inc_11  avg_med_person_inc_16  avg_med_person_inc_21  \\\n",
       "0                 862.18                5483.82                6467.76   \n",
       "1                1091.80                8969.60               10432.90   \n",
       "2                 701.50                 716.00                1000.00   \n",
       "3                1066.08                7152.46                8339.46   \n",
       "4                1132.40               16783.00               19507.00   \n",
       "\n",
       "   avg_med_rent_16  avg_med_rent_11  avg_med_rent_21  avg_med_hh_inc_16  \\\n",
       "0           395.76           447.06           418.19            1482.53   \n",
       "1           398.00           460.33           449.67            1709.40   \n",
       "2           395.00           418.50           385.50            1466.00   \n",
       "3           391.15           446.83           440.75            1688.85   \n",
       "4           406.80           501.00           461.00            1637.20   \n",
       "\n",
       "   avg_med_hh_inc_11  avg_med_hh_inc_21  tot_avg_hh_size_16  \\\n",
       "0            1896.76            2159.41                1.88   \n",
       "1            2415.00            2598.80                1.82   \n",
       "2            1493.50            1751.00                2.15   \n",
       "3            2270.46            2471.46                1.83   \n",
       "4            2883.20            3088.80                1.80   \n",
       "\n",
       "   tot_avg_hh_size_11  tot_avg_hh_size_21  \n",
       "0                1.97                1.86  \n",
       "1                1.91                1.87  \n",
       "2                2.15                1.95  \n",
       "3                1.89                1.84  \n",
       "4                1.92                1.92  "
      ]
     },
     "execution_count": 5,
     "metadata": {},
     "output_type": "execute_result"
    }
   ],
   "source": [
    "# census data by postcode\n",
    "sa2_postcode_map = pd.read_csv(\"../data/curated/sa2_postcode_mapping_2021.csv\")\n",
    "convert_census_to_postcode(census_df, sa2_postcode_map, \"mean_no_zero\").head()"
   ]
  },
  {
   "cell_type": "markdown",
   "metadata": {},
   "source": [
    "**School Data**"
   ]
  },
  {
   "cell_type": "markdown",
   "metadata": {},
   "source": [
    "Brief description"
   ]
  },
  {
   "cell_type": "markdown",
   "metadata": {},
   "source": [
    "**Summary**"
   ]
  },
  {
   "cell_type": "markdown",
   "metadata": {},
   "source": [
    "List of final datasets & all features?"
   ]
  },
  {
   "cell_type": "markdown",
   "metadata": {},
   "source": [
    "<h3>Questions & Analysis</h3>"
   ]
  },
  {
   "cell_type": "markdown",
   "metadata": {},
   "source": [
    "Sections should basically be a summary of each individual notebook including overall method, final results and graphs"
   ]
  },
  {
   "cell_type": "markdown",
   "metadata": {},
   "source": [
    "**Question 1 - What are the most important internal and external features in predicting rental prices?**"
   ]
  },
  {
   "cell_type": "markdown",
   "metadata": {},
   "source": [
    "Using Pearson correlation and correlation coefficient, we created a correlation matrix which was used for feature selection that contains features from all the data and features that have been processed:"
   ]
  },
  {
   "cell_type": "markdown",
   "metadata": {},
   "source": [
    "<img src=\"../plots/corr_matrix.jpg\" style=\"width: 700px;\"/>"
   ]
  },
  {
   "cell_type": "markdown",
   "metadata": {},
   "source": [
    "From this matrix, feature selection was performed with the following justifications:\n",
    "- Postcode and SA2 are extremely correlated, so only include postcode which has slightly higher correlation with cost \n",
    "- All distance/duration combinations - pick best from each category\n",
    "    - keep duration: CBD, station\n",
    "    - keep distance: park, secondary and primary schools (kids can\"t drive and people likely want to walk to parks, not drive)\n",
    "- Postcode highly correlated with everything\n",
    "- CBD duration: postcode and agency\n",
    "- Median and total income - only include median\n",
    "- Median rent and mortgage payments - makes sense for landlords\n",
    "- Total household income and personal income - only keep household income\n"
   ]
  },
  {
   "cell_type": "markdown",
   "metadata": {},
   "source": [
    "Interesting notes and observations:\n",
    "- Highest correlations are for features already on property websites - good, makes sense as people can easily compare to cost\n",
    "- Agency and postcode highly correlated with each other and everything else\n",
    "- Schools seem to be pretty low correlated - seems that people do not care about schools. Reason may be because only a minority of people have children e.g. families are less likely to rent than buy"
   ]
  },
  {
   "cell_type": "markdown",
   "metadata": {},
   "source": [
    "The following correlation table was produced between rental price and various attributes:"
   ]
  },
  {
   "cell_type": "markdown",
   "metadata": {},
   "source": [
    "<img src=\"../plots/correlation_chart.jpg\" alt=\"Drawing\" style=\"width: 400px;\"/>"
   ]
  },
  {
   "cell_type": "markdown",
   "metadata": {},
   "source": [
    "**Question 2 - What are the top 10 suburbs with the highest predicted growth rate?**"
   ]
  },
  {
   "cell_type": "markdown",
   "metadata": {},
   "source": [
    "*Methodology*"
   ]
  },
  {
   "cell_type": "markdown",
   "metadata": {},
   "source": [
    "To begin forecasting, we used our property and census by postcode dataframes generated in the above sections. However, this census data was only available per census year. Firstly to fill in the years between census years, linear interpolation was applied to all features of the census data. This required an assumption of linearity between each instance.\n"
   ]
  },
  {
   "cell_type": "markdown",
   "metadata": {},
   "source": [
    "Each postcode’s features were then extrapolated until 2026 using a multivariate time series through Vector AutoRegression (VAR). VAR is a statistical model used to capture the relationship between multiple quantities as they change over time. This model was generated for each postcode to produce a forecast for 2023 to 2026. "
   ]
  },
  {
   "cell_type": "markdown",
   "metadata": {},
   "source": [
    "The predicted growth rate was defined to be the change in median rental price between the current 2022 median rental price from our scraped data and the forecasted 2026 median rental price, divided by the current median rental price.\n"
   ]
  },
  {
   "cell_type": "markdown",
   "metadata": {},
   "source": [
    "*Challenges*"
   ]
  },
  {
   "cell_type": "markdown",
   "metadata": {},
   "source": [
    "When first calculating the growth rate, many of the top suburbs were outliers with abnormally high growth rates. Upon investigating these suburbs, it appeared that these areas often only had only a small number of properties or were not actually properties. A minimum threshold of 10 properties per postcode was applied before rerunning the forecasting to minimise these outliers. \n"
   ]
  },
  {
   "cell_type": "markdown",
   "metadata": {},
   "source": [
    "*Results*"
   ]
  },
  {
   "cell_type": "markdown",
   "metadata": {},
   "source": [
    "These are the final results after performing forecasting and growth rate calculation for each postcode. These are the top 10 postcodes in terms of growth rate as per our definition. \n"
   ]
  },
  {
   "cell_type": "code",
   "execution_count": 8,
   "metadata": {},
   "outputs": [
    {
     "data": {
      "text/html": [
       "<div>\n",
       "<style scoped>\n",
       "    .dataframe tbody tr th:only-of-type {\n",
       "        vertical-align: middle;\n",
       "    }\n",
       "\n",
       "    .dataframe tbody tr th {\n",
       "        vertical-align: top;\n",
       "    }\n",
       "\n",
       "    .dataframe thead th {\n",
       "        text-align: right;\n",
       "    }\n",
       "</style>\n",
       "<table border=\"1\" class=\"dataframe\">\n",
       "  <thead>\n",
       "    <tr style=\"text-align: right;\">\n",
       "      <th></th>\n",
       "      <th>Growth Rate</th>\n",
       "    </tr>\n",
       "  </thead>\n",
       "  <tbody>\n",
       "    <tr>\n",
       "      <th>3028</th>\n",
       "      <td>0.788013</td>\n",
       "    </tr>\n",
       "    <tr>\n",
       "      <th>3027</th>\n",
       "      <td>0.677426</td>\n",
       "    </tr>\n",
       "    <tr>\n",
       "      <th>3737</th>\n",
       "      <td>0.659010</td>\n",
       "    </tr>\n",
       "    <tr>\n",
       "      <th>3125</th>\n",
       "      <td>0.543594</td>\n",
       "    </tr>\n",
       "    <tr>\n",
       "      <th>3071</th>\n",
       "      <td>0.537571</td>\n",
       "    </tr>\n",
       "    <tr>\n",
       "      <th>3085</th>\n",
       "      <td>0.432888</td>\n",
       "    </tr>\n",
       "    <tr>\n",
       "      <th>3025</th>\n",
       "      <td>0.407147</td>\n",
       "    </tr>\n",
       "    <tr>\n",
       "      <th>3196</th>\n",
       "      <td>0.395930</td>\n",
       "    </tr>\n",
       "    <tr>\n",
       "      <th>3915</th>\n",
       "      <td>0.379317</td>\n",
       "    </tr>\n",
       "    <tr>\n",
       "      <th>3129</th>\n",
       "      <td>0.371160</td>\n",
       "    </tr>\n",
       "  </tbody>\n",
       "</table>\n",
       "</div>"
      ],
      "text/plain": [
       "      Growth Rate\n",
       "3028     0.788013\n",
       "3027     0.677426\n",
       "3737     0.659010\n",
       "3125     0.543594\n",
       "3071     0.537571\n",
       "3085     0.432888\n",
       "3025     0.407147\n",
       "3196     0.395930\n",
       "3915     0.379317\n",
       "3129     0.371160"
      ]
     },
     "execution_count": 8,
     "metadata": {},
     "output_type": "execute_result"
    }
   ],
   "source": [
    "growth_rates_df = pd.read_csv(\"../data/curated/top_growth_rates.csv\", index_col=0)\n",
    "growth_rates_df.head(10)"
   ]
  },
  {
   "cell_type": "markdown",
   "metadata": {},
   "source": [
    "Below is a visual output of the model of the postcode with the highest growth rate (3028). "
   ]
  },
  {
   "cell_type": "markdown",
   "metadata": {},
   "source": [
    "<img src=\"../plots/3028_forecast.jpg\" alt=\"Drawing\" style=\"width: 400px;\"/>"
   ]
  },
  {
   "cell_type": "markdown",
   "metadata": {},
   "source": [
    "**Question 3 - What are the most liveable and affordable suburbs according to your chosen metrics?**"
   ]
  },
  {
   "cell_type": "markdown",
   "metadata": {},
   "source": [
    "*Affordability*"
   ]
  },
  {
   "cell_type": "markdown",
   "metadata": {},
   "source": [
    "The following features were used when calculating affordability:\n",
    "- Average number of parking spaces, bedrooms, and bathrooms\n",
    "    - The number of parking spaces, bedrooms, and bathrooms for each property was obtained from the property dataframe\n",
    "    - The average number per postcode was calculated by grouping the property data by postcode and taking the mean for each facility type\n",
    "    - The averages were then weighted by the correlation with the median rental property price\n",
    "- Cost as a percentage of income\n",
    "    - The median rental property price was divided by the median weekly household income per postcode and multiplied by 100 \n",
    "    - The median rental property cost per postcode was calculated during the preprocessing stage \n",
    "    - The median weekly household income per postcode was extracted from the preprocessed census data\n",
    "- Mortgage as a percentage of income\n",
    "    - The median monthly mortgage rate was extracted from the preprocessed census data\n"
   ]
  },
  {
   "cell_type": "markdown",
   "metadata": {},
   "source": [
    "The average number of facilities for a rental property per postcode was included to assess the affordability since the number of bedrooms, bathrooms and parking spaces were positively correlated with the rental property cost. Therefore a smaller number of facilities are associated with a more affordable rental cost. The cost as a percentage of the income was included since areas with higher household incomes are more likely to be able to afford higher rental prices. Therefore if the cost as a percentage of the income was low the area would be considered more affordable. Similarly for the mortgage, if the mortgage as a percentage of the income was low the area was again considered more affordable. "
   ]
  },
  {
   "cell_type": "markdown",
   "metadata": {},
   "source": [
    "This metric was calculated by summing up all the aforementioned features for each postcode. The resulting values were then standardised to be on a scale of 0 to 1 for easier comparison. The following standardised value was then subtracted from 1, in order to have 0 indicating the least affordable postcode and 1 indicating the most affordable. \n"
   ]
  },
  {
   "cell_type": "code",
   "execution_count": 34,
   "metadata": {},
   "outputs": [
    {
     "data": {
      "text/html": [
       "<div>\n",
       "<style scoped>\n",
       "    .dataframe tbody tr th:only-of-type {\n",
       "        vertical-align: middle;\n",
       "    }\n",
       "\n",
       "    .dataframe tbody tr th {\n",
       "        vertical-align: top;\n",
       "    }\n",
       "\n",
       "    .dataframe thead th {\n",
       "        text-align: right;\n",
       "    }\n",
       "</style>\n",
       "<table border=\"1\" class=\"dataframe\">\n",
       "  <thead>\n",
       "    <tr style=\"text-align: right;\">\n",
       "      <th></th>\n",
       "      <th>Standardised Affordability</th>\n",
       "    </tr>\n",
       "    <tr>\n",
       "      <th>Postcode</th>\n",
       "      <th></th>\n",
       "    </tr>\n",
       "  </thead>\n",
       "  <tbody>\n",
       "    <tr>\n",
       "      <th>3424</th>\n",
       "      <td>1.000000</td>\n",
       "    </tr>\n",
       "    <tr>\n",
       "      <th>3409</th>\n",
       "      <td>0.947093</td>\n",
       "    </tr>\n",
       "    <tr>\n",
       "      <th>3414</th>\n",
       "      <td>0.946619</td>\n",
       "    </tr>\n",
       "    <tr>\n",
       "      <th>3418</th>\n",
       "      <td>0.942966</td>\n",
       "    </tr>\n",
       "    <tr>\n",
       "      <th>3006</th>\n",
       "      <td>0.936327</td>\n",
       "    </tr>\n",
       "    <tr>\n",
       "      <th>3396</th>\n",
       "      <td>0.929125</td>\n",
       "    </tr>\n",
       "    <tr>\n",
       "      <th>3393</th>\n",
       "      <td>0.909012</td>\n",
       "    </tr>\n",
       "    <tr>\n",
       "      <th>3490</th>\n",
       "      <td>0.906518</td>\n",
       "    </tr>\n",
       "    <tr>\n",
       "      <th>3390</th>\n",
       "      <td>0.905940</td>\n",
       "    </tr>\n",
       "    <tr>\n",
       "      <th>3318</th>\n",
       "      <td>0.901626</td>\n",
       "    </tr>\n",
       "  </tbody>\n",
       "</table>\n",
       "</div>"
      ],
      "text/plain": [
       "          Standardised Affordability\n",
       "Postcode                            \n",
       "3424                        1.000000\n",
       "3409                        0.947093\n",
       "3414                        0.946619\n",
       "3418                        0.942966\n",
       "3006                        0.936327\n",
       "3396                        0.929125\n",
       "3393                        0.909012\n",
       "3490                        0.906518\n",
       "3390                        0.905940\n",
       "3318                        0.901626"
      ]
     },
     "execution_count": 34,
     "metadata": {},
     "output_type": "execute_result"
    }
   ],
   "source": [
    "most_affordable_df = pd.read_csv(\"../data/curated/most_affordable.csv\", index_col=0)\n",
    "most_affordable_df.head(10)"
   ]
  },
  {
   "cell_type": "markdown",
   "metadata": {},
   "source": [
    "*Liveability*"
   ]
  },
  {
   "cell_type": "markdown",
   "metadata": {},
   "source": [
    "The following features were used when calculating liveability:\n",
    "- Average number of parking spaces, bedrooms, and bathrooms\n",
    "    - The average number of facilities per postcode was calculated similarly to the aforementioned affordability\n",
    "    - The resulting average was then divided by the average household size per postcode for each facility type\n",
    "- Proportion of schools which are located within a 30-minute driving radius\n",
    "    - The number of nearby schools for each property was obtained from the property dataframe \n",
    "    - The average number of nearby schools per postcode was calculated by grouping the property data by postcode and taking the mean\n",
    "    - The resulting average was then divided by the total number of schools in Victoria (calculated by counting the number of rows in the schools dataset)\n",
    "- Proportion of available properties belonging to the postcode\n",
    "    - The number of rental properties listed for each postcode was obtained by grouping the property dataframe by postcode and counting the number of records per postcode \n",
    "    - The property counts for each postcode were divided by the total number of available rental properties (calculated by counting the number of rows in the property dataframe)\n",
    "- Average duration to the nearest train station, post office, and CBD\n",
    "    - The average duration to these amenities per postcode was obtained by grouping the property dataframe by postcode and taking the mean of the respective columns\n",
    "- Average distance to the nearest park \n",
    "    - Calculated similarly to the durations above\n"
   ]
  },
  {
   "cell_type": "markdown",
   "metadata": {},
   "source": [
    "The average number of facilities per person for a rental property in each postcode was included since it is a quantifiable measure of the luxuries afforded to the average individual in that postcode. The proportion of schools nearby as well as the average durations/distances to other nearby amenities indicates how accessible these services are within the community. The proportion of available properties also indicates how accessible the postal region is for prospective tenants. A larger number of luxuries, easily accessible amenities, as well as a higher capacity to live in said region would all result in an increased measure of liveability.\n"
   ]
  },
  {
   "cell_type": "markdown",
   "metadata": {},
   "source": [
    "The metric was calculated by summing up all the aforementioned features for each postcode. The resulting values were then standardised to be on a scale of 0 to 1 for easier comparison. "
   ]
  },
  {
   "cell_type": "code",
   "execution_count": 33,
   "metadata": {},
   "outputs": [
    {
     "data": {
      "text/html": [
       "<div>\n",
       "<style scoped>\n",
       "    .dataframe tbody tr th:only-of-type {\n",
       "        vertical-align: middle;\n",
       "    }\n",
       "\n",
       "    .dataframe tbody tr th {\n",
       "        vertical-align: top;\n",
       "    }\n",
       "\n",
       "    .dataframe thead th {\n",
       "        text-align: right;\n",
       "    }\n",
       "</style>\n",
       "<table border=\"1\" class=\"dataframe\">\n",
       "  <thead>\n",
       "    <tr style=\"text-align: right;\">\n",
       "      <th></th>\n",
       "      <th>Standardised Liveability</th>\n",
       "    </tr>\n",
       "    <tr>\n",
       "      <th>Postcode</th>\n",
       "      <th></th>\n",
       "    </tr>\n",
       "  </thead>\n",
       "  <tbody>\n",
       "    <tr>\n",
       "      <th>3213</th>\n",
       "      <td>1.000000</td>\n",
       "    </tr>\n",
       "    <tr>\n",
       "      <th>3688</th>\n",
       "      <td>0.997138</td>\n",
       "    </tr>\n",
       "    <tr>\n",
       "      <th>3808</th>\n",
       "      <td>0.962440</td>\n",
       "    </tr>\n",
       "    <tr>\n",
       "      <th>3670</th>\n",
       "      <td>0.950135</td>\n",
       "    </tr>\n",
       "    <tr>\n",
       "      <th>3799</th>\n",
       "      <td>0.934989</td>\n",
       "    </tr>\n",
       "    <tr>\n",
       "      <th>3249</th>\n",
       "      <td>0.922225</td>\n",
       "    </tr>\n",
       "    <tr>\n",
       "      <th>3659</th>\n",
       "      <td>0.921298</td>\n",
       "    </tr>\n",
       "    <tr>\n",
       "      <th>3461</th>\n",
       "      <td>0.895837</td>\n",
       "    </tr>\n",
       "    <tr>\n",
       "      <th>3498</th>\n",
       "      <td>0.894708</td>\n",
       "    </tr>\n",
       "    <tr>\n",
       "      <th>3285</th>\n",
       "      <td>0.886109</td>\n",
       "    </tr>\n",
       "  </tbody>\n",
       "</table>\n",
       "</div>"
      ],
      "text/plain": [
       "          Standardised Liveability\n",
       "Postcode                          \n",
       "3213                      1.000000\n",
       "3688                      0.997138\n",
       "3808                      0.962440\n",
       "3670                      0.950135\n",
       "3799                      0.934989\n",
       "3249                      0.922225\n",
       "3659                      0.921298\n",
       "3461                      0.895837\n",
       "3498                      0.894708\n",
       "3285                      0.886109"
      ]
     },
     "execution_count": 33,
     "metadata": {},
     "output_type": "execute_result"
    }
   ],
   "source": [
    "most_liveable_df = pd.read_csv(\"../data/curated/most_liveable.csv\", index_col=0)\n",
    "most_liveable_df.head(10)"
   ]
  },
  {
   "cell_type": "markdown",
   "metadata": {},
   "source": [
    "<h3>Assumptions & Business Context</h3>"
   ]
  },
  {
   "cell_type": "markdown",
   "metadata": {},
   "source": [
    "**Terminal tool prototype**"
   ]
  },
  {
   "cell_type": "markdown",
   "metadata": {},
   "source": [
    "In addition to answering the three main questions, we created a tool that can be utilised by renters, investors, landlords and businesses to access a snapshot of the top ten postcodes in relation to their inputted one and their associated growth rate, standardised affordability and standardised liveability. This tool was created in two stages. "
   ]
  },
  {
   "cell_type": "markdown",
   "metadata": {},
   "source": [
    "*Stage 1: Database creation [tool.ipynb]*"
   ]
  },
  {
   "cell_type": "markdown",
   "metadata": {},
   "source": [
    "Each postcode was connected with their derived growth rate, liveability and affordability metrics from our research. In addition to this, an external dataset *australian_postcodes.csv* that associates the postcode with the coordinates was utilised. The first suburb in the postcode in the csv was taken to be the representative coordinate for the whole postcode and used when calculating the distances between each postcode. \n",
    "\n",
    "Following this, the euclidean distance of a postcode to every other postcode was calculated and then ranked with the top ten closest neighbouring postcodes to the specified postcode being saved for the tool. The euclidean distance was used as the linear distance was deemed a sufficient measure of ‘closeness’. \n",
    "\n",
    "Finally the database of all the information was combined in the dataframe below. Any missing information has been represented by NaNs values.\n"
   ]
  },
  {
   "cell_type": "markdown",
   "metadata": {},
   "source": [
    "*Python Script to access database and output answer [tooluse.ipynb]*"
   ]
  },
  {
   "cell_type": "markdown",
   "metadata": {},
   "source": [
    "To use this tool, the user can input any Victorian postcode and the tool will output the following:\n",
    "- The inputted postcode’s growth rate, standardised affordability and standardised liveability \n",
    "- The growth rate, standardised affordability and standardised liveability of the top ten nearest postcodes to the imputed postcode\n",
    "\n",
    "This tool can be leveraged to aid the decision making of renters, landlords, and real-estate businesses as well as serve as a guide for those wanting to enter the investment property market.\n",
    "\n",
    "In future research, the differences between the rental property market in metropolitan and rural areas of Victoria should be further investigated, as well as a wider range of features considered for assessing affordability and livability. The tool can be further expanded with more data as well as developed for application in government sectors for planning/development of services. "
   ]
  },
  {
   "cell_type": "markdown",
   "metadata": {},
   "source": []
  }
 ],
 "metadata": {
  "kernelspec": {
   "display_name": "Python 3.10.4 64-bit",
   "language": "python",
   "name": "python3"
  },
  "language_info": {
   "codemirror_mode": {
    "name": "ipython",
    "version": 3
   },
   "file_extension": ".py",
   "mimetype": "text/x-python",
   "name": "python",
   "nbconvert_exporter": "python",
   "pygments_lexer": "ipython3",
   "version": "3.10.4"
  },
  "orig_nbformat": 4,
  "vscode": {
   "interpreter": {
    "hash": "916dbcbb3f70747c44a77c7bcd40155683ae19c65e1c03b4aa3499c5328201f1"
   }
  }
 },
 "nbformat": 4,
 "nbformat_minor": 2
}
