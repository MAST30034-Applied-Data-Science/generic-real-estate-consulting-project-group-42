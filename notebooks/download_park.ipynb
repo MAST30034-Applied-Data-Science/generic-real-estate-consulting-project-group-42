{
 "cells": [
  {
   "cell_type": "code",
   "execution_count": 2,
   "metadata": {},
   "outputs": [],
   "source": [
    "import json\n",
    "import os\n",
    "import pandas as pd\n",
    "import time\n",
    "\n",
    "from dotenv import load_dotenv\n",
    "from openrouteservice import client, directions, places"
   ]
  },
  {
   "cell_type": "code",
   "execution_count": 3,
   "metadata": {},
   "outputs": [],
   "source": [
    "output_dir = '../data/curated/'\n",
    "\n",
    "## set variables\n",
    "load_dotenv()\n",
    "tokens = []\n",
    "for i in range(1, 13): ## number of keys\n",
    "    token = os.environ.get(f'token_{i}')\n",
    "    tokens.append(token)\n",
    "category_id = [280] # park\n",
    "buffer_size = 2000 # highest value for search radius\n",
    "park_dict = {}"
   ]
  },
  {
   "cell_type": "code",
   "execution_count": 4,
   "metadata": {},
   "outputs": [
    {
     "name": "stdout",
     "output_type": "stream",
     "text": [
      "13226\n"
     ]
    }
   ],
   "source": [
    "## read apartment data\n",
    "property_data = json.load(open( f\"{output_dir}properties_processed.json\" ))\n",
    "print(len(property_data['Coordinates']))"
   ]
  },
  {
   "cell_type": "code",
   "execution_count": 5,
   "metadata": {},
   "outputs": [],
   "source": [
    "## running from saved data\n",
    "park_dict = json.load(open(f\"{output_dir}closest_park.json\"))['Park']"
   ]
  },
  {
   "cell_type": "code",
   "execution_count": 44,
   "metadata": {},
   "outputs": [
    {
     "ename": "IndexError",
     "evalue": "list index out of range",
     "output_type": "error",
     "traceback": [
      "\u001b[0;31m---------------------------------------------------------------------------\u001b[0m",
      "\u001b[0;31mIndexError\u001b[0m                                Traceback (most recent call last)",
      "\u001b[1;32m/mnt/c/Users/kelma/OneDrive/Documents/WORK/Applied Data Science/Project 2 Repository/notebooks/download_park.ipynb Cell 5\u001b[0m in \u001b[0;36m<cell line: 1>\u001b[0;34m()\u001b[0m\n\u001b[0;32m----> <a href='vscode-notebook-cell://wsl%2Bubuntu-22.04/mnt/c/Users/kelma/OneDrive/Documents/WORK/Applied%20Data%20Science/Project%202%20Repository/notebooks/download_park.ipynb#W4sdnNjb2RlLXJlbW90ZQ%3D%3D?line=0'>1</a>\u001b[0m token \u001b[39m=\u001b[39m tokens[\u001b[39m12\u001b[39;49m]\n\u001b[1;32m      <a href='vscode-notebook-cell://wsl%2Bubuntu-22.04/mnt/c/Users/kelma/OneDrive/Documents/WORK/Applied%20Data%20Science/Project%202%20Repository/notebooks/download_park.ipynb#W4sdnNjb2RlLXJlbW90ZQ%3D%3D?line=2'>3</a>\u001b[0m \u001b[39m## set x and y\u001b[39;00m\n\u001b[1;32m      <a href='vscode-notebook-cell://wsl%2Bubuntu-22.04/mnt/c/Users/kelma/OneDrive/Documents/WORK/Applied%20Data%20Science/Project%202%20Repository/notebooks/download_park.ipynb#W4sdnNjb2RlLXJlbW90ZQ%3D%3D?line=3'>4</a>\u001b[0m x \u001b[39m=\u001b[39m \u001b[39mlen\u001b[39m(park_dict)\n",
      "\u001b[0;31mIndexError\u001b[0m: list index out of range"
     ]
    }
   ],
   "source": [
    "token = tokens[10]\n",
    "\n",
    "## set x and y\n",
    "x = len(park_dict)\n",
    "y = len(park_dict)+500 ## from smallest API quota\n",
    "if y > len(property_data['Coordinates'].keys()):\n",
    "    y = len(property_data['Coordinates'].keys())\n",
    "\n",
    "for index in range(x,y):\n",
    "    backwards = list(map(float,property_data['Coordinates'][str(index)][1:-1].split(',')))\n",
    "    coords = [backwards[1], backwards[0]]\n",
    "    ors = client.Client(key=token)\n",
    "\n",
    "    ## find poi\n",
    "    query = {'request': 'pois',\n",
    "            'geojson': {'type':'Point', 'coordinates': coords},\n",
    "            'filter_category_ids': category_id,\n",
    "            'buffer': buffer_size,\n",
    "            'sortby':'distance',\n",
    "            'limit': 2}\n",
    "\n",
    "    features = ors.places(**query)['features']\n",
    "    \n",
    "    if len(features)>0:\n",
    "        destination = features[0]['geometry']['coordinates']\n",
    "        all = [(str(coords[0]),str(coords[1])),(str(destination[0]),str(destination[1]))]\n",
    "        ## get car route\n",
    "        request = {'coordinates': all,\n",
    "                'profile': 'driving-car',\n",
    "                'geometry': 'true',\n",
    "                'format_out':'geojson'}\n",
    "        route = ors.directions(**request)\n",
    "        info = route['features'][0]['properties']['summary']\n",
    "    else: \n",
    "        info = {'duration':'0.0','distance':'0.0'}\n",
    "\n",
    "    ## add information\n",
    "    park_dict[str(index)] = info\n",
    "    time.sleep(0.5)"
   ]
  },
  {
   "cell_type": "markdown",
   "metadata": {},
   "source": [
    "Stop when quota exceeds error"
   ]
  },
  {
   "cell_type": "code",
   "execution_count": 34,
   "metadata": {},
   "outputs": [
    {
     "name": "stdout",
     "output_type": "stream",
     "text": [
      "12486\n"
     ]
    }
   ],
   "source": [
    "print(len(park_dict))"
   ]
  },
  {
   "cell_type": "code",
   "execution_count": 35,
   "metadata": {},
   "outputs": [],
   "source": [
    "property_data['Park'] = park_dict\n",
    "\n",
    "## write json\n",
    "json.dump(property_data, open(f\"{output_dir}closest_park.json\", 'w'))\n",
    "\n",
    "# write csv\n",
    "data = pd.read_json(f\"{output_dir}closest_park.json\")\n",
    "data.to_csv(f\"{output_dir}closest_park.csv\")"
   ]
  },
  {
   "cell_type": "code",
   "execution_count": 30,
   "metadata": {},
   "outputs": [],
   "source": [
    "park_dict[str(10561)] = 0 \n",
    "park_dict[str(10581)] = 0\n",
    "park_dict[str(10590)] = 0\n",
    "park_dict[str(10591)] = 0\n",
    "park_dict[str(12047)] = 0"
   ]
  },
  {
   "cell_type": "code",
   "execution_count": null,
   "metadata": {},
   "outputs": [],
   "source": []
  }
 ],
 "metadata": {
  "kernelspec": {
   "display_name": "Python 3.8.10 64-bit",
   "language": "python",
   "name": "python3"
  },
  "language_info": {
   "codemirror_mode": {
    "name": "ipython",
    "version": 3
   },
   "file_extension": ".py",
   "mimetype": "text/x-python",
   "name": "python",
   "nbconvert_exporter": "python",
   "pygments_lexer": "ipython3",
   "version": "3.10.4"
  },
  "orig_nbformat": 4,
  "vscode": {
   "interpreter": {
    "hash": "916dbcbb3f70747c44a77c7bcd40155683ae19c65e1c03b4aa3499c5328201f1"
   }
  }
 },
 "nbformat": 4,
 "nbformat_minor": 2
}
