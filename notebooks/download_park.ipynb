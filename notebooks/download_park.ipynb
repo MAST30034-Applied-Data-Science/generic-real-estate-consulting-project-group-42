{
 "cells": [
  {
   "cell_type": "code",
   "execution_count": 1,
   "metadata": {},
   "outputs": [
    {
     "name": "stderr",
     "output_type": "stream",
     "text": [
      "/usr/lib/python3/dist-packages/requests/__init__.py:89: RequestsDependencyWarning: urllib3 (1.26.12) or chardet (3.0.4) doesn't match a supported version!\n",
      "  warnings.warn(\"urllib3 ({}) or chardet ({}) doesn't match a supported \"\n"
     ]
    }
   ],
   "source": [
    "import json\n",
    "import os\n",
    "import pandas as pd\n",
    "\n",
    "from dotenv import load_dotenv\n",
    "from openrouteservice import client, places"
   ]
  },
  {
   "cell_type": "code",
   "execution_count": null,
   "metadata": {},
   "outputs": [],
   "source": [
    "output_dir = '../data/curated/'\n",
    "\n",
    "## set variables\n",
    "load_dotenv()\n",
    "tokens = []\n",
    "for i in range(1,17): \n",
    "    token = os.environ.get(f'token_{i}')\n",
    "    tokens.append(token)\n",
    "category_id = 280 # park\n",
    "buffer_size = 2000   # between 1-2000\n",
    "park_dict = {}"
   ]
  },
  {
   "cell_type": "code",
   "execution_count": null,
   "metadata": {},
   "outputs": [],
   "source": [
    "## read apartment data\n",
    "property_data = json.load(open( f\"{output_dir}properties_processed.json\" ))"
   ]
  },
  {
   "cell_type": "code",
   "execution_count": null,
   "metadata": {},
   "outputs": [],
   "source": [
    "token = tokens[0]\n",
    "\n",
    "## set x and y\n",
    "x = len(park_dict)\n",
    "y = len(park_dict)+100\n",
    "\n",
    "for index in range(x,y):\n",
    "    if index > len(property_data['Coordinates'].keys()):\n",
    "        break\n",
    "    backwards = list(map(float,property_data['Coordinates'][str(index)][1:-1].split(',')))\n",
    "    coords = [backwards[1], backwards[0]]\n",
    "\n",
    "    ## query code\n",
    "    ors = client.Client(key=token)\n",
    "    query = {'request': 'pois',\n",
    "            'geojson': {'type':'Point','coordinates':coords},\n",
    "            'buffer': buffer_size,\n",
    "            'filter_category_ids': category_id,\n",
    "            'sortby':'distance',\n",
    "            'limit': 4}\n",
    "    features = ors.places(**query)['features']\n",
    "\n",
    "    ## distances - direct meters\n",
    "    distances = []\n",
    "    for poi in features:\n",
    "        distances.append(poi['properties']['distance'])\n",
    "        \n",
    "    ## add information\n",
    "    park_dict[str(index)] = distances"
   ]
  },
  {
   "cell_type": "code",
   "execution_count": null,
   "metadata": {},
   "outputs": [],
   "source": [
    "property_data['Park'] = park_dict\n",
    "\n",
    "## write json\n",
    "property_data['Park'] = park_dict\n",
    "json.dump(property_data, open(f\"{output_dir}num_park.json\", 'w'))\n",
    "\n",
    "# write csv\n",
    "data = pd.read_json(f\"{output_dir}num_park.json\")\n",
    "data.to_csv(f\"{output_dir}num_park.csv\")"
   ]
  }
 ],
 "metadata": {
  "kernelspec": {
   "display_name": "Python 3.8.10 64-bit",
   "language": "python",
   "name": "python3"
  },
  "language_info": {
   "codemirror_mode": {
    "name": "ipython",
    "version": 3
   },
   "file_extension": ".py",
   "mimetype": "text/x-python",
   "name": "python",
   "nbconvert_exporter": "python",
   "pygments_lexer": "ipython3",
   "version": "3.8.10"
  },
  "orig_nbformat": 4,
  "vscode": {
   "interpreter": {
    "hash": "916dbcbb3f70747c44a77c7bcd40155683ae19c65e1c03b4aa3499c5328201f1"
   }
  }
 },
 "nbformat": 4,
 "nbformat_minor": 2
}
