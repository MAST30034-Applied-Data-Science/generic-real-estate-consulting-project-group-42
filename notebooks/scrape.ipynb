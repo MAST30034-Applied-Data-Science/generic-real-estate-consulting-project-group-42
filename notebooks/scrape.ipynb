{
 "cells": [
  {
   "cell_type": "code",
   "execution_count": 1,
   "metadata": {},
   "outputs": [],
   "source": [
    "\"\"\"\n",
    "A very simple and basic web scraping script. Feel free to\n",
    "use this as a source of inspiration, but, make sure to attribute\n",
    "it if you do so.\n",
    "\n",
    "This is by no means production code.\n",
    "\"\"\"\n",
    "# built-in imports\n",
    "import re\n",
    "from json import dump\n",
    "\n",
    "from collections import defaultdict\n",
    "\n",
    "# user packages\n",
    "from bs4 import BeautifulSoup\n",
    "from urllib.request import urlopen\n",
    "import requests\n",
    "\n",
    "# constants\n",
    "BASE_URL = \"https://www.domain.com.au\"\n",
    "N_PAGES = range(1, 2) # update this to your liking\n",
    "\n",
    "headers = {\"User-Agent\": \"Mozilla/5.0 (X11; CrOS x86_64 12871.102.0) AppleWebKit/537.36 (KHTML, like Gecko) Chrome/81.0.4044.141 Safari/537.36\"}"
   ]
  },
  {
   "cell_type": "markdown",
   "metadata": {},
   "source": [
    "**Selenium**"
   ]
  },
  {
   "cell_type": "code",
   "execution_count": 55,
   "metadata": {},
   "outputs": [],
   "source": [
    "from selenium import webdriver\n",
    "from selenium.webdriver.chrome.options import Options\n",
    "from selenium.webdriver.chrome.service import Service\n",
    "from webdriver_manager.chrome import ChromeDriverManager\n",
    "from selenium.webdriver.common.by import By\n",
    "from selenium.webdriver.support.ui import WebDriverWait\n",
    "\n",
    "driver_location = \"/usr/bin/chromedriver\"\n",
    "binary_location = \"/usr/bin/google-chrome\"\n",
    "\n",
    "options = Options()\n",
    "options.binary_location = binary_location\n",
    "\n",
    "options.add_argument(\"--headless\")\n",
    "options.add_argument(\"--no-sandbox\")\n",
    "options.add_argument('--disable-dev-shm-usage')\n",
    "options.add_argument(\"--window-size=1920,1080\")\n",
    "\n",
    "s=Service(driver_location)\n",
    "\n",
    "driver = webdriver.Chrome(service=s, options=options)\n"
   ]
  },
  {
   "cell_type": "code",
   "execution_count": 82,
   "metadata": {},
   "outputs": [
    {
     "name": "stdout",
     "output_type": "stream",
     "text": [
      "['https://www.domain.com.au/7-timmins-court-mill-park-vic-3082-16076192', 'https://www.domain.com.au/36-duosa-road-altona-north-vic-3025-15410999', 'https://www.domain.com.au/5-1-st-georges-road-toorak-vic-3142-16076186', 'https://www.domain.com.au/2-602-highbury-road-glen-waverley-vic-3150-16076184', 'https://www.domain.com.au/1-22-maivary-lane-northcote-vic-3070-16076163']\n"
     ]
    }
   ],
   "source": [
    "# begin code\n",
    "url_links = []\n",
    "property_metadata = defaultdict(dict)\n",
    "\n",
    "# generate list of urls to visit\n",
    "for page in N_PAGES:\n",
    "    # need to decide regions to analyse \n",
    "    url = BASE_URL + f\"/rent/melbourne-region-vic/?sort=dateupdated-desc&page={page}\" # a single page\n",
    "    bs_object = BeautifulSoup(requests.get(url, headers=headers).text, \"html.parser\") # makes bs object\n",
    "\n",
    "    # find the unordered list (ul) elements which are the results, then\n",
    "    # find all href (a) tags that are from the base_url website.\n",
    "    index_links = bs_object \\\n",
    "        .find(\n",
    "            \"ul\",\n",
    "            {\"data-testid\": \"results\"}\n",
    "        ) \\\n",
    "        .findAll(\n",
    "            \"a\",\n",
    "            href=re.compile(f\"{BASE_URL}/*\") # complies RE string into RE expression \n",
    "        )\n",
    "\n",
    "    for link in index_links:\n",
    "        # if its a property address, add it to the list\n",
    "        if 'address' in link['class']:\n",
    "            url_links.append(link['href'])\n",
    "\n",
    "print(url_links[0:5])"
   ]
  },
  {
   "cell_type": "code",
   "execution_count": 83,
   "metadata": {},
   "outputs": [],
   "source": [
    "test_url = ['https://www.domain.com.au/12-clendon-court-toorak-vic-3142-14238687']\n",
    "# for each url, scrape some basic metadata\n",
    "for property_url in url_links[0:5]:\n",
    "    bs_object = BeautifulSoup(requests.get(property_url, headers=headers).text, \"html.parser\")\n",
    "\n",
    "    # looks for the header class to get property name\n",
    "    property_metadata[property_url]['Name'] = bs_object \\\n",
    "        .find(\"h1\", {\"class\": \"css-164r41r\"}) \\\n",
    "        .text\n",
    "\n",
    "    # regex to find the cost in the summary title \n",
    "    cost_finder = re.compile(r'[0-9]+.?[0-9]+') # this regex search assumes that the first numeric value is the cost per week \n",
    "    # looks for the div containing a summary title for cost\n",
    "    cost_text = bs_object \\\n",
    "        .find(\"div\", {\"data-testid\": \"listing-details__summary-title\"}) \\\n",
    "        .text\n",
    "\n",
    "    # extracts the cost from the summary title and adds to dictionary. \n",
    "    # if there is no cost written in the summary title, it is replaced by 0 \n",
    "    cost = cost_finder.search(cost_text)\n",
    "    if cost == None: \n",
    "        property_metadata[property_url]['Cost'] = 0\n",
    "    else:\n",
    "         property_metadata[property_url]['Cost'] = cost.group()\n",
    "        \n",
    "    # extract coordinates from the hyperlink provided\n",
    "    # finds latitude and longitude from integrated Google Map\n",
    "    property_metadata[property_url]['Coordinates'] = [\n",
    "        float(coord) for coord in re.findall(\n",
    "            r'destination=([-\\s,\\d\\.]+)', # use regex101.com here if you need to\n",
    "            bs_object \\\n",
    "                .find(\n",
    "                    \"a\",\n",
    "                    {\"target\": \"_blank\", 'rel': \"noopener noreferer\"}\n",
    "                ) \\\n",
    "                .attrs['href']\n",
    "        )[0].split(',')\n",
    "    ]\n",
    "    \n",
    "    # extracts # of bedrooms, # of baths and # of parking spots \n",
    "    rooms_info = bs_object.find(\"div\", {\"data-testid\": \"property-features\"}).findAll(\"span\", {\"data-testid\": \"property-features-text-container\"})\n",
    "    for i in range(0, len(rooms_info)):\n",
    "        attr_desc = str(rooms_info[i].text).split(' ')\n",
    "\n",
    "        property_metadata[property_url][attr_desc[1]] = attr_desc[0]\n",
    "\n",
    "    # extracts property type from the site \n",
    "    property_metadata[property_url]['Property_Type'] = bs_object \\\n",
    "        .find(\"div\", {\"data-testid\": \"listing-summary-property-type\"}).find(\"span\", {\"class\" : \"css-in3yi3\"}).text\n",
    "\n",
    "    # extracts desciption from the site \n",
    "    # will significantly increase run-time\n",
    "    '''\n",
    "    driver.get(property_url)\n",
    "    read_more_button = driver.find_element(by=By.CSS_SELECTOR , value='[data-testid=\"listing-details__description-button\"]')\n",
    "    read_more_button.click()\n",
    "    property_metadata[property_url]['Desc'] = driver.find_element(by=By.CSS_SELECTOR, value='[data-testid=\"listing-details__description\"]').text\n",
    "    '''\n",
    "\n",
    "    # extract real estate agency\n",
    "    property_metadata[property_url]['Agency'] = bs_object.find(\"a\", {\"data-testid\" : \"listing-details__agent-details-agent-company-name\"}).text\n",
    "     "
   ]
  },
  {
   "cell_type": "code",
   "execution_count": 84,
   "metadata": {},
   "outputs": [
    {
     "data": {
      "text/plain": [
       "defaultdict(dict,\n",
       "            {'https://www.domain.com.au/7-timmins-court-mill-park-vic-3082-16076192': {'Name': '7 Timmins Court Mill Park VIC 3082',\n",
       "              'Cost': '600',\n",
       "              'Coordinates': [-37.6584651, 145.0470335],\n",
       "              'Beds': '4',\n",
       "              'Baths': '2',\n",
       "              'Parking': '4',\n",
       "              'Property_Type': 'House',\n",
       "              'Agency': 'Ray White Mill Park'},\n",
       "             'https://www.domain.com.au/36-duosa-road-altona-north-vic-3025-15410999': {'Name': '36 Duosa Road Altona North VIC 3025',\n",
       "              'Cost': '490',\n",
       "              'Coordinates': [-37.8264754, 144.844517],\n",
       "              'Beds': '3',\n",
       "              'Bath': '1',\n",
       "              'Parking': '2',\n",
       "              'Property_Type': 'House',\n",
       "              'Agency': 'Williams Real Estate'},\n",
       "             'https://www.domain.com.au/5-1-st-georges-road-toorak-vic-3142-16076186': {'Name': '5/1 St Georges Road Toorak VIC 3142',\n",
       "              'Cost': '280.00',\n",
       "              'Coordinates': [-37.8418943, 145.0182992],\n",
       "              'Bed': '1',\n",
       "              'Bath': '1',\n",
       "              'Parking': '−',\n",
       "              'Property_Type': 'Apartment / Unit / Flat',\n",
       "              'Agency': 'Marshall White Stonnington'},\n",
       "             'https://www.domain.com.au/2-602-highbury-road-glen-waverley-vic-3150-16076184': {'Name': '2/602 Highbury Road Glen Waverley VIC 3150',\n",
       "              'Cost': '450',\n",
       "              'Coordinates': [-37.8613551, 145.1607159],\n",
       "              'Beds': '3',\n",
       "              'Bath': '1',\n",
       "              'Parking': '1',\n",
       "              'Property_Type': 'Apartment / Unit / Flat',\n",
       "              'Agency': 'Area Specialist Keysborough'},\n",
       "             'https://www.domain.com.au/1-22-maivary-lane-northcote-vic-3070-16076163': {'Name': '1/22 Maivary Lane Northcote VIC 3070',\n",
       "              'Cost': '550',\n",
       "              'Coordinates': [-37.7740872, 145.0104428],\n",
       "              'Beds': '2',\n",
       "              'Bath': '1',\n",
       "              'Parking': '1',\n",
       "              'Property_Type': 'Townhouse',\n",
       "              'Agency': 'Thomas Quixley Fairfield Pty Ltd'}})"
      ]
     },
     "execution_count": 84,
     "metadata": {},
     "output_type": "execute_result"
    }
   ],
   "source": [
    "property_metadata"
   ]
  },
  {
   "cell_type": "code",
   "execution_count": 28,
   "metadata": {},
   "outputs": [],
   "source": [
    "# output to example json in data/raw/\n",
    "with open('../data/raw/example.json', 'w') as f:\n",
    "    dump(property_metadata, f)\n",
    "\n"
   ]
  },
  {
   "cell_type": "code",
   "execution_count": null,
   "metadata": {},
   "outputs": [],
   "source": []
  }
 ],
 "metadata": {
  "kernelspec": {
   "display_name": "Python 3.10.4 64-bit",
   "language": "python",
   "name": "python3"
  },
  "language_info": {
   "codemirror_mode": {
    "name": "ipython",
    "version": 3
   },
   "file_extension": ".py",
   "mimetype": "text/x-python",
   "name": "python",
   "nbconvert_exporter": "python",
   "pygments_lexer": "ipython3",
   "version": "3.8.10"
  },
  "orig_nbformat": 4,
  "vscode": {
   "interpreter": {
    "hash": "916dbcbb3f70747c44a77c7bcd40155683ae19c65e1c03b4aa3499c5328201f1"
   }
  }
 },
 "nbformat": 4,
 "nbformat_minor": 2
}
