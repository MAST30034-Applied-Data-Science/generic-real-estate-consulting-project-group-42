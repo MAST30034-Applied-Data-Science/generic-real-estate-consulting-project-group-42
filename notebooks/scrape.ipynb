{
 "cells": [
  {
   "cell_type": "code",
   "execution_count": 1,
   "metadata": {},
   "outputs": [
    {
     "name": "stderr",
     "output_type": "stream",
     "text": [
      "/usr/lib/python3/dist-packages/requests/__init__.py:89: RequestsDependencyWarning: urllib3 (1.26.12) or chardet (3.0.4) doesn't match a supported version!\n",
      "  warnings.warn(\"urllib3 ({}) or chardet ({}) doesn't match a supported \"\n"
     ]
    }
   ],
   "source": [
    "\"\"\"\n",
    "A very simple and basic web scraping script. Feel free to\n",
    "use this as a source of inspiration, but, make sure to attribute\n",
    "it if you do so.\n",
    "\n",
    "This is by no means production code.\n",
    "\"\"\"\n",
    "# built-in imports\n",
    "import re\n",
    "import pandas as pd\n",
    "import json\n",
    "\n",
    "from collections import defaultdict\n",
    "\n",
    "# user packages\n",
    "from bs4 import BeautifulSoup\n",
    "from urllib.request import urlopen\n",
    "import requests\n",
    "\n",
    "# constants\n",
    "BASE_URL = \"https://www.domain.com.au\"\n",
    "N_PAGES = range(1, 3) # update this to your liking\n",
    "\n",
    "headers = {\"User-Agent\": \"Mozilla/5.0 (X11; CrOS x86_64 12871.102.0) AppleWebKit/537.36 (KHTML, like Gecko) Chrome/81.0.4044.141 Safari/537.36\"}"
   ]
  },
  {
   "cell_type": "markdown",
   "metadata": {},
   "source": [
    "<h3>Web Scraping</h3>"
   ]
  },
  {
   "cell_type": "code",
   "execution_count": 2,
   "metadata": {},
   "outputs": [],
   "source": [
    "postcodes = pd.read_csv(\"../data/curated/unique_postcodes.csv\", header=None).squeeze()"
   ]
  },
  {
   "cell_type": "markdown",
   "metadata": {},
   "source": [
    "**Progress tracker**"
   ]
  },
  {
   "cell_type": "markdown",
   "metadata": {},
   "source": [
    "Imports & functions for progress tracking, can be removed for final submission"
   ]
  },
  {
   "cell_type": "code",
   "execution_count": 3,
   "metadata": {},
   "outputs": [],
   "source": [
    "from IPython.display import clear_output \n",
    "import timeit\n",
    "import numpy as np"
   ]
  },
  {
   "cell_type": "code",
   "execution_count": 4,
   "metadata": {},
   "outputs": [],
   "source": [
    "def progress_tracker(start, stop, curr_progress):\n",
    "    if (curr_progress*100) < 5:\n",
    "        expected_time = \"Calculating...\"\n",
    "    else:\n",
    "        time_perc = timeit.default_timer()\n",
    "        expected_time = np.round(((time_perc-start) / curr_progress)/60, 2)\n",
    "\n",
    "    print(\"Current progress:\", np.round(curr_progress*100, 2), \"%\")\n",
    "    print(\"current run time:\", np.round((stop-start)/60, 2), \"minutes\")\n",
    "    print(\"Expected run time:\", expected_time, \"minutes\")"
   ]
  },
  {
   "cell_type": "markdown",
   "metadata": {},
   "source": [
    "**Selenium (optional running)**"
   ]
  },
  {
   "cell_type": "code",
   "execution_count": 55,
   "metadata": {},
   "outputs": [],
   "source": [
    "from selenium import webdriver\n",
    "from selenium.webdriver.chrome.options import Options\n",
    "from selenium.webdriver.chrome.service import Service\n",
    "from webdriver_manager.chrome import ChromeDriverManager\n",
    "from selenium.webdriver.common.by import By\n",
    "from selenium.webdriver.support.ui import WebDriverWait\n",
    "\n",
    "driver_location = \"/usr/bin/chromedriver\"\n",
    "binary_location = \"/usr/bin/google-chrome\"\n",
    "\n",
    "options = Options()\n",
    "options.binary_location = binary_location\n",
    "\n",
    "options.add_argument(\"--headless\")\n",
    "options.add_argument(\"--no-sandbox\")\n",
    "options.add_argument('--disable-dev-shm-usage')\n",
    "options.add_argument(\"--window-size=1920,1080\")\n",
    "\n",
    "s=Service(driver_location)\n",
    "\n",
    "driver = webdriver.Chrome(service=s, options=options)\n"
   ]
  },
  {
   "cell_type": "markdown",
   "metadata": {},
   "source": [
    "**URL Scraping**"
   ]
  },
  {
   "cell_type": "code",
   "execution_count": 10,
   "metadata": {},
   "outputs": [
    {
     "name": "stdout",
     "output_type": "stream",
     "text": [
      "Current progress: 99.86 %\n",
      "current run time: 8.59 minutes\n",
      "Expected run time: 8.6 minutes\n"
     ]
    }
   ],
   "source": [
    "# begin code\n",
    "url_dict = defaultdict(dict)\n",
    "property_metadata = defaultdict(dict)\n",
    "\n",
    "start = timeit.default_timer() # for progress tracking\n",
    "\n",
    "# index & enumerate are for progress tracking, can be removed for final submission\n",
    "for index, postcode in enumerate(postcodes):\n",
    "    clear_output(wait=True) # for progress tracking\n",
    "\n",
    "    url_links = []\n",
    "    \n",
    "    # generate list of urls to visit\n",
    "    for page in N_PAGES:\n",
    "        # need to decide regions to analyse         \n",
    "        url = BASE_URL + f\"/rent/?postcode={postcode}&page={page}\" # a single page\n",
    "        bs_object = BeautifulSoup(requests.get(url, headers=headers).text, \"html.parser\") # makes bs object\n",
    "\n",
    "        # find the unordered list (ul) elements which are the results, then\n",
    "        # find all href (a) tags that are from the base_url website.\n",
    "        index_links = bs_object.find(\"ul\", {\"data-testid\": \"results\"}) \n",
    "\n",
    "        # if there are no links, break\n",
    "        if (index_links == None):\n",
    "            break \n",
    "\n",
    "        index_links = index_links.findAll(\"a\",href=re.compile(f\"{BASE_URL}/*\")) # complies RE string into RE expression\n",
    "            \n",
    "        for link in index_links:\n",
    "            # if its a property address, add it to the list\n",
    "            if 'address' in link['class']:\n",
    "                url_links.append(link['href'])\n",
    "\n",
    "    url_dict[postcode] = url_links\n",
    "\n",
    "    # for progress tracking\n",
    "    curr_progress = index/len(postcodes)\n",
    "    stop = timeit.default_timer()\n",
    "    progress_tracker(start, stop, curr_progress)"
   ]
  },
  {
   "cell_type": "code",
   "execution_count": 4,
   "metadata": {},
   "outputs": [
    {
     "ename": "NameError",
     "evalue": "name 'url_dict' is not defined",
     "output_type": "error",
     "traceback": [
      "\u001b[0;31m---------------------------------------------------------------------------\u001b[0m",
      "\u001b[0;31mNameError\u001b[0m                                 Traceback (most recent call last)",
      "\u001b[1;32m/mnt/c/Users/Jade/Documents/GitHub/generic-real-estate-consulting-project-group-42/notebooks/scrape.ipynb Cell 12\u001b[0m in \u001b[0;36m<cell line: 2>\u001b[0;34m()\u001b[0m\n\u001b[1;32m      <a href='vscode-notebook-cell://wsl%2Bubuntu-20.04/mnt/c/Users/Jade/Documents/GitHub/generic-real-estate-consulting-project-group-42/notebooks/scrape.ipynb#X14sdnNjb2RlLXJlbW90ZQ%3D%3D?line=0'>1</a>\u001b[0m \u001b[39m# store url_dict for future use\u001b[39;00m\n\u001b[0;32m----> <a href='vscode-notebook-cell://wsl%2Bubuntu-20.04/mnt/c/Users/Jade/Documents/GitHub/generic-real-estate-consulting-project-group-42/notebooks/scrape.ipynb#X14sdnNjb2RlLXJlbW90ZQ%3D%3D?line=1'>2</a>\u001b[0m json\u001b[39m.\u001b[39mdump(url_dict, \u001b[39mopen\u001b[39m(\u001b[39m\"\u001b[39m\u001b[39m../data/curated/url_dict.json\u001b[39m\u001b[39m\"\u001b[39m, \u001b[39m'\u001b[39m\u001b[39mw\u001b[39m\u001b[39m'\u001b[39m))\n",
      "\u001b[0;31mNameError\u001b[0m: name 'url_dict' is not defined"
     ]
    }
   ],
   "source": [
    "# store url_dict for future use\n",
    "json.dump(url_dict, open(\"../data/curated/url_dict.json\", 'w'))"
   ]
  },
  {
   "cell_type": "markdown",
   "metadata": {},
   "source": [
    "**Feature Scraping**"
   ]
  },
  {
   "cell_type": "code",
   "execution_count": 5,
   "metadata": {},
   "outputs": [],
   "source": [
    "# load previously run url_dict\n",
    "# only run if URL scraping has not been executed\n",
    "url_dict = json.load(open( \"../data/curated/url_dict.json\" ))"
   ]
  },
  {
   "cell_type": "code",
   "execution_count": 6,
   "metadata": {},
   "outputs": [
    {
     "name": "stdout",
     "output_type": "stream",
     "text": [
      "Current progress: 99.86 %\n",
      "current run time: 65.17 minutes\n",
      "Expected run time: 65.26 minutes\n"
     ]
    }
   ],
   "source": [
    "start = timeit.default_timer() # for progress tracking\n",
    "property_metadata = defaultdict(dict)\n",
    "\n",
    "\n",
    "# for each url, scrape features\n",
    "# index & enumerate are for progress tracking, can be removed for final submission\n",
    "for index, postcode in enumerate(url_dict):\n",
    "    clear_output(wait=True) # for progress tracking\n",
    "\n",
    "    url_links = url_dict.get(postcode)\n",
    "\n",
    "    for property_url in url_links:\n",
    "        bs_object = BeautifulSoup(requests.get(property_url, headers=headers).text, \"html.parser\")\n",
    "\n",
    "        # looks for the header class to get property name\n",
    "        name = bs_object.find(\"h1\", {\"class\": \"css-164r41r\"})\n",
    "        if name == None: \n",
    "            break \n",
    "        else: \n",
    "            property_metadata[property_url]['Name'] = name.text\n",
    "\n",
    "\n",
    "        # regex to find the cost in the summary title \n",
    "        cost_finder = re.compile(r'[0-9]+.?[0-9]+') # this regex search assumes that the first numeric value is the cost per week \n",
    "        # looks for the div containing a summary title for cost\n",
    "        cost_text = bs_object \\\n",
    "            .find(\"div\", {\"data-testid\": \"listing-details__summary-title\"}) \\\n",
    "            .text\n",
    "\n",
    "        # extracts the cost from the summary title and adds to dictionary. \n",
    "        # if there is no cost written in the summary title, it is replaced by 0 \n",
    "        cost = cost_finder.search(cost_text)\n",
    "        if cost == None: \n",
    "            property_metadata[property_url]['Cost'] = 0\n",
    "        else:\n",
    "            property_metadata[property_url]['Cost'] = cost.group()\n",
    "            \n",
    "        # extract coordinates from the hyperlink provided\n",
    "        # finds latitude and longitude from integrated Google Map\n",
    "        property_metadata[property_url]['Coordinates'] = [\n",
    "            float(coord) for coord in re.findall(\n",
    "                r'destination=([-\\s,\\d\\.]+)', # use regex101.com here if you need to\n",
    "                bs_object \\\n",
    "                    .find(\n",
    "                        \"a\",\n",
    "                        {\"target\": \"_blank\", 'rel': \"noopener noreferer\"}\n",
    "                    ) \\\n",
    "                    .attrs['href']\n",
    "            )[0].split(',')\n",
    "        ]\n",
    "        \n",
    "        # extracts # of bedrooms, # of baths and # of parking spots \n",
    "        rooms_info = bs_object.find(\"div\", {\"data-testid\": \"property-features\"}).findAll(\"span\", {\"data-testid\": \"property-features-text-container\"})\n",
    "        for i in range(0, min(3, len(rooms_info))):\n",
    "            attr_desc = str(rooms_info[i].text).split(' ')\n",
    "\n",
    "            property_metadata[property_url][attr_desc[1]] = attr_desc[0]\n",
    "\n",
    "        # extracts property type from the site \n",
    "        property_metadata[property_url]['Property_Type'] = bs_object \\\n",
    "            .find(\"div\", {\"data-testid\": \"listing-summary-property-type\"}).find(\"span\", {\"class\" : \"css-in3yi3\"}).text\n",
    "\n",
    "        # extracts desciption from the site \n",
    "        # will significantly increase run-time\n",
    "        '''\n",
    "        driver.get(property_url)\n",
    "        read_more_button = driver.find_element(by=By.CSS_SELECTOR , value='[data-testid=\"listing-details__description-button\"]')\n",
    "        read_more_button.click()\n",
    "        property_metadata[property_url]['Desc'] = driver.find_element(by=By.CSS_SELECTOR, value='[data-testid=\"listing-details__description\"]').text\n",
    "        '''\n",
    "\n",
    "        # extract real estate agency\n",
    "        agency = bs_object.find(\"a\", {\"data-testid\" : \"listing-details__agent-details-agent-company-name\"})\n",
    "        if agency == None:\n",
    "            property_metadata[property_url]['Agency'] = \"-\"\n",
    "        else:\n",
    "            property_metadata[property_url]['Agency'] = agency.text\n",
    "\n",
    "        # add postcode\n",
    "        property_metadata[property_url]['Postcode'] = postcode\n",
    "\n",
    "    # for progress tracking\n",
    "    curr_progress = index/len(url_dict)\n",
    "    stop = timeit.default_timer()\n",
    "    progress_tracker(start, stop, curr_progress)"
   ]
  },
  {
   "cell_type": "code",
   "execution_count": 7,
   "metadata": {},
   "outputs": [],
   "source": [
    "# store property metadata for future use\n",
    "json.dump(property_metadata, open(\"../data/curated/property_metadata.json\", 'w'))"
   ]
  },
  {
   "cell_type": "markdown",
   "metadata": {},
   "source": [
    "**Data output**"
   ]
  },
  {
   "cell_type": "code",
   "execution_count": 8,
   "metadata": {},
   "outputs": [],
   "source": [
    "# load previously run property_metadata\n",
    "# only run if URL scraping has not been executed\n",
    "property_dict = json.load(open( \"../data/curated/property_metadata.json\" ))"
   ]
  },
  {
   "cell_type": "code",
   "execution_count": 14,
   "metadata": {},
   "outputs": [],
   "source": [
    "data = []\n",
    "\n",
    "for url in url_dict.values():\n",
    "    for url_link in url:\n",
    "        info = property_dict.get(url_link)\n",
    "        if info == None:\n",
    "            break\n",
    "        else:\n",
    "            data.append(list(info.values()))        \n",
    "        \n",
    "      \n",
    "property_df = pd.DataFrame(data)\n",
    "\n",
    "property_df = property_df.iloc[:,]\n",
    "property_df.columns = ['Name', 'Cost', 'Coordinates', 'Bed', 'Bath', 'Parking', 'Property_Type', 'Agency', 'Postcode']\n",
    "\n",
    "property_df.to_csv('../data/raw/property_data.csv')  \n",
    "        "
   ]
  },
  {
   "cell_type": "code",
   "execution_count": 15,
   "metadata": {},
   "outputs": [
    {
     "data": {
      "text/html": [
       "<div>\n",
       "<style scoped>\n",
       "    .dataframe tbody tr th:only-of-type {\n",
       "        vertical-align: middle;\n",
       "    }\n",
       "\n",
       "    .dataframe tbody tr th {\n",
       "        vertical-align: top;\n",
       "    }\n",
       "\n",
       "    .dataframe thead th {\n",
       "        text-align: right;\n",
       "    }\n",
       "</style>\n",
       "<table border=\"1\" class=\"dataframe\">\n",
       "  <thead>\n",
       "    <tr style=\"text-align: right;\">\n",
       "      <th></th>\n",
       "      <th>Name</th>\n",
       "      <th>Cost</th>\n",
       "      <th>Coordinates</th>\n",
       "      <th>Bed</th>\n",
       "      <th>Bath</th>\n",
       "      <th>Parking</th>\n",
       "      <th>Property_Type</th>\n",
       "      <th>Agency</th>\n",
       "      <th>Postcode</th>\n",
       "    </tr>\n",
       "  </thead>\n",
       "  <tbody>\n",
       "    <tr>\n",
       "      <th>0</th>\n",
       "      <td>708/228 A'BECKETT STREET Melbourne VIC 3000</td>\n",
       "      <td>500</td>\n",
       "      <td>[-37.8101911, 144.9566043]</td>\n",
       "      <td>2</td>\n",
       "      <td>1</td>\n",
       "      <td>−</td>\n",
       "      <td>Apartment / Unit / Flat</td>\n",
       "      <td>Elite Real Estate</td>\n",
       "      <td>3000</td>\n",
       "    </tr>\n",
       "    <tr>\n",
       "      <th>1</th>\n",
       "      <td>4/180 Little Collins Street Melbourne VIC 3000</td>\n",
       "      <td>500</td>\n",
       "      <td>[-37.8138601, 144.9679067]</td>\n",
       "      <td>1</td>\n",
       "      <td>1</td>\n",
       "      <td>−</td>\n",
       "      <td>Apartment / Unit / Flat</td>\n",
       "      <td>Dingle Partners</td>\n",
       "      <td>3000</td>\n",
       "    </tr>\n",
       "    <tr>\n",
       "      <th>2</th>\n",
       "      <td>1605/565 Flinders Street Melbourne VIC 3000</td>\n",
       "      <td>500</td>\n",
       "      <td>[-37.8210586, 144.9559072]</td>\n",
       "      <td>2</td>\n",
       "      <td>2</td>\n",
       "      <td>1</td>\n",
       "      <td>Apartment / Unit / Flat</td>\n",
       "      <td>Dingle Partners</td>\n",
       "      <td>3000</td>\n",
       "    </tr>\n",
       "    <tr>\n",
       "      <th>3</th>\n",
       "      <td>612/408 Lonsdale Street Melbourne VIC 3000</td>\n",
       "      <td>350</td>\n",
       "      <td>[-37.8125979, 144.9604012]</td>\n",
       "      <td>1</td>\n",
       "      <td>1</td>\n",
       "      <td>−</td>\n",
       "      <td>Apartment / Unit / Flat</td>\n",
       "      <td>Gotham Property</td>\n",
       "      <td>3000</td>\n",
       "    </tr>\n",
       "    <tr>\n",
       "      <th>4</th>\n",
       "      <td>2108/288 Spencer Street Melbourne VIC 3000</td>\n",
       "      <td>350</td>\n",
       "      <td>[-37.813775, 144.9520948]</td>\n",
       "      <td>1</td>\n",
       "      <td>1</td>\n",
       "      <td>−</td>\n",
       "      <td>Apartment / Unit / Flat</td>\n",
       "      <td>Motion Property</td>\n",
       "      <td>3000</td>\n",
       "    </tr>\n",
       "    <tr>\n",
       "      <th>...</th>\n",
       "      <td>...</td>\n",
       "      <td>...</td>\n",
       "      <td>...</td>\n",
       "      <td>...</td>\n",
       "      <td>...</td>\n",
       "      <td>...</td>\n",
       "      <td>...</td>\n",
       "      <td>...</td>\n",
       "      <td>...</td>\n",
       "    </tr>\n",
       "    <tr>\n",
       "      <th>7550</th>\n",
       "      <td>28 Beachcomber Drive Inverloch VIC 3996</td>\n",
       "      <td>550</td>\n",
       "      <td>[-38.6412502, 145.7031282]</td>\n",
       "      <td>4</td>\n",
       "      <td>2</td>\n",
       "      <td>−</td>\n",
       "      <td>House</td>\n",
       "      <td>Southcoast First National Inverloch</td>\n",
       "      <td>3996</td>\n",
       "    </tr>\n",
       "    <tr>\n",
       "      <th>7551</th>\n",
       "      <td>14 Inverloch Parade Inverloch VIC 3996</td>\n",
       "      <td>420</td>\n",
       "      <td>[-38.6287143, 145.7358082]</td>\n",
       "      <td>2</td>\n",
       "      <td>1</td>\n",
       "      <td>−</td>\n",
       "      <td>House</td>\n",
       "      <td>Southcoast First National Inverloch</td>\n",
       "      <td>3996</td>\n",
       "    </tr>\n",
       "    <tr>\n",
       "      <th>7552</th>\n",
       "      <td>10 Hopetoun Street Inverloch VIC 3996</td>\n",
       "      <td>370</td>\n",
       "      <td>[-38.6341243, 145.7306862]</td>\n",
       "      <td>2</td>\n",
       "      <td>1</td>\n",
       "      <td>1</td>\n",
       "      <td>House</td>\n",
       "      <td>Southcoast First National Inverloch</td>\n",
       "      <td>3996</td>\n",
       "    </tr>\n",
       "    <tr>\n",
       "      <th>7553</th>\n",
       "      <td>Inverloch VIC 3996</td>\n",
       "      <td>475</td>\n",
       "      <td>[-38.6314613, 145.7293638]</td>\n",
       "      <td>3</td>\n",
       "      <td>2</td>\n",
       "      <td>1</td>\n",
       "      <td>House</td>\n",
       "      <td>Southcoast First National Inverloch</td>\n",
       "      <td>3996</td>\n",
       "    </tr>\n",
       "    <tr>\n",
       "      <th>7554</th>\n",
       "      <td>64 Dixon Street Inverloch VIC 3996</td>\n",
       "      <td>0</td>\n",
       "      <td>[-38.6313719, 145.717275]</td>\n",
       "      <td>1</td>\n",
       "      <td>1</td>\n",
       "      <td>−</td>\n",
       "      <td>House</td>\n",
       "      <td>Stockdale &amp; Leggo Inverloch</td>\n",
       "      <td>3996</td>\n",
       "    </tr>\n",
       "  </tbody>\n",
       "</table>\n",
       "<p>7555 rows × 9 columns</p>\n",
       "</div>"
      ],
      "text/plain": [
       "                                                Name Cost  \\\n",
       "0        708/228 A'BECKETT STREET Melbourne VIC 3000  500   \n",
       "1     4/180 Little Collins Street Melbourne VIC 3000  500   \n",
       "2        1605/565 Flinders Street Melbourne VIC 3000  500   \n",
       "3         612/408 Lonsdale Street Melbourne VIC 3000  350   \n",
       "4         2108/288 Spencer Street Melbourne VIC 3000  350   \n",
       "...                                              ...  ...   \n",
       "7550         28 Beachcomber Drive Inverloch VIC 3996  550   \n",
       "7551          14 Inverloch Parade Inverloch VIC 3996  420   \n",
       "7552           10 Hopetoun Street Inverloch VIC 3996  370   \n",
       "7553                              Inverloch VIC 3996  475   \n",
       "7554              64 Dixon Street Inverloch VIC 3996    0   \n",
       "\n",
       "                     Coordinates Bed Bath Parking            Property_Type  \\\n",
       "0     [-37.8101911, 144.9566043]   2    1       −  Apartment / Unit / Flat   \n",
       "1     [-37.8138601, 144.9679067]   1    1       −  Apartment / Unit / Flat   \n",
       "2     [-37.8210586, 144.9559072]   2    2       1  Apartment / Unit / Flat   \n",
       "3     [-37.8125979, 144.9604012]   1    1       −  Apartment / Unit / Flat   \n",
       "4      [-37.813775, 144.9520948]   1    1       −  Apartment / Unit / Flat   \n",
       "...                          ...  ..  ...     ...                      ...   \n",
       "7550  [-38.6412502, 145.7031282]   4    2       −                    House   \n",
       "7551  [-38.6287143, 145.7358082]   2    1       −                    House   \n",
       "7552  [-38.6341243, 145.7306862]   2    1       1                    House   \n",
       "7553  [-38.6314613, 145.7293638]   3    2       1                    House   \n",
       "7554   [-38.6313719, 145.717275]   1    1       −                    House   \n",
       "\n",
       "                                   Agency Postcode  \n",
       "0                       Elite Real Estate     3000  \n",
       "1                         Dingle Partners     3000  \n",
       "2                         Dingle Partners     3000  \n",
       "3                         Gotham Property     3000  \n",
       "4                         Motion Property     3000  \n",
       "...                                   ...      ...  \n",
       "7550  Southcoast First National Inverloch     3996  \n",
       "7551  Southcoast First National Inverloch     3996  \n",
       "7552  Southcoast First National Inverloch     3996  \n",
       "7553  Southcoast First National Inverloch     3996  \n",
       "7554          Stockdale & Leggo Inverloch     3996  \n",
       "\n",
       "[7555 rows x 9 columns]"
      ]
     },
     "execution_count": 15,
     "metadata": {},
     "output_type": "execute_result"
    }
   ],
   "source": [
    "property_df"
   ]
  },
  {
   "cell_type": "code",
   "execution_count": null,
   "metadata": {},
   "outputs": [],
   "source": []
  }
 ],
 "metadata": {
  "kernelspec": {
   "display_name": "Python 3.10.4 64-bit",
   "language": "python",
   "name": "python3"
  },
  "language_info": {
   "codemirror_mode": {
    "name": "ipython",
    "version": 3
   },
   "file_extension": ".py",
   "mimetype": "text/x-python",
   "name": "python",
   "nbconvert_exporter": "python",
   "pygments_lexer": "ipython3",
   "version": "3.8.10"
  },
  "orig_nbformat": 4,
  "vscode": {
   "interpreter": {
    "hash": "916dbcbb3f70747c44a77c7bcd40155683ae19c65e1c03b4aa3499c5328201f1"
   }
  }
 },
 "nbformat": 4,
 "nbformat_minor": 2
}
