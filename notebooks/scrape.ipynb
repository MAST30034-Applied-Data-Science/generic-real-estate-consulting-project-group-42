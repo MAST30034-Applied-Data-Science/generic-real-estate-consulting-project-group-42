{
 "cells": [
  {
   "cell_type": "code",
   "execution_count": 7,
   "metadata": {},
   "outputs": [],
   "source": [
    "\"\"\"\n",
    "A very simple and basic web scraping script. Feel free to\n",
    "use this as a source of inspiration, but, make sure to attribute\n",
    "it if you do so.\n",
    "\n",
    "This is by no means production code.\n",
    "\"\"\"\n",
    "# built-in imports\n",
    "import re\n",
    "from json import dump\n",
    "\n",
    "from collections import defaultdict\n",
    "\n",
    "# user packages\n",
    "from bs4 import BeautifulSoup\n",
    "from urllib.request import urlopen\n",
    "import requests\n",
    "\n",
    "# constants\n",
    "BASE_URL = \"https://www.domain.com.au\"\n",
    "N_PAGES = range(1, 2) # update this to your liking\n",
    "\n",
    "headers = {\"User-Agent\": \"Mozilla/5.0 (X11; CrOS x86_64 12871.102.0) AppleWebKit/537.36 (KHTML, like Gecko) Chrome/81.0.4044.141 Safari/537.36\"}"
   ]
  },
  {
   "cell_type": "code",
   "execution_count": 8,
   "metadata": {},
   "outputs": [
    {
     "name": "stdout",
     "output_type": "stream",
     "text": [
      "['https://www.domain.com.au/109-1-turner-street-abbotsford-vic-3067-16068516', 'https://www.domain.com.au/4-133-glenroy-road-glenroy-vic-3046-16068512', 'https://www.domain.com.au/52-brunswick-crescent-craigieburn-vic-3064-16068510', 'https://www.domain.com.au/7-187-gillies-street-fairfield-vic-3078-16068508', 'https://www.domain.com.au/2-1417-pascoe-vale-road-meadow-heights-vic-3048-16068500']\n"
     ]
    }
   ],
   "source": [
    "# begin code\n",
    "url_links = []\n",
    "property_metadata = defaultdict(dict)\n",
    "\n",
    "# generate list of urls to visit\n",
    "for page in N_PAGES:\n",
    "    url = BASE_URL + f\"/rent/melbourne-region-vic/?sort=dateupdated-desc&page={page}\" # a single page\n",
    "    bs_object = BeautifulSoup(requests.get(url, headers=headers).text, \"html.parser\") # makes bs object\n",
    "\n",
    "    # find the unordered list (ul) elements which are the results, then\n",
    "    # find all href (a) tags that are from the base_url website.\n",
    "    index_links = bs_object \\\n",
    "        .find(\n",
    "            \"ul\",\n",
    "            {\"data-testid\": \"results\"}\n",
    "        ) \\\n",
    "        .findAll(\n",
    "            \"a\",\n",
    "            href=re.compile(f\"{BASE_URL}/*\") # complies RE string into RE expression \n",
    "        )\n",
    "\n",
    "    for link in index_links:\n",
    "        # if its a property address, add it to the list\n",
    "        if 'address' in link['class']:\n",
    "            url_links.append(link['href'])\n",
    "\n",
    "print(url_links[0:5])"
   ]
  },
  {
   "cell_type": "code",
   "execution_count": 9,
   "metadata": {},
   "outputs": [],
   "source": [
    "# for each url, scrape some basic metadata\n",
    "for property_url in url_links[0:5]:\n",
    "    bs_object = BeautifulSoup(requests.get(property_url, headers=headers).text, \"html.parser\")\n",
    "\n",
    "    # looks for the header class to get property name\n",
    "    property_metadata[property_url]['name'] = bs_object \\\n",
    "        .find(\"h1\", {\"class\": \"css-164r41r\"}) \\\n",
    "        .text\n",
    "\n",
    "    # may need preprocessing \n",
    "    cost_finder = re.compile(r'[0-9]+.?[0-9]+')\n",
    "    # looks for the div containing a summary title for cost\n",
    "    cost_text = bs_object \\\n",
    "        .find(\"div\", {\"data-testid\": \"listing-details__summary-title\"}) \\\n",
    "        .text\n",
    "\n",
    "    # extracts the cost from the summary title\n",
    "    cost = cost_finder.search(cost_text)\n",
    "    if cost == None: \n",
    "        property_metadata[property_url]['cost'] = 0\n",
    "    else:\n",
    "         property_metadata[property_url]['cost'] = cost.group()\n",
    "        \n",
    "    # extract coordinates from the hyperlink provided\n",
    "    # finds latitude and longitude from integrated Google Map\n",
    "    property_metadata[property_url]['coordinates'] = [\n",
    "        float(coord) for coord in re.findall(\n",
    "            r'destination=([-\\s,\\d\\.]+)', # use regex101.com here if you need to\n",
    "            bs_object \\\n",
    "                .find(\n",
    "                    \"a\",\n",
    "                    {\"target\": \"_blank\", 'rel': \"noopener noreferer\"}\n",
    "                ) \\\n",
    "                .attrs['href']\n",
    "        )[0].split(',')\n",
    "    ]\n",
    "    \n",
    "    # extracts # of bedrooms, # of baths and # of parking spots \n",
    "    rooms_info = bs_object.find(\"div\", {\"data-testid\": \"property-features\"}).findAll(\"span\", {\"data-testid\": \"property-features-text-container\"})\n",
    "    for i in range(0, len(rooms_info)):\n",
    "        attr_desc = str(rooms_info[i].text).split(' ')\n",
    "\n",
    "        property_metadata[property_url][attr_desc[1]] = attr_desc[0]\n",
    "\n",
    "    # extracts desciption from the site -> perhaps can use bag of words to find words that link to more expensive rental units \n",
    "    property_metadata[property_url]['desc'] = re \\\n",
    "        .sub(r'<br\\/>', '\\n', str(bs_object.find(\"p\"))) \\\n",
    "        .strip('</p>')\n",
    "\n",
    "    "
   ]
  },
  {
   "cell_type": "code",
   "execution_count": 10,
   "metadata": {},
   "outputs": [
    {
     "data": {
      "text/plain": [
       "defaultdict(dict,\n",
       "            {'https://www.domain.com.au/109-1-turner-street-abbotsford-vic-3067-16068516': {'name': '109/1 Turner Street Abbotsford VIC 3067',\n",
       "              'cost': '420.00',\n",
       "              'coordinates': [-37.7992725, 144.995338],\n",
       "              'Bed': '1',\n",
       "              'Bath': '1',\n",
       "              'Parking': '−',\n",
       "              'desc': 'All Abbotsford has to offer \\nThis building enjoys the wonderful natural light and great location with parklands, shops/cafes and public transport in close proximity. The spacious apartment offers a large bedroom with built in robes, separate bathroom with double shower, European laundry, open plan living and kitchen area with electric cooking appliances. Additional features also include private'},\n",
       "             'https://www.domain.com.au/4-133-glenroy-road-glenroy-vic-3046-16068512': {'name': '4/133 Glenroy Road Glenroy VIC 3046',\n",
       "              'cost': '400',\n",
       "              'coordinates': [-37.706251, 144.924806],\n",
       "              'Beds': '2',\n",
       "              'Bath': '1',\n",
       "              'Parking': '1',\n",
       "              'desc': 'Only 750 meters from the Glenroy train station, this unit is within walking distance of everything Glenroy has to offer including shops, schools and local amenities. Offering two bedrooms with built in robes, bright and sunny kitchen with gas appliances, spacious lounge, central bathroom and all other internal facilities.\\nStep outside and you have a single garage and your very own private court'},\n",
       "             'https://www.domain.com.au/52-brunswick-crescent-craigieburn-vic-3064-16068510': {'name': '52 Brunswick Crescent Craigieburn VIC 3064',\n",
       "              'cost': '360',\n",
       "              'coordinates': [-37.5924746, 144.9173024],\n",
       "              'Beds': '2',\n",
       "              'Bath': '1',\n",
       "              'Parking': '1',\n",
       "              'desc': 'Perfectly located, this well kept and low maintenance tri-level townhouse is perfect for singles and couples. Ground floor consists of a study, garage and laundry. '},\n",
       "             'https://www.domain.com.au/7-187-gillies-street-fairfield-vic-3078-16068508': {'name': '7/187 Gillies Street Fairfield VIC 3078',\n",
       "              'cost': '280',\n",
       "              'coordinates': [-37.7715395, 145.0185722],\n",
       "              'Bed': '1',\n",
       "              'Bath': '1',\n",
       "              'Parking': '1',\n",
       "              'desc': 'This great first floor apartment is ideally located on the corner of Gillies &amp; Separation Streets. Comprising one bedroom with BIR, kitchen with electric cooktop, living room with split system, tiled ensuite bathroom with shower over bath, communal laundry facilities &amp; one off-street car space. Walking distance to Station Street shops, cafes &amp; transport.'},\n",
       "             'https://www.domain.com.au/2-1417-pascoe-vale-road-meadow-heights-vic-3048-16068500': {'name': '2/1417 Pascoe Vale Road Meadow Heights VIC 3048',\n",
       "              'cost': '465',\n",
       "              'coordinates': [-37.6588534, 144.9257629],\n",
       "              'Beds': '4',\n",
       "              'Baths': '3',\n",
       "              'Parking': '1',\n",
       "              'desc': \"Situated in the heart of Meadow heights, this gorgeous double story townhouse, offers 3 upstairs bedroom's with split system's, 2 bathrooms. 1 bedroom and bathroom downstairs &amp; state of the art kitchen with mechanical cupboard, double drawers dishwasher .\\nWalking distance to Coolaroo railway station, short distance to Roxburgh Park shops &amp; all other amenities.\\nEnquire today.\"}})"
      ]
     },
     "execution_count": 10,
     "metadata": {},
     "output_type": "execute_result"
    }
   ],
   "source": [
    "property_metadata"
   ]
  },
  {
   "cell_type": "code",
   "execution_count": 5,
   "metadata": {},
   "outputs": [],
   "source": [
    "# output to example json in data/raw/\n",
    "with open('../data/raw/example.json', 'w') as f:\n",
    "    dump(property_metadata, f)\n",
    "\n"
   ]
  },
  {
   "cell_type": "code",
   "execution_count": null,
   "metadata": {},
   "outputs": [],
   "source": []
  }
 ],
 "metadata": {
  "kernelspec": {
   "display_name": "Python 3.9.7 ('base')",
   "language": "python",
   "name": "python3"
  },
  "language_info": {
   "codemirror_mode": {
    "name": "ipython",
    "version": 3
   },
   "file_extension": ".py",
   "mimetype": "text/x-python",
   "name": "python",
   "nbconvert_exporter": "python",
   "pygments_lexer": "ipython3",
   "version": "3.9.7"
  },
  "orig_nbformat": 4,
  "vscode": {
   "interpreter": {
    "hash": "02aabcc046fa091b9871aa4704a7bb2475007c43a4e122e1c3c1c83a9c0b80c9"
   }
  }
 },
 "nbformat": 4,
 "nbformat_minor": 2
}
