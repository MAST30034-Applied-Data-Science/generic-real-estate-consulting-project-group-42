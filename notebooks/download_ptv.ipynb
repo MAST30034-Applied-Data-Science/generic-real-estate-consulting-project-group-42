{
 "cells": [
  {
   "cell_type": "code",
   "execution_count": 1,
   "metadata": {},
   "outputs": [
    {
     "name": "stderr",
     "output_type": "stream",
     "text": [
      "/usr/lib/python3/dist-packages/requests/__init__.py:89: RequestsDependencyWarning: urllib3 (1.26.11) or chardet (3.0.4) doesn't match a supported version!\n",
      "  warnings.warn(\"urllib3 ({}) or chardet ({}) doesn't match a supported \"\n"
     ]
    }
   ],
   "source": [
    "import json\n",
    "import os\n",
    "import pandas as pd\n",
    "import time\n",
    "\n",
    "from dotenv import load_dotenv\n",
    "from openrouteservice import client, directions, isochrones, places"
   ]
  },
  {
   "cell_type": "code",
   "execution_count": 18,
   "metadata": {},
   "outputs": [],
   "source": [
    "output_dir = '../data/curated/'\n",
    "\n",
    "## set variables\n",
    "load_dotenv()\n",
    "tokens = []\n",
    "for i in range(1,24): # number of keys\n",
    "    token = os.environ.get(f'token_{i}')\n",
    "    tokens.append(token)\n",
    "category_id = [604] # railway station\n",
    "ptv_dict = {}"
   ]
  },
  {
   "cell_type": "code",
   "execution_count": 19,
   "metadata": {},
   "outputs": [
    {
     "name": "stdout",
     "output_type": "stream",
     "text": [
      "13227\n"
     ]
    }
   ],
   "source": [
    "## read apartment data\n",
    "property_data = json.load(open( f\"{output_dir}properties_processed.json\" ))\n",
    "print(len(property_data['Coordinates']))"
   ]
  },
  {
   "cell_type": "code",
   "execution_count": 17,
   "metadata": {},
   "outputs": [
    {
     "ename": "ApiError",
     "evalue": "403 ({'error': 'Access to this API has been disallowed'})",
     "output_type": "error",
     "traceback": [
      "\u001b[0;31m---------------------------------------------------------------------------\u001b[0m",
      "\u001b[0;31mApiError\u001b[0m                                  Traceback (most recent call last)",
      "\u001b[1;32m/mnt/c/Users/jwill/Desktop/UNI/2022_SEM2/ads/generic-real-estate-consulting-project-group-42/notebooks/download_ptv.ipynb Cell 4\u001b[0m in \u001b[0;36m<cell line: 9>\u001b[0;34m()\u001b[0m\n\u001b[1;32m     <a href='vscode-notebook-cell://wsl%2Bubuntu/mnt/c/Users/jwill/Desktop/UNI/2022_SEM2/ads/generic-real-estate-consulting-project-group-42/notebooks/download_ptv.ipynb#W3sdnNjb2RlLXJlbW90ZQ%3D%3D?line=13'>14</a>\u001b[0m \u001b[39m## find search region\u001b[39;00m\n\u001b[1;32m     <a href='vscode-notebook-cell://wsl%2Bubuntu/mnt/c/Users/jwill/Desktop/UNI/2022_SEM2/ads/generic-real-estate-consulting-project-group-42/notebooks/download_ptv.ipynb#W3sdnNjb2RlLXJlbW90ZQ%3D%3D?line=14'>15</a>\u001b[0m params_iso \u001b[39m=\u001b[39m {\u001b[39m'\u001b[39m\u001b[39mlocations\u001b[39m\u001b[39m'\u001b[39m: coords,\n\u001b[1;32m     <a href='vscode-notebook-cell://wsl%2Bubuntu/mnt/c/Users/jwill/Desktop/UNI/2022_SEM2/ads/generic-real-estate-consulting-project-group-42/notebooks/download_ptv.ipynb#W3sdnNjb2RlLXJlbW90ZQ%3D%3D?line=15'>16</a>\u001b[0m             \u001b[39m'\u001b[39m\u001b[39mprofile\u001b[39m\u001b[39m'\u001b[39m: \u001b[39m'\u001b[39m\u001b[39mdriving-car\u001b[39m\u001b[39m'\u001b[39m,\n\u001b[1;32m     <a href='vscode-notebook-cell://wsl%2Bubuntu/mnt/c/Users/jwill/Desktop/UNI/2022_SEM2/ads/generic-real-estate-consulting-project-group-42/notebooks/download_ptv.ipynb#W3sdnNjb2RlLXJlbW90ZQ%3D%3D?line=16'>17</a>\u001b[0m             \u001b[39m'\u001b[39m\u001b[39mrange\u001b[39m\u001b[39m'\u001b[39m:[\u001b[39m900\u001b[39m]\n\u001b[1;32m     <a href='vscode-notebook-cell://wsl%2Bubuntu/mnt/c/Users/jwill/Desktop/UNI/2022_SEM2/ads/generic-real-estate-consulting-project-group-42/notebooks/download_ptv.ipynb#W3sdnNjb2RlLXJlbW90ZQ%3D%3D?line=17'>18</a>\u001b[0m             }\n\u001b[0;32m---> <a href='vscode-notebook-cell://wsl%2Bubuntu/mnt/c/Users/jwill/Desktop/UNI/2022_SEM2/ads/generic-real-estate-consulting-project-group-42/notebooks/download_ptv.ipynb#W3sdnNjb2RlLXJlbW90ZQ%3D%3D?line=18'>19</a>\u001b[0m iso \u001b[39m=\u001b[39m ors\u001b[39m.\u001b[39;49misochrones(\u001b[39m*\u001b[39;49m\u001b[39m*\u001b[39;49mparams_iso)\n\u001b[1;32m     <a href='vscode-notebook-cell://wsl%2Bubuntu/mnt/c/Users/jwill/Desktop/UNI/2022_SEM2/ads/generic-real-estate-consulting-project-group-42/notebooks/download_ptv.ipynb#W3sdnNjb2RlLXJlbW90ZQ%3D%3D?line=20'>21</a>\u001b[0m \u001b[39m## find poi\u001b[39;00m\n\u001b[1;32m     <a href='vscode-notebook-cell://wsl%2Bubuntu/mnt/c/Users/jwill/Desktop/UNI/2022_SEM2/ads/generic-real-estate-consulting-project-group-42/notebooks/download_ptv.ipynb#W3sdnNjb2RlLXJlbW90ZQ%3D%3D?line=21'>22</a>\u001b[0m query \u001b[39m=\u001b[39m {\u001b[39m'\u001b[39m\u001b[39mrequest\u001b[39m\u001b[39m'\u001b[39m: \u001b[39m'\u001b[39m\u001b[39mpois\u001b[39m\u001b[39m'\u001b[39m,\n\u001b[1;32m     <a href='vscode-notebook-cell://wsl%2Bubuntu/mnt/c/Users/jwill/Desktop/UNI/2022_SEM2/ads/generic-real-estate-consulting-project-group-42/notebooks/download_ptv.ipynb#W3sdnNjb2RlLXJlbW90ZQ%3D%3D?line=22'>23</a>\u001b[0m         \u001b[39m'\u001b[39m\u001b[39mgeojson\u001b[39m\u001b[39m'\u001b[39m: iso[\u001b[39m'\u001b[39m\u001b[39mfeatures\u001b[39m\u001b[39m'\u001b[39m][\u001b[39m0\u001b[39m][\u001b[39m'\u001b[39m\u001b[39mgeometry\u001b[39m\u001b[39m'\u001b[39m],\n\u001b[1;32m     <a href='vscode-notebook-cell://wsl%2Bubuntu/mnt/c/Users/jwill/Desktop/UNI/2022_SEM2/ads/generic-real-estate-consulting-project-group-42/notebooks/download_ptv.ipynb#W3sdnNjb2RlLXJlbW90ZQ%3D%3D?line=23'>24</a>\u001b[0m         \u001b[39m'\u001b[39m\u001b[39mfilter_category_ids\u001b[39m\u001b[39m'\u001b[39m: category_id,\n\u001b[1;32m     <a href='vscode-notebook-cell://wsl%2Bubuntu/mnt/c/Users/jwill/Desktop/UNI/2022_SEM2/ads/generic-real-estate-consulting-project-group-42/notebooks/download_ptv.ipynb#W3sdnNjb2RlLXJlbW90ZQ%3D%3D?line=24'>25</a>\u001b[0m         \u001b[39m'\u001b[39m\u001b[39msortby\u001b[39m\u001b[39m'\u001b[39m:\u001b[39m'\u001b[39m\u001b[39mdistance\u001b[39m\u001b[39m'\u001b[39m,\n\u001b[1;32m     <a href='vscode-notebook-cell://wsl%2Bubuntu/mnt/c/Users/jwill/Desktop/UNI/2022_SEM2/ads/generic-real-estate-consulting-project-group-42/notebooks/download_ptv.ipynb#W3sdnNjb2RlLXJlbW90ZQ%3D%3D?line=25'>26</a>\u001b[0m         \u001b[39m'\u001b[39m\u001b[39mlimit\u001b[39m\u001b[39m'\u001b[39m: \u001b[39m2\u001b[39m}\n",
      "File \u001b[0;32m~/.local/lib/python3.8/site-packages/openrouteservice/client.py:299\u001b[0m, in \u001b[0;36m_make_api_method.<locals>.wrapper\u001b[0;34m(*args, **kwargs)\u001b[0m\n\u001b[1;32m    296\u001b[0m \u001b[39m@functools\u001b[39m\u001b[39m.\u001b[39mwraps(func)\n\u001b[1;32m    297\u001b[0m \u001b[39mdef\u001b[39;00m \u001b[39mwrapper\u001b[39m(\u001b[39m*\u001b[39margs, \u001b[39m*\u001b[39m\u001b[39m*\u001b[39mkwargs):\n\u001b[1;32m    298\u001b[0m     args[\u001b[39m0\u001b[39m]\u001b[39m.\u001b[39m_extra_params \u001b[39m=\u001b[39m kwargs\u001b[39m.\u001b[39mpop(\u001b[39m\"\u001b[39m\u001b[39mextra_params\u001b[39m\u001b[39m\"\u001b[39m, \u001b[39mNone\u001b[39;00m)\n\u001b[0;32m--> 299\u001b[0m     result \u001b[39m=\u001b[39m func(\u001b[39m*\u001b[39;49margs, \u001b[39m*\u001b[39;49m\u001b[39m*\u001b[39;49mkwargs)\n\u001b[1;32m    300\u001b[0m     \u001b[39mtry\u001b[39;00m:\n\u001b[1;32m    301\u001b[0m         \u001b[39mdel\u001b[39;00m args[\u001b[39m0\u001b[39m]\u001b[39m.\u001b[39m_extra_params\n",
      "File \u001b[0;32m~/.local/lib/python3.8/site-packages/openrouteservice/isochrones.py:132\u001b[0m, in \u001b[0;36misochrones\u001b[0;34m(client, locations, profile, range_type, range, intervals, segments, interval, units, location_type, smoothing, attributes, validate, dry_run)\u001b[0m\n\u001b[1;32m    129\u001b[0m \u001b[39mif\u001b[39;00m attributes:\n\u001b[1;32m    130\u001b[0m     params[\u001b[39m\"\u001b[39m\u001b[39mattributes\u001b[39m\u001b[39m\"\u001b[39m] \u001b[39m=\u001b[39m attributes\n\u001b[0;32m--> 132\u001b[0m \u001b[39mreturn\u001b[39;00m client\u001b[39m.\u001b[39;49mrequest(\u001b[39m\"\u001b[39;49m\u001b[39m/v2/isochrones/\u001b[39;49m\u001b[39m\"\u001b[39;49m \u001b[39m+\u001b[39;49m profile \u001b[39m+\u001b[39;49m \u001b[39m'\u001b[39;49m\u001b[39m/geojson\u001b[39;49m\u001b[39m'\u001b[39;49m, {}, post_json\u001b[39m=\u001b[39;49mparams, dry_run\u001b[39m=\u001b[39;49mdry_run)\n",
      "File \u001b[0;32m~/.local/lib/python3.8/site-packages/openrouteservice/client.py:204\u001b[0m, in \u001b[0;36mClient.request\u001b[0;34m(self, url, get_params, first_request_time, retry_counter, requests_kwargs, post_json, dry_run)\u001b[0m\n\u001b[1;32m    200\u001b[0m     \u001b[39mreturn\u001b[39;00m \u001b[39mself\u001b[39m\u001b[39m.\u001b[39mrequest(url, get_params, first_request_time,\n\u001b[1;32m    201\u001b[0m                         retry_counter \u001b[39m+\u001b[39m \u001b[39m1\u001b[39m, requests_kwargs, post_json)\n\u001b[1;32m    203\u001b[0m \u001b[39mtry\u001b[39;00m:\n\u001b[0;32m--> 204\u001b[0m     result \u001b[39m=\u001b[39m \u001b[39mself\u001b[39;49m\u001b[39m.\u001b[39;49m_get_body(response)\n\u001b[1;32m    206\u001b[0m     \u001b[39mreturn\u001b[39;00m result\n\u001b[1;32m    207\u001b[0m \u001b[39mexcept\u001b[39;00m exceptions\u001b[39m.\u001b[39m_RetriableRequest \u001b[39mas\u001b[39;00m e:\n",
      "File \u001b[0;32m~/.local/lib/python3.8/site-packages/openrouteservice/client.py:242\u001b[0m, in \u001b[0;36mClient._get_body\u001b[0;34m(response)\u001b[0m\n\u001b[1;32m    237\u001b[0m     \u001b[39mraise\u001b[39;00m exceptions\u001b[39m.\u001b[39m_OverQueryLimit(\n\u001b[1;32m    238\u001b[0m         status_code,\n\u001b[1;32m    239\u001b[0m         body\n\u001b[1;32m    240\u001b[0m     )\n\u001b[1;32m    241\u001b[0m \u001b[39mif\u001b[39;00m status_code \u001b[39m!=\u001b[39m \u001b[39m200\u001b[39m:\n\u001b[0;32m--> 242\u001b[0m     \u001b[39mraise\u001b[39;00m exceptions\u001b[39m.\u001b[39mApiError(\n\u001b[1;32m    243\u001b[0m         status_code,\n\u001b[1;32m    244\u001b[0m         body\n\u001b[1;32m    245\u001b[0m     )\n\u001b[1;32m    247\u001b[0m \u001b[39mreturn\u001b[39;00m body\n",
      "\u001b[0;31mApiError\u001b[0m: 403 ({'error': 'Access to this API has been disallowed'})"
     ]
    }
   ],
   "source": [
    "token = tokens[20]\n",
    "\n",
    "## set x and y\n",
    "x = len(ptv_dict)\n",
    "y = len(ptv_dict)+500 ## from smallest API quota\n",
    "if y > len(property_data['Coordinates'].keys()):\n",
    "    y = len(property_data['Coordinates'].keys())\n",
    "\n",
    "for index in range(x,y):\n",
    "    backwards = list(map(float,property_data['Coordinates'][str(index)][1:-1].split(',')))\n",
    "    coords = [backwards[1], backwards[0]]\n",
    "    ors = client.Client(key=token)\n",
    "\n",
    "    ## find search region\n",
    "    params_iso = {'locations': [coords],\n",
    "                'profile': 'driving-car',\n",
    "                'range':[1800] # 30 min drive\n",
    "                }\n",
    "    iso = ors.isochrones(**params_iso)\n",
    "\n",
    "    ## find poi\n",
    "    query = {'request': 'pois',\n",
    "            'geojson': iso['features'][0]['geometry'],\n",
    "            'filter_category_ids': category_id,\n",
    "            'sortby':'distance',\n",
    "            'limit': 2}\n",
    "    features = ors.places(**query)['features']\n",
    "    destination = features[0]['geometry']['coordinates']\n",
    "    all = [(str(coords[0]),str(coords[1])),(str(destination[0]),str(destination[1]))]\n",
    "\n",
    "    ## get car route\n",
    "    request = {'coordinates': all,\n",
    "            'profile': 'driving-car',\n",
    "            'geometry': 'true',\n",
    "            'format_out':'geojson'}\n",
    "    route = ors.directions(**request)\n",
    "    info = route['features'][0]['properties']['summary']\n",
    "\n",
    "    ## add information\n",
    "    ptv_dict[str(index)] = info\n",
    "    time.sleep(0.5)"
   ]
  },
  {
   "cell_type": "code",
   "execution_count": null,
   "metadata": {},
   "outputs": [],
   "source": [
    "print(len(ptv_dict))"
   ]
  },
  {
   "cell_type": "code",
   "execution_count": 231,
   "metadata": {},
   "outputs": [],
   "source": [
    "property_data['PTV'] = ptv_dict\n",
    "\n",
    "## write json\n",
    "json.dump(property_data, open(f\"{output_dir}closest_train.json\", 'w'))\n",
    "\n",
    "# write csv\n",
    "data = pd.read_json(f\"{output_dir}closest_train.json\")\n",
    "data.to_csv(f\"{output_dir}closest_train.csv\")"
   ]
  }
 ],
 "metadata": {
  "kernelspec": {
   "display_name": "Python 3.8.10 64-bit",
   "language": "python",
   "name": "python3"
  },
  "language_info": {
   "codemirror_mode": {
    "name": "ipython",
    "version": 3
   },
   "file_extension": ".py",
   "mimetype": "text/x-python",
   "name": "python",
   "nbconvert_exporter": "python",
   "pygments_lexer": "ipython3",
   "version": "3.8.10"
  },
  "orig_nbformat": 4,
  "vscode": {
   "interpreter": {
    "hash": "916dbcbb3f70747c44a77c7bcd40155683ae19c65e1c03b4aa3499c5328201f1"
   }
  }
 },
 "nbformat": 4,
 "nbformat_minor": 2
}
