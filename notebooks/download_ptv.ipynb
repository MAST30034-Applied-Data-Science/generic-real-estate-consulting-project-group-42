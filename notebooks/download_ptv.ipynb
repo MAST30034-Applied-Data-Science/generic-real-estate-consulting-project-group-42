{
 "cells": [
  {
   "cell_type": "code",
   "execution_count": 2,
   "metadata": {},
   "outputs": [
    {
     "name": "stderr",
     "output_type": "stream",
     "text": [
      "/usr/lib/python3/dist-packages/requests/__init__.py:89: RequestsDependencyWarning: urllib3 (1.26.11) or chardet (3.0.4) doesn't match a supported version!\n",
      "  warnings.warn(\"urllib3 ({}) or chardet ({}) doesn't match a supported \"\n"
     ]
    }
   ],
   "source": [
    "import json\n",
    "import os\n",
    "import pandas as pd\n",
    "\n",
    "from dotenv import load_dotenv\n",
    "from openrouteservice import client, places"
   ]
  },
  {
   "cell_type": "code",
   "execution_count": 3,
   "metadata": {},
   "outputs": [],
   "source": [
    "output_dir = '../data/curated/'\n",
    "\n",
    "## set variables\n",
    "load_dotenv()\n",
    "tokens = []\n",
    "for i in range(1,17): \n",
    "    token = os.environ.get(f'token_{i}')\n",
    "    tokens.append(token)\n",
    "category_ids = [587, 588, 604, 607]\n",
    "buffer_size = 2000   # between 1-2000\n",
    "ptv_dict = {}"
   ]
  },
  {
   "cell_type": "code",
   "execution_count": 4,
   "metadata": {},
   "outputs": [],
   "source": [
    "## read apartment data\n",
    "property_data = json.load(open( f\"{output_dir}properties_processed.json\" ))"
   ]
  },
  {
   "cell_type": "code",
   "execution_count": 229,
   "metadata": {},
   "outputs": [
    {
     "ename": "KeyError",
     "evalue": "'7526'",
     "output_type": "error",
     "traceback": [
      "\u001b[0;31m---------------------------------------------------------------------------\u001b[0m",
      "\u001b[0;31mKeyError\u001b[0m                                  Traceback (most recent call last)",
      "\u001b[1;32m/mnt/c/Users/jwill/Desktop/UNI/2022_SEM2/ads/generic-real-estate-consulting-project-group-42/notebooks/download_ptv.ipynb Cell 4\u001b[0m in \u001b[0;36m<cell line: 7>\u001b[0;34m()\u001b[0m\n\u001b[1;32m      <a href='vscode-notebook-cell://wsl%2Bubuntu/mnt/c/Users/jwill/Desktop/UNI/2022_SEM2/ads/generic-real-estate-consulting-project-group-42/notebooks/download_ptv.ipynb#W3sdnNjb2RlLXJlbW90ZQ%3D%3D?line=7'>8</a>\u001b[0m \u001b[39mif\u001b[39;00m index \u001b[39m>\u001b[39m \u001b[39mlen\u001b[39m(property_data[\u001b[39m'\u001b[39m\u001b[39mCoordinates\u001b[39m\u001b[39m'\u001b[39m]\u001b[39m.\u001b[39mkeys()):\n\u001b[1;32m      <a href='vscode-notebook-cell://wsl%2Bubuntu/mnt/c/Users/jwill/Desktop/UNI/2022_SEM2/ads/generic-real-estate-consulting-project-group-42/notebooks/download_ptv.ipynb#W3sdnNjb2RlLXJlbW90ZQ%3D%3D?line=8'>9</a>\u001b[0m     \u001b[39mbreak\u001b[39;00m\n\u001b[0;32m---> <a href='vscode-notebook-cell://wsl%2Bubuntu/mnt/c/Users/jwill/Desktop/UNI/2022_SEM2/ads/generic-real-estate-consulting-project-group-42/notebooks/download_ptv.ipynb#W3sdnNjb2RlLXJlbW90ZQ%3D%3D?line=9'>10</a>\u001b[0m backwards \u001b[39m=\u001b[39m \u001b[39mlist\u001b[39m(\u001b[39mmap\u001b[39m(\u001b[39mfloat\u001b[39m,property_data[\u001b[39m'\u001b[39;49m\u001b[39mCoordinates\u001b[39;49m\u001b[39m'\u001b[39;49m][\u001b[39mstr\u001b[39;49m(index)][\u001b[39m1\u001b[39m:\u001b[39m-\u001b[39m\u001b[39m1\u001b[39m]\u001b[39m.\u001b[39msplit(\u001b[39m'\u001b[39m\u001b[39m,\u001b[39m\u001b[39m'\u001b[39m)))\n\u001b[1;32m     <a href='vscode-notebook-cell://wsl%2Bubuntu/mnt/c/Users/jwill/Desktop/UNI/2022_SEM2/ads/generic-real-estate-consulting-project-group-42/notebooks/download_ptv.ipynb#W3sdnNjb2RlLXJlbW90ZQ%3D%3D?line=10'>11</a>\u001b[0m coords \u001b[39m=\u001b[39m [backwards[\u001b[39m1\u001b[39m], backwards[\u001b[39m0\u001b[39m]]\n\u001b[1;32m     <a href='vscode-notebook-cell://wsl%2Bubuntu/mnt/c/Users/jwill/Desktop/UNI/2022_SEM2/ads/generic-real-estate-consulting-project-group-42/notebooks/download_ptv.ipynb#W3sdnNjb2RlLXJlbW90ZQ%3D%3D?line=12'>13</a>\u001b[0m \u001b[39m## query code\u001b[39;00m\n",
      "\u001b[0;31mKeyError\u001b[0m: '7526'"
     ]
    }
   ],
   "source": [
    "token = tokens[0]\n",
    "\n",
    "## set x and y\n",
    "x = len(ptv_dict)\n",
    "y = len(ptv_dict)+100\n",
    "\n",
    "for index in range(x,y):\n",
    "    if index > len(property_data['Coordinates'].keys()):\n",
    "        break\n",
    "    backwards = list(map(float,property_data['Coordinates'][str(index)][1:-1].split(',')))\n",
    "    coords = [backwards[1], backwards[0]]\n",
    "\n",
    "    ## query code\n",
    "    ors = client.Client(key=token)\n",
    "    query = {'request': 'pois',\n",
    "            'geojson': {'type':'Point','coordinates':coords},\n",
    "            'buffer': buffer_size,\n",
    "            'filter_category_ids': category_ids,\n",
    "            'sortby':'distance',\n",
    "            'limit': 4}\n",
    "    features = ors.places(**query)['features']\n",
    "\n",
    "    ## distances - direct meters\n",
    "    distances = []\n",
    "    for poi in features:\n",
    "        distances.append(poi['properties']['distance'])\n",
    "        \n",
    "    ## add information\n",
    "    ptv_dict[str(index)] = distances"
   ]
  },
  {
   "cell_type": "code",
   "execution_count": 230,
   "metadata": {},
   "outputs": [
    {
     "name": "stdout",
     "output_type": "stream",
     "text": [
      "7526\n"
     ]
    }
   ],
   "source": [
    "print(len(ptv_dict))"
   ]
  },
  {
   "cell_type": "code",
   "execution_count": 231,
   "metadata": {},
   "outputs": [],
   "source": [
    "property_data['PTV'] = ptv_dict\n",
    "\n",
    "## write json\n",
    "property_data['PTV'] = ptv_dict\n",
    "json.dump(property_data, open(f\"{output_dir}num_ptv.json\", 'w'))\n",
    "\n",
    "# write csv\n",
    "data = pd.read_json(f\"{output_dir}num_ptv.json\")\n",
    "data.to_csv(f\"{output_dir}num_ptv.csv\")"
   ]
  }
 ],
 "metadata": {
  "kernelspec": {
   "display_name": "Python 3.8.10 64-bit",
   "language": "python",
   "name": "python3"
  },
  "language_info": {
   "codemirror_mode": {
    "name": "ipython",
    "version": 3
   },
   "file_extension": ".py",
   "mimetype": "text/x-python",
   "name": "python",
   "nbconvert_exporter": "python",
   "pygments_lexer": "ipython3",
   "version": "3.8.10"
  },
  "orig_nbformat": 4,
  "vscode": {
   "interpreter": {
    "hash": "916dbcbb3f70747c44a77c7bcd40155683ae19c65e1c03b4aa3499c5328201f1"
   }
  }
 },
 "nbformat": 4,
 "nbformat_minor": 2
}
