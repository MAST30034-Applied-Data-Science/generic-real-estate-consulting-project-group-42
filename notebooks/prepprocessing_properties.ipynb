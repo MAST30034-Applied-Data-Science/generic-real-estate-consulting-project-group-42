{
 "cells": [
  {
   "cell_type": "code",
   "execution_count": 2,
   "metadata": {},
   "outputs": [],
   "source": [
    "import pandas as pd\n",
    "import numpy as np\n",
    "import matplotlib.pyplot as plt\n",
    "import seaborn as sns"
   ]
  },
  {
   "cell_type": "code",
   "execution_count": 91,
   "metadata": {},
   "outputs": [
    {
     "data": {
      "text/html": [
       "<div>\n",
       "<style scoped>\n",
       "    .dataframe tbody tr th:only-of-type {\n",
       "        vertical-align: middle;\n",
       "    }\n",
       "\n",
       "    .dataframe tbody tr th {\n",
       "        vertical-align: top;\n",
       "    }\n",
       "\n",
       "    .dataframe thead th {\n",
       "        text-align: right;\n",
       "    }\n",
       "</style>\n",
       "<table border=\"1\" class=\"dataframe\">\n",
       "  <thead>\n",
       "    <tr style=\"text-align: right;\">\n",
       "      <th></th>\n",
       "      <th>Name</th>\n",
       "      <th>Cost</th>\n",
       "      <th>Coordinates</th>\n",
       "      <th>Bed</th>\n",
       "      <th>Bath</th>\n",
       "      <th>Parking</th>\n",
       "      <th>Property_Type</th>\n",
       "      <th>Agency</th>\n",
       "      <th>Postcode</th>\n",
       "    </tr>\n",
       "  </thead>\n",
       "  <tbody>\n",
       "    <tr>\n",
       "      <th>0</th>\n",
       "      <td>708/228 A'BECKETT STREET Melbourne VIC 3000</td>\n",
       "      <td>500</td>\n",
       "      <td>[-37.8101911, 144.9566043]</td>\n",
       "      <td>2</td>\n",
       "      <td>1</td>\n",
       "      <td>−</td>\n",
       "      <td>Apartment / Unit / Flat</td>\n",
       "      <td>Elite Real Estate</td>\n",
       "      <td>3000.0</td>\n",
       "    </tr>\n",
       "    <tr>\n",
       "      <th>1</th>\n",
       "      <td>4/180 Little Collins Street Melbourne VIC 3000</td>\n",
       "      <td>500</td>\n",
       "      <td>[-37.8138601, 144.9679067]</td>\n",
       "      <td>1</td>\n",
       "      <td>1</td>\n",
       "      <td>−</td>\n",
       "      <td>Apartment / Unit / Flat</td>\n",
       "      <td>Dingle Partners</td>\n",
       "      <td>3000.0</td>\n",
       "    </tr>\n",
       "    <tr>\n",
       "      <th>2</th>\n",
       "      <td>1605/565 Flinders Street Melbourne VIC 3000</td>\n",
       "      <td>500</td>\n",
       "      <td>[-37.8210586, 144.9559072]</td>\n",
       "      <td>2</td>\n",
       "      <td>2</td>\n",
       "      <td>1</td>\n",
       "      <td>Apartment / Unit / Flat</td>\n",
       "      <td>Dingle Partners</td>\n",
       "      <td>3000.0</td>\n",
       "    </tr>\n",
       "    <tr>\n",
       "      <th>3</th>\n",
       "      <td>612/408 Lonsdale Street Melbourne VIC 3000</td>\n",
       "      <td>350</td>\n",
       "      <td>[-37.8125979, 144.9604012]</td>\n",
       "      <td>1</td>\n",
       "      <td>1</td>\n",
       "      <td>−</td>\n",
       "      <td>Apartment / Unit / Flat</td>\n",
       "      <td>Gotham Property</td>\n",
       "      <td>3000.0</td>\n",
       "    </tr>\n",
       "    <tr>\n",
       "      <th>4</th>\n",
       "      <td>2108/288 Spencer Street Melbourne VIC 3000</td>\n",
       "      <td>350</td>\n",
       "      <td>[-37.813775, 144.9520948]</td>\n",
       "      <td>1</td>\n",
       "      <td>1</td>\n",
       "      <td>−</td>\n",
       "      <td>Apartment / Unit / Flat</td>\n",
       "      <td>Motion Property</td>\n",
       "      <td>3000.0</td>\n",
       "    </tr>\n",
       "  </tbody>\n",
       "</table>\n",
       "</div>"
      ],
      "text/plain": [
       "                                             Name Cost  \\\n",
       "0     708/228 A'BECKETT STREET Melbourne VIC 3000  500   \n",
       "1  4/180 Little Collins Street Melbourne VIC 3000  500   \n",
       "2     1605/565 Flinders Street Melbourne VIC 3000  500   \n",
       "3      612/408 Lonsdale Street Melbourne VIC 3000  350   \n",
       "4      2108/288 Spencer Street Melbourne VIC 3000  350   \n",
       "\n",
       "                  Coordinates Bed Bath Parking            Property_Type  \\\n",
       "0  [-37.8101911, 144.9566043]   2    1       −  Apartment / Unit / Flat   \n",
       "1  [-37.8138601, 144.9679067]   1    1       −  Apartment / Unit / Flat   \n",
       "2  [-37.8210586, 144.9559072]   2    2       1  Apartment / Unit / Flat   \n",
       "3  [-37.8125979, 144.9604012]   1    1       −  Apartment / Unit / Flat   \n",
       "4   [-37.813775, 144.9520948]   1    1       −  Apartment / Unit / Flat   \n",
       "\n",
       "               Agency  Postcode  \n",
       "0   Elite Real Estate    3000.0  \n",
       "1     Dingle Partners    3000.0  \n",
       "2     Dingle Partners    3000.0  \n",
       "3     Gotham Property    3000.0  \n",
       "4     Motion Property    3000.0  "
      ]
     },
     "execution_count": 91,
     "metadata": {},
     "output_type": "execute_result"
    }
   ],
   "source": [
    "properties = pd.read_csv(\"../data/raw/property_data.csv\", index_col=0)\n",
    "income = pd.read_csv(\"../data/raw/external/vic_income.csv\", index_col=0)\n",
    "properties.head()"
   ]
  },
  {
   "cell_type": "markdown",
   "metadata": {},
   "source": [
    "## Preprocessing\n",
    "- 1 property_type is actually a Carspace\n",
    "- No bathrooms actually have 1 bathroom"
   ]
  },
  {
   "cell_type": "code",
   "execution_count": 92,
   "metadata": {},
   "outputs": [
    {
     "name": "stdout",
     "output_type": "stream",
     "text": [
      "45\n",
      "4\n",
      "866\n",
      "24\n"
     ]
    }
   ],
   "source": [
    "nan_bed = properties[properties['Bed'] == '−']\n",
    "nan_bath = properties[properties['Bath'] == '−']\n",
    "nan_park = properties[properties['Parking'] == '−']\n",
    "nan_postcode = properties[properties['Postcode'].isna()]\n",
    "print(len(nan_bed))\n",
    "print(len(nan_bath))\n",
    "print(len(nan_park))\n",
    "print(len(nan_postcode))"
   ]
  },
  {
   "cell_type": "code",
   "execution_count": 93,
   "metadata": {},
   "outputs": [],
   "source": [
    "# reformat costs without commas\n",
    "properties['Cost'] = properties['Cost'].str.replace(',', '')\n",
    "\n",
    "# change null values to numeric zero\n",
    "properties['Bed'] = properties['Bed'].replace('−', 0)\n",
    "properties['Bath'] = properties['Bath'].replace('−', 1)\n",
    "properties['Parking'] = properties['Parking'].replace('−', 0)"
   ]
  },
  {
   "cell_type": "code",
   "execution_count": 94,
   "metadata": {},
   "outputs": [],
   "source": [
    "# find row/s with invalid costs and remove\n",
    "space_count = properties['Cost'].str.count(' ')\n",
    "invalid_rows = space_count[space_count != 0]\n",
    "invalid_row = invalid_rows.index[0]\n",
    "properties = properties[properties.index != invalid_row]\n",
    "\n",
    "# zero cost properties\n",
    "properties = properties[properties['Cost'] != 0]\n",
    "\n",
    "# Null postcodes are invalid rows\n",
    "properties = properties[~properties['Postcode'].isna() ]"
   ]
  },
  {
   "cell_type": "code",
   "execution_count": 99,
   "metadata": {},
   "outputs": [
    {
     "data": {
      "text/html": [
       "<div>\n",
       "<style scoped>\n",
       "    .dataframe tbody tr th:only-of-type {\n",
       "        vertical-align: middle;\n",
       "    }\n",
       "\n",
       "    .dataframe tbody tr th {\n",
       "        vertical-align: top;\n",
       "    }\n",
       "\n",
       "    .dataframe thead th {\n",
       "        text-align: right;\n",
       "    }\n",
       "</style>\n",
       "<table border=\"1\" class=\"dataframe\">\n",
       "  <thead>\n",
       "    <tr style=\"text-align: right;\">\n",
       "      <th></th>\n",
       "      <th>Name</th>\n",
       "      <th>Cost</th>\n",
       "      <th>Coordinates</th>\n",
       "      <th>Bed</th>\n",
       "      <th>Bath</th>\n",
       "      <th>Parking</th>\n",
       "      <th>Property_Type</th>\n",
       "      <th>Agency</th>\n",
       "      <th>Postcode</th>\n",
       "    </tr>\n",
       "  </thead>\n",
       "  <tbody>\n",
       "    <tr>\n",
       "      <th>0</th>\n",
       "      <td>708/228 A'BECKETT STREET Melbourne VIC 3000</td>\n",
       "      <td>500.0</td>\n",
       "      <td>[-37.8101911, 144.9566043]</td>\n",
       "      <td>2</td>\n",
       "      <td>1</td>\n",
       "      <td>0</td>\n",
       "      <td>Apartment / Unit / Flat</td>\n",
       "      <td>Elite Real Estate</td>\n",
       "      <td>3000</td>\n",
       "    </tr>\n",
       "    <tr>\n",
       "      <th>1</th>\n",
       "      <td>4/180 Little Collins Street Melbourne VIC 3000</td>\n",
       "      <td>500.0</td>\n",
       "      <td>[-37.8138601, 144.9679067]</td>\n",
       "      <td>1</td>\n",
       "      <td>1</td>\n",
       "      <td>0</td>\n",
       "      <td>Apartment / Unit / Flat</td>\n",
       "      <td>Dingle Partners</td>\n",
       "      <td>3000</td>\n",
       "    </tr>\n",
       "    <tr>\n",
       "      <th>2</th>\n",
       "      <td>1605/565 Flinders Street Melbourne VIC 3000</td>\n",
       "      <td>500.0</td>\n",
       "      <td>[-37.8210586, 144.9559072]</td>\n",
       "      <td>2</td>\n",
       "      <td>2</td>\n",
       "      <td>1</td>\n",
       "      <td>Apartment / Unit / Flat</td>\n",
       "      <td>Dingle Partners</td>\n",
       "      <td>3000</td>\n",
       "    </tr>\n",
       "    <tr>\n",
       "      <th>3</th>\n",
       "      <td>612/408 Lonsdale Street Melbourne VIC 3000</td>\n",
       "      <td>350.0</td>\n",
       "      <td>[-37.8125979, 144.9604012]</td>\n",
       "      <td>1</td>\n",
       "      <td>1</td>\n",
       "      <td>0</td>\n",
       "      <td>Apartment / Unit / Flat</td>\n",
       "      <td>Gotham Property</td>\n",
       "      <td>3000</td>\n",
       "    </tr>\n",
       "    <tr>\n",
       "      <th>4</th>\n",
       "      <td>2108/288 Spencer Street Melbourne VIC 3000</td>\n",
       "      <td>350.0</td>\n",
       "      <td>[-37.813775, 144.9520948]</td>\n",
       "      <td>1</td>\n",
       "      <td>1</td>\n",
       "      <td>0</td>\n",
       "      <td>Apartment / Unit / Flat</td>\n",
       "      <td>Motion Property</td>\n",
       "      <td>3000</td>\n",
       "    </tr>\n",
       "  </tbody>\n",
       "</table>\n",
       "</div>"
      ],
      "text/plain": [
       "                                             Name   Cost  \\\n",
       "0     708/228 A'BECKETT STREET Melbourne VIC 3000  500.0   \n",
       "1  4/180 Little Collins Street Melbourne VIC 3000  500.0   \n",
       "2     1605/565 Flinders Street Melbourne VIC 3000  500.0   \n",
       "3      612/408 Lonsdale Street Melbourne VIC 3000  350.0   \n",
       "4      2108/288 Spencer Street Melbourne VIC 3000  350.0   \n",
       "\n",
       "                  Coordinates  Bed  Bath  Parking            Property_Type  \\\n",
       "0  [-37.8101911, 144.9566043]    2     1        0  Apartment / Unit / Flat   \n",
       "1  [-37.8138601, 144.9679067]    1     1        0  Apartment / Unit / Flat   \n",
       "2  [-37.8210586, 144.9559072]    2     2        1  Apartment / Unit / Flat   \n",
       "3  [-37.8125979, 144.9604012]    1     1        0  Apartment / Unit / Flat   \n",
       "4   [-37.813775, 144.9520948]    1     1        0  Apartment / Unit / Flat   \n",
       "\n",
       "               Agency Postcode  \n",
       "0   Elite Real Estate     3000  \n",
       "1     Dingle Partners     3000  \n",
       "2     Dingle Partners     3000  \n",
       "3     Gotham Property     3000  \n",
       "4     Motion Property     3000  "
      ]
     },
     "execution_count": 99,
     "metadata": {},
     "output_type": "execute_result"
    }
   ],
   "source": [
    "# Convert cost to float type\n",
    "properties['Cost'] = properties['Cost'].astype(float)\n",
    "properties['Bed'] = properties['Bed'].astype(int)\n",
    "properties['Bath'] = properties['Bath'].astype(int)\n",
    "properties['Parking'] = properties['Parking'].astype(int)\n",
    "properties['Postcode'] = properties['Postcode'].astype(int).astype(str)\n",
    "\n",
    "properties.head()"
   ]
  },
  {
   "cell_type": "code",
   "execution_count": 102,
   "metadata": {},
   "outputs": [
    {
     "data": {
      "text/plain": [
       "(array([2.220e+02, 1.200e+01, 1.120e+02, 4.250e+02, 1.474e+03, 2.108e+03,\n",
       "        1.349e+03, 6.360e+02, 4.360e+02, 2.110e+02, 1.380e+02, 9.300e+01,\n",
       "        5.900e+01, 4.600e+01, 2.000e+01, 2.800e+01, 2.300e+01, 1.500e+01,\n",
       "        2.700e+01, 5.000e+00, 1.300e+01, 1.100e+01, 6.000e+00, 5.000e+00,\n",
       "        6.000e+00, 7.000e+00, 2.000e+00, 4.000e+00, 2.000e+00, 3.000e+00,\n",
       "        1.000e+00, 1.000e+01, 1.000e+00, 1.000e+00, 0.000e+00, 3.000e+00,\n",
       "        0.000e+00, 3.000e+00, 0.000e+00, 0.000e+00, 0.000e+00, 0.000e+00,\n",
       "        0.000e+00, 4.000e+00, 0.000e+00, 0.000e+00, 1.000e+00, 1.000e+00,\n",
       "        1.000e+00, 1.000e+00]),\n",
       " array([   0.,   80.,  160.,  240.,  320.,  400.,  480.,  560.,  640.,\n",
       "         720.,  800.,  880.,  960., 1040., 1120., 1200., 1280., 1360.,\n",
       "        1440., 1520., 1600., 1680., 1760., 1840., 1920., 2000., 2080.,\n",
       "        2160., 2240., 2320., 2400., 2480., 2560., 2640., 2720., 2800.,\n",
       "        2880., 2960., 3040., 3120., 3200., 3280., 3360., 3440., 3520.,\n",
       "        3600., 3680., 3760., 3840., 3920., 4000.]),\n",
       " <BarContainer object of 50 artists>)"
      ]
     },
     "execution_count": 102,
     "metadata": {},
     "output_type": "execute_result"
    },
    {
     "data": {
      "image/png": "[encoded data removed]",
      "text/plain": [
       "<Figure size 648x360 with 1 Axes>"
      ]
     },
     "metadata": {
      "needs_background": "light"
     },
     "output_type": "display_data"
    }
   ],
   "source": [
    "# Rental Cost Distribution\n",
    "plt.figure(figsize = (9, 5))\n",
    "plt.hist(properties['Cost'], range=(0, 4000), bins=50)"
   ]
  },
  {
   "cell_type": "code",
   "execution_count": 100,
   "metadata": {},
   "outputs": [
    {
     "data": {
      "text/plain": [
       "<AxesSubplot:>"
      ]
     },
     "execution_count": 100,
     "metadata": {},
     "output_type": "execute_result"
    },
    {
     "data": {
      "image/png": "[encoded data removed]",
      "text/plain": [
       "<Figure size 648x576 with 2 Axes>"
      ]
     },
     "metadata": {
      "needs_background": "light"
     },
     "output_type": "display_data"
    }
   ],
   "source": [
    "corrmat = properties.corr()\n",
    "f, ax = plt.subplots(figsize =(9, 8))\n",
    "sns.heatmap(corrmat, ax = ax, cmap =\"YlGnBu\", linewidths = 0.1)"
   ]
  },
  {
   "cell_type": "code",
   "execution_count": 101,
   "metadata": {},
   "outputs": [],
   "source": [
    "properties.to_csv('../data/curated/properties_processed.csv')"
   ]
  }
 ],
 "metadata": {
  "kernelspec": {
   "display_name": "Python 3.8.2 ('MAST30034env': venv)",
   "language": "python",
   "name": "python3"
  },
  "language_info": {
   "codemirror_mode": {
    "name": "ipython",
    "version": 3
   },
   "file_extension": ".py",
   "mimetype": "text/x-python",
   "name": "python",
   "nbconvert_exporter": "python",
   "pygments_lexer": "ipython3",
   "version": "3.8.2"
  },
  "orig_nbformat": 4,
  "vscode": {
   "interpreter": {
    "hash": "a5732c9d997a6f78fcb86dba9b0f86e5cc814f598a215f7fa9c9d5c7c7ffa066"
   }
  }
 },
 "nbformat": 4,
 "nbformat_minor": 2
}
