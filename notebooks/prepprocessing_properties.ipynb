{
 "cells": [
  {
   "cell_type": "code",
   "execution_count": 103,
   "metadata": {},
   "outputs": [],
   "source": [
    "import pandas as pd\n",
    "import numpy as np\n",
    "import matplotlib.pyplot as plt\n",
    "import seaborn as sns"
   ]
  },
  {
   "cell_type": "code",
   "execution_count": 91,
   "metadata": {},
   "outputs": [
    {
     "data": {
      "text/html": [
       "<div>\n",
       "<style scoped>\n",
       "    .dataframe tbody tr th:only-of-type {\n",
       "        vertical-align: middle;\n",
       "    }\n",
       "\n",
       "    .dataframe tbody tr th {\n",
       "        vertical-align: top;\n",
       "    }\n",
       "\n",
       "    .dataframe thead th {\n",
       "        text-align: right;\n",
       "    }\n",
       "</style>\n",
       "<table border=\"1\" class=\"dataframe\">\n",
       "  <thead>\n",
       "    <tr style=\"text-align: right;\">\n",
       "      <th></th>\n",
       "      <th>Name</th>\n",
       "      <th>Cost</th>\n",
       "      <th>Coordinates</th>\n",
       "      <th>Bed</th>\n",
       "      <th>Bath</th>\n",
       "      <th>Parking</th>\n",
       "      <th>Property_Type</th>\n",
       "      <th>Agency</th>\n",
       "      <th>Postcode</th>\n",
       "    </tr>\n",
       "  </thead>\n",
       "  <tbody>\n",
       "    <tr>\n",
       "      <th>0</th>\n",
       "      <td>708/228 A'BECKETT STREET Melbourne VIC 3000</td>\n",
       "      <td>500</td>\n",
       "      <td>[-37.8101911, 144.9566043]</td>\n",
       "      <td>2</td>\n",
       "      <td>1</td>\n",
       "      <td>−</td>\n",
       "      <td>Apartment / Unit / Flat</td>\n",
       "      <td>Elite Real Estate</td>\n",
       "      <td>3000.0</td>\n",
       "    </tr>\n",
       "    <tr>\n",
       "      <th>1</th>\n",
       "      <td>4/180 Little Collins Street Melbourne VIC 3000</td>\n",
       "      <td>500</td>\n",
       "      <td>[-37.8138601, 144.9679067]</td>\n",
       "      <td>1</td>\n",
       "      <td>1</td>\n",
       "      <td>−</td>\n",
       "      <td>Apartment / Unit / Flat</td>\n",
       "      <td>Dingle Partners</td>\n",
       "      <td>3000.0</td>\n",
       "    </tr>\n",
       "    <tr>\n",
       "      <th>2</th>\n",
       "      <td>1605/565 Flinders Street Melbourne VIC 3000</td>\n",
       "      <td>500</td>\n",
       "      <td>[-37.8210586, 144.9559072]</td>\n",
       "      <td>2</td>\n",
       "      <td>2</td>\n",
       "      <td>1</td>\n",
       "      <td>Apartment / Unit / Flat</td>\n",
       "      <td>Dingle Partners</td>\n",
       "      <td>3000.0</td>\n",
       "    </tr>\n",
       "    <tr>\n",
       "      <th>3</th>\n",
       "      <td>612/408 Lonsdale Street Melbourne VIC 3000</td>\n",
       "      <td>350</td>\n",
       "      <td>[-37.8125979, 144.9604012]</td>\n",
       "      <td>1</td>\n",
       "      <td>1</td>\n",
       "      <td>−</td>\n",
       "      <td>Apartment / Unit / Flat</td>\n",
       "      <td>Gotham Property</td>\n",
       "      <td>3000.0</td>\n",
       "    </tr>\n",
       "    <tr>\n",
       "      <th>4</th>\n",
       "      <td>2108/288 Spencer Street Melbourne VIC 3000</td>\n",
       "      <td>350</td>\n",
       "      <td>[-37.813775, 144.9520948]</td>\n",
       "      <td>1</td>\n",
       "      <td>1</td>\n",
       "      <td>−</td>\n",
       "      <td>Apartment / Unit / Flat</td>\n",
       "      <td>Motion Property</td>\n",
       "      <td>3000.0</td>\n",
       "    </tr>\n",
       "  </tbody>\n",
       "</table>\n",
       "</div>"
      ],
      "text/plain": [
       "                                             Name Cost  \\\n",
       "0     708/228 A'BECKETT STREET Melbourne VIC 3000  500   \n",
       "1  4/180 Little Collins Street Melbourne VIC 3000  500   \n",
       "2     1605/565 Flinders Street Melbourne VIC 3000  500   \n",
       "3      612/408 Lonsdale Street Melbourne VIC 3000  350   \n",
       "4      2108/288 Spencer Street Melbourne VIC 3000  350   \n",
       "\n",
       "                  Coordinates Bed Bath Parking            Property_Type  \\\n",
       "0  [-37.8101911, 144.9566043]   2    1       −  Apartment / Unit / Flat   \n",
       "1  [-37.8138601, 144.9679067]   1    1       −  Apartment / Unit / Flat   \n",
       "2  [-37.8210586, 144.9559072]   2    2       1  Apartment / Unit / Flat   \n",
       "3  [-37.8125979, 144.9604012]   1    1       −  Apartment / Unit / Flat   \n",
       "4   [-37.813775, 144.9520948]   1    1       −  Apartment / Unit / Flat   \n",
       "\n",
       "               Agency  Postcode  \n",
       "0   Elite Real Estate    3000.0  \n",
       "1     Dingle Partners    3000.0  \n",
       "2     Dingle Partners    3000.0  \n",
       "3     Gotham Property    3000.0  \n",
       "4     Motion Property    3000.0  "
      ]
     },
     "execution_count": 91,
     "metadata": {},
     "output_type": "execute_result"
    }
   ],
   "source": [
    "properties = pd.read_csv(\"../data/raw/property_data.csv\", index_col=0)\n",
    "properties.head()"
   ]
  },
  {
   "cell_type": "markdown",
   "metadata": {},
   "source": [
    "## Preprocessing\n",
    "- 1 property_type is actually a Carspace\n",
    "- No bathrooms actually have 1 bathroom"
   ]
  },
  {
   "cell_type": "code",
   "execution_count": 92,
   "metadata": {},
   "outputs": [
    {
     "name": "stdout",
     "output_type": "stream",
     "text": [
      "45\n",
      "4\n",
      "866\n",
      "24\n"
     ]
    }
   ],
   "source": [
    "nan_bed = properties[properties['Bed'] == '−']\n",
    "nan_bath = properties[properties['Bath'] == '−']\n",
    "nan_park = properties[properties['Parking'] == '−']\n",
    "nan_postcode = properties[properties['Postcode'].isna()]\n",
    "print(len(nan_bed))\n",
    "print(len(nan_bath))\n",
    "print(len(nan_park))\n",
    "print(len(nan_postcode))"
   ]
  },
  {
   "cell_type": "code",
   "execution_count": 93,
   "metadata": {},
   "outputs": [],
   "source": [
    "# reformat costs without commas\n",
    "properties['Cost'] = properties['Cost'].str.replace(',', '')\n",
    "\n",
    "# change null values to numeric zero\n",
    "properties['Bed'] = properties['Bed'].replace('−', 0)\n",
    "properties['Bath'] = properties['Bath'].replace('−', 1)\n",
    "properties['Parking'] = properties['Parking'].replace('−', 0)"
   ]
  },
  {
   "cell_type": "code",
   "execution_count": 94,
   "metadata": {},
   "outputs": [],
   "source": [
    "# find row/s with invalid costs and remove\n",
    "space_count = properties['Cost'].str.count(' ')\n",
    "invalid_rows = space_count[space_count != 0]\n",
    "invalid_row = invalid_rows.index[0]\n",
    "properties = properties[properties.index != invalid_row]\n",
    "\n",
    "# zero cost properties\n",
    "properties = properties[properties['Cost'] != 0]\n",
    "\n",
    "# Null postcodes are invalid rows\n",
    "properties = properties[~properties['Postcode'].isna() ]"
   ]
  },
  {
   "cell_type": "code",
   "execution_count": 99,
   "metadata": {},
   "outputs": [
    {
     "data": {
      "text/html": [
       "<div>\n",
       "<style scoped>\n",
       "    .dataframe tbody tr th:only-of-type {\n",
       "        vertical-align: middle;\n",
       "    }\n",
       "\n",
       "    .dataframe tbody tr th {\n",
       "        vertical-align: top;\n",
       "    }\n",
       "\n",
       "    .dataframe thead th {\n",
       "        text-align: right;\n",
       "    }\n",
       "</style>\n",
       "<table border=\"1\" class=\"dataframe\">\n",
       "  <thead>\n",
       "    <tr style=\"text-align: right;\">\n",
       "      <th></th>\n",
       "      <th>Name</th>\n",
       "      <th>Cost</th>\n",
       "      <th>Coordinates</th>\n",
       "      <th>Bed</th>\n",
       "      <th>Bath</th>\n",
       "      <th>Parking</th>\n",
       "      <th>Property_Type</th>\n",
       "      <th>Agency</th>\n",
       "      <th>Postcode</th>\n",
       "    </tr>\n",
       "  </thead>\n",
       "  <tbody>\n",
       "    <tr>\n",
       "      <th>0</th>\n",
       "      <td>708/228 A'BECKETT STREET Melbourne VIC 3000</td>\n",
       "      <td>500.0</td>\n",
       "      <td>[-37.8101911, 144.9566043]</td>\n",
       "      <td>2</td>\n",
       "      <td>1</td>\n",
       "      <td>0</td>\n",
       "      <td>Apartment / Unit / Flat</td>\n",
       "      <td>Elite Real Estate</td>\n",
       "      <td>3000</td>\n",
       "    </tr>\n",
       "    <tr>\n",
       "      <th>1</th>\n",
       "      <td>4/180 Little Collins Street Melbourne VIC 3000</td>\n",
       "      <td>500.0</td>\n",
       "      <td>[-37.8138601, 144.9679067]</td>\n",
       "      <td>1</td>\n",
       "      <td>1</td>\n",
       "      <td>0</td>\n",
       "      <td>Apartment / Unit / Flat</td>\n",
       "      <td>Dingle Partners</td>\n",
       "      <td>3000</td>\n",
       "    </tr>\n",
       "    <tr>\n",
       "      <th>2</th>\n",
       "      <td>1605/565 Flinders Street Melbourne VIC 3000</td>\n",
       "      <td>500.0</td>\n",
       "      <td>[-37.8210586, 144.9559072]</td>\n",
       "      <td>2</td>\n",
       "      <td>2</td>\n",
       "      <td>1</td>\n",
       "      <td>Apartment / Unit / Flat</td>\n",
       "      <td>Dingle Partners</td>\n",
       "      <td>3000</td>\n",
       "    </tr>\n",
       "    <tr>\n",
       "      <th>3</th>\n",
       "      <td>612/408 Lonsdale Street Melbourne VIC 3000</td>\n",
       "      <td>350.0</td>\n",
       "      <td>[-37.8125979, 144.9604012]</td>\n",
       "      <td>1</td>\n",
       "      <td>1</td>\n",
       "      <td>0</td>\n",
       "      <td>Apartment / Unit / Flat</td>\n",
       "      <td>Gotham Property</td>\n",
       "      <td>3000</td>\n",
       "    </tr>\n",
       "    <tr>\n",
       "      <th>4</th>\n",
       "      <td>2108/288 Spencer Street Melbourne VIC 3000</td>\n",
       "      <td>350.0</td>\n",
       "      <td>[-37.813775, 144.9520948]</td>\n",
       "      <td>1</td>\n",
       "      <td>1</td>\n",
       "      <td>0</td>\n",
       "      <td>Apartment / Unit / Flat</td>\n",
       "      <td>Motion Property</td>\n",
       "      <td>3000</td>\n",
       "    </tr>\n",
       "  </tbody>\n",
       "</table>\n",
       "</div>"
      ],
      "text/plain": [
       "                                             Name   Cost  \\\n",
       "0     708/228 A'BECKETT STREET Melbourne VIC 3000  500.0   \n",
       "1  4/180 Little Collins Street Melbourne VIC 3000  500.0   \n",
       "2     1605/565 Flinders Street Melbourne VIC 3000  500.0   \n",
       "3      612/408 Lonsdale Street Melbourne VIC 3000  350.0   \n",
       "4      2108/288 Spencer Street Melbourne VIC 3000  350.0   \n",
       "\n",
       "                  Coordinates  Bed  Bath  Parking            Property_Type  \\\n",
       "0  [-37.8101911, 144.9566043]    2     1        0  Apartment / Unit / Flat   \n",
       "1  [-37.8138601, 144.9679067]    1     1        0  Apartment / Unit / Flat   \n",
       "2  [-37.8210586, 144.9559072]    2     2        1  Apartment / Unit / Flat   \n",
       "3  [-37.8125979, 144.9604012]    1     1        0  Apartment / Unit / Flat   \n",
       "4   [-37.813775, 144.9520948]    1     1        0  Apartment / Unit / Flat   \n",
       "\n",
       "               Agency Postcode  \n",
       "0   Elite Real Estate     3000  \n",
       "1     Dingle Partners     3000  \n",
       "2     Dingle Partners     3000  \n",
       "3     Gotham Property     3000  \n",
       "4     Motion Property     3000  "
      ]
     },
     "execution_count": 99,
     "metadata": {},
     "output_type": "execute_result"
    }
   ],
   "source": [
    "# Convert cost to float type\n",
    "properties['Cost'] = properties['Cost'].astype(float)\n",
    "properties['Bed'] = properties['Bed'].astype(int)\n",
    "properties['Bath'] = properties['Bath'].astype(int)\n",
    "properties['Parking'] = properties['Parking'].astype(int)\n",
    "properties['Postcode'] = properties['Postcode'].astype(int).astype(str)\n",
    "\n",
    "properties.head()"
   ]
  },
  {
   "cell_type": "code",
   "execution_count": 106,
   "metadata": {},
   "outputs": [
    {
     "data": {
      "text/plain": [
       "3213    645000.0\n",
       "7355     47000.0\n",
       "425      39000.0\n",
       "4576     39000.0\n",
       "7338      5000.0\n",
       "7170      4000.0\n",
       "5383      3850.0\n",
       "5268      3775.0\n",
       "215       3750.0\n",
       "4397      3500.0\n",
       "Name: Cost, dtype: float64"
      ]
     },
     "execution_count": 106,
     "metadata": {},
     "output_type": "execute_result"
    }
   ],
   "source": [
    "properties['Cost'].sort_values(ascending=False).head(10)"
   ]
  },
  {
   "cell_type": "code",
   "execution_count": 107,
   "metadata": {},
   "outputs": [
    {
     "data": {
      "text/plain": [
       "7338    5000.0\n",
       "7170    4000.0\n",
       "5383    3850.0\n",
       "5268    3775.0\n",
       "215     3750.0\n",
       "4397    3500.0\n",
       "3387    3500.0\n",
       "2838    3500.0\n",
       "2530    3500.0\n",
       "4456    3000.0\n",
       "Name: Cost, dtype: float64"
      ]
     },
     "execution_count": 107,
     "metadata": {},
     "output_type": "execute_result"
    }
   ],
   "source": [
    "properties = properties[properties['Cost'] <= 20000]"
   ]
  },
  {
   "cell_type": "code",
   "execution_count": 110,
   "metadata": {},
   "outputs": [],
   "source": [
    "properties.to_csv('../data/curated/properties_processed.csv')"
   ]
  }
 ],
 "metadata": {
  "kernelspec": {
   "display_name": "Python 3.8.2 ('MAST30034env': venv)",
   "language": "python",
   "name": "python3"
  },
  "language_info": {
   "codemirror_mode": {
    "name": "ipython",
    "version": 3
   },
   "file_extension": ".py",
   "mimetype": "text/x-python",
   "name": "python",
   "nbconvert_exporter": "python",
   "pygments_lexer": "ipython3",
   "version": "3.8.2"
  },
  "orig_nbformat": 4,
  "vscode": {
   "interpreter": {
    "hash": "a5732c9d997a6f78fcb86dba9b0f86e5cc814f598a215f7fa9c9d5c7c7ffa066"
   }
  }
 },
 "nbformat": 4,
 "nbformat_minor": 2
}
