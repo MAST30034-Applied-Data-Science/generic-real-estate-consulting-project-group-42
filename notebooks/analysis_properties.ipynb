{
 "cells": [
  {
   "cell_type": "code",
   "execution_count": 1,
   "metadata": {},
   "outputs": [],
   "source": [
    "import pandas as pd\n",
    "import seaborn as sns\n",
    "import matplotlib.pyplot as plt\n",
    "\n",
    "import statsmodels.api as sm\n",
    "from statsmodels.formula.api import ols\n",
    "\n",
    "import geopandas as gpd"
   ]
  },
  {
   "cell_type": "code",
   "execution_count": 10,
   "metadata": {},
   "outputs": [],
   "source": [
    "properties = pd.read_csv(\"../data/curated/properties_processed.csv\", index_col=0)\n",
    "income = pd.read_csv(\"../data/raw/external/vic_income.csv\", index_col=0)"
   ]
  },
  {
   "cell_type": "code",
   "execution_count": 11,
   "metadata": {},
   "outputs": [],
   "source": [
    "properties['Postcode'] = properties['Postcode'].astype(str)"
   ]
  },
  {
   "cell_type": "code",
   "execution_count": 12,
   "metadata": {},
   "outputs": [
    {
     "data": {
      "image/png": "[encoded data removed]",
      "text/plain": [
       "<Figure size 648x360 with 1 Axes>"
      ]
     },
     "metadata": {
      "needs_background": "light"
     },
     "output_type": "display_data"
    }
   ],
   "source": [
    "# Rental Cost Distribution\n",
    "plt.figure(figsize = (9, 5))\n",
    "plt.title('Rental Cost Distribution')\n",
    "plt.hist(properties['Cost'], bins=100)\n",
    "plt.savefig('../plots/cost_distribution.jpg')\n",
    "plt.show()"
   ]
  },
  {
   "cell_type": "code",
   "execution_count": 13,
   "metadata": {},
   "outputs": [
    {
     "data": {
      "image/png": "[encoded data removed]",
      "text/plain": [
       "<Figure size 648x576 with 2 Axes>"
      ]
     },
     "metadata": {
      "needs_background": "light"
     },
     "output_type": "display_data"
    }
   ],
   "source": [
    "# get correlation of numeric attributes with cost\n",
    "corrmat = properties.corr()\n",
    "f, ax = plt.subplots(figsize =(9, 8))\n",
    "sns.heatmap(corrmat, ax = ax, cmap =\"YlGnBu\", linewidths = 0.1)\n",
    "\n",
    "plt.title('Pearson Correlation Matrix')\n",
    "plt.savefig('../plots/correlation.jpg')\n",
    "plt.show()"
   ]
  },
  {
   "cell_type": "code",
   "execution_count": 14,
   "metadata": {},
   "outputs": [
    {
     "name": "stdout",
     "output_type": "stream",
     "text": [
      "               df        sum_sq        mean_sq       F  PR(>F)\n",
      "Postcode    409.0  2.145503e+08  524572.921554  9.5141     0.0\n",
      "Residual  12817.0  7.066829e+08   55136.370836     NaN     NaN\n",
      "                    df        sum_sq       mean_sq          F        PR(>F)\n",
      "Property_Type     13.0  3.327136e+07  2.559335e+06  38.083275  1.225189e-95\n",
      "Residual       13213.0  8.879618e+08  6.720365e+04        NaN           NaN\n",
      "               df        sum_sq        mean_sq         F  PR(>F)\n",
      "Agency     1385.0  3.449290e+08  249046.232197  5.117014     0.0\n",
      "Residual  11841.0  5.763042e+08   48670.227036       NaN     NaN\n"
     ]
    }
   ],
   "source": [
    "# test for relationship with categorical variables using one-way ANOVA\n",
    "categoricals = ['Postcode', 'Property_Type', 'Agency']\n",
    "\n",
    "for c in categoricals:\n",
    "    model = ols('Cost ~ '+c, data = properties).fit() # Oridnary least squares\n",
    "    result_anova = sm.stats.anova_lm(model) # ANOVA Test\n",
    "    print(result_anova)"
   ]
  },
  {
   "cell_type": "markdown",
   "metadata": {},
   "source": [
    "All p values are less than 0.05 so all attributes are significant.\n",
    "\n",
    "## Income Data"
   ]
  },
  {
   "cell_type": "code",
   "execution_count": 8,
   "metadata": {},
   "outputs": [
    {
     "data": {
      "text/html": [
       "<div>\n",
       "<style scoped>\n",
       "    .dataframe tbody tr th:only-of-type {\n",
       "        vertical-align: middle;\n",
       "    }\n",
       "\n",
       "    .dataframe tbody tr th {\n",
       "        vertical-align: top;\n",
       "    }\n",
       "\n",
       "    .dataframe thead th {\n",
       "        text-align: right;\n",
       "    }\n",
       "</style>\n",
       "<table border=\"1\" class=\"dataframe\">\n",
       "  <thead>\n",
       "    <tr style=\"text-align: right;\">\n",
       "      <th></th>\n",
       "      <th>SA2</th>\n",
       "      <th>SA2_name</th>\n",
       "      <th>Earners</th>\n",
       "      <th>Median_age</th>\n",
       "      <th>Sum</th>\n",
       "      <th>Median</th>\n",
       "    </tr>\n",
       "  </thead>\n",
       "  <tbody>\n",
       "    <tr>\n",
       "      <th>579</th>\n",
       "      <td>201011001</td>\n",
       "      <td>Alfredton</td>\n",
       "      <td>7989</td>\n",
       "      <td>42</td>\n",
       "      <td>508645842</td>\n",
       "      <td>53932</td>\n",
       "    </tr>\n",
       "    <tr>\n",
       "      <th>580</th>\n",
       "      <td>201011002</td>\n",
       "      <td>Ballarat</td>\n",
       "      <td>7595</td>\n",
       "      <td>47</td>\n",
       "      <td>591465895</td>\n",
       "      <td>53688</td>\n",
       "    </tr>\n",
       "    <tr>\n",
       "      <th>581</th>\n",
       "      <td>201011003</td>\n",
       "      <td>Ballarat - North</td>\n",
       "      <td>13598</td>\n",
       "      <td>43</td>\n",
       "      <td>820866354</td>\n",
       "      <td>50593</td>\n",
       "    </tr>\n",
       "    <tr>\n",
       "      <th>582</th>\n",
       "      <td>201011004</td>\n",
       "      <td>Ballarat - South</td>\n",
       "      <td>12722</td>\n",
       "      <td>40</td>\n",
       "      <td>646001740</td>\n",
       "      <td>45828</td>\n",
       "    </tr>\n",
       "    <tr>\n",
       "      <th>583</th>\n",
       "      <td>201011005</td>\n",
       "      <td>Buninyong</td>\n",
       "      <td>4249</td>\n",
       "      <td>46</td>\n",
       "      <td>268782250</td>\n",
       "      <td>52377</td>\n",
       "    </tr>\n",
       "  </tbody>\n",
       "</table>\n",
       "</div>"
      ],
      "text/plain": [
       "           SA2          SA2_name  Earners  Median_age        Sum  Median\n",
       "579  201011001         Alfredton     7989          42  508645842   53932\n",
       "580  201011002          Ballarat     7595          47  591465895   53688\n",
       "581  201011003  Ballarat - North    13598          43  820866354   50593\n",
       "582  201011004  Ballarat - South    12722          40  646001740   45828\n",
       "583  201011005         Buninyong     4249          46  268782250   52377"
      ]
     },
     "execution_count": 8,
     "metadata": {},
     "output_type": "execute_result"
    }
   ],
   "source": [
    "income['SA2'] = income['SA2'].astype(str)\n",
    "income.head()"
   ]
  },
  {
   "cell_type": "code",
   "execution_count": 9,
   "metadata": {},
   "outputs": [
    {
     "name": "stdout",
     "output_type": "stream",
     "text": [
      "  SA2_MAIN16 SA2_5DIG16         SA2_NAME16 SA3_CODE16  SA3_NAME16 SA4_CODE16  \\\n",
      "0  101021007      11007          Braidwood      10102  Queanbeyan        101   \n",
      "1  101021008      11008            Karabar      10102  Queanbeyan        101   \n",
      "2  101021009      11009         Queanbeyan      10102  Queanbeyan        101   \n",
      "3  101021010      11010  Queanbeyan - East      10102  Queanbeyan        101   \n",
      "4  101021011      11011  Queanbeyan Region      10102  Queanbeyan        101   \n",
      "\n",
      "       SA4_NAME16 GCC_CODE16   GCC_NAME16 STE_CODE16       STE_NAME16  \\\n",
      "0  Capital Region      1RNSW  Rest of NSW          1  New South Wales   \n",
      "1  Capital Region      1RNSW  Rest of NSW          1  New South Wales   \n",
      "2  Capital Region      1RNSW  Rest of NSW          1  New South Wales   \n",
      "3  Capital Region      1RNSW  Rest of NSW          1  New South Wales   \n",
      "4  Capital Region      1RNSW  Rest of NSW          1  New South Wales   \n",
      "\n",
      "   AREASQKM16                                           geometry  \n",
      "0   3418.3525  POLYGON ((149.58423 -35.44427, 149.58444 -35.4...  \n",
      "1      6.9825  POLYGON ((149.21898 -35.36739, 149.21799 -35.3...  \n",
      "2      4.7634  POLYGON ((149.21325 -35.34325, 149.21619 -35.3...  \n",
      "3     13.0034  POLYGON ((149.24033 -35.34782, 149.24023 -35.3...  \n",
      "4   3054.4099  POLYGON ((149.23580 -35.38738, 149.23771 -35.3...  \n"
     ]
    }
   ],
   "source": [
    "# read in shapefile and merge with SA2\n",
    "sf = gpd.read_file('../data/raw/external/SA2_shapefile/SA2_2016_AUST.shp')\n",
    "print(sf.head())\n",
    "gdf = gpd.GeoDataFrame(\n",
    "    pd.merge(income, sf, left_on='SA2', right_on='SA2_MAIN16', how='inner')\n",
    ")\n",
    "geoJSON = gdf[['SA2', 'geometry']].to_json()"
   ]
  }
 ],
 "metadata": {
  "kernelspec": {
   "display_name": "Python 3.8.2 ('MAST30034env': venv)",
   "language": "python",
   "name": "python3"
  },
  "language_info": {
   "codemirror_mode": {
    "name": "ipython",
    "version": 3
   },
   "file_extension": ".py",
   "mimetype": "text/x-python",
   "name": "python",
   "nbconvert_exporter": "python",
   "pygments_lexer": "ipython3",
   "version": "3.8.2"
  },
  "orig_nbformat": 4,
  "vscode": {
   "interpreter": {
    "hash": "a5732c9d997a6f78fcb86dba9b0f86e5cc814f598a215f7fa9c9d5c7c7ffa066"
   }
  }
 },
 "nbformat": 4,
 "nbformat_minor": 2
}
