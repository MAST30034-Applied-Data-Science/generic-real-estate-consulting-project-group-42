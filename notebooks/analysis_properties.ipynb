{
 "cells": [
  {
   "cell_type": "code",
   "execution_count": 205,
   "metadata": {},
   "outputs": [],
   "source": [
    "import pandas as pd\n",
    "import seaborn as sns\n",
    "import matplotlib.pyplot as plt\n",
    "import numpy as np\n",
    "\n",
    "import statsmodels.api as sm\n",
    "from statsmodels.formula.api import ols\n",
    "\n",
    "import geopandas as gpd\n",
    "\n",
    "import dython"
   ]
  },
  {
   "cell_type": "code",
   "execution_count": 172,
   "metadata": {},
   "outputs": [],
   "source": [
    "relative_dir = \"../data/curated/\"\n",
    "properties = pd.read_csv(relative_dir + \"properties_processed.csv\", index_col=0)\n",
    "income = pd.read_csv(\"../data/raw/external/vic_income.csv\", index_col=0)\n",
    "mapping = pd.read_csv(\"../data/raw/external/sa2_postcode_map.csv\", index_col=0)\n",
    "distances = pd.read_csv(relative_dir + \"all_distances.csv\", index_col=0)"
   ]
  },
  {
   "cell_type": "code",
   "execution_count": 174,
   "metadata": {},
   "outputs": [],
   "source": [
    "distances = distances.drop(['cbd_distance', 'station_distance'], axis=1)"
   ]
  },
  {
   "cell_type": "code",
   "execution_count": 175,
   "metadata": {},
   "outputs": [],
   "source": [
    "properties['Postcode'] = properties['Postcode'].astype(str)"
   ]
  },
  {
   "cell_type": "code",
   "execution_count": 158,
   "metadata": {},
   "outputs": [
    {
     "data": {
      "image/png": "[encoded data removed]",
      "text/plain": [
       "<Figure size 648x360 with 1 Axes>"
      ]
     },
     "metadata": {
      "needs_background": "light"
     },
     "output_type": "display_data"
    }
   ],
   "source": [
    "# Rental Cost Distribution\n",
    "plt.figure(figsize = (9, 5))\n",
    "plt.title('Rental Cost Distribution')\n",
    "plt.hist(properties['Cost'], bins=100, color='purple')\n",
    "plt.savefig('../plots/cost_distribution.jpg')\n",
    "plt.show()"
   ]
  },
  {
   "cell_type": "code",
   "execution_count": 176,
   "metadata": {},
   "outputs": [],
   "source": [
    "mapping['POSTCODE'] = mapping['POSTCODE'].astype(str)"
   ]
  },
  {
   "cell_type": "code",
   "execution_count": 177,
   "metadata": {},
   "outputs": [],
   "source": [
    "properties = pd.merge(properties, mapping, left_on='Postcode', right_on='POSTCODE').drop('POSTCODE', axis=1)"
   ]
  },
  {
   "cell_type": "code",
   "execution_count": 178,
   "metadata": {},
   "outputs": [],
   "source": [
    "properties['SA2_MAINCODE_2011'] = properties['SA2_MAINCODE_2011'].astype(str)\n",
    "properties = properties.rename({'SA2_MAINCODE_2011':'SA2'})"
   ]
  },
  {
   "cell_type": "code",
   "execution_count": 179,
   "metadata": {},
   "outputs": [],
   "source": [
    "properties = properties.merge(distances, on='Name')"
   ]
  },
  {
   "cell_type": "markdown",
   "metadata": {},
   "source": [
    "## Income Data"
   ]
  },
  {
   "cell_type": "code",
   "execution_count": 180,
   "metadata": {},
   "outputs": [
    {
     "data": {
      "text/html": [
       "<div>\n",
       "<style scoped>\n",
       "    .dataframe tbody tr th:only-of-type {\n",
       "        vertical-align: middle;\n",
       "    }\n",
       "\n",
       "    .dataframe tbody tr th {\n",
       "        vertical-align: top;\n",
       "    }\n",
       "\n",
       "    .dataframe thead th {\n",
       "        text-align: right;\n",
       "    }\n",
       "</style>\n",
       "<table border=\"1\" class=\"dataframe\">\n",
       "  <thead>\n",
       "    <tr style=\"text-align: right;\">\n",
       "      <th></th>\n",
       "      <th>SA2</th>\n",
       "      <th>SA2_name</th>\n",
       "      <th>Earners</th>\n",
       "      <th>Median_age</th>\n",
       "      <th>Sum</th>\n",
       "      <th>Median</th>\n",
       "    </tr>\n",
       "  </thead>\n",
       "  <tbody>\n",
       "    <tr>\n",
       "      <th>579</th>\n",
       "      <td>201011001</td>\n",
       "      <td>Alfredton</td>\n",
       "      <td>7989</td>\n",
       "      <td>42</td>\n",
       "      <td>508645842</td>\n",
       "      <td>53932</td>\n",
       "    </tr>\n",
       "    <tr>\n",
       "      <th>580</th>\n",
       "      <td>201011002</td>\n",
       "      <td>Ballarat</td>\n",
       "      <td>7595</td>\n",
       "      <td>47</td>\n",
       "      <td>591465895</td>\n",
       "      <td>53688</td>\n",
       "    </tr>\n",
       "    <tr>\n",
       "      <th>581</th>\n",
       "      <td>201011003</td>\n",
       "      <td>Ballarat - North</td>\n",
       "      <td>13598</td>\n",
       "      <td>43</td>\n",
       "      <td>820866354</td>\n",
       "      <td>50593</td>\n",
       "    </tr>\n",
       "    <tr>\n",
       "      <th>582</th>\n",
       "      <td>201011004</td>\n",
       "      <td>Ballarat - South</td>\n",
       "      <td>12722</td>\n",
       "      <td>40</td>\n",
       "      <td>646001740</td>\n",
       "      <td>45828</td>\n",
       "    </tr>\n",
       "    <tr>\n",
       "      <th>583</th>\n",
       "      <td>201011005</td>\n",
       "      <td>Buninyong</td>\n",
       "      <td>4249</td>\n",
       "      <td>46</td>\n",
       "      <td>268782250</td>\n",
       "      <td>52377</td>\n",
       "    </tr>\n",
       "  </tbody>\n",
       "</table>\n",
       "</div>"
      ],
      "text/plain": [
       "           SA2          SA2_name  Earners  Median_age        Sum  Median\n",
       "579  201011001         Alfredton     7989          42  508645842   53932\n",
       "580  201011002          Ballarat     7595          47  591465895   53688\n",
       "581  201011003  Ballarat - North    13598          43  820866354   50593\n",
       "582  201011004  Ballarat - South    12722          40  646001740   45828\n",
       "583  201011005         Buninyong     4249          46  268782250   52377"
      ]
     },
     "execution_count": 180,
     "metadata": {},
     "output_type": "execute_result"
    }
   ],
   "source": [
    "income['SA2'] = income['SA2'].astype(str)\n",
    "income.head()"
   ]
  },
  {
   "cell_type": "code",
   "execution_count": 181,
   "metadata": {},
   "outputs": [
    {
     "data": {
      "text/html": [
       "<div>\n",
       "<style scoped>\n",
       "    .dataframe tbody tr th:only-of-type {\n",
       "        vertical-align: middle;\n",
       "    }\n",
       "\n",
       "    .dataframe tbody tr th {\n",
       "        vertical-align: top;\n",
       "    }\n",
       "\n",
       "    .dataframe thead th {\n",
       "        text-align: right;\n",
       "    }\n",
       "</style>\n",
       "<table border=\"1\" class=\"dataframe\">\n",
       "  <thead>\n",
       "    <tr style=\"text-align: right;\">\n",
       "      <th></th>\n",
       "      <th>Name</th>\n",
       "      <th>Cost</th>\n",
       "      <th>Coordinates</th>\n",
       "      <th>Bed</th>\n",
       "      <th>Bath</th>\n",
       "      <th>Parking</th>\n",
       "      <th>Property_Type</th>\n",
       "      <th>Agency</th>\n",
       "      <th>Postcode</th>\n",
       "      <th>SA2_MAINCODE_2011</th>\n",
       "      <th>...</th>\n",
       "      <th>station_duration</th>\n",
       "      <th>ptv_1</th>\n",
       "      <th>ptv_2</th>\n",
       "      <th>ptv_3</th>\n",
       "      <th>SA2</th>\n",
       "      <th>SA2_name</th>\n",
       "      <th>Earners</th>\n",
       "      <th>Median_age</th>\n",
       "      <th>Sum</th>\n",
       "      <th>Median</th>\n",
       "    </tr>\n",
       "  </thead>\n",
       "  <tbody>\n",
       "    <tr>\n",
       "      <th>0</th>\n",
       "      <td>4/180 Little Collins Street Melbourne VIC 3000</td>\n",
       "      <td>500.0</td>\n",
       "      <td>[-37.8138601, 144.9679067]</td>\n",
       "      <td>1</td>\n",
       "      <td>1</td>\n",
       "      <td>0</td>\n",
       "      <td>Apartment / Unit / Flat</td>\n",
       "      <td>Dingle Partners</td>\n",
       "      <td>3000</td>\n",
       "      <td>206041122</td>\n",
       "      <td>...</td>\n",
       "      <td>163.9</td>\n",
       "      <td>144.953239</td>\n",
       "      <td>157.017325</td>\n",
       "      <td>166.748476</td>\n",
       "      <td>206041122</td>\n",
       "      <td>Melbourne</td>\n",
       "      <td>27182</td>\n",
       "      <td>30</td>\n",
       "      <td>1426389488</td>\n",
       "      <td>30024</td>\n",
       "    </tr>\n",
       "  </tbody>\n",
       "</table>\n",
       "<p>1 rows × 22 columns</p>\n",
       "</div>"
      ],
      "text/plain": [
       "                                             Name   Cost  \\\n",
       "0  4/180 Little Collins Street Melbourne VIC 3000  500.0   \n",
       "\n",
       "                  Coordinates  Bed  Bath  Parking            Property_Type  \\\n",
       "0  [-37.8138601, 144.9679067]    1     1        0  Apartment / Unit / Flat   \n",
       "\n",
       "            Agency Postcode SA2_MAINCODE_2011  ... station_duration  \\\n",
       "0  Dingle Partners     3000         206041122  ...            163.9   \n",
       "\n",
       "        ptv_1       ptv_2       ptv_3        SA2   SA2_name Earners  \\\n",
       "0  144.953239  157.017325  166.748476  206041122  Melbourne   27182   \n",
       "\n",
       "  Median_age         Sum  Median  \n",
       "0         30  1426389488   30024  \n",
       "\n",
       "[1 rows x 22 columns]"
      ]
     },
     "execution_count": 181,
     "metadata": {},
     "output_type": "execute_result"
    }
   ],
   "source": [
    "properties['SA2_MAINCODE_2011'] = properties['SA2_MAINCODE_2011'].astype(float).astype(int).astype(str)\n",
    "properties = pd.merge(properties, income, left_on='SA2_MAINCODE_2011', right_on='SA2')\n",
    "properties.head(1)"
   ]
  },
  {
   "cell_type": "markdown",
   "metadata": {},
   "source": [
    "## Continuous Data Correlations\n",
    "*Note:* We treat the ordinal features as continuous in order to keep ordering information."
   ]
  },
  {
   "cell_type": "code",
   "execution_count": 220,
   "metadata": {},
   "outputs": [
    {
     "data": {
      "image/png": "[encoded data removed]",
      "text/plain": [
       "<Figure size 648x576 with 2 Axes>"
      ]
     },
     "metadata": {
      "needs_background": "light"
     },
     "output_type": "display_data"
    }
   ],
   "source": [
    "corrmat = properties.corr(method='pearson')\n",
    "f, ax = plt.subplots(figsize =(9, 8))\n",
    "colours = sns.diverging_palette(145, 300, s=60, as_cmap=True)\n",
    "# possible colours: \"coolwarm\", \"vlag\"\n",
    "sns.heatmap(corrmat, ax = ax, cmap=colours, linewidths = 0.1, center=0, vmin=-1)\n",
    "plt.title('Pearson Correlation Matrix')\n",
    "plt.savefig('../plots/correlation.jpg')\n",
    "plt.show()"
   ]
  },
  {
   "cell_type": "markdown",
   "metadata": {},
   "source": [
    "Find the most correlated features with rental cost of property."
   ]
  },
  {
   "cell_type": "code",
   "execution_count": 284,
   "metadata": {},
   "outputs": [
    {
     "data": {
      "text/html": [
       "<div>\n",
       "<style scoped>\n",
       "    .dataframe tbody tr th:only-of-type {\n",
       "        vertical-align: middle;\n",
       "    }\n",
       "\n",
       "    .dataframe tbody tr th {\n",
       "        vertical-align: top;\n",
       "    }\n",
       "\n",
       "    .dataframe thead th {\n",
       "        text-align: right;\n",
       "    }\n",
       "</style>\n",
       "<table border=\"1\" class=\"dataframe\">\n",
       "  <thead>\n",
       "    <tr style=\"text-align: right;\">\n",
       "      <th></th>\n",
       "      <th></th>\n",
       "      <th>correlation</th>\n",
       "      <th>abs_corr</th>\n",
       "    </tr>\n",
       "  </thead>\n",
       "  <tbody>\n",
       "    <tr>\n",
       "      <th rowspan=\"13\" valign=\"top\">Cost</th>\n",
       "      <th>Cost</th>\n",
       "      <td>1.000000</td>\n",
       "      <td>1.000000</td>\n",
       "    </tr>\n",
       "    <tr>\n",
       "      <th>Bath</th>\n",
       "      <td>0.511271</td>\n",
       "      <td>0.511271</td>\n",
       "    </tr>\n",
       "    <tr>\n",
       "      <th>Bed</th>\n",
       "      <td>0.414702</td>\n",
       "      <td>0.414702</td>\n",
       "    </tr>\n",
       "    <tr>\n",
       "      <th>Sum</th>\n",
       "      <td>0.211490</td>\n",
       "      <td>0.211490</td>\n",
       "    </tr>\n",
       "    <tr>\n",
       "      <th>Median</th>\n",
       "      <td>0.197999</td>\n",
       "      <td>0.197999</td>\n",
       "    </tr>\n",
       "    <tr>\n",
       "      <th>Parking</th>\n",
       "      <td>0.192691</td>\n",
       "      <td>0.192691</td>\n",
       "    </tr>\n",
       "    <tr>\n",
       "      <th>Median_age</th>\n",
       "      <td>0.183651</td>\n",
       "      <td>0.183651</td>\n",
       "    </tr>\n",
       "    <tr>\n",
       "      <th>cbd_duration</th>\n",
       "      <td>-0.119682</td>\n",
       "      <td>0.119682</td>\n",
       "    </tr>\n",
       "    <tr>\n",
       "      <th>ptv_3</th>\n",
       "      <td>-0.079777</td>\n",
       "      <td>0.079777</td>\n",
       "    </tr>\n",
       "    <tr>\n",
       "      <th>ptv_2</th>\n",
       "      <td>-0.063327</td>\n",
       "      <td>0.063327</td>\n",
       "    </tr>\n",
       "    <tr>\n",
       "      <th>ptv_1</th>\n",
       "      <td>-0.052333</td>\n",
       "      <td>0.052333</td>\n",
       "    </tr>\n",
       "    <tr>\n",
       "      <th>Earners</th>\n",
       "      <td>0.034916</td>\n",
       "      <td>0.034916</td>\n",
       "    </tr>\n",
       "    <tr>\n",
       "      <th>station_duration</th>\n",
       "      <td>-0.005090</td>\n",
       "      <td>0.005090</td>\n",
       "    </tr>\n",
       "  </tbody>\n",
       "</table>\n",
       "</div>"
      ],
      "text/plain": [
       "                       correlation  abs_corr\n",
       "Cost Cost                 1.000000  1.000000\n",
       "     Bath                 0.511271  0.511271\n",
       "     Bed                  0.414702  0.414702\n",
       "     Sum                  0.211490  0.211490\n",
       "     Median               0.197999  0.197999\n",
       "     Parking              0.192691  0.192691\n",
       "     Median_age           0.183651  0.183651\n",
       "     cbd_duration        -0.119682  0.119682\n",
       "     ptv_3               -0.079777  0.079777\n",
       "     ptv_2               -0.063327  0.063327\n",
       "     ptv_1               -0.052333  0.052333\n",
       "     Earners              0.034916  0.034916\n",
       "     station_duration    -0.005090  0.005090"
      ]
     },
     "execution_count": 284,
     "metadata": {},
     "output_type": "execute_result"
    }
   ],
   "source": [
    "sorted_mat = corrmat.unstack().sort_values()\n",
    "\n",
    "# reformat series into data frame\n",
    "df = pd.DataFrame(data=sorted_mat)\n",
    "df.rename({0:'correlation'}, axis=1, inplace=True)\n",
    "df['Index'] = df.index\n",
    "df = pd.concat(\n",
    "        [df.drop('Index', axis=1), \n",
    "        df['Index'].apply(pd.Series)]\n",
    "    , axis=1)\n",
    "\n",
    "# output correlation list\n",
    "cost_correlations = pd.DataFrame(df[df[0] == 'Cost']['correlation'])\n",
    "cost_correlations['abs_corr'] = abs(cost_correlations['correlation'])\n",
    "cost_correlations.sort_values(by='abs_corr', ascending=False)"
   ]
  },
  {
   "cell_type": "markdown",
   "metadata": {},
   "source": [
    "## Continuous and Categorical Data Correlations"
   ]
  },
  {
   "cell_type": "code",
   "execution_count": 297,
   "metadata": {},
   "outputs": [
    {
     "data": {
      "image/png": "[encoded data removed]",
      "text/plain": [
       "<Figure size 432x288 with 2 Axes>"
      ]
     },
     "metadata": {
      "needs_background": "light"
     },
     "output_type": "display_data"
    }
   ],
   "source": [
    "# get correlation of numeric attributes with cost\n",
    "exclusions = ['Name', 'Coordinates', 'SA2_MAINCODE_2011', 'SA2_name', 'SA2_NAME_2011']\n",
    "corr_data = properties.drop(exclusions, axis=1)\n",
    "corr_mat = dython.nominal.associations(corr_data, annot=False)"
   ]
  },
  {
   "cell_type": "code",
   "execution_count": 300,
   "metadata": {},
   "outputs": [
    {
     "data": {
      "text/html": [
       "<div>\n",
       "<style scoped>\n",
       "    .dataframe tbody tr th:only-of-type {\n",
       "        vertical-align: middle;\n",
       "    }\n",
       "\n",
       "    .dataframe tbody tr th {\n",
       "        vertical-align: top;\n",
       "    }\n",
       "\n",
       "    .dataframe thead th {\n",
       "        text-align: right;\n",
       "    }\n",
       "</style>\n",
       "<table border=\"1\" class=\"dataframe\">\n",
       "  <thead>\n",
       "    <tr style=\"text-align: right;\">\n",
       "      <th></th>\n",
       "      <th>correlation</th>\n",
       "      <th>abs_corr</th>\n",
       "    </tr>\n",
       "  </thead>\n",
       "  <tbody>\n",
       "    <tr>\n",
       "      <th>Agency</th>\n",
       "      <td>0.644429</td>\n",
       "      <td>0.644429</td>\n",
       "    </tr>\n",
       "    <tr>\n",
       "      <th>Postcode</th>\n",
       "      <td>0.549619</td>\n",
       "      <td>0.549619</td>\n",
       "    </tr>\n",
       "    <tr>\n",
       "      <th>SA2</th>\n",
       "      <td>0.522183</td>\n",
       "      <td>0.522183</td>\n",
       "    </tr>\n",
       "    <tr>\n",
       "      <th>Bath</th>\n",
       "      <td>0.511271</td>\n",
       "      <td>0.511271</td>\n",
       "    </tr>\n",
       "    <tr>\n",
       "      <th>Bed</th>\n",
       "      <td>0.414702</td>\n",
       "      <td>0.414702</td>\n",
       "    </tr>\n",
       "    <tr>\n",
       "      <th>Property_Type</th>\n",
       "      <td>0.217016</td>\n",
       "      <td>0.217016</td>\n",
       "    </tr>\n",
       "    <tr>\n",
       "      <th>Sum</th>\n",
       "      <td>0.211490</td>\n",
       "      <td>0.211490</td>\n",
       "    </tr>\n",
       "    <tr>\n",
       "      <th>Median</th>\n",
       "      <td>0.197999</td>\n",
       "      <td>0.197999</td>\n",
       "    </tr>\n",
       "    <tr>\n",
       "      <th>Parking</th>\n",
       "      <td>0.192691</td>\n",
       "      <td>0.192691</td>\n",
       "    </tr>\n",
       "    <tr>\n",
       "      <th>Median_age</th>\n",
       "      <td>0.183651</td>\n",
       "      <td>0.183651</td>\n",
       "    </tr>\n",
       "    <tr>\n",
       "      <th>cbd_duration</th>\n",
       "      <td>-0.119235</td>\n",
       "      <td>0.119235</td>\n",
       "    </tr>\n",
       "    <tr>\n",
       "      <th>ptv_1</th>\n",
       "      <td>-0.042096</td>\n",
       "      <td>0.042096</td>\n",
       "    </tr>\n",
       "    <tr>\n",
       "      <th>ptv_3</th>\n",
       "      <td>-0.041487</td>\n",
       "      <td>0.041487</td>\n",
       "    </tr>\n",
       "    <tr>\n",
       "      <th>ptv_2</th>\n",
       "      <td>-0.039743</td>\n",
       "      <td>0.039743</td>\n",
       "    </tr>\n",
       "    <tr>\n",
       "      <th>Earners</th>\n",
       "      <td>0.034916</td>\n",
       "      <td>0.034916</td>\n",
       "    </tr>\n",
       "    <tr>\n",
       "      <th>station_duration</th>\n",
       "      <td>-0.005090</td>\n",
       "      <td>0.005090</td>\n",
       "    </tr>\n",
       "  </tbody>\n",
       "</table>\n",
       "</div>"
      ],
      "text/plain": [
       "                  correlation  abs_corr\n",
       "Agency               0.644429  0.644429\n",
       "Postcode             0.549619  0.549619\n",
       "SA2                  0.522183  0.522183\n",
       "Bath                 0.511271  0.511271\n",
       "Bed                  0.414702  0.414702\n",
       "Property_Type        0.217016  0.217016\n",
       "Sum                  0.211490  0.211490\n",
       "Median               0.197999  0.197999\n",
       "Parking              0.192691  0.192691\n",
       "Median_age           0.183651  0.183651\n",
       "cbd_duration        -0.119235  0.119235\n",
       "ptv_1               -0.042096  0.042096\n",
       "ptv_3               -0.041487  0.041487\n",
       "ptv_2               -0.039743  0.039743\n",
       "Earners              0.034916  0.034916\n",
       "station_duration    -0.005090  0.005090"
      ]
     },
     "execution_count": 300,
     "metadata": {},
     "output_type": "execute_result"
    }
   ],
   "source": [
    "sorted_mat = corr_mat['corr'].unstack().sort_values()\n",
    "\n",
    "# reformat series into data frame\n",
    "df = pd.DataFrame(data=sorted_mat)\n",
    "df.rename({0:'correlation'}, axis=1, inplace=True)\n",
    "df['Index'] = df.index\n",
    "df = pd.concat(\n",
    "        [df.drop('Index', axis=1), \n",
    "        df['Index'].apply(pd.Series)]\n",
    "    , axis=1)\n",
    "\n",
    "# output correlation list\n",
    "cost_correlations = pd.DataFrame(df[df[0] == 'Cost']['correlation'])\n",
    "cost_correlations['abs_corr'] = abs(cost_correlations['correlation'])\n",
    "cost_correlations = cost_correlations.sort_values(by='abs_corr', ascending=False)\n",
    "\n",
    "# remove multi-level indexing\n",
    "cost_correlations.index = cost_correlations.index.droplevel(0)\n",
    "\n",
    "cost_correlations.drop('Cost')"
   ]
  },
  {
   "cell_type": "markdown",
   "metadata": {},
   "source": [
    "## Categorical ANOVAs"
   ]
  },
  {
   "cell_type": "code",
   "execution_count": 109,
   "metadata": {},
   "outputs": [
    {
     "name": "stdout",
     "output_type": "stream",
     "text": [
      "               df        sum_sq        mean_sq         F  PR(>F)\n",
      "Postcode    374.0  2.019698e+08  540026.239923  9.126862     0.0\n",
      "Residual  11465.0  6.783713e+08   59168.884891       NaN     NaN\n",
      "                    df        sum_sq       mean_sq         F        PR(>F)\n",
      "Property_Type      9.0  3.375730e+07  3.750811e+06  52.41311  5.539890e-94\n",
      "Residual       11830.0  8.465838e+08  7.156245e+04       NaN           NaN\n",
      "               df        sum_sq        mean_sq         F  PR(>F)\n",
      "Agency     1335.0  3.347445e+08  250744.959848  4.827422     0.0\n",
      "Residual  10504.0  5.455966e+08   51941.789567       NaN     NaN\n"
     ]
    }
   ],
   "source": [
    "# test for relationship with categorical variables using one-way ANOVA\n",
    "categoricals = ['Postcode', 'Property_Type', 'Agency']\n",
    "\n",
    "for c in categoricals:\n",
    "    model = ols('Cost ~ '+c, data = properties).fit() # Oridnary least squares\n",
    "    result_anova = sm.stats.anova_lm(model) # ANOVA Test\n",
    "    print(result_anova)"
   ]
  },
  {
   "cell_type": "markdown",
   "metadata": {},
   "source": [
    "All p values are less than 0.05 so all attributes are significant."
   ]
  }
 ],
 "metadata": {
  "kernelspec": {
   "display_name": "Python 3.8.2 ('MAST30034env': venv)",
   "language": "python",
   "name": "python3"
  },
  "language_info": {
   "codemirror_mode": {
    "name": "ipython",
    "version": 3
   },
   "file_extension": ".py",
   "mimetype": "text/x-python",
   "name": "python",
   "nbconvert_exporter": "python",
   "pygments_lexer": "ipython3",
   "version": "3.8.2"
  },
  "orig_nbformat": 4,
  "vscode": {
   "interpreter": {
    "hash": "a5732c9d997a6f78fcb86dba9b0f86e5cc814f598a215f7fa9c9d5c7c7ffa066"
   }
  }
 },
 "nbformat": 4,
 "nbformat_minor": 2
}
