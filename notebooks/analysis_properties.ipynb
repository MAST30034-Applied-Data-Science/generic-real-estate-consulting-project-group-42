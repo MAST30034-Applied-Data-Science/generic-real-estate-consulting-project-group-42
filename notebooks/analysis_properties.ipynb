{
 "cells": [
  {
   "cell_type": "code",
   "execution_count": 111,
   "metadata": {},
   "outputs": [],
   "source": [
    "import pandas as pd\n",
    "import seaborn as sns\n",
    "import matplotlib.pyplot as plt\n",
    "\n",
    "import statsmodels.api as sm\n",
    "from statsmodels.formula.api import ols\n",
    "\n",
    "import geopandas as gpd\n",
    "\n",
    "import dython"
   ]
  },
  {
   "cell_type": "code",
   "execution_count": 85,
   "metadata": {},
   "outputs": [],
   "source": [
    "properties = pd.read_csv(\"../data/curated/properties_processed.csv\", index_col=0)\n",
    "income = pd.read_csv(\"../data/raw/external/vic_income.csv\", index_col=0)\n",
    "mapping = pd.read_csv(\"../data/raw/external/sa2_postcode_map.csv\", index_col=0)"
   ]
  },
  {
   "cell_type": "code",
   "execution_count": 86,
   "metadata": {},
   "outputs": [],
   "source": [
    "properties['Postcode'] = properties['Postcode'].astype(str)"
   ]
  },
  {
   "cell_type": "code",
   "execution_count": 63,
   "metadata": {},
   "outputs": [
    {
     "data": {
      "image/png": "[encoded data removed]",
      "text/plain": [
       "<Figure size 648x360 with 1 Axes>"
      ]
     },
     "metadata": {
      "needs_background": "light"
     },
     "output_type": "display_data"
    }
   ],
   "source": [
    "# Rental Cost Distribution\n",
    "plt.figure(figsize = (9, 5))\n",
    "plt.title('Rental Cost Distribution')\n",
    "plt.hist(properties['Cost'], bins=100, color='purple')\n",
    "plt.savefig('../plots/cost_distribution.jpg')\n",
    "plt.show()"
   ]
  },
  {
   "cell_type": "code",
   "execution_count": 87,
   "metadata": {},
   "outputs": [],
   "source": [
    "mapping['POSTCODE'] = mapping['POSTCODE'].astype(str)"
   ]
  },
  {
   "cell_type": "code",
   "execution_count": 88,
   "metadata": {},
   "outputs": [
    {
     "data": {
      "text/html": [
       "<div>\n",
       "<style scoped>\n",
       "    .dataframe tbody tr th:only-of-type {\n",
       "        vertical-align: middle;\n",
       "    }\n",
       "\n",
       "    .dataframe tbody tr th {\n",
       "        vertical-align: top;\n",
       "    }\n",
       "\n",
       "    .dataframe thead th {\n",
       "        text-align: right;\n",
       "    }\n",
       "</style>\n",
       "<table border=\"1\" class=\"dataframe\">\n",
       "  <thead>\n",
       "    <tr style=\"text-align: right;\">\n",
       "      <th></th>\n",
       "      <th>Name</th>\n",
       "      <th>Cost</th>\n",
       "      <th>Coordinates</th>\n",
       "      <th>Bed</th>\n",
       "      <th>Bath</th>\n",
       "      <th>Parking</th>\n",
       "      <th>Property_Type</th>\n",
       "      <th>Agency</th>\n",
       "      <th>Postcode</th>\n",
       "      <th>SA2_MAINCODE_2011</th>\n",
       "      <th>SA2_NAME_2011</th>\n",
       "    </tr>\n",
       "  </thead>\n",
       "  <tbody>\n",
       "    <tr>\n",
       "      <th>0</th>\n",
       "      <td>5408/500 Elizabeth Street Melbourne VIC 3000</td>\n",
       "      <td>440.0</td>\n",
       "      <td>[-37.8072443, 144.9602814]</td>\n",
       "      <td>1</td>\n",
       "      <td>1</td>\n",
       "      <td>0</td>\n",
       "      <td>Apartment / Unit / Flat</td>\n",
       "      <td>BRADY residential</td>\n",
       "      <td>3000</td>\n",
       "      <td>206041122.0</td>\n",
       "      <td>Melbourne</td>\n",
       "    </tr>\n",
       "    <tr>\n",
       "      <th>1</th>\n",
       "      <td>502/118 Russell Street Melbourne VIC 3000</td>\n",
       "      <td>620.0</td>\n",
       "      <td>[-37.8135864, 144.9687232]</td>\n",
       "      <td>1</td>\n",
       "      <td>1</td>\n",
       "      <td>0</td>\n",
       "      <td>Apartment / Unit / Flat</td>\n",
       "      <td>Dingle Partners</td>\n",
       "      <td>3000</td>\n",
       "      <td>206041122.0</td>\n",
       "      <td>Melbourne</td>\n",
       "    </tr>\n",
       "    <tr>\n",
       "      <th>2</th>\n",
       "      <td>202A/441 Lonsdale Street Melbourne VIC 3000</td>\n",
       "      <td>300.0</td>\n",
       "      <td>[-37.8134292, 144.9594445]</td>\n",
       "      <td>1</td>\n",
       "      <td>1</td>\n",
       "      <td>0</td>\n",
       "      <td>Apartment / Unit / Flat</td>\n",
       "      <td>Biggin &amp; Scott Stonnington</td>\n",
       "      <td>3000</td>\n",
       "      <td>206041122.0</td>\n",
       "      <td>Melbourne</td>\n",
       "    </tr>\n",
       "    <tr>\n",
       "      <th>3</th>\n",
       "      <td>57/243 Collins Street Melbourne VIC 3000</td>\n",
       "      <td>400.0</td>\n",
       "      <td>[-37.8159969, 144.9657956]</td>\n",
       "      <td>1</td>\n",
       "      <td>1</td>\n",
       "      <td>0</td>\n",
       "      <td>Apartment / Unit / Flat</td>\n",
       "      <td>Harcourts Melbourne City</td>\n",
       "      <td>3000</td>\n",
       "      <td>206041122.0</td>\n",
       "      <td>Melbourne</td>\n",
       "    </tr>\n",
       "    <tr>\n",
       "      <th>4</th>\n",
       "      <td>2311/601 Little Lonsdale Street Melbourne VIC ...</td>\n",
       "      <td>625.0</td>\n",
       "      <td>[-37.8137564, 144.9537143]</td>\n",
       "      <td>2</td>\n",
       "      <td>2</td>\n",
       "      <td>1</td>\n",
       "      <td>Apartment / Unit / Flat</td>\n",
       "      <td>Harcourts Melbourne City</td>\n",
       "      <td>3000</td>\n",
       "      <td>206041122.0</td>\n",
       "      <td>Melbourne</td>\n",
       "    </tr>\n",
       "    <tr>\n",
       "      <th>...</th>\n",
       "      <td>...</td>\n",
       "      <td>...</td>\n",
       "      <td>...</td>\n",
       "      <td>...</td>\n",
       "      <td>...</td>\n",
       "      <td>...</td>\n",
       "      <td>...</td>\n",
       "      <td>...</td>\n",
       "      <td>...</td>\n",
       "      <td>...</td>\n",
       "      <td>...</td>\n",
       "    </tr>\n",
       "    <tr>\n",
       "      <th>13218</th>\n",
       "      <td>16 Kenneth street Inverloch VIC 3996</td>\n",
       "      <td>470.0</td>\n",
       "      <td>[-38.629687, 145.7322922]</td>\n",
       "      <td>3</td>\n",
       "      <td>2</td>\n",
       "      <td>1</td>\n",
       "      <td>House</td>\n",
       "      <td>Southcoast First National Inverloch</td>\n",
       "      <td>3996</td>\n",
       "      <td>205031093.0</td>\n",
       "      <td>Wonthaggi - Inverloch</td>\n",
       "    </tr>\n",
       "    <tr>\n",
       "      <th>13219</th>\n",
       "      <td>Inverloch VIC 3996</td>\n",
       "      <td>475.0</td>\n",
       "      <td>[-38.6314613, 145.7293638]</td>\n",
       "      <td>3</td>\n",
       "      <td>2</td>\n",
       "      <td>1</td>\n",
       "      <td>House</td>\n",
       "      <td>Southcoast First National Inverloch</td>\n",
       "      <td>3996</td>\n",
       "      <td>205031093.0</td>\n",
       "      <td>Wonthaggi - Inverloch</td>\n",
       "    </tr>\n",
       "    <tr>\n",
       "      <th>13220</th>\n",
       "      <td>25A Veronica Street Inverloch VIC 3996</td>\n",
       "      <td>400.0</td>\n",
       "      <td>[-38.6428993, 145.7101579]</td>\n",
       "      <td>3</td>\n",
       "      <td>1</td>\n",
       "      <td>1</td>\n",
       "      <td>House</td>\n",
       "      <td>Stockdale &amp; Leggo Inverloch</td>\n",
       "      <td>3996</td>\n",
       "      <td>205031093.0</td>\n",
       "      <td>Wonthaggi - Inverloch</td>\n",
       "    </tr>\n",
       "    <tr>\n",
       "      <th>13221</th>\n",
       "      <td>16B Sandy Mount Avenue Inverloch VIC 3996</td>\n",
       "      <td>400.0</td>\n",
       "      <td>[-38.6340011, 145.725239]</td>\n",
       "      <td>2</td>\n",
       "      <td>1</td>\n",
       "      <td>1</td>\n",
       "      <td>House</td>\n",
       "      <td>Alex Scott &amp; Staff Inverloch</td>\n",
       "      <td>3996</td>\n",
       "      <td>205031093.0</td>\n",
       "      <td>Wonthaggi - Inverloch</td>\n",
       "    </tr>\n",
       "    <tr>\n",
       "      <th>13222</th>\n",
       "      <td>28 Beachcomber Drive Inverloch VIC 3996</td>\n",
       "      <td>550.0</td>\n",
       "      <td>[-38.6412502, 145.7031282]</td>\n",
       "      <td>4</td>\n",
       "      <td>2</td>\n",
       "      <td>0</td>\n",
       "      <td>House</td>\n",
       "      <td>Southcoast First National Inverloch</td>\n",
       "      <td>3996</td>\n",
       "      <td>205031093.0</td>\n",
       "      <td>Wonthaggi - Inverloch</td>\n",
       "    </tr>\n",
       "  </tbody>\n",
       "</table>\n",
       "<p>13223 rows × 11 columns</p>\n",
       "</div>"
      ],
      "text/plain": [
       "                                                    Name   Cost  \\\n",
       "0           5408/500 Elizabeth Street Melbourne VIC 3000  440.0   \n",
       "1              502/118 Russell Street Melbourne VIC 3000  620.0   \n",
       "2            202A/441 Lonsdale Street Melbourne VIC 3000  300.0   \n",
       "3               57/243 Collins Street Melbourne VIC 3000  400.0   \n",
       "4      2311/601 Little Lonsdale Street Melbourne VIC ...  625.0   \n",
       "...                                                  ...    ...   \n",
       "13218               16 Kenneth street Inverloch VIC 3996  470.0   \n",
       "13219                                 Inverloch VIC 3996  475.0   \n",
       "13220             25A Veronica Street Inverloch VIC 3996  400.0   \n",
       "13221          16B Sandy Mount Avenue Inverloch VIC 3996  400.0   \n",
       "13222            28 Beachcomber Drive Inverloch VIC 3996  550.0   \n",
       "\n",
       "                      Coordinates  Bed  Bath  Parking  \\\n",
       "0      [-37.8072443, 144.9602814]    1     1        0   \n",
       "1      [-37.8135864, 144.9687232]    1     1        0   \n",
       "2      [-37.8134292, 144.9594445]    1     1        0   \n",
       "3      [-37.8159969, 144.9657956]    1     1        0   \n",
       "4      [-37.8137564, 144.9537143]    2     2        1   \n",
       "...                           ...  ...   ...      ...   \n",
       "13218   [-38.629687, 145.7322922]    3     2        1   \n",
       "13219  [-38.6314613, 145.7293638]    3     2        1   \n",
       "13220  [-38.6428993, 145.7101579]    3     1        1   \n",
       "13221   [-38.6340011, 145.725239]    2     1        1   \n",
       "13222  [-38.6412502, 145.7031282]    4     2        0   \n",
       "\n",
       "                 Property_Type                               Agency Postcode  \\\n",
       "0      Apartment / Unit / Flat                    BRADY residential     3000   \n",
       "1      Apartment / Unit / Flat                      Dingle Partners     3000   \n",
       "2      Apartment / Unit / Flat           Biggin & Scott Stonnington     3000   \n",
       "3      Apartment / Unit / Flat             Harcourts Melbourne City     3000   \n",
       "4      Apartment / Unit / Flat             Harcourts Melbourne City     3000   \n",
       "...                        ...                                  ...      ...   \n",
       "13218                    House  Southcoast First National Inverloch     3996   \n",
       "13219                    House  Southcoast First National Inverloch     3996   \n",
       "13220                    House          Stockdale & Leggo Inverloch     3996   \n",
       "13221                    House         Alex Scott & Staff Inverloch     3996   \n",
       "13222                    House  Southcoast First National Inverloch     3996   \n",
       "\n",
       "       SA2_MAINCODE_2011          SA2_NAME_2011  \n",
       "0            206041122.0              Melbourne  \n",
       "1            206041122.0              Melbourne  \n",
       "2            206041122.0              Melbourne  \n",
       "3            206041122.0              Melbourne  \n",
       "4            206041122.0              Melbourne  \n",
       "...                  ...                    ...  \n",
       "13218        205031093.0  Wonthaggi - Inverloch  \n",
       "13219        205031093.0  Wonthaggi - Inverloch  \n",
       "13220        205031093.0  Wonthaggi - Inverloch  \n",
       "13221        205031093.0  Wonthaggi - Inverloch  \n",
       "13222        205031093.0  Wonthaggi - Inverloch  \n",
       "\n",
       "[13223 rows x 11 columns]"
      ]
     },
     "execution_count": 88,
     "metadata": {},
     "output_type": "execute_result"
    }
   ],
   "source": [
    "properties = pd.merge(properties, mapping, left_on='Postcode', right_on='POSTCODE').drop('POSTCODE', axis=1)"
   ]
  },
  {
   "cell_type": "code",
   "execution_count": 80,
   "metadata": {},
   "outputs": [],
   "source": [
    "properties['SA2_MAINCODE_2011'] = properties['SA2_MAINCODE_2011'].astype(str)\n",
    "properties = properties.rename({'SA2_MAINCODE_2011':'SA2'})"
   ]
  },
  {
   "cell_type": "markdown",
   "metadata": {},
   "source": [
    "## Income Data"
   ]
  },
  {
   "cell_type": "code",
   "execution_count": 92,
   "metadata": {},
   "outputs": [
    {
     "data": {
      "text/html": [
       "<div>\n",
       "<style scoped>\n",
       "    .dataframe tbody tr th:only-of-type {\n",
       "        vertical-align: middle;\n",
       "    }\n",
       "\n",
       "    .dataframe tbody tr th {\n",
       "        vertical-align: top;\n",
       "    }\n",
       "\n",
       "    .dataframe thead th {\n",
       "        text-align: right;\n",
       "    }\n",
       "</style>\n",
       "<table border=\"1\" class=\"dataframe\">\n",
       "  <thead>\n",
       "    <tr style=\"text-align: right;\">\n",
       "      <th></th>\n",
       "      <th>SA2</th>\n",
       "      <th>SA2_name</th>\n",
       "      <th>Earners</th>\n",
       "      <th>Median_age</th>\n",
       "      <th>Sum</th>\n",
       "      <th>Median</th>\n",
       "    </tr>\n",
       "  </thead>\n",
       "  <tbody>\n",
       "    <tr>\n",
       "      <th>579</th>\n",
       "      <td>201011001</td>\n",
       "      <td>Alfredton</td>\n",
       "      <td>7989</td>\n",
       "      <td>42</td>\n",
       "      <td>508645842</td>\n",
       "      <td>53932</td>\n",
       "    </tr>\n",
       "    <tr>\n",
       "      <th>580</th>\n",
       "      <td>201011002</td>\n",
       "      <td>Ballarat</td>\n",
       "      <td>7595</td>\n",
       "      <td>47</td>\n",
       "      <td>591465895</td>\n",
       "      <td>53688</td>\n",
       "    </tr>\n",
       "    <tr>\n",
       "      <th>581</th>\n",
       "      <td>201011003</td>\n",
       "      <td>Ballarat - North</td>\n",
       "      <td>13598</td>\n",
       "      <td>43</td>\n",
       "      <td>820866354</td>\n",
       "      <td>50593</td>\n",
       "    </tr>\n",
       "    <tr>\n",
       "      <th>582</th>\n",
       "      <td>201011004</td>\n",
       "      <td>Ballarat - South</td>\n",
       "      <td>12722</td>\n",
       "      <td>40</td>\n",
       "      <td>646001740</td>\n",
       "      <td>45828</td>\n",
       "    </tr>\n",
       "    <tr>\n",
       "      <th>583</th>\n",
       "      <td>201011005</td>\n",
       "      <td>Buninyong</td>\n",
       "      <td>4249</td>\n",
       "      <td>46</td>\n",
       "      <td>268782250</td>\n",
       "      <td>52377</td>\n",
       "    </tr>\n",
       "  </tbody>\n",
       "</table>\n",
       "</div>"
      ],
      "text/plain": [
       "           SA2          SA2_name  Earners  Median_age        Sum  Median\n",
       "579  201011001         Alfredton     7989          42  508645842   53932\n",
       "580  201011002          Ballarat     7595          47  591465895   53688\n",
       "581  201011003  Ballarat - North    13598          43  820866354   50593\n",
       "582  201011004  Ballarat - South    12722          40  646001740   45828\n",
       "583  201011005         Buninyong     4249          46  268782250   52377"
      ]
     },
     "execution_count": 92,
     "metadata": {},
     "output_type": "execute_result"
    }
   ],
   "source": [
    "income['SA2'] = income['SA2'].astype(str)\n",
    "income.head()"
   ]
  },
  {
   "cell_type": "code",
   "execution_count": 96,
   "metadata": {},
   "outputs": [
    {
     "data": {
      "text/html": [
       "<div>\n",
       "<style scoped>\n",
       "    .dataframe tbody tr th:only-of-type {\n",
       "        vertical-align: middle;\n",
       "    }\n",
       "\n",
       "    .dataframe tbody tr th {\n",
       "        vertical-align: top;\n",
       "    }\n",
       "\n",
       "    .dataframe thead th {\n",
       "        text-align: right;\n",
       "    }\n",
       "</style>\n",
       "<table border=\"1\" class=\"dataframe\">\n",
       "  <thead>\n",
       "    <tr style=\"text-align: right;\">\n",
       "      <th></th>\n",
       "      <th>Name</th>\n",
       "      <th>Cost</th>\n",
       "      <th>Coordinates</th>\n",
       "      <th>Bed</th>\n",
       "      <th>Bath</th>\n",
       "      <th>Parking</th>\n",
       "      <th>Property_Type</th>\n",
       "      <th>Agency</th>\n",
       "      <th>Postcode</th>\n",
       "      <th>SA2_MAINCODE_2011</th>\n",
       "      <th>SA2_NAME_2011</th>\n",
       "      <th>SA2</th>\n",
       "      <th>SA2_name</th>\n",
       "      <th>Earners</th>\n",
       "      <th>Median_age</th>\n",
       "      <th>Sum</th>\n",
       "      <th>Median</th>\n",
       "    </tr>\n",
       "  </thead>\n",
       "  <tbody>\n",
       "    <tr>\n",
       "      <th>0</th>\n",
       "      <td>5408/500 Elizabeth Street Melbourne VIC 3000</td>\n",
       "      <td>440.0</td>\n",
       "      <td>[-37.8072443, 144.9602814]</td>\n",
       "      <td>1</td>\n",
       "      <td>1</td>\n",
       "      <td>0</td>\n",
       "      <td>Apartment / Unit / Flat</td>\n",
       "      <td>BRADY residential</td>\n",
       "      <td>3000</td>\n",
       "      <td>206041122</td>\n",
       "      <td>Melbourne</td>\n",
       "      <td>206041122</td>\n",
       "      <td>Melbourne</td>\n",
       "      <td>27182</td>\n",
       "      <td>30</td>\n",
       "      <td>1426389488</td>\n",
       "      <td>30024</td>\n",
       "    </tr>\n",
       "  </tbody>\n",
       "</table>\n",
       "</div>"
      ],
      "text/plain": [
       "                                           Name   Cost  \\\n",
       "0  5408/500 Elizabeth Street Melbourne VIC 3000  440.0   \n",
       "\n",
       "                  Coordinates  Bed  Bath  Parking            Property_Type  \\\n",
       "0  [-37.8072443, 144.9602814]    1     1        0  Apartment / Unit / Flat   \n",
       "\n",
       "              Agency Postcode SA2_MAINCODE_2011 SA2_NAME_2011        SA2  \\\n",
       "0  BRADY residential     3000         206041122     Melbourne  206041122   \n",
       "\n",
       "    SA2_name  Earners  Median_age         Sum  Median  \n",
       "0  Melbourne    27182          30  1426389488   30024  "
      ]
     },
     "execution_count": 96,
     "metadata": {},
     "output_type": "execute_result"
    }
   ],
   "source": [
    "properties['SA2_MAINCODE_2011'] = (properties['SA2_MAINCODE_2011'].astype(int)).astype(str)\n",
    "properties = pd.merge(properties, income, left_on='SA2_MAINCODE_2011', right_on='SA2')\n",
    "properties.head(1)"
   ]
  },
  {
   "cell_type": "code",
   "execution_count": 119,
   "metadata": {},
   "outputs": [
    {
     "data": {
      "image/png": "[encoded data removed]",
      "text/plain": [
       "<Figure size 648x576 with 2 Axes>"
      ]
     },
     "metadata": {
      "needs_background": "light"
     },
     "output_type": "display_data"
    }
   ],
   "source": [
    "corrmat = properties.corr()\n",
    "f, ax = plt.subplots(figsize =(9, 8))\n",
    "sns.heatmap(corrmat, ax = ax, cmap =\"YlGnBu\", linewidths = 0.1, vmin=0)\n",
    "\n",
    "plt.title('Pearson Correlation Matrix')\n",
    "plt.savefig('../plots/correlation.jpg')\n",
    "plt.show()"
   ]
  },
  {
   "cell_type": "code",
   "execution_count": 129,
   "metadata": {},
   "outputs": [
    {
     "ename": "TypeError",
     "evalue": "cannot handle data conversion of type: <class 'tuple'> to dataframe",
     "output_type": "error",
     "traceback": [
      "\u001b[0;31m---------------------------------------------------------------------------\u001b[0m",
      "\u001b[0;31mTypeError\u001b[0m                                 Traceback (most recent call last)",
      "\u001b[1;32m/Users/winona/Library/CloudStorage/OneDrive-TheUniversityofMelbourne/University/Applied-Data-Science/real-estate-project-group-42/notebooks/analysis_properties.ipynb Cell 12\u001b[0m in \u001b[0;36m<cell line: 6>\u001b[0;34m()\u001b[0m\n\u001b[1;32m      <a href='vscode-notebook-cell:/Users/winona/Library/CloudStorage/OneDrive-TheUniversityofMelbourne/University/Applied-Data-Science/real-estate-project-group-42/notebooks/analysis_properties.ipynb#X23sZmlsZQ%3D%3D?line=3'>4</a>\u001b[0m corr \u001b[39m=\u001b[39m corrmat[\u001b[39m'\u001b[39m\u001b[39mcorr\u001b[39m\u001b[39m'\u001b[39m]\n\u001b[1;32m      <a href='vscode-notebook-cell:/Users/winona/Library/CloudStorage/OneDrive-TheUniversityofMelbourne/University/Applied-Data-Science/real-estate-project-group-42/notebooks/analysis_properties.ipynb#X23sZmlsZQ%3D%3D?line=4'>5</a>\u001b[0m \u001b[39msorted\u001b[39m \u001b[39m=\u001b[39m dython\u001b[39m.\u001b[39mnominal\u001b[39m.\u001b[39mcluster_correlations(corr)\n\u001b[0;32m----> <a href='vscode-notebook-cell:/Users/winona/Library/CloudStorage/OneDrive-TheUniversityofMelbourne/University/Applied-Data-Science/real-estate-project-group-42/notebooks/analysis_properties.ipynb#X23sZmlsZQ%3D%3D?line=5'>6</a>\u001b[0m dython\u001b[39m.\u001b[39;49mnominal\u001b[39m.\u001b[39;49massociations(\u001b[39msorted\u001b[39;49m, annot\u001b[39m=\u001b[39;49m\u001b[39mFalse\u001b[39;49;00m, title\u001b[39m=\u001b[39;49m\u001b[39m'\u001b[39;49m\u001b[39mCorrelation Matrix\u001b[39;49m\u001b[39m'\u001b[39;49m)\n",
      "File \u001b[0;32m~/Library/CloudStorage/OneDrive-TheUniversityofMelbourne/University/Applied-Data-Science/MAST30034env/lib/python3.8/site-packages/dython/nominal.py:471\u001b[0m, in \u001b[0;36massociations\u001b[0;34m(dataset, nominal_columns, numerical_columns, mark_columns, nom_nom_assoc, num_num_assoc, nom_num_assoc, symmetric_nom_nom, symmetric_num_num, display_rows, display_columns, hide_rows, hide_columns, cramers_v_bias_correction, nan_strategy, nan_replace_value, ax, figsize, annot, fmt, cmap, sv_color, cbar, vmax, vmin, plot, compute_only, clustering, title, filename)\u001b[0m\n\u001b[1;32m    320\u001b[0m \u001b[39mdef\u001b[39;00m \u001b[39massociations\u001b[39m(dataset,\n\u001b[1;32m    321\u001b[0m                  nominal_columns\u001b[39m=\u001b[39m\u001b[39m'\u001b[39m\u001b[39mauto\u001b[39m\u001b[39m'\u001b[39m,\n\u001b[1;32m    322\u001b[0m                  numerical_columns\u001b[39m=\u001b[39m\u001b[39mNone\u001b[39;00m,\n\u001b[0;32m   (...)\u001b[0m\n\u001b[1;32m    349\u001b[0m                  filename\u001b[39m=\u001b[39m\u001b[39mNone\u001b[39;00m\n\u001b[1;32m    350\u001b[0m                  ):\n\u001b[1;32m    351\u001b[0m     \u001b[39m\"\"\"\u001b[39;00m\n\u001b[1;32m    352\u001b[0m \u001b[39m    Calculate the correlation/strength-of-association of features in data-set\u001b[39;00m\n\u001b[1;32m    353\u001b[0m \u001b[39m    with both categorical and continuous features using:\u001b[39;00m\n\u001b[0;32m   (...)\u001b[0m\n\u001b[1;32m    469\u001b[0m \u001b[39m    See examples under `dython.examples`\u001b[39;00m\n\u001b[1;32m    470\u001b[0m \u001b[39m    \"\"\"\u001b[39;00m\n\u001b[0;32m--> 471\u001b[0m     dataset \u001b[39m=\u001b[39m convert(dataset, \u001b[39m'\u001b[39;49m\u001b[39mdataframe\u001b[39;49m\u001b[39m'\u001b[39;49m)\n\u001b[1;32m    473\u001b[0m     \u001b[39mif\u001b[39;00m numerical_columns \u001b[39mis\u001b[39;00m \u001b[39mnot\u001b[39;00m \u001b[39mNone\u001b[39;00m:\n\u001b[1;32m    474\u001b[0m         \u001b[39mif\u001b[39;00m numerical_columns \u001b[39m==\u001b[39m \u001b[39m'\u001b[39m\u001b[39mauto\u001b[39m\u001b[39m'\u001b[39m:\n",
      "File \u001b[0;32m~/Library/CloudStorage/OneDrive-TheUniversityofMelbourne/University/Applied-Data-Science/MAST30034env/lib/python3.8/site-packages/dython/_private.py:31\u001b[0m, in \u001b[0;36mconvert\u001b[0;34m(data, to, copy)\u001b[0m\n\u001b[1;32m     29\u001b[0m     \u001b[39mraise\u001b[39;00m \u001b[39mValueError\u001b[39;00m(\u001b[39m\"\u001b[39m\u001b[39mUnknown data conversion: \u001b[39m\u001b[39m{}\u001b[39;00m\u001b[39m\"\u001b[39m\u001b[39m.\u001b[39mformat(to))\n\u001b[1;32m     30\u001b[0m \u001b[39mif\u001b[39;00m converted \u001b[39mis\u001b[39;00m \u001b[39mNone\u001b[39;00m:\n\u001b[0;32m---> 31\u001b[0m     \u001b[39mraise\u001b[39;00m \u001b[39mTypeError\u001b[39;00m(\n\u001b[1;32m     32\u001b[0m         \u001b[39m'\u001b[39m\u001b[39mcannot handle data conversion of type: \u001b[39m\u001b[39m{}\u001b[39;00m\u001b[39m to \u001b[39m\u001b[39m{}\u001b[39;00m\u001b[39m'\u001b[39m\u001b[39m.\u001b[39mformat(\n\u001b[1;32m     33\u001b[0m             \u001b[39mtype\u001b[39m(data), to))\n\u001b[1;32m     34\u001b[0m \u001b[39melse\u001b[39;00m:\n\u001b[1;32m     35\u001b[0m     \u001b[39mreturn\u001b[39;00m converted\n",
      "\u001b[0;31mTypeError\u001b[0m: cannot handle data conversion of type: <class 'tuple'> to dataframe"
     ]
    },
    {
     "data": {
      "image/png": "[encoded data removed]",
      "text/plain": [
       "<Figure size 432x288 with 2 Axes>"
      ]
     },
     "metadata": {
      "needs_background": "light"
     },
     "output_type": "display_data"
    }
   ],
   "source": [
    "# get correlation of numeric attributes with cost\n",
    "corr_data = properties[['Cost', 'Bed', 'Bath', 'Parking', 'Property_Type', 'Agency', 'Earners', 'Median_age', 'Sum', 'Median']]\n",
    "corrmat = dython.nominal.associations(corr_data, annot=False, plot=False)\n",
    "corr = corrmat['corr']\n",
    "sorted = dython.nominal.cluster_correlations(corr)\n",
    "dython.nominal.associations(sorted, annot=False, title='Correlation Matrix')\n"
   ]
  },
  {
   "cell_type": "code",
   "execution_count": 109,
   "metadata": {},
   "outputs": [
    {
     "name": "stdout",
     "output_type": "stream",
     "text": [
      "               df        sum_sq        mean_sq         F  PR(>F)\n",
      "Postcode    374.0  2.019698e+08  540026.239923  9.126862     0.0\n",
      "Residual  11465.0  6.783713e+08   59168.884891       NaN     NaN\n",
      "                    df        sum_sq       mean_sq         F        PR(>F)\n",
      "Property_Type      9.0  3.375730e+07  3.750811e+06  52.41311  5.539890e-94\n",
      "Residual       11830.0  8.465838e+08  7.156245e+04       NaN           NaN\n",
      "               df        sum_sq        mean_sq         F  PR(>F)\n",
      "Agency     1335.0  3.347445e+08  250744.959848  4.827422     0.0\n",
      "Residual  10504.0  5.455966e+08   51941.789567       NaN     NaN\n"
     ]
    }
   ],
   "source": [
    "# test for relationship with categorical variables using one-way ANOVA\n",
    "categoricals = ['Postcode', 'Property_Type', 'Agency']\n",
    "\n",
    "for c in categoricals:\n",
    "    model = ols('Cost ~ '+c, data = properties).fit() # Oridnary least squares\n",
    "    result_anova = sm.stats.anova_lm(model) # ANOVA Test\n",
    "    print(result_anova)"
   ]
  },
  {
   "cell_type": "markdown",
   "metadata": {},
   "source": [
    "All p values are less than 0.05 so all attributes are significant."
   ]
  },
  {
   "cell_type": "code",
   "execution_count": 9,
   "metadata": {},
   "outputs": [
    {
     "name": "stdout",
     "output_type": "stream",
     "text": [
      "  SA2_MAIN16 SA2_5DIG16         SA2_NAME16 SA3_CODE16  SA3_NAME16 SA4_CODE16  \\\n",
      "0  101021007      11007          Braidwood      10102  Queanbeyan        101   \n",
      "1  101021008      11008            Karabar      10102  Queanbeyan        101   \n",
      "2  101021009      11009         Queanbeyan      10102  Queanbeyan        101   \n",
      "3  101021010      11010  Queanbeyan - East      10102  Queanbeyan        101   \n",
      "4  101021011      11011  Queanbeyan Region      10102  Queanbeyan        101   \n",
      "\n",
      "       SA4_NAME16 GCC_CODE16   GCC_NAME16 STE_CODE16       STE_NAME16  \\\n",
      "0  Capital Region      1RNSW  Rest of NSW          1  New South Wales   \n",
      "1  Capital Region      1RNSW  Rest of NSW          1  New South Wales   \n",
      "2  Capital Region      1RNSW  Rest of NSW          1  New South Wales   \n",
      "3  Capital Region      1RNSW  Rest of NSW          1  New South Wales   \n",
      "4  Capital Region      1RNSW  Rest of NSW          1  New South Wales   \n",
      "\n",
      "   AREASQKM16                                           geometry  \n",
      "0   3418.3525  POLYGON ((149.58423 -35.44427, 149.58444 -35.4...  \n",
      "1      6.9825  POLYGON ((149.21898 -35.36739, 149.21799 -35.3...  \n",
      "2      4.7634  POLYGON ((149.21325 -35.34325, 149.21619 -35.3...  \n",
      "3     13.0034  POLYGON ((149.24033 -35.34782, 149.24023 -35.3...  \n",
      "4   3054.4099  POLYGON ((149.23580 -35.38738, 149.23771 -35.3...  \n"
     ]
    }
   ],
   "source": [
    "# read in shapefile and merge with SA2\n",
    "sf = gpd.read_file('../data/raw/external/SA2_shapefile/SA2_2016_AUST.shp')\n",
    "print(sf.head())\n",
    "gdf = gpd.GeoDataFrame(\n",
    "    pd.merge(income, sf, left_on='SA2', right_on='SA2_MAIN16', how='inner')\n",
    ")\n",
    "geoJSON = gdf[['SA2', 'geometry']].to_json()"
   ]
  }
 ],
 "metadata": {
  "kernelspec": {
   "display_name": "Python 3.8.2 ('MAST30034env': venv)",
   "language": "python",
   "name": "python3"
  },
  "language_info": {
   "codemirror_mode": {
    "name": "ipython",
    "version": 3
   },
   "file_extension": ".py",
   "mimetype": "text/x-python",
   "name": "python",
   "nbconvert_exporter": "python",
   "pygments_lexer": "ipython3",
   "version": "3.8.2"
  },
  "orig_nbformat": 4,
  "vscode": {
   "interpreter": {
    "hash": "a5732c9d997a6f78fcb86dba9b0f86e5cc814f598a215f7fa9c9d5c7c7ffa066"
   }
  }
 },
 "nbformat": 4,
 "nbformat_minor": 2
}
