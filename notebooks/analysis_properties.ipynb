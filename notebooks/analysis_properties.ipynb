{
 "cells": [
  {
   "cell_type": "code",
   "execution_count": 154,
   "metadata": {},
   "outputs": [],
   "source": [
    "import pandas as pd\n",
    "import seaborn as sns\n",
    "import matplotlib.pyplot as plt\n",
    "import numpy as np\n",
    "\n",
    "import statsmodels.api as sm\n",
    "from statsmodels.formula.api import ols\n",
    "\n",
    "import geopandas as gpd\n",
    "\n",
    "import dython\n",
    "\n",
    "from sklearn.feature_selection import SelectFpr, chi2, SelectKBest, SelectFwe, f_classif, SelectFdr\n"
   ]
  },
  {
   "cell_type": "code",
   "execution_count": 155,
   "metadata": {},
   "outputs": [],
   "source": [
    "relative_dir = \"../data/curated/\"\n",
    "income = pd.read_csv(\"../data/raw/external/vic_income.csv\", index_col=0)\n",
    "mapping = pd.read_csv(relative_dir + \"sa2_postcode_mapping_2021.csv\")\n",
    "properties = pd.read_csv(relative_dir + \"categorised_distances.csv\", index_col=0)"
   ]
  },
  {
   "cell_type": "code",
   "execution_count": 156,
   "metadata": {},
   "outputs": [],
   "source": [
    "properties['Postcode'] = properties['Postcode'].astype(str)"
   ]
  },
  {
   "cell_type": "code",
   "execution_count": 157,
   "metadata": {},
   "outputs": [],
   "source": [
    "mapping['postcode_2021'] = mapping['postcode_2021'].astype(str)"
   ]
  },
  {
   "cell_type": "code",
   "execution_count": 158,
   "metadata": {},
   "outputs": [],
   "source": [
    "properties = pd.merge(properties, mapping, left_on='Postcode', right_on='postcode_2021').drop('postcode_2021', axis=1)"
   ]
  },
  {
   "cell_type": "code",
   "execution_count": 159,
   "metadata": {},
   "outputs": [],
   "source": [
    "properties['sa2_2021'] = properties['sa2_2021'].astype(str)\n",
    "properties = properties.rename({'sa2_2021':'SA2'})"
   ]
  },
  {
   "cell_type": "markdown",
   "metadata": {},
   "source": [
    "## Income Data"
   ]
  },
  {
   "cell_type": "code",
   "execution_count": 160,
   "metadata": {},
   "outputs": [
    {
     "data": {
      "text/html": [
       "<div>\n",
       "<style scoped>\n",
       "    .dataframe tbody tr th:only-of-type {\n",
       "        vertical-align: middle;\n",
       "    }\n",
       "\n",
       "    .dataframe tbody tr th {\n",
       "        vertical-align: top;\n",
       "    }\n",
       "\n",
       "    .dataframe thead th {\n",
       "        text-align: right;\n",
       "    }\n",
       "</style>\n",
       "<table border=\"1\" class=\"dataframe\">\n",
       "  <thead>\n",
       "    <tr style=\"text-align: right;\">\n",
       "      <th></th>\n",
       "      <th>SA2</th>\n",
       "      <th>SA2_name</th>\n",
       "      <th>Earners</th>\n",
       "      <th>Median_age</th>\n",
       "      <th>Sum</th>\n",
       "      <th>Median</th>\n",
       "    </tr>\n",
       "  </thead>\n",
       "  <tbody>\n",
       "    <tr>\n",
       "      <th>579</th>\n",
       "      <td>201011001</td>\n",
       "      <td>Alfredton</td>\n",
       "      <td>7989</td>\n",
       "      <td>42</td>\n",
       "      <td>508645842</td>\n",
       "      <td>53932</td>\n",
       "    </tr>\n",
       "    <tr>\n",
       "      <th>580</th>\n",
       "      <td>201011002</td>\n",
       "      <td>Ballarat</td>\n",
       "      <td>7595</td>\n",
       "      <td>47</td>\n",
       "      <td>591465895</td>\n",
       "      <td>53688</td>\n",
       "    </tr>\n",
       "    <tr>\n",
       "      <th>581</th>\n",
       "      <td>201011003</td>\n",
       "      <td>Ballarat - North</td>\n",
       "      <td>13598</td>\n",
       "      <td>43</td>\n",
       "      <td>820866354</td>\n",
       "      <td>50593</td>\n",
       "    </tr>\n",
       "    <tr>\n",
       "      <th>582</th>\n",
       "      <td>201011004</td>\n",
       "      <td>Ballarat - South</td>\n",
       "      <td>12722</td>\n",
       "      <td>40</td>\n",
       "      <td>646001740</td>\n",
       "      <td>45828</td>\n",
       "    </tr>\n",
       "    <tr>\n",
       "      <th>583</th>\n",
       "      <td>201011005</td>\n",
       "      <td>Buninyong</td>\n",
       "      <td>4249</td>\n",
       "      <td>46</td>\n",
       "      <td>268782250</td>\n",
       "      <td>52377</td>\n",
       "    </tr>\n",
       "  </tbody>\n",
       "</table>\n",
       "</div>"
      ],
      "text/plain": [
       "           SA2          SA2_name  Earners  Median_age        Sum  Median\n",
       "579  201011001         Alfredton     7989          42  508645842   53932\n",
       "580  201011002          Ballarat     7595          47  591465895   53688\n",
       "581  201011003  Ballarat - North    13598          43  820866354   50593\n",
       "582  201011004  Ballarat - South    12722          40  646001740   45828\n",
       "583  201011005         Buninyong     4249          46  268782250   52377"
      ]
     },
     "execution_count": 160,
     "metadata": {},
     "output_type": "execute_result"
    }
   ],
   "source": [
    "income['SA2'] = income['SA2'].astype(str)\n",
    "income.head()"
   ]
  },
  {
   "cell_type": "code",
   "execution_count": 161,
   "metadata": {},
   "outputs": [
    {
     "data": {
      "text/html": [
       "<div>\n",
       "<style scoped>\n",
       "    .dataframe tbody tr th:only-of-type {\n",
       "        vertical-align: middle;\n",
       "    }\n",
       "\n",
       "    .dataframe tbody tr th {\n",
       "        vertical-align: top;\n",
       "    }\n",
       "\n",
       "    .dataframe thead th {\n",
       "        text-align: right;\n",
       "    }\n",
       "</style>\n",
       "<table border=\"1\" class=\"dataframe\">\n",
       "  <thead>\n",
       "    <tr style=\"text-align: right;\">\n",
       "      <th></th>\n",
       "      <th>Name</th>\n",
       "      <th>Cost</th>\n",
       "      <th>Coordinates</th>\n",
       "      <th>Bed</th>\n",
       "      <th>Bath</th>\n",
       "      <th>Parking</th>\n",
       "      <th>Property_Type</th>\n",
       "      <th>Agency</th>\n",
       "      <th>Postcode</th>\n",
       "      <th>cbd_duration</th>\n",
       "      <th>...</th>\n",
       "      <th>postoffice_distance</th>\n",
       "      <th>primary_distance</th>\n",
       "      <th>secondary_distance</th>\n",
       "      <th>sa2_2021</th>\n",
       "      <th>SA2</th>\n",
       "      <th>SA2_name</th>\n",
       "      <th>Earners</th>\n",
       "      <th>Median_age</th>\n",
       "      <th>Sum</th>\n",
       "      <th>Median</th>\n",
       "    </tr>\n",
       "  </thead>\n",
       "  <tbody>\n",
       "    <tr>\n",
       "      <th>0</th>\n",
       "      <td>5408/500 Elizabeth Street Melbourne VIC 3000</td>\n",
       "      <td>440.0</td>\n",
       "      <td>[-37.8072443, 144.9602814]</td>\n",
       "      <td>1</td>\n",
       "      <td>1</td>\n",
       "      <td>0</td>\n",
       "      <td>Apartment / Unit / Flat</td>\n",
       "      <td>BRADY residential</td>\n",
       "      <td>3000</td>\n",
       "      <td>80.0</td>\n",
       "      <td>...</td>\n",
       "      <td>1</td>\n",
       "      <td>1</td>\n",
       "      <td>1</td>\n",
       "      <td>206041117</td>\n",
       "      <td>206041117</td>\n",
       "      <td>Carlton</td>\n",
       "      <td>9422</td>\n",
       "      <td>30</td>\n",
       "      <td>563346766</td>\n",
       "      <td>38891</td>\n",
       "    </tr>\n",
       "  </tbody>\n",
       "</table>\n",
       "<p>1 rows × 28 columns</p>\n",
       "</div>"
      ],
      "text/plain": [
       "                                           Name   Cost  \\\n",
       "0  5408/500 Elizabeth Street Melbourne VIC 3000  440.0   \n",
       "\n",
       "                  Coordinates  Bed  Bath  Parking            Property_Type  \\\n",
       "0  [-37.8072443, 144.9602814]    1     1        0  Apartment / Unit / Flat   \n",
       "\n",
       "              Agency Postcode  cbd_duration  ...  postoffice_distance  \\\n",
       "0  BRADY residential     3000          80.0  ...                    1   \n",
       "\n",
       "   primary_distance  secondary_distance   sa2_2021        SA2  SA2_name  \\\n",
       "0                 1                   1  206041117  206041117   Carlton   \n",
       "\n",
       "   Earners  Median_age        Sum  Median  \n",
       "0     9422          30  563346766   38891  \n",
       "\n",
       "[1 rows x 28 columns]"
      ]
     },
     "execution_count": 161,
     "metadata": {},
     "output_type": "execute_result"
    }
   ],
   "source": [
    "properties['sa2_2021'] = properties['sa2_2021'].astype(float).astype(int).astype(str)\n",
    "properties = pd.merge(properties, income, left_on='sa2_2021', right_on='SA2')\n",
    "properties.head(1)"
   ]
  },
  {
   "cell_type": "code",
   "execution_count": 162,
   "metadata": {},
   "outputs": [
    {
     "data": {
      "image/png": "[encoded data removed]",
      "text/plain": [
       "<Figure size 648x360 with 1 Axes>"
      ]
     },
     "metadata": {
      "needs_background": "light"
     },
     "output_type": "display_data"
    }
   ],
   "source": [
    "# Rental Cost Distribution\n",
    "plt.figure(figsize = (9, 5))\n",
    "plt.title('Rental Cost Distribution')\n",
    "plt.hist(properties['Cost'], bins=100, color='purple')\n",
    "plt.savefig('../plots/cost_distribution.jpg')\n",
    "plt.show()"
   ]
  },
  {
   "cell_type": "markdown",
   "metadata": {},
   "source": [
    "## Continuous Data Correlations\n",
    "*Note:* We treat the ordinal features as continuous in order to keep ordering information."
   ]
  },
  {
   "cell_type": "code",
   "execution_count": 163,
   "metadata": {},
   "outputs": [
    {
     "data": {
      "image/png": "[encoded data removed]",
      "text/plain": [
       "<Figure size 648x576 with 2 Axes>"
      ]
     },
     "metadata": {
      "needs_background": "light"
     },
     "output_type": "display_data"
    }
   ],
   "source": [
    "corrmat = properties.corr(method='pearson')\n",
    "f, ax = plt.subplots(figsize =(9, 8))\n",
    "colours = sns.diverging_palette(145, 300, s=60, as_cmap=True)\n",
    "# possible colours: \"coolwarm\", \"vlag\"\n",
    "sns.heatmap(corrmat, ax = ax, cmap=colours, linewidths = 0.1, center=0, vmin=-1)\n",
    "plt.title('Pearson Correlation Matrix')\n",
    "plt.savefig('../plots/correlation.jpg')\n",
    "plt.show()"
   ]
  },
  {
   "cell_type": "markdown",
   "metadata": {},
   "source": [
    "Find the most correlated features with rental cost of property."
   ]
  },
  {
   "cell_type": "code",
   "execution_count": 164,
   "metadata": {},
   "outputs": [
    {
     "data": {
      "text/html": [
       "<div>\n",
       "<style scoped>\n",
       "    .dataframe tbody tr th:only-of-type {\n",
       "        vertical-align: middle;\n",
       "    }\n",
       "\n",
       "    .dataframe tbody tr th {\n",
       "        vertical-align: top;\n",
       "    }\n",
       "\n",
       "    .dataframe thead th {\n",
       "        text-align: right;\n",
       "    }\n",
       "</style>\n",
       "<table border=\"1\" class=\"dataframe\">\n",
       "  <thead>\n",
       "    <tr style=\"text-align: right;\">\n",
       "      <th></th>\n",
       "      <th></th>\n",
       "      <th>correlation</th>\n",
       "      <th>abs_corr</th>\n",
       "    </tr>\n",
       "  </thead>\n",
       "  <tbody>\n",
       "    <tr>\n",
       "      <th rowspan=\"20\" valign=\"top\">Cost</th>\n",
       "      <th>Cost</th>\n",
       "      <td>1.000000</td>\n",
       "      <td>1.000000</td>\n",
       "    </tr>\n",
       "    <tr>\n",
       "      <th>Bath</th>\n",
       "      <td>0.417956</td>\n",
       "      <td>0.417956</td>\n",
       "    </tr>\n",
       "    <tr>\n",
       "      <th>Bed</th>\n",
       "      <td>0.350487</td>\n",
       "      <td>0.350487</td>\n",
       "    </tr>\n",
       "    <tr>\n",
       "      <th>Sum</th>\n",
       "      <td>0.252288</td>\n",
       "      <td>0.252288</td>\n",
       "    </tr>\n",
       "    <tr>\n",
       "      <th>Median</th>\n",
       "      <td>0.211445</td>\n",
       "      <td>0.211445</td>\n",
       "    </tr>\n",
       "    <tr>\n",
       "      <th>Parking</th>\n",
       "      <td>0.196904</td>\n",
       "      <td>0.196904</td>\n",
       "    </tr>\n",
       "    <tr>\n",
       "      <th>Nearby_Schools</th>\n",
       "      <td>0.156157</td>\n",
       "      <td>0.156157</td>\n",
       "    </tr>\n",
       "    <tr>\n",
       "      <th>Earners</th>\n",
       "      <td>0.142586</td>\n",
       "      <td>0.142586</td>\n",
       "    </tr>\n",
       "    <tr>\n",
       "      <th>cbd_duration</th>\n",
       "      <td>-0.126421</td>\n",
       "      <td>0.126421</td>\n",
       "    </tr>\n",
       "    <tr>\n",
       "      <th>station_duration</th>\n",
       "      <td>-0.088071</td>\n",
       "      <td>0.088071</td>\n",
       "    </tr>\n",
       "    <tr>\n",
       "      <th>station_distance</th>\n",
       "      <td>-0.086109</td>\n",
       "      <td>0.086109</td>\n",
       "    </tr>\n",
       "    <tr>\n",
       "      <th>postoffice_duration</th>\n",
       "      <td>-0.078370</td>\n",
       "      <td>0.078370</td>\n",
       "    </tr>\n",
       "    <tr>\n",
       "      <th>postoffice_distance</th>\n",
       "      <td>-0.070462</td>\n",
       "      <td>0.070462</td>\n",
       "    </tr>\n",
       "    <tr>\n",
       "      <th>Median_age</th>\n",
       "      <td>0.049349</td>\n",
       "      <td>0.049349</td>\n",
       "    </tr>\n",
       "    <tr>\n",
       "      <th>secondary_distance</th>\n",
       "      <td>0.035898</td>\n",
       "      <td>0.035898</td>\n",
       "    </tr>\n",
       "    <tr>\n",
       "      <th>park_distance</th>\n",
       "      <td>0.031051</td>\n",
       "      <td>0.031051</td>\n",
       "    </tr>\n",
       "    <tr>\n",
       "      <th>park_duration</th>\n",
       "      <td>0.027210</td>\n",
       "      <td>0.027210</td>\n",
       "    </tr>\n",
       "    <tr>\n",
       "      <th>primary_distance</th>\n",
       "      <td>0.026222</td>\n",
       "      <td>0.026222</td>\n",
       "    </tr>\n",
       "    <tr>\n",
       "      <th>secondary_duration</th>\n",
       "      <td>-0.023590</td>\n",
       "      <td>0.023590</td>\n",
       "    </tr>\n",
       "    <tr>\n",
       "      <th>primary_duration</th>\n",
       "      <td>0.004869</td>\n",
       "      <td>0.004869</td>\n",
       "    </tr>\n",
       "  </tbody>\n",
       "</table>\n",
       "</div>"
      ],
      "text/plain": [
       "                          correlation  abs_corr\n",
       "Cost Cost                    1.000000  1.000000\n",
       "     Bath                    0.417956  0.417956\n",
       "     Bed                     0.350487  0.350487\n",
       "     Sum                     0.252288  0.252288\n",
       "     Median                  0.211445  0.211445\n",
       "     Parking                 0.196904  0.196904\n",
       "     Nearby_Schools          0.156157  0.156157\n",
       "     Earners                 0.142586  0.142586\n",
       "     cbd_duration           -0.126421  0.126421\n",
       "     station_duration       -0.088071  0.088071\n",
       "     station_distance       -0.086109  0.086109\n",
       "     postoffice_duration    -0.078370  0.078370\n",
       "     postoffice_distance    -0.070462  0.070462\n",
       "     Median_age              0.049349  0.049349\n",
       "     secondary_distance      0.035898  0.035898\n",
       "     park_distance           0.031051  0.031051\n",
       "     park_duration           0.027210  0.027210\n",
       "     primary_distance        0.026222  0.026222\n",
       "     secondary_duration     -0.023590  0.023590\n",
       "     primary_duration        0.004869  0.004869"
      ]
     },
     "execution_count": 164,
     "metadata": {},
     "output_type": "execute_result"
    }
   ],
   "source": [
    "sorted_mat = corrmat.unstack().sort_values()\n",
    "\n",
    "# reformat series into data frame\n",
    "df = pd.DataFrame(data=sorted_mat)\n",
    "df.rename({0:'correlation'}, axis=1, inplace=True)\n",
    "df['Index'] = df.index\n",
    "df = pd.concat(\n",
    "        [df.drop('Index', axis=1), \n",
    "        df['Index'].apply(pd.Series)]\n",
    "    , axis=1)\n",
    "\n",
    "# output correlation list\n",
    "cost_correlations = pd.DataFrame(df[df[0] == 'Cost']['correlation'])\n",
    "cost_correlations['abs_corr'] = abs(cost_correlations['correlation'])\n",
    "cost_correlations.sort_values(by='abs_corr', ascending=False)"
   ]
  },
  {
   "cell_type": "markdown",
   "metadata": {},
   "source": [
    "## Continuous and Categorical Data Correlations"
   ]
  },
  {
   "cell_type": "code",
   "execution_count": 167,
   "metadata": {},
   "outputs": [
    {
     "data": {
      "image/png": "[encoded data removed]",
      "text/plain": [
       "<Figure size 432x288 with 2 Axes>"
      ]
     },
     "metadata": {
      "needs_background": "light"
     },
     "output_type": "display_data"
    }
   ],
   "source": [
    "# get correlation of numeric attributes with cost\n",
    "exclusions = ['Name', 'Coordinates', 'sa2_2021', 'SA2', 'SA2_name', 'Sum', 'postoffice_distance', 'station_distance', 'park_duration', 'secondary_duration', 'primary_duration']\n",
    "corr_data = properties.drop(exclusions, axis=1)\n",
    "corr_mat = dython.nominal.associations(corr_data, annot=False)"
   ]
  },
  {
   "cell_type": "code",
   "execution_count": 168,
   "metadata": {},
   "outputs": [
    {
     "data": {
      "text/html": [
       "<div>\n",
       "<style scoped>\n",
       "    .dataframe tbody tr th:only-of-type {\n",
       "        vertical-align: middle;\n",
       "    }\n",
       "\n",
       "    .dataframe tbody tr th {\n",
       "        vertical-align: top;\n",
       "    }\n",
       "\n",
       "    .dataframe thead th {\n",
       "        text-align: right;\n",
       "    }\n",
       "</style>\n",
       "<table border=\"1\" class=\"dataframe\">\n",
       "  <thead>\n",
       "    <tr style=\"text-align: right;\">\n",
       "      <th></th>\n",
       "      <th>correlation</th>\n",
       "      <th>abs_corr</th>\n",
       "    </tr>\n",
       "  </thead>\n",
       "  <tbody>\n",
       "    <tr>\n",
       "      <th>Agency</th>\n",
       "      <td>0.650220</td>\n",
       "      <td>0.650220</td>\n",
       "    </tr>\n",
       "    <tr>\n",
       "      <th>Postcode</th>\n",
       "      <td>0.511940</td>\n",
       "      <td>0.511940</td>\n",
       "    </tr>\n",
       "    <tr>\n",
       "      <th>Bath</th>\n",
       "      <td>0.417956</td>\n",
       "      <td>0.417956</td>\n",
       "    </tr>\n",
       "    <tr>\n",
       "      <th>Bed</th>\n",
       "      <td>0.350487</td>\n",
       "      <td>0.350487</td>\n",
       "    </tr>\n",
       "    <tr>\n",
       "      <th>Median</th>\n",
       "      <td>0.211445</td>\n",
       "      <td>0.211445</td>\n",
       "    </tr>\n",
       "    <tr>\n",
       "      <th>Parking</th>\n",
       "      <td>0.196904</td>\n",
       "      <td>0.196904</td>\n",
       "    </tr>\n",
       "    <tr>\n",
       "      <th>Property_Type</th>\n",
       "      <td>0.176706</td>\n",
       "      <td>0.176706</td>\n",
       "    </tr>\n",
       "    <tr>\n",
       "      <th>Nearby_Schools</th>\n",
       "      <td>0.156157</td>\n",
       "      <td>0.156157</td>\n",
       "    </tr>\n",
       "    <tr>\n",
       "      <th>Earners</th>\n",
       "      <td>0.142586</td>\n",
       "      <td>0.142586</td>\n",
       "    </tr>\n",
       "    <tr>\n",
       "      <th>cbd_duration</th>\n",
       "      <td>-0.126199</td>\n",
       "      <td>0.126199</td>\n",
       "    </tr>\n",
       "    <tr>\n",
       "      <th>station_duration</th>\n",
       "      <td>-0.088071</td>\n",
       "      <td>0.088071</td>\n",
       "    </tr>\n",
       "    <tr>\n",
       "      <th>postoffice_duration</th>\n",
       "      <td>-0.078370</td>\n",
       "      <td>0.078370</td>\n",
       "    </tr>\n",
       "    <tr>\n",
       "      <th>Median_age</th>\n",
       "      <td>0.049349</td>\n",
       "      <td>0.049349</td>\n",
       "    </tr>\n",
       "    <tr>\n",
       "      <th>secondary_distance</th>\n",
       "      <td>0.035898</td>\n",
       "      <td>0.035898</td>\n",
       "    </tr>\n",
       "    <tr>\n",
       "      <th>park_distance</th>\n",
       "      <td>0.031051</td>\n",
       "      <td>0.031051</td>\n",
       "    </tr>\n",
       "    <tr>\n",
       "      <th>primary_distance</th>\n",
       "      <td>0.026222</td>\n",
       "      <td>0.026222</td>\n",
       "    </tr>\n",
       "  </tbody>\n",
       "</table>\n",
       "</div>"
      ],
      "text/plain": [
       "                     correlation  abs_corr\n",
       "Agency                  0.650220  0.650220\n",
       "Postcode                0.511940  0.511940\n",
       "Bath                    0.417956  0.417956\n",
       "Bed                     0.350487  0.350487\n",
       "Median                  0.211445  0.211445\n",
       "Parking                 0.196904  0.196904\n",
       "Property_Type           0.176706  0.176706\n",
       "Nearby_Schools          0.156157  0.156157\n",
       "Earners                 0.142586  0.142586\n",
       "cbd_duration           -0.126199  0.126199\n",
       "station_duration       -0.088071  0.088071\n",
       "postoffice_duration    -0.078370  0.078370\n",
       "Median_age              0.049349  0.049349\n",
       "secondary_distance      0.035898  0.035898\n",
       "park_distance           0.031051  0.031051\n",
       "primary_distance        0.026222  0.026222"
      ]
     },
     "execution_count": 168,
     "metadata": {},
     "output_type": "execute_result"
    }
   ],
   "source": [
    "sorted_mat = corr_mat['corr'].unstack().sort_values()\n",
    "\n",
    "# reformat series into data frame\n",
    "df = pd.DataFrame(data=sorted_mat)\n",
    "df.rename({0:'correlation'}, axis=1, inplace=True)\n",
    "df['Index'] = df.index\n",
    "df = pd.concat(\n",
    "        [df.drop('Index', axis=1), \n",
    "        df['Index'].apply(pd.Series)]\n",
    "    , axis=1)\n",
    "\n",
    "# output correlation list\n",
    "cost_correlations = pd.DataFrame(df[df[0] == 'Cost']['correlation'])\n",
    "cost_correlations['abs_corr'] = abs(cost_correlations['correlation'])\n",
    "cost_correlations = cost_correlations.sort_values(by='abs_corr', ascending=False)\n",
    "\n",
    "# remove multi-level indexing\n",
    "cost_correlations.index = cost_correlations.index.droplevel(0)\n",
    "\n",
    "cost_correlations.drop('Cost')"
   ]
  },
  {
   "cell_type": "markdown",
   "metadata": {},
   "source": [
    "#### Highly correlated features\n",
    "- Postcode and SA2 are extremely correlated, so only include postcode which has slightly higher correlation with cost. \n",
    "- all distance/duration combos - pick best from each category\n",
    "    - keep duration: CBD, station\n",
    "    - keep distance: park, secondary and primary schools (kids can't drive and people likely want to walk to parks, not drive)\n",
    "- Postcode highly correlated with everything\n",
    "- cbd_duration: postcode and agency\n",
    "- Median and total income - only include median\n",
    "\n",
    "#### Interesting notes\n",
    "- Highest correlations are for features already on property website - good, makes sense, they're doing the right thing.\n",
    "- people do not care about schools, if anything they don't want to live near schools. Only a minority of people have children and care about that? People with and without kids cancel eachother out? Families less likely to rent than buy. "
   ]
  },
  {
   "cell_type": "markdown",
   "metadata": {},
   "source": [
    "## Categorical ANOVAs"
   ]
  },
  {
   "cell_type": "code",
   "execution_count": 109,
   "metadata": {},
   "outputs": [
    {
     "name": "stdout",
     "output_type": "stream",
     "text": [
      "               df        sum_sq        mean_sq         F  PR(>F)\n",
      "Postcode    374.0  2.019698e+08  540026.239923  9.126862     0.0\n",
      "Residual  11465.0  6.783713e+08   59168.884891       NaN     NaN\n",
      "                    df        sum_sq       mean_sq         F        PR(>F)\n",
      "Property_Type      9.0  3.375730e+07  3.750811e+06  52.41311  5.539890e-94\n",
      "Residual       11830.0  8.465838e+08  7.156245e+04       NaN           NaN\n",
      "               df        sum_sq        mean_sq         F  PR(>F)\n",
      "Agency     1335.0  3.347445e+08  250744.959848  4.827422     0.0\n",
      "Residual  10504.0  5.455966e+08   51941.789567       NaN     NaN\n"
     ]
    }
   ],
   "source": [
    "# test for relationship with categorical variables using one-way ANOVA\n",
    "categoricals = ['Postcode', 'Property_Type', 'Agency']\n",
    "\n",
    "for c in categoricals:\n",
    "    model = ols('Cost ~ '+c, data = properties).fit() # Oridnary least squares\n",
    "    result_anova = sm.stats.anova_lm(model) # ANOVA Test\n",
    "    print(result_anova)"
   ]
  },
  {
   "cell_type": "markdown",
   "metadata": {},
   "source": [
    "All p values are less than 0.05 so all attributes are significant."
   ]
  },
  {
   "cell_type": "markdown",
   "metadata": {},
   "source": [
    "## Feature Selection"
   ]
  },
  {
   "cell_type": "code",
   "execution_count": 105,
   "metadata": {},
   "outputs": [
    {
     "ename": "ValueError",
     "evalue": "Input X contains NaN.\nSelectFwe does not accept missing values encoded as NaN natively. For supervised learning, you might want to consider sklearn.ensemble.HistGradientBoostingClassifier and Regressor which accept missing values encoded as NaNs natively. Alternatively, it is possible to preprocess the data, for instance by using an imputer transformer in a pipeline or drop samples with missing values. See https://scikit-learn.org/stable/modules/impute.html You can find a list of all estimators that handle NaN values at the following page: https://scikit-learn.org/stable/modules/impute.html#estimators-that-handle-nan-values",
     "output_type": "error",
     "traceback": [
      "\u001b[0;31m---------------------------------------------------------------------------\u001b[0m",
      "\u001b[0;31mValueError\u001b[0m                                Traceback (most recent call last)",
      "\u001b[1;32m/Users/winona/Library/CloudStorage/OneDrive-TheUniversityofMelbourne/University/Applied-Data-Science/real-estate-project-group-42/notebooks/analysis_properties.ipynb Cell 24\u001b[0m in \u001b[0;36m<cell line: 6>\u001b[0;34m()\u001b[0m\n\u001b[1;32m      <a href='vscode-notebook-cell:/Users/winona/Library/CloudStorage/OneDrive-TheUniversityofMelbourne/University/Applied-Data-Science/real-estate-project-group-42/notebooks/analysis_properties.ipynb#X33sZmlsZQ%3D%3D?line=3'>4</a>\u001b[0m \u001b[39m# selector = SelectKBest(score_func=chi2, k=10)\u001b[39;00m\n\u001b[1;32m      <a href='vscode-notebook-cell:/Users/winona/Library/CloudStorage/OneDrive-TheUniversityofMelbourne/University/Applied-Data-Science/real-estate-project-group-42/notebooks/analysis_properties.ipynb#X33sZmlsZQ%3D%3D?line=4'>5</a>\u001b[0m selector \u001b[39m=\u001b[39m SelectFwe(score_func\u001b[39m=\u001b[39mchi2, alpha\u001b[39m=\u001b[39m\u001b[39m0.05\u001b[39m)\n\u001b[0;32m----> <a href='vscode-notebook-cell:/Users/winona/Library/CloudStorage/OneDrive-TheUniversityofMelbourne/University/Applied-Data-Science/real-estate-project-group-42/notebooks/analysis_properties.ipynb#X33sZmlsZQ%3D%3D?line=5'>6</a>\u001b[0m new_data \u001b[39m=\u001b[39m selector\u001b[39m.\u001b[39;49mfit_transform(X, y)\n\u001b[1;32m      <a href='vscode-notebook-cell:/Users/winona/Library/CloudStorage/OneDrive-TheUniversityofMelbourne/University/Applied-Data-Science/real-estate-project-group-42/notebooks/analysis_properties.ipynb#X33sZmlsZQ%3D%3D?line=7'>8</a>\u001b[0m mask \u001b[39m=\u001b[39m selector\u001b[39m.\u001b[39mget_support()\n\u001b[1;32m      <a href='vscode-notebook-cell:/Users/winona/Library/CloudStorage/OneDrive-TheUniversityofMelbourne/University/Applied-Data-Science/real-estate-project-group-42/notebooks/analysis_properties.ipynb#X33sZmlsZQ%3D%3D?line=8'>9</a>\u001b[0m new_features \u001b[39m=\u001b[39m X\u001b[39m.\u001b[39mcolumns[mask]\n",
      "File \u001b[0;32m~/Library/CloudStorage/OneDrive-TheUniversityofMelbourne/University/Applied-Data-Science/MAST30034env/lib/python3.8/site-packages/sklearn/base.py:870\u001b[0m, in \u001b[0;36mTransformerMixin.fit_transform\u001b[0;34m(self, X, y, **fit_params)\u001b[0m\n\u001b[1;32m    867\u001b[0m     \u001b[39mreturn\u001b[39;00m \u001b[39mself\u001b[39m\u001b[39m.\u001b[39mfit(X, \u001b[39m*\u001b[39m\u001b[39m*\u001b[39mfit_params)\u001b[39m.\u001b[39mtransform(X)\n\u001b[1;32m    868\u001b[0m \u001b[39melse\u001b[39;00m:\n\u001b[1;32m    869\u001b[0m     \u001b[39m# fit method of arity 2 (supervised transformation)\u001b[39;00m\n\u001b[0;32m--> 870\u001b[0m     \u001b[39mreturn\u001b[39;00m \u001b[39mself\u001b[39;49m\u001b[39m.\u001b[39;49mfit(X, y, \u001b[39m*\u001b[39;49m\u001b[39m*\u001b[39;49mfit_params)\u001b[39m.\u001b[39mtransform(X)\n",
      "File \u001b[0;32m~/Library/CloudStorage/OneDrive-TheUniversityofMelbourne/University/Applied-Data-Science/MAST30034env/lib/python3.8/site-packages/sklearn/feature_selection/_univariate_selection.py:461\u001b[0m, in \u001b[0;36m_BaseFilter.fit\u001b[0;34m(self, X, y)\u001b[0m\n\u001b[1;32m    444\u001b[0m \u001b[39mdef\u001b[39;00m \u001b[39mfit\u001b[39m(\u001b[39mself\u001b[39m, X, y):\n\u001b[1;32m    445\u001b[0m     \u001b[39m\"\"\"Run score function on (X, y) and get the appropriate features.\u001b[39;00m\n\u001b[1;32m    446\u001b[0m \n\u001b[1;32m    447\u001b[0m \u001b[39m    Parameters\u001b[39;00m\n\u001b[0;32m   (...)\u001b[0m\n\u001b[1;32m    459\u001b[0m \u001b[39m        Returns the instance itself.\u001b[39;00m\n\u001b[1;32m    460\u001b[0m \u001b[39m    \"\"\"\u001b[39;00m\n\u001b[0;32m--> 461\u001b[0m     X, y \u001b[39m=\u001b[39m \u001b[39mself\u001b[39;49m\u001b[39m.\u001b[39;49m_validate_data(\n\u001b[1;32m    462\u001b[0m         X, y, accept_sparse\u001b[39m=\u001b[39;49m[\u001b[39m\"\u001b[39;49m\u001b[39mcsr\u001b[39;49m\u001b[39m\"\u001b[39;49m, \u001b[39m\"\u001b[39;49m\u001b[39mcsc\u001b[39;49m\u001b[39m\"\u001b[39;49m], multi_output\u001b[39m=\u001b[39;49m\u001b[39mTrue\u001b[39;49;00m\n\u001b[1;32m    463\u001b[0m     )\n\u001b[1;32m    465\u001b[0m     \u001b[39mif\u001b[39;00m \u001b[39mnot\u001b[39;00m callable(\u001b[39mself\u001b[39m\u001b[39m.\u001b[39mscore_func):\n\u001b[1;32m    466\u001b[0m         \u001b[39mraise\u001b[39;00m \u001b[39mTypeError\u001b[39;00m(\n\u001b[1;32m    467\u001b[0m             \u001b[39m\"\u001b[39m\u001b[39mThe score function should be a callable, \u001b[39m\u001b[39m%s\u001b[39;00m\u001b[39m (\u001b[39m\u001b[39m%s\u001b[39;00m\u001b[39m) was passed.\u001b[39m\u001b[39m\"\u001b[39m\n\u001b[1;32m    468\u001b[0m             \u001b[39m%\u001b[39m (\u001b[39mself\u001b[39m\u001b[39m.\u001b[39mscore_func, \u001b[39mtype\u001b[39m(\u001b[39mself\u001b[39m\u001b[39m.\u001b[39mscore_func))\n\u001b[1;32m    469\u001b[0m         )\n",
      "File \u001b[0;32m~/Library/CloudStorage/OneDrive-TheUniversityofMelbourne/University/Applied-Data-Science/MAST30034env/lib/python3.8/site-packages/sklearn/base.py:596\u001b[0m, in \u001b[0;36mBaseEstimator._validate_data\u001b[0;34m(self, X, y, reset, validate_separately, **check_params)\u001b[0m\n\u001b[1;32m    594\u001b[0m         y \u001b[39m=\u001b[39m check_array(y, input_name\u001b[39m=\u001b[39m\u001b[39m\"\u001b[39m\u001b[39my\u001b[39m\u001b[39m\"\u001b[39m, \u001b[39m*\u001b[39m\u001b[39m*\u001b[39mcheck_y_params)\n\u001b[1;32m    595\u001b[0m     \u001b[39melse\u001b[39;00m:\n\u001b[0;32m--> 596\u001b[0m         X, y \u001b[39m=\u001b[39m check_X_y(X, y, \u001b[39m*\u001b[39;49m\u001b[39m*\u001b[39;49mcheck_params)\n\u001b[1;32m    597\u001b[0m     out \u001b[39m=\u001b[39m X, y\n\u001b[1;32m    599\u001b[0m \u001b[39mif\u001b[39;00m \u001b[39mnot\u001b[39;00m no_val_X \u001b[39mand\u001b[39;00m check_params\u001b[39m.\u001b[39mget(\u001b[39m\"\u001b[39m\u001b[39mensure_2d\u001b[39m\u001b[39m\"\u001b[39m, \u001b[39mTrue\u001b[39;00m):\n",
      "File \u001b[0;32m~/Library/CloudStorage/OneDrive-TheUniversityofMelbourne/University/Applied-Data-Science/MAST30034env/lib/python3.8/site-packages/sklearn/utils/validation.py:1074\u001b[0m, in \u001b[0;36mcheck_X_y\u001b[0;34m(X, y, accept_sparse, accept_large_sparse, dtype, order, copy, force_all_finite, ensure_2d, allow_nd, multi_output, ensure_min_samples, ensure_min_features, y_numeric, estimator)\u001b[0m\n\u001b[1;32m   1069\u001b[0m         estimator_name \u001b[39m=\u001b[39m _check_estimator_name(estimator)\n\u001b[1;32m   1070\u001b[0m     \u001b[39mraise\u001b[39;00m \u001b[39mValueError\u001b[39;00m(\n\u001b[1;32m   1071\u001b[0m         \u001b[39mf\u001b[39m\u001b[39m\"\u001b[39m\u001b[39m{\u001b[39;00mestimator_name\u001b[39m}\u001b[39;00m\u001b[39m requires y to be passed, but the target y is None\u001b[39m\u001b[39m\"\u001b[39m\n\u001b[1;32m   1072\u001b[0m     )\n\u001b[0;32m-> 1074\u001b[0m X \u001b[39m=\u001b[39m check_array(\n\u001b[1;32m   1075\u001b[0m     X,\n\u001b[1;32m   1076\u001b[0m     accept_sparse\u001b[39m=\u001b[39;49maccept_sparse,\n\u001b[1;32m   1077\u001b[0m     accept_large_sparse\u001b[39m=\u001b[39;49maccept_large_sparse,\n\u001b[1;32m   1078\u001b[0m     dtype\u001b[39m=\u001b[39;49mdtype,\n\u001b[1;32m   1079\u001b[0m     order\u001b[39m=\u001b[39;49morder,\n\u001b[1;32m   1080\u001b[0m     copy\u001b[39m=\u001b[39;49mcopy,\n\u001b[1;32m   1081\u001b[0m     force_all_finite\u001b[39m=\u001b[39;49mforce_all_finite,\n\u001b[1;32m   1082\u001b[0m     ensure_2d\u001b[39m=\u001b[39;49mensure_2d,\n\u001b[1;32m   1083\u001b[0m     allow_nd\u001b[39m=\u001b[39;49mallow_nd,\n\u001b[1;32m   1084\u001b[0m     ensure_min_samples\u001b[39m=\u001b[39;49mensure_min_samples,\n\u001b[1;32m   1085\u001b[0m     ensure_min_features\u001b[39m=\u001b[39;49mensure_min_features,\n\u001b[1;32m   1086\u001b[0m     estimator\u001b[39m=\u001b[39;49mestimator,\n\u001b[1;32m   1087\u001b[0m     input_name\u001b[39m=\u001b[39;49m\u001b[39m\"\u001b[39;49m\u001b[39mX\u001b[39;49m\u001b[39m\"\u001b[39;49m,\n\u001b[1;32m   1088\u001b[0m )\n\u001b[1;32m   1090\u001b[0m y \u001b[39m=\u001b[39m _check_y(y, multi_output\u001b[39m=\u001b[39mmulti_output, y_numeric\u001b[39m=\u001b[39my_numeric, estimator\u001b[39m=\u001b[39mestimator)\n\u001b[1;32m   1092\u001b[0m check_consistent_length(X, y)\n",
      "File \u001b[0;32m~/Library/CloudStorage/OneDrive-TheUniversityofMelbourne/University/Applied-Data-Science/MAST30034env/lib/python3.8/site-packages/sklearn/utils/validation.py:899\u001b[0m, in \u001b[0;36mcheck_array\u001b[0;34m(array, accept_sparse, accept_large_sparse, dtype, order, copy, force_all_finite, ensure_2d, allow_nd, ensure_min_samples, ensure_min_features, estimator, input_name)\u001b[0m\n\u001b[1;32m    893\u001b[0m         \u001b[39mraise\u001b[39;00m \u001b[39mValueError\u001b[39;00m(\n\u001b[1;32m    894\u001b[0m             \u001b[39m\"\u001b[39m\u001b[39mFound array with dim \u001b[39m\u001b[39m%d\u001b[39;00m\u001b[39m. \u001b[39m\u001b[39m%s\u001b[39;00m\u001b[39m expected <= 2.\u001b[39m\u001b[39m\"\u001b[39m\n\u001b[1;32m    895\u001b[0m             \u001b[39m%\u001b[39m (array\u001b[39m.\u001b[39mndim, estimator_name)\n\u001b[1;32m    896\u001b[0m         )\n\u001b[1;32m    898\u001b[0m     \u001b[39mif\u001b[39;00m force_all_finite:\n\u001b[0;32m--> 899\u001b[0m         _assert_all_finite(\n\u001b[1;32m    900\u001b[0m             array,\n\u001b[1;32m    901\u001b[0m             input_name\u001b[39m=\u001b[39;49minput_name,\n\u001b[1;32m    902\u001b[0m             estimator_name\u001b[39m=\u001b[39;49mestimator_name,\n\u001b[1;32m    903\u001b[0m             allow_nan\u001b[39m=\u001b[39;49mforce_all_finite \u001b[39m==\u001b[39;49m \u001b[39m\"\u001b[39;49m\u001b[39mallow-nan\u001b[39;49m\u001b[39m\"\u001b[39;49m,\n\u001b[1;32m    904\u001b[0m         )\n\u001b[1;32m    906\u001b[0m \u001b[39mif\u001b[39;00m ensure_min_samples \u001b[39m>\u001b[39m \u001b[39m0\u001b[39m:\n\u001b[1;32m    907\u001b[0m     n_samples \u001b[39m=\u001b[39m _num_samples(array)\n",
      "File \u001b[0;32m~/Library/CloudStorage/OneDrive-TheUniversityofMelbourne/University/Applied-Data-Science/MAST30034env/lib/python3.8/site-packages/sklearn/utils/validation.py:146\u001b[0m, in \u001b[0;36m_assert_all_finite\u001b[0;34m(X, allow_nan, msg_dtype, estimator_name, input_name)\u001b[0m\n\u001b[1;32m    124\u001b[0m         \u001b[39mif\u001b[39;00m (\n\u001b[1;32m    125\u001b[0m             \u001b[39mnot\u001b[39;00m allow_nan\n\u001b[1;32m    126\u001b[0m             \u001b[39mand\u001b[39;00m estimator_name\n\u001b[0;32m   (...)\u001b[0m\n\u001b[1;32m    130\u001b[0m             \u001b[39m# Improve the error message on how to handle missing values in\u001b[39;00m\n\u001b[1;32m    131\u001b[0m             \u001b[39m# scikit-learn.\u001b[39;00m\n\u001b[1;32m    132\u001b[0m             msg_err \u001b[39m+\u001b[39m\u001b[39m=\u001b[39m (\n\u001b[1;32m    133\u001b[0m                 \u001b[39mf\u001b[39m\u001b[39m\"\u001b[39m\u001b[39m\\n\u001b[39;00m\u001b[39m{\u001b[39;00mestimator_name\u001b[39m}\u001b[39;00m\u001b[39m does not accept missing values\u001b[39m\u001b[39m\"\u001b[39m\n\u001b[1;32m    134\u001b[0m                 \u001b[39m\"\u001b[39m\u001b[39m encoded as NaN natively. For supervised learning, you might want\u001b[39m\u001b[39m\"\u001b[39m\n\u001b[0;32m   (...)\u001b[0m\n\u001b[1;32m    144\u001b[0m                 \u001b[39m\"\u001b[39m\u001b[39m#estimators-that-handle-nan-values\u001b[39m\u001b[39m\"\u001b[39m\n\u001b[1;32m    145\u001b[0m             )\n\u001b[0;32m--> 146\u001b[0m         \u001b[39mraise\u001b[39;00m \u001b[39mValueError\u001b[39;00m(msg_err)\n\u001b[1;32m    148\u001b[0m \u001b[39m# for object dtype data, we only check for NaNs (GH-13254)\u001b[39;00m\n\u001b[1;32m    149\u001b[0m \u001b[39melif\u001b[39;00m X\u001b[39m.\u001b[39mdtype \u001b[39m==\u001b[39m np\u001b[39m.\u001b[39mdtype(\u001b[39m\"\u001b[39m\u001b[39mobject\u001b[39m\u001b[39m\"\u001b[39m) \u001b[39mand\u001b[39;00m \u001b[39mnot\u001b[39;00m allow_nan:\n",
      "\u001b[0;31mValueError\u001b[0m: Input X contains NaN.\nSelectFwe does not accept missing values encoded as NaN natively. For supervised learning, you might want to consider sklearn.ensemble.HistGradientBoostingClassifier and Regressor which accept missing values encoded as NaNs natively. Alternatively, it is possible to preprocess the data, for instance by using an imputer transformer in a pipeline or drop samples with missing values. See https://scikit-learn.org/stable/modules/impute.html You can find a list of all estimators that handle NaN values at the following page: https://scikit-learn.org/stable/modules/impute.html#estimators-that-handle-nan-values"
     ]
    }
   ],
   "source": [
    "y = properties['Cost']\n",
    "X = properties.drop(['Cost', 'Name', 'Coordinates', 'SA2_MAINCODE_2011', 'SA2_name', 'SA2_NAME_2011', 'SA2', 'Property_Type', 'Agency'], axis=1)\n",
    "\n",
    "# selector = SelectKBest(score_func=chi2, k=10)\n",
    "selector = SelectFwe(score_func=chi2, alpha=0.05)\n",
    "new_data = selector.fit_transform(X, y)\n",
    " \n",
    "mask = selector.get_support()\n",
    "new_features = X.columns[mask]\n",
    "new_features"
   ]
  }
 ],
 "metadata": {
  "kernelspec": {
   "display_name": "Python 3.8.2 ('MAST30034env': venv)",
   "language": "python",
   "name": "python3"
  },
  "language_info": {
   "codemirror_mode": {
    "name": "ipython",
    "version": 3
   },
   "file_extension": ".py",
   "mimetype": "text/x-python",
   "name": "python",
   "nbconvert_exporter": "python",
   "pygments_lexer": "ipython3",
   "version": "3.8.2"
  },
  "orig_nbformat": 4,
  "vscode": {
   "interpreter": {
    "hash": "a5732c9d997a6f78fcb86dba9b0f86e5cc814f598a215f7fa9c9d5c7c7ffa066"
   }
  }
 },
 "nbformat": 4,
 "nbformat_minor": 2
}
