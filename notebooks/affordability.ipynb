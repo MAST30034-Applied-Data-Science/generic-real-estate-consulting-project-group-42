{
 "cells": [
  {
   "cell_type": "markdown",
   "metadata": {},
   "source": [
    "<h1>Affordability</h1>"
   ]
  },
  {
   "cell_type": "code",
   "execution_count": null,
   "metadata": {},
   "outputs": [],
   "source": [
    "# Importing necessary libraries\n",
    "import geopandas as gpd \n",
    "import folium\n",
    "import pandas as pd\n",
    "import sys\n",
    "\n",
    "sys.path.insert(0, \"../scripts/\")\n",
    "from helper_functions import convert_census_to_postcode"
   ]
  },
  {
   "cell_type": "markdown",
   "metadata": {},
   "source": [
    "## Read in relevant data"
   ]
  },
  {
   "cell_type": "code",
   "execution_count": null,
   "metadata": {},
   "outputs": [],
   "source": [
    "# Reading in preprocessed property data\n",
    "property_df = pd.read_csv(\"../data/curated/categorised_distances.csv\")\n",
    "property_df = property_df[[\"Cost\", \"Bed\", \"Bath\", \"Parking\", \"Postcode\"]]\n",
    "\n",
    "# calculate median rent\n",
    "median_rent_df = pd.DataFrame(property_df.groupby([\"Postcode\"])[\"Cost\"].median()).reset_index()"
   ]
  },
  {
   "cell_type": "markdown",
   "metadata": {},
   "source": [
    "## Dataset creation"
   ]
  },
  {
   "cell_type": "markdown",
   "metadata": {},
   "source": [
    "### Calculating the average number of facilities per postcode"
   ]
  },
  {
   "cell_type": "code",
   "execution_count": null,
   "metadata": {},
   "outputs": [],
   "source": [
    "# Creating dataframe of average facilities per postcode\n",
    "avg_bed = property_df.groupby(by = \"Postcode\")[\"Bed\"].mean()\n",
    "avg_bath = property_df.groupby(by = \"Postcode\")[\"Bath\"].mean()\n",
    "avg_parking = property_df.groupby(by = \"Postcode\")[\"Parking\"].mean()\n",
    "\n",
    "facilities_df = pd.DataFrame()\n",
    "facilities_df[\"Postcode\"] = property_df[\"Postcode\"].unique()\n",
    "facilities_df[\"Average # Beds\"] = avg_bed.to_list()\n",
    "facilities_df[\"Average # Baths\"] = avg_bath.to_list()\n",
    "facilities_df[\"Average # Parking\"] = avg_parking.to_list()\n",
    "facilities_df.head()"
   ]
  },
  {
   "cell_type": "code",
   "execution_count": null,
   "metadata": {},
   "outputs": [],
   "source": [
    "# Joining median rental price per postcode with average facilities\n",
    "facilities_df = facilities_df.set_index(\"Postcode\")\n",
    "price_by_facility_df = median_rent_df.join(facilities_df, on = \"Postcode\")\n",
    "price_by_facility_df = price_by_facility_df.set_index(\"Postcode\")\n",
    "price_by_facility_df.head()"
   ]
  },
  {
   "cell_type": "markdown",
   "metadata": {},
   "source": [
    "### Obtaining census/income data"
   ]
  },
  {
   "cell_type": "code",
   "execution_count": null,
   "metadata": {},
   "outputs": [],
   "source": [
    "# Read in census dataframes and convert to postcode mapping\n",
    "census_df = pd.read_csv(\"../data/curated/census_data.csv\")\n",
    "sa2_postcode_map = pd.read_csv(\"../data/curated/sa2_postcode_mapping_2021.csv\")\n",
    "census_by_postcode_df = convert_census_to_postcode(census_df, sa2_postcode_map, \"mean_no_zero\")"
   ]
  },
  {
   "cell_type": "code",
   "execution_count": null,
   "metadata": {},
   "outputs": [],
   "source": [
    "# Removing unnecessary columns from census data (only need columns containing data from 2021)\n",
    "census_by_postcode_df = census_by_postcode_df[[\"postcode_2021\", \"tot_population_21\", \"avg_med_mortg_rep_21\", \"avg_med_person_inc_21\", \"avg_med_rent_21\", \n",
    "                            \"avg_med_hh_inc_21\", \"tot_avg_hh_size_21\"]]\n",
    "\n",
    "# Selecting columns required for assessing affordability\n",
    "census_income_df = census_by_postcode_df[[\"postcode_2021\", \"avg_med_mortg_rep_21\", \"avg_med_hh_inc_21\"]]\n",
    "\n",
    "# Rename postcode column of census dataframe and setting to index\n",
    "census_income_df = census_income_df.rename({\"postcode_2021\": \"Postcode\"}, axis = 1)\n",
    "census_income_df = census_income_df.set_index(\"Postcode\")\n",
    "\n",
    "# Joining census income dataframe to dataframe containg price & facilities information\n",
    "df = census_income_df.join(price_by_facility_df, on = \"Postcode\", how = \"right\")\n",
    "df.head()"
   ]
  },
  {
   "cell_type": "markdown",
   "metadata": {},
   "source": [
    "## Calculating affordability metric"
   ]
  },
  {
   "cell_type": "code",
   "execution_count": null,
   "metadata": {},
   "outputs": [],
   "source": [
    "# If the number of facilities is 0 (i.e. for number of bedrooms or number of parking spaces) replace 0 value with arbitrary small value epsilon\n",
    "EPSILON = 10**(-6)\n",
    " \n",
    "df.loc[df[\"Average # Beds\"] == 0, \"Average # Beds\"] = EPSILON\n",
    "df.loc[df[\"Average # Parking\"] == 0, \"Average # Parking\"] = EPSILON"
   ]
  },
  {
   "cell_type": "code",
   "execution_count": null,
   "metadata": {},
   "outputs": [],
   "source": [
    "# Calculating weights for facilities (from previous correlation matrix know positive correlation exists between all 3 attributes and the cost)\n",
    "bed_weight = df[\"Average # Beds\"].corr(df[\"Cost\"])\n",
    "bath_weight = df[\"Average # Baths\"].corr(df[\"Cost\"])\n",
    "parking_weight = df[\"Average # Parking\"].corr(df[\"Cost\"])"
   ]
  },
  {
   "cell_type": "code",
   "execution_count": null,
   "metadata": {},
   "outputs": [],
   "source": [
    "# Taking the median rental price divided by the median income (multiply by 100 to get cost as a percentage of income)\n",
    "df[\"(Cost / Income)%\"] = (df[\"Cost\"] / df[\"avg_med_hh_inc_21\"]) * 100\n",
    "\n",
    "# Taking the median mortage divided by the median income (multiply by 100 to get mortage as a percentage of income)\n",
    "df[\"(Mortage / Income)%\"] = (df[\"avg_med_mortg_rep_21\"] / df[\"avg_med_hh_inc_21\"]) * 100\n",
    "\n",
    "# Calculating non-standardised affordability metric\n",
    "df[\"Affordability\"] = ((bed_weight * df[\"Average # Beds\"]) + (bath_weight * df[\"Average # Baths\"]) + (parking_weight * df[\"Average # Parking\"]) + \n",
    "                        df[\"(Cost / Income)%\"] + df[\"(Mortage / Income)%\"])\n",
    "\n",
    "# Standardised affordability metric\n",
    "min_affordability = df.sort_values(by = \"Affordability\").head(1)[\"Affordability\"].tolist()[0]\n",
    "max_affordability = df.sort_values(by = \"Affordability\", ascending = False).head(1)[\"Affordability\"].tolist()[0]\n",
    "df[\"Standardised Affordability\"] = (df[\"Affordability\"] - min_affordability) / (max_affordability - min_affordability)\n",
    "\n",
    "# Taking 1 - standardised affordability (to make sure metric ranks 0 as least affordable & 1 as most affordable)\n",
    "df[\"Standardised Affordability\"] = (1 - df[\"Standardised Affordability\"])\n",
    "df = df.reset_index()\n",
    "\n",
    "# Create and export affordability dataframe\n",
    "affordability_df = df[[\"Postcode\", \"Standardised Affordability\"]]\n",
    "affordability_df.to_csv(\"../data/curated/affordability.csv\", index=False)\n",
    "\n",
    "# Top 10 affordable postcodes\n",
    "most_affordable_df = affordability_df.sort_values(by=\"Standardised Affordability\", ascending=False).head(10)\n",
    "most_affordable_df"
   ]
  },
  {
   "cell_type": "markdown",
   "metadata": {},
   "source": [
    "## Graphing standardised affordability"
   ]
  },
  {
   "cell_type": "code",
   "execution_count": null,
   "metadata": {},
   "outputs": [],
   "source": [
    "# Creating geoJSON file of postcode and geometry coordinates \n",
    "sf = gpd.read_file(\"../data/raw/external/POA_2021_AUST_GDA2020/POA_2021_AUST_GDA2020.shp\")\n",
    "postcodes = pd.read_csv(\"../data/raw/external/postcode.csv\", names = [\"POA_CODE21\", \"Name\", \"Area\"])\n",
    "postcodes[\"POA_CODE21\"] = postcodes[\"POA_CODE21\"].astype(int)\n",
    "\n",
    "# Converting the geometry shaape to to latitude and longitude\n",
    "# TAKEN FROM TUTE 2 NOTEBOOK\n",
    "sf[\"geometry\"] = sf[\"geometry\"].to_crs(\"+proj=longlat +ellps=WGS84 +datum=WGS84 +no_defs\")\n",
    "sf = sf[sf[\"POA_CODE21\"].between(\"3000\", \"4000\")]\n",
    "sf[\"POA_CODE21\"] = sf[\"POA_CODE21\"].astype(int)\n",
    "\n",
    "gdf = gpd.GeoDataFrame(\n",
    "    pd.merge(postcodes, sf, on = \"POA_CODE21\", how = \"inner\")\n",
    ")\n",
    "\n",
    "geoJSON = gdf[[\"POA_CODE21\", \"geometry\"]].drop_duplicates(\"POA_CODE21\").to_json()"
   ]
  },
  {
   "cell_type": "markdown",
   "metadata": {},
   "source": [
    "**Affordability heatmap**"
   ]
  },
  {
   "cell_type": "code",
   "execution_count": null,
   "metadata": {},
   "outputs": [],
   "source": [
    "# (y, x) since we want (lat, long)\n",
    "gdf[\"centroid\"] = gdf[\"geometry\"].apply(lambda x: (x.centroid.y, x.centroid.x))\n",
    "gdf[[\"Name\", \"POA_CODE21\", \"centroid\"]].head()\n",
    "\n",
    "affordability_df.rename({\"Postcode\": \"POA_CODE21\"})\n",
    "\n",
    "m = folium.Map(location = [-37.8136, 144.9631], tiles = \"Stamen Terrain\", zoom_start = 10)\n",
    "\n",
    "c = folium.Choropleth(\n",
    "            geo_data = geoJSON, # geoJSON \n",
    "            name = \"choropleth\", # name of plot\n",
    "            data = affordability_df, # data source\n",
    "            columns = [\"Postcode\", \"Standardised Affordability\"], # the columns required\n",
    "            key_on = \"properties.POA_CODE21\", # this is from the geoJSON's properties\n",
    "            fill_color = \"YlOrRd\", # color scheme\n",
    "            nan_fill_color = \"grey\",\n",
    "            legend_name = \"Affordability\"\n",
    "        )\n",
    "\n",
    "c.add_to(m)\n",
    "m.save(f\"../plots/affordability_heatmap.html\")\n",
    "m"
   ]
  },
  {
   "cell_type": "markdown",
   "metadata": {},
   "source": [
    "**Most affordable heatmap**"
   ]
  },
  {
   "cell_type": "code",
   "execution_count": null,
   "metadata": {},
   "outputs": [],
   "source": [
    "# Export most affordable heatmap\n",
    "postcodes[\"POA_CODE21\"] = postcodes[\"POA_CODE21\"].astype(int)\n",
    "postcodes = postcodes.loc[postcodes[\"POA_CODE21\"].isin(most_affordable_df[\"Postcode\"].to_list())]\n",
    "\n",
    "gdf = gpd.GeoDataFrame(\n",
    "    pd.merge(postcodes, sf, on = \"POA_CODE21\", how = \"inner\")\n",
    ")\n",
    "\n",
    "geoJSON = gdf[[\"POA_CODE21\", \"geometry\"]].drop_duplicates(\"POA_CODE21\").to_json()\n",
    "\n",
    "m = folium.Map(location = [-37.8136, 144.9631], tiles = \"Stamen Terrain\", zoom_start = 10)\n",
    "\n",
    "m.add_child(folium.Choropleth(geo_data = geoJSON, name = \"choropleth\",))\n",
    "m.save(f\"../plots/most_affordable_heatmap.html\")\n",
    "m"
   ]
  },
  {
   "cell_type": "code",
   "execution_count": null,
   "metadata": {},
   "outputs": [],
   "source": []
  }
 ],
 "metadata": {
  "kernelspec": {
   "display_name": "Python 3.8.10 64-bit",
   "language": "python",
   "name": "python3"
  },
  "language_info": {
   "codemirror_mode": {
    "name": "ipython",
    "version": 3
   },
   "file_extension": ".py",
   "mimetype": "text/x-python",
   "name": "python",
   "nbconvert_exporter": "python",
   "pygments_lexer": "ipython3",
   "version": "3.10.4"
  },
  "orig_nbformat": 4,
  "vscode": {
   "interpreter": {
    "hash": "916dbcbb3f70747c44a77c7bcd40155683ae19c65e1c03b4aa3499c5328201f1"
   }
  }
 },
 "nbformat": 4,
 "nbformat_minor": 2
}
