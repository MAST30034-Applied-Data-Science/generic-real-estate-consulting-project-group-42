{
 "cells": [
  {
   "cell_type": "code",
   "execution_count": null,
   "metadata": {},
   "outputs": [],
   "source": [
    "import json\n",
    "import os\n",
    "import pandas as pd\n",
    "\n",
    "from dotenv import load_dotenv\n",
    "from openrouteservice import client, places"
   ]
  },
  {
   "cell_type": "code",
   "execution_count": null,
   "metadata": {},
   "outputs": [],
   "source": [
    "output_dir = '../data/curated/'\n",
    "\n",
    "## set variables\n",
    "load_dotenv()\n",
    "tokens = []\n",
    "for i in range(1,17): # number of keys\n",
    "    token = os.environ.get(f'token_{i}')\n",
    "    tokens.append(token)\n",
    "category_id = [370] # post office \n",
    "buffer_size = 2000   # between 1-2000m\n",
    "postoffice_dict = {}"
   ]
  },
  {
   "cell_type": "code",
   "execution_count": null,
   "metadata": {},
   "outputs": [],
   "source": [
    "## read apartment data\n",
    "property_data = json.load(open( f\"{output_dir}properties_processed.json\" ))"
   ]
  },
  {
   "cell_type": "code",
   "execution_count": null,
   "metadata": {},
   "outputs": [],
   "source": [
    "token = tokens[0]\n",
    "\n",
    "## set x and y\n",
    "x = len(postoffice_dict)\n",
    "y = len(postoffice_dict)+500\n",
    "\n",
    "for index in range(x,y):\n",
    "    if index > len(property_data['Coordinates'].keys()):\n",
    "        break\n",
    "    backwards = list(map(float,property_data['Coordinates'][str(index)][1:-1].split(',')))\n",
    "    coords = [backwards[1], backwards[0]]\n",
    "\n",
    "    ## query code\n",
    "    ors = client.Client(key=token)\n",
    "    query = {'request': 'pois',\n",
    "            'geojson': {'type':'Point','coordinates':coords},\n",
    "            'buffer': buffer_size,\n",
    "            'filter_category_ids': category_id,\n",
    "            'sortby':'distance',\n",
    "            'limit': 2}\n",
    "\n",
    "    features = ors.places(**query)['features']\n",
    "    destination = features[0]['geometry']['coordinates']\n",
    "    all = [(str(coords[0]),str(coords[1])),(str(destination[0]),str(destination[1]))]\n",
    "\n",
    "    request = {'coordinates': all,\n",
    "            'profile': 'driving-car',\n",
    "            'geometry': 'true',\n",
    "            'format_out':'geojson'}\n",
    "    route = ors.directions(**request)\n",
    "    info = route['features'][0]['properties']['summary']\n",
    "        \n",
    "    ## add information\n",
    "    postoffice_dict[str(index)] = info"
   ]
  },
  {
   "cell_type": "code",
   "execution_count": null,
   "metadata": {},
   "outputs": [],
   "source": [
    "print(len(postoffice_dict))"
   ]
  },
  {
   "cell_type": "code",
   "execution_count": null,
   "metadata": {},
   "outputs": [],
   "source": [
    "property_data['Post_Office'] = postoffice_dict\n",
    "\n",
    "## write json\n",
    "json.dump(property_data, open(f\"{output_dir}num_postoffice.json\", 'w'))\n",
    "\n",
    "# write csv\n",
    "data = pd.read_json(f\"{output_dir}num_postoffice.json\")\n",
    "data.to_csv(f\"{output_dir}num_postoffice.csv\")"
   ]
  }
 ],
 "metadata": {
  "kernelspec": {
   "display_name": "Python 3.8.10 64-bit",
   "language": "python",
   "name": "python3"
  },
  "language_info": {
   "name": "python",
   "version": "3.8.10"
  },
  "orig_nbformat": 4,
  "vscode": {
   "interpreter": {
    "hash": "916dbcbb3f70747c44a77c7bcd40155683ae19c65e1c03b4aa3499c5328201f1"
   }
  }
 },
 "nbformat": 4,
 "nbformat_minor": 2
}
