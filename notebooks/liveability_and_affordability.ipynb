{
 "cells": [
  {
   "cell_type": "markdown",
   "metadata": {},
   "source": [
    "<h1>Affordability</h1>"
   ]
  },
  {
   "cell_type": "markdown",
   "metadata": {},
   "source": [
    "Measuring affordability of postcode based on median income, median mortage, median rental price and average facilities"
   ]
  },
  {
   "cell_type": "code",
   "execution_count": 1,
   "metadata": {},
   "outputs": [],
   "source": [
    "# importing necessary libraries\n",
    "import pandas as pd"
   ]
  },
  {
   "cell_type": "code",
   "execution_count": 5,
   "metadata": {},
   "outputs": [
    {
     "data": {
      "text/html": [
       "<div>\n",
       "<style scoped>\n",
       "    .dataframe tbody tr th:only-of-type {\n",
       "        vertical-align: middle;\n",
       "    }\n",
       "\n",
       "    .dataframe tbody tr th {\n",
       "        vertical-align: top;\n",
       "    }\n",
       "\n",
       "    .dataframe thead th {\n",
       "        text-align: right;\n",
       "    }\n",
       "</style>\n",
       "<table border=\"1\" class=\"dataframe\">\n",
       "  <thead>\n",
       "    <tr style=\"text-align: right;\">\n",
       "      <th></th>\n",
       "      <th>Postcode</th>\n",
       "      <th>Cost</th>\n",
       "    </tr>\n",
       "  </thead>\n",
       "  <tbody>\n",
       "    <tr>\n",
       "      <th>0</th>\n",
       "      <td>3000</td>\n",
       "      <td>510.0</td>\n",
       "    </tr>\n",
       "    <tr>\n",
       "      <th>1</th>\n",
       "      <td>3002</td>\n",
       "      <td>642.5</td>\n",
       "    </tr>\n",
       "    <tr>\n",
       "      <th>2</th>\n",
       "      <td>3003</td>\n",
       "      <td>520.0</td>\n",
       "    </tr>\n",
       "    <tr>\n",
       "      <th>3</th>\n",
       "      <td>3004</td>\n",
       "      <td>550.0</td>\n",
       "    </tr>\n",
       "    <tr>\n",
       "      <th>4</th>\n",
       "      <td>3006</td>\n",
       "      <td>551.5</td>\n",
       "    </tr>\n",
       "  </tbody>\n",
       "</table>\n",
       "</div>"
      ],
      "text/plain": [
       "   Postcode   Cost\n",
       "0      3000  510.0\n",
       "1      3002  642.5\n",
       "2      3003  520.0\n",
       "3      3004  550.0\n",
       "4      3006  551.5"
      ]
     },
     "execution_count": 5,
     "metadata": {},
     "output_type": "execute_result"
    }
   ],
   "source": [
    "# Reading in median rental price per postcode\n",
    "median_rent = pd.read_csv(\"../data/curated/median_rental_postcode.csv\")\n",
    "#median_rent.head()"
   ]
  },
  {
   "cell_type": "code",
   "execution_count": 9,
   "metadata": {},
   "outputs": [
    {
     "data": {
      "text/html": [
       "<div>\n",
       "<style scoped>\n",
       "    .dataframe tbody tr th:only-of-type {\n",
       "        vertical-align: middle;\n",
       "    }\n",
       "\n",
       "    .dataframe tbody tr th {\n",
       "        vertical-align: top;\n",
       "    }\n",
       "\n",
       "    .dataframe thead th {\n",
       "        text-align: right;\n",
       "    }\n",
       "</style>\n",
       "<table border=\"1\" class=\"dataframe\">\n",
       "  <thead>\n",
       "    <tr style=\"text-align: right;\">\n",
       "      <th></th>\n",
       "      <th>Name</th>\n",
       "      <th>Cost</th>\n",
       "      <th>Coordinates</th>\n",
       "      <th>Bed</th>\n",
       "      <th>Bath</th>\n",
       "      <th>Parking</th>\n",
       "      <th>Property_Type</th>\n",
       "      <th>Agency</th>\n",
       "      <th>Postcode</th>\n",
       "    </tr>\n",
       "  </thead>\n",
       "  <tbody>\n",
       "    <tr>\n",
       "      <th>0</th>\n",
       "      <td>5408/500 Elizabeth Street Melbourne VIC 3000</td>\n",
       "      <td>440.0</td>\n",
       "      <td>[-37.8072443, 144.9602814]</td>\n",
       "      <td>1</td>\n",
       "      <td>1</td>\n",
       "      <td>0</td>\n",
       "      <td>Apartment / Unit / Flat</td>\n",
       "      <td>BRADY residential</td>\n",
       "      <td>3000</td>\n",
       "    </tr>\n",
       "    <tr>\n",
       "      <th>1</th>\n",
       "      <td>502/118 Russell Street Melbourne VIC 3000</td>\n",
       "      <td>620.0</td>\n",
       "      <td>[-37.8135864, 144.9687232]</td>\n",
       "      <td>1</td>\n",
       "      <td>1</td>\n",
       "      <td>0</td>\n",
       "      <td>Apartment / Unit / Flat</td>\n",
       "      <td>Dingle Partners</td>\n",
       "      <td>3000</td>\n",
       "    </tr>\n",
       "    <tr>\n",
       "      <th>2</th>\n",
       "      <td>202A/441 Lonsdale Street Melbourne VIC 3000</td>\n",
       "      <td>300.0</td>\n",
       "      <td>[-37.8134292, 144.9594445]</td>\n",
       "      <td>1</td>\n",
       "      <td>1</td>\n",
       "      <td>0</td>\n",
       "      <td>Apartment / Unit / Flat</td>\n",
       "      <td>Biggin &amp; Scott Stonnington</td>\n",
       "      <td>3000</td>\n",
       "    </tr>\n",
       "    <tr>\n",
       "      <th>3</th>\n",
       "      <td>57/243 Collins Street Melbourne VIC 3000</td>\n",
       "      <td>400.0</td>\n",
       "      <td>[-37.8159969, 144.9657956]</td>\n",
       "      <td>1</td>\n",
       "      <td>1</td>\n",
       "      <td>0</td>\n",
       "      <td>Apartment / Unit / Flat</td>\n",
       "      <td>Harcourts Melbourne City</td>\n",
       "      <td>3000</td>\n",
       "    </tr>\n",
       "    <tr>\n",
       "      <th>4</th>\n",
       "      <td>2311/601 Little Lonsdale Street Melbourne VIC ...</td>\n",
       "      <td>625.0</td>\n",
       "      <td>[-37.8137564, 144.9537143]</td>\n",
       "      <td>2</td>\n",
       "      <td>2</td>\n",
       "      <td>1</td>\n",
       "      <td>Apartment / Unit / Flat</td>\n",
       "      <td>Harcourts Melbourne City</td>\n",
       "      <td>3000</td>\n",
       "    </tr>\n",
       "  </tbody>\n",
       "</table>\n",
       "</div>"
      ],
      "text/plain": [
       "                                                Name   Cost  \\\n",
       "0       5408/500 Elizabeth Street Melbourne VIC 3000  440.0   \n",
       "1          502/118 Russell Street Melbourne VIC 3000  620.0   \n",
       "2        202A/441 Lonsdale Street Melbourne VIC 3000  300.0   \n",
       "3           57/243 Collins Street Melbourne VIC 3000  400.0   \n",
       "4  2311/601 Little Lonsdale Street Melbourne VIC ...  625.0   \n",
       "\n",
       "                  Coordinates  Bed  Bath  Parking            Property_Type  \\\n",
       "0  [-37.8072443, 144.9602814]    1     1        0  Apartment / Unit / Flat   \n",
       "1  [-37.8135864, 144.9687232]    1     1        0  Apartment / Unit / Flat   \n",
       "2  [-37.8134292, 144.9594445]    1     1        0  Apartment / Unit / Flat   \n",
       "3  [-37.8159969, 144.9657956]    1     1        0  Apartment / Unit / Flat   \n",
       "4  [-37.8137564, 144.9537143]    2     2        1  Apartment / Unit / Flat   \n",
       "\n",
       "                       Agency  Postcode  \n",
       "0           BRADY residential      3000  \n",
       "1             Dingle Partners      3000  \n",
       "2  Biggin & Scott Stonnington      3000  \n",
       "3    Harcourts Melbourne City      3000  \n",
       "4    Harcourts Melbourne City      3000  "
      ]
     },
     "execution_count": 9,
     "metadata": {},
     "output_type": "execute_result"
    }
   ],
   "source": [
    "# Reading in preprocessed property data\n",
    "property_data = pd.read_csv(\"../data/curated/properties_processed.csv\")\n",
    "# Remove unecessary column \"Unnamed: 0\"\n",
    "property_data = property_data.drop(columns = [\"Unnamed: 0\"])\n",
    "property_data.head()"
   ]
  },
  {
   "cell_type": "code",
   "execution_count": 15,
   "metadata": {},
   "outputs": [
    {
     "data": {
      "text/plain": [
       "Postcode\n",
       "3000    0.365517\n",
       "3002    1.000000\n",
       "3003    0.609375\n",
       "3004    1.096774\n",
       "3006    0.647959\n",
       "Name: Parking, dtype: float64"
      ]
     },
     "execution_count": 15,
     "metadata": {},
     "output_type": "execute_result"
    }
   ],
   "source": [
    "# Calculate the average number of facilities per postcode\n",
    "avg_bed = property_data.groupby(by = \"Postcode\")[\"Bed\"].mean()\n",
    "#avg_bed.head()\n",
    "avg_bath = property_data.groupby(by = \"Postcode\")[\"Bath\"].mean()\n",
    "#avg_bath.head()\n",
    "avg_parking = property_data.groupby(by = \"Postcode\")[\"Parking\"].mean()\n",
    "#avg_parking.head()"
   ]
  },
  {
   "cell_type": "code",
   "execution_count": 30,
   "metadata": {},
   "outputs": [
    {
     "data": {
      "text/html": [
       "<div>\n",
       "<style scoped>\n",
       "    .dataframe tbody tr th:only-of-type {\n",
       "        vertical-align: middle;\n",
       "    }\n",
       "\n",
       "    .dataframe tbody tr th {\n",
       "        vertical-align: top;\n",
       "    }\n",
       "\n",
       "    .dataframe thead th {\n",
       "        text-align: right;\n",
       "    }\n",
       "</style>\n",
       "<table border=\"1\" class=\"dataframe\">\n",
       "  <thead>\n",
       "    <tr style=\"text-align: right;\">\n",
       "      <th></th>\n",
       "      <th>Postcode</th>\n",
       "      <th>Average # Beds</th>\n",
       "      <th>Average # Baths</th>\n",
       "      <th>Average # Parking</th>\n",
       "    </tr>\n",
       "  </thead>\n",
       "  <tbody>\n",
       "    <tr>\n",
       "      <th>0</th>\n",
       "      <td>3000</td>\n",
       "      <td>1.579310</td>\n",
       "      <td>1.296552</td>\n",
       "      <td>0.365517</td>\n",
       "    </tr>\n",
       "    <tr>\n",
       "      <th>1</th>\n",
       "      <td>3002</td>\n",
       "      <td>1.909091</td>\n",
       "      <td>1.318182</td>\n",
       "      <td>1.000000</td>\n",
       "    </tr>\n",
       "    <tr>\n",
       "      <th>2</th>\n",
       "      <td>3003</td>\n",
       "      <td>1.796875</td>\n",
       "      <td>1.343750</td>\n",
       "      <td>0.609375</td>\n",
       "    </tr>\n",
       "    <tr>\n",
       "      <th>3</th>\n",
       "      <td>3004</td>\n",
       "      <td>1.763441</td>\n",
       "      <td>1.494624</td>\n",
       "      <td>1.096774</td>\n",
       "    </tr>\n",
       "    <tr>\n",
       "      <th>4</th>\n",
       "      <td>3006</td>\n",
       "      <td>1.785714</td>\n",
       "      <td>1.469388</td>\n",
       "      <td>0.647959</td>\n",
       "    </tr>\n",
       "  </tbody>\n",
       "</table>\n",
       "</div>"
      ],
      "text/plain": [
       "   Postcode  Average # Beds  Average # Baths  Average # Parking\n",
       "0      3000        1.579310         1.296552           0.365517\n",
       "1      3002        1.909091         1.318182           1.000000\n",
       "2      3003        1.796875         1.343750           0.609375\n",
       "3      3004        1.763441         1.494624           1.096774\n",
       "4      3006        1.785714         1.469388           0.647959"
      ]
     },
     "execution_count": 30,
     "metadata": {},
     "output_type": "execute_result"
    }
   ],
   "source": [
    "# Create dataframe of average facilities per postcode\n",
    "avg_facilities = pd.DataFrame()\n",
    "avg_facilities[\"Postcode\"] = property_data[\"Postcode\"].unique()\n",
    "avg_facilities[\"Average # Beds\"] = avg_bed.to_list()\n",
    "avg_facilities[\"Average # Baths\"] = avg_bath.to_list()\n",
    "avg_facilities[\"Average # Parking\"] = avg_parking.to_list()\n",
    "#avg_facilities.head()"
   ]
  }
 ],
 "metadata": {
  "kernelspec": {
   "display_name": "Python 3.8.10 64-bit",
   "language": "python",
   "name": "python3"
  },
  "language_info": {
   "codemirror_mode": {
    "name": "ipython",
    "version": 3
   },
   "file_extension": ".py",
   "mimetype": "text/x-python",
   "name": "python",
   "nbconvert_exporter": "python",
   "pygments_lexer": "ipython3",
   "version": "3.8.10"
  },
  "orig_nbformat": 4,
  "vscode": {
   "interpreter": {
    "hash": "916dbcbb3f70747c44a77c7bcd40155683ae19c65e1c03b4aa3499c5328201f1"
   }
  }
 },
 "nbformat": 4,
 "nbformat_minor": 2
}
