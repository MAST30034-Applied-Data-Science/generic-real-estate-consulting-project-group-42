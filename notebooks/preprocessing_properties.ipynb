{
 "cells": [
  {
   "cell_type": "code",
   "execution_count": 1,
   "metadata": {},
   "outputs": [],
   "source": [
    "import pandas as pd\n",
    "import numpy as np\n",
    "import matplotlib.pyplot as plt\n",
    "import seaborn as sns"
   ]
  },
  {
   "cell_type": "code",
   "execution_count": 2,
   "metadata": {},
   "outputs": [
    {
     "data": {
      "text/html": [
       "<div>\n",
       "<style scoped>\n",
       "    .dataframe tbody tr th:only-of-type {\n",
       "        vertical-align: middle;\n",
       "    }\n",
       "\n",
       "    .dataframe tbody tr th {\n",
       "        vertical-align: top;\n",
       "    }\n",
       "\n",
       "    .dataframe thead th {\n",
       "        text-align: right;\n",
       "    }\n",
       "</style>\n",
       "<table border=\"1\" class=\"dataframe\">\n",
       "  <thead>\n",
       "    <tr style=\"text-align: right;\">\n",
       "      <th></th>\n",
       "      <th>Name</th>\n",
       "      <th>Cost</th>\n",
       "      <th>Coordinates</th>\n",
       "      <th>Bed</th>\n",
       "      <th>Bath</th>\n",
       "      <th>Parking</th>\n",
       "      <th>Property_Type</th>\n",
       "      <th>Agency</th>\n",
       "      <th>Postcode</th>\n",
       "    </tr>\n",
       "  </thead>\n",
       "  <tbody>\n",
       "    <tr>\n",
       "      <th>0</th>\n",
       "      <td>5408/500 Elizabeth Street Melbourne VIC 3000</td>\n",
       "      <td>440</td>\n",
       "      <td>[-37.8072443, 144.9602814]</td>\n",
       "      <td>1</td>\n",
       "      <td>1</td>\n",
       "      <td>−</td>\n",
       "      <td>Apartment / Unit / Flat</td>\n",
       "      <td>BRADY residential</td>\n",
       "      <td>3000.0</td>\n",
       "    </tr>\n",
       "    <tr>\n",
       "      <th>1</th>\n",
       "      <td>502/118 Russell Street Melbourne VIC 3000</td>\n",
       "      <td>620</td>\n",
       "      <td>[-37.8135864, 144.9687232]</td>\n",
       "      <td>1</td>\n",
       "      <td>1</td>\n",
       "      <td>−</td>\n",
       "      <td>Apartment / Unit / Flat</td>\n",
       "      <td>Dingle Partners</td>\n",
       "      <td>3000.0</td>\n",
       "    </tr>\n",
       "    <tr>\n",
       "      <th>2</th>\n",
       "      <td>202A/441 Lonsdale Street Melbourne VIC 3000</td>\n",
       "      <td>300</td>\n",
       "      <td>[-37.8134292, 144.9594445]</td>\n",
       "      <td>1</td>\n",
       "      <td>1</td>\n",
       "      <td>−</td>\n",
       "      <td>Apartment / Unit / Flat</td>\n",
       "      <td>Biggin &amp; Scott Stonnington</td>\n",
       "      <td>3000.0</td>\n",
       "    </tr>\n",
       "    <tr>\n",
       "      <th>3</th>\n",
       "      <td>57/243 Collins Street Melbourne VIC 3000</td>\n",
       "      <td>400</td>\n",
       "      <td>[-37.8159969, 144.9657956]</td>\n",
       "      <td>1</td>\n",
       "      <td>1</td>\n",
       "      <td>−</td>\n",
       "      <td>Apartment / Unit / Flat</td>\n",
       "      <td>Harcourts Melbourne City</td>\n",
       "      <td>3000.0</td>\n",
       "    </tr>\n",
       "    <tr>\n",
       "      <th>4</th>\n",
       "      <td>2311/601 Little Lonsdale Street Melbourne VIC ...</td>\n",
       "      <td>625</td>\n",
       "      <td>[-37.8137564, 144.9537143]</td>\n",
       "      <td>2</td>\n",
       "      <td>2</td>\n",
       "      <td>1</td>\n",
       "      <td>Apartment / Unit / Flat</td>\n",
       "      <td>Harcourts Melbourne City</td>\n",
       "      <td>3000.0</td>\n",
       "    </tr>\n",
       "  </tbody>\n",
       "</table>\n",
       "</div>"
      ],
      "text/plain": [
       "                                                Name Cost  \\\n",
       "0       5408/500 Elizabeth Street Melbourne VIC 3000  440   \n",
       "1          502/118 Russell Street Melbourne VIC 3000  620   \n",
       "2        202A/441 Lonsdale Street Melbourne VIC 3000  300   \n",
       "3           57/243 Collins Street Melbourne VIC 3000  400   \n",
       "4  2311/601 Little Lonsdale Street Melbourne VIC ...  625   \n",
       "\n",
       "                  Coordinates Bed Bath Parking            Property_Type  \\\n",
       "0  [-37.8072443, 144.9602814]   1    1       −  Apartment / Unit / Flat   \n",
       "1  [-37.8135864, 144.9687232]   1    1       −  Apartment / Unit / Flat   \n",
       "2  [-37.8134292, 144.9594445]   1    1       −  Apartment / Unit / Flat   \n",
       "3  [-37.8159969, 144.9657956]   1    1       −  Apartment / Unit / Flat   \n",
       "4  [-37.8137564, 144.9537143]   2    2       1  Apartment / Unit / Flat   \n",
       "\n",
       "                       Agency  Postcode  \n",
       "0           BRADY residential    3000.0  \n",
       "1             Dingle Partners    3000.0  \n",
       "2  Biggin & Scott Stonnington    3000.0  \n",
       "3    Harcourts Melbourne City    3000.0  \n",
       "4    Harcourts Melbourne City    3000.0  "
      ]
     },
     "execution_count": 2,
     "metadata": {},
     "output_type": "execute_result"
    }
   ],
   "source": [
    "properties = pd.read_csv(\"../data/raw/property_data.csv\", index_col=0)\n",
    "properties.head()"
   ]
  },
  {
   "cell_type": "markdown",
   "metadata": {},
   "source": [
    "## Preprocessing\n",
    "- 1 property_type is actually a Carspace\n",
    "- No bathrooms actually have 1 bathroom"
   ]
  },
  {
   "cell_type": "code",
   "execution_count": 3,
   "metadata": {},
   "outputs": [
    {
     "name": "stdout",
     "output_type": "stream",
     "text": [
      "97\n",
      "8\n",
      "1894\n",
      "42\n"
     ]
    }
   ],
   "source": [
    "nan_bed = properties[properties['Bed'] == '−']\n",
    "nan_bath = properties[properties['Bath'] == '−']\n",
    "nan_park = properties[properties['Parking'] == '−']\n",
    "nan_postcode = properties[properties['Postcode'].isna()]\n",
    "print(len(nan_bed))\n",
    "print(len(nan_bath))\n",
    "print(len(nan_park))\n",
    "print(len(nan_postcode))"
   ]
  },
  {
   "cell_type": "code",
   "execution_count": 4,
   "metadata": {},
   "outputs": [],
   "source": [
    "# reformat costs without commas\n",
    "properties['Cost'] = properties['Cost'].str.replace(',', '')\n",
    "\n",
    "# change null values to numeric zero\n",
    "properties['Bed'] = properties['Bed'].replace('−', 0)\n",
    "properties['Bath'] = properties['Bath'].replace('−', 1)\n",
    "properties['Parking'] = properties['Parking'].replace('−', 0)"
   ]
  },
  {
   "cell_type": "code",
   "execution_count": 5,
   "metadata": {},
   "outputs": [],
   "source": [
    "# Null postcodes are invalid rows\n",
    "properties = properties[~properties['Postcode'].isna() ]"
   ]
  },
  {
   "cell_type": "code",
   "execution_count": 6,
   "metadata": {},
   "outputs": [],
   "source": [
    "# remove [0, 0] coordinates \n",
    "properties = properties[properties['Coordinates']!='[0.0, 0.0]']"
   ]
  },
  {
   "cell_type": "code",
   "execution_count": 7,
   "metadata": {},
   "outputs": [
    {
     "data": {
      "text/html": [
       "<div>\n",
       "<style scoped>\n",
       "    .dataframe tbody tr th:only-of-type {\n",
       "        vertical-align: middle;\n",
       "    }\n",
       "\n",
       "    .dataframe tbody tr th {\n",
       "        vertical-align: top;\n",
       "    }\n",
       "\n",
       "    .dataframe thead th {\n",
       "        text-align: right;\n",
       "    }\n",
       "</style>\n",
       "<table border=\"1\" class=\"dataframe\">\n",
       "  <thead>\n",
       "    <tr style=\"text-align: right;\">\n",
       "      <th></th>\n",
       "      <th>Name</th>\n",
       "      <th>Cost</th>\n",
       "      <th>Coordinates</th>\n",
       "      <th>Bed</th>\n",
       "      <th>Bath</th>\n",
       "      <th>Parking</th>\n",
       "      <th>Property_Type</th>\n",
       "      <th>Agency</th>\n",
       "      <th>Postcode</th>\n",
       "    </tr>\n",
       "  </thead>\n",
       "  <tbody>\n",
       "  </tbody>\n",
       "</table>\n",
       "</div>"
      ],
      "text/plain": [
       "Empty DataFrame\n",
       "Columns: [Name, Cost, Coordinates, Bed, Bath, Parking, Property_Type, Agency, Postcode]\n",
       "Index: []"
      ]
     },
     "execution_count": 7,
     "metadata": {},
     "output_type": "execute_result"
    }
   ],
   "source": [
    "# Convert cost to float type\n",
    "properties['Cost'] = properties['Cost'].astype(float)\n",
    "properties['Bed'] = properties['Bed'].astype(int)\n",
    "properties['Bath'] = properties['Bath'].astype(int)\n",
    "properties['Parking'] = properties['Parking'].astype(int)\n",
    "properties['Postcode'] = properties['Postcode'].astype(int).astype(str)\n",
    "\n",
    "properties.head()"
   ]
  },
  {
   "cell_type": "code",
   "execution_count": 8,
   "metadata": {},
   "outputs": [],
   "source": [
    "# zero cost properties\n",
    "properties = properties[properties['Cost'] != 0]"
   ]
  },
  {
   "cell_type": "code",
   "execution_count": 9,
   "metadata": {},
   "outputs": [
    {
     "data": {
      "text/plain": [
       "Series([], Name: Cost, dtype: float64)"
      ]
     },
     "execution_count": 9,
     "metadata": {},
     "output_type": "execute_result"
    }
   ],
   "source": [
    "properties['Cost'].sort_values(ascending=False).head(10)"
   ]
  },
  {
   "cell_type": "code",
   "execution_count": 10,
   "metadata": {},
   "outputs": [],
   "source": [
    "properties = properties[properties['Cost'] <= 20000]"
   ]
  },
  {
   "cell_type": "code",
   "execution_count": 11,
   "metadata": {},
   "outputs": [],
   "source": [
    "new = properties.reset_index(drop=True)\n",
    "new.to_csv('../data/curated/properties_processed.csv')\n",
    "new.to_json('../data/curated/properties_processed.json')"
   ]
  },
  {
   "cell_type": "code",
   "execution_count": null,
   "metadata": {},
   "outputs": [],
   "source": []
  }
 ],
 "metadata": {
  "kernelspec": {
   "display_name": "Python 3.8.10 64-bit",
   "language": "python",
   "name": "python3"
  },
  "language_info": {
   "codemirror_mode": {
    "name": "ipython",
    "version": 3
   },
   "file_extension": ".py",
   "mimetype": "text/x-python",
   "name": "python",
   "nbconvert_exporter": "python",
   "pygments_lexer": "ipython3",
   "version": "3.8.10"
  },
  "orig_nbformat": 4,
  "vscode": {
   "interpreter": {
    "hash": "916dbcbb3f70747c44a77c7bcd40155683ae19c65e1c03b4aa3499c5328201f1"
   }
  }
 },
 "nbformat": 4,
 "nbformat_minor": 2
}
