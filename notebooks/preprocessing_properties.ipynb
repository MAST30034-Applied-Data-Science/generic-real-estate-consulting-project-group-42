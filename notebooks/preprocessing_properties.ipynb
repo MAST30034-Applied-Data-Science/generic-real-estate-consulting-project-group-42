{
 "cells": [
  {
   "cell_type": "code",
   "execution_count": 1,
   "metadata": {},
   "outputs": [],
   "source": [
    "import pandas as pd\n",
    "import numpy as np\n",
    "import matplotlib.pyplot as plt\n",
    "import seaborn as sns"
   ]
  },
  {
   "cell_type": "code",
   "execution_count": 17,
   "metadata": {},
   "outputs": [
    {
     "data": {
      "text/html": [
       "<div>\n",
       "<style scoped>\n",
       "    .dataframe tbody tr th:only-of-type {\n",
       "        vertical-align: middle;\n",
       "    }\n",
       "\n",
       "    .dataframe tbody tr th {\n",
       "        vertical-align: top;\n",
       "    }\n",
       "\n",
       "    .dataframe thead th {\n",
       "        text-align: right;\n",
       "    }\n",
       "</style>\n",
       "<table border=\"1\" class=\"dataframe\">\n",
       "  <thead>\n",
       "    <tr style=\"text-align: right;\">\n",
       "      <th></th>\n",
       "      <th>Name</th>\n",
       "      <th>Cost</th>\n",
       "      <th>Coordinates</th>\n",
       "      <th>Bed</th>\n",
       "      <th>Bath</th>\n",
       "      <th>Parking</th>\n",
       "      <th>Property_Type</th>\n",
       "      <th>Agency</th>\n",
       "      <th>Postcode</th>\n",
       "    </tr>\n",
       "  </thead>\n",
       "  <tbody>\n",
       "    <tr>\n",
       "      <th>0</th>\n",
       "      <td>5408/500 Elizabeth Street Melbourne VIC 3000</td>\n",
       "      <td>440</td>\n",
       "      <td>[-37.8072443, 144.9602814]</td>\n",
       "      <td>1</td>\n",
       "      <td>1</td>\n",
       "      <td>−</td>\n",
       "      <td>Apartment / Unit / Flat</td>\n",
       "      <td>BRADY residential</td>\n",
       "      <td>3000.0</td>\n",
       "    </tr>\n",
       "    <tr>\n",
       "      <th>1</th>\n",
       "      <td>502/118 Russell Street Melbourne VIC 3000</td>\n",
       "      <td>620</td>\n",
       "      <td>[-37.8135864, 144.9687232]</td>\n",
       "      <td>1</td>\n",
       "      <td>1</td>\n",
       "      <td>−</td>\n",
       "      <td>Apartment / Unit / Flat</td>\n",
       "      <td>Dingle Partners</td>\n",
       "      <td>3000.0</td>\n",
       "    </tr>\n",
       "    <tr>\n",
       "      <th>2</th>\n",
       "      <td>202A/441 Lonsdale Street Melbourne VIC 3000</td>\n",
       "      <td>300</td>\n",
       "      <td>[-37.8134292, 144.9594445]</td>\n",
       "      <td>1</td>\n",
       "      <td>1</td>\n",
       "      <td>−</td>\n",
       "      <td>Apartment / Unit / Flat</td>\n",
       "      <td>Biggin &amp; Scott Stonnington</td>\n",
       "      <td>3000.0</td>\n",
       "    </tr>\n",
       "    <tr>\n",
       "      <th>3</th>\n",
       "      <td>57/243 Collins Street Melbourne VIC 3000</td>\n",
       "      <td>400</td>\n",
       "      <td>[-37.8159969, 144.9657956]</td>\n",
       "      <td>1</td>\n",
       "      <td>1</td>\n",
       "      <td>−</td>\n",
       "      <td>Apartment / Unit / Flat</td>\n",
       "      <td>Harcourts Melbourne City</td>\n",
       "      <td>3000.0</td>\n",
       "    </tr>\n",
       "    <tr>\n",
       "      <th>4</th>\n",
       "      <td>2311/601 Little Lonsdale Street Melbourne VIC ...</td>\n",
       "      <td>625</td>\n",
       "      <td>[-37.8137564, 144.9537143]</td>\n",
       "      <td>2</td>\n",
       "      <td>2</td>\n",
       "      <td>1</td>\n",
       "      <td>Apartment / Unit / Flat</td>\n",
       "      <td>Harcourts Melbourne City</td>\n",
       "      <td>3000.0</td>\n",
       "    </tr>\n",
       "  </tbody>\n",
       "</table>\n",
       "</div>"
      ],
      "text/plain": [
       "                                                Name Cost  \\\n",
       "0       5408/500 Elizabeth Street Melbourne VIC 3000  440   \n",
       "1          502/118 Russell Street Melbourne VIC 3000  620   \n",
       "2        202A/441 Lonsdale Street Melbourne VIC 3000  300   \n",
       "3           57/243 Collins Street Melbourne VIC 3000  400   \n",
       "4  2311/601 Little Lonsdale Street Melbourne VIC ...  625   \n",
       "\n",
       "                  Coordinates Bed Bath Parking            Property_Type  \\\n",
       "0  [-37.8072443, 144.9602814]   1    1       −  Apartment / Unit / Flat   \n",
       "1  [-37.8135864, 144.9687232]   1    1       −  Apartment / Unit / Flat   \n",
       "2  [-37.8134292, 144.9594445]   1    1       −  Apartment / Unit / Flat   \n",
       "3  [-37.8159969, 144.9657956]   1    1       −  Apartment / Unit / Flat   \n",
       "4  [-37.8137564, 144.9537143]   2    2       1  Apartment / Unit / Flat   \n",
       "\n",
       "                       Agency  Postcode  \n",
       "0           BRADY residential    3000.0  \n",
       "1             Dingle Partners    3000.0  \n",
       "2  Biggin & Scott Stonnington    3000.0  \n",
       "3    Harcourts Melbourne City    3000.0  \n",
       "4    Harcourts Melbourne City    3000.0  "
      ]
     },
     "execution_count": 17,
     "metadata": {},
     "output_type": "execute_result"
    }
   ],
   "source": [
    "properties = pd.read_csv(\"../data/raw/property_data.csv\", index_col=0)\n",
    "properties.head()"
   ]
  },
  {
   "cell_type": "markdown",
   "metadata": {},
   "source": [
    "## Preprocessing\n",
    "- 1 property_type is actually a Carspace\n",
    "- No bathrooms actually have 1 bathroom"
   ]
  },
  {
   "cell_type": "code",
   "execution_count": 18,
   "metadata": {},
   "outputs": [
    {
     "name": "stdout",
     "output_type": "stream",
     "text": [
      "97\n",
      "8\n",
      "1894\n",
      "42\n"
     ]
    }
   ],
   "source": [
    "nan_bed = properties[properties['Bed'] == '−']\n",
    "nan_bath = properties[properties['Bath'] == '−']\n",
    "nan_park = properties[properties['Parking'] == '−']\n",
    "nan_postcode = properties[properties['Postcode'].isna()]\n",
    "print(len(nan_bed))\n",
    "print(len(nan_bath))\n",
    "print(len(nan_park))\n",
    "print(len(nan_postcode))"
   ]
  },
  {
   "cell_type": "code",
   "execution_count": 19,
   "metadata": {},
   "outputs": [],
   "source": [
    "# reformat costs without commas\n",
    "properties['Cost'] = properties['Cost'].str.replace(',', '')\n",
    "\n",
    "# change null values to numeric zero\n",
    "properties['Bed'] = properties['Bed'].replace('−', 0)\n",
    "properties['Bath'] = properties['Bath'].replace('−', 1)\n",
    "properties['Parking'] = properties['Parking'].replace('−', 0)"
   ]
  },
  {
   "cell_type": "code",
   "execution_count": 20,
   "metadata": {},
   "outputs": [],
   "source": [
    "# Null postcodes are invalid rows\n",
    "properties = properties[~properties['Postcode'].isna() ]"
   ]
  },
  {
   "cell_type": "code",
   "execution_count": 21,
   "metadata": {},
   "outputs": [
    {
     "data": {
      "text/html": [
       "<div>\n",
       "<style scoped>\n",
       "    .dataframe tbody tr th:only-of-type {\n",
       "        vertical-align: middle;\n",
       "    }\n",
       "\n",
       "    .dataframe tbody tr th {\n",
       "        vertical-align: top;\n",
       "    }\n",
       "\n",
       "    .dataframe thead th {\n",
       "        text-align: right;\n",
       "    }\n",
       "</style>\n",
       "<table border=\"1\" class=\"dataframe\">\n",
       "  <thead>\n",
       "    <tr style=\"text-align: right;\">\n",
       "      <th></th>\n",
       "      <th>Name</th>\n",
       "      <th>Cost</th>\n",
       "      <th>Coordinates</th>\n",
       "      <th>Bed</th>\n",
       "      <th>Bath</th>\n",
       "      <th>Parking</th>\n",
       "      <th>Property_Type</th>\n",
       "      <th>Agency</th>\n",
       "      <th>Postcode</th>\n",
       "    </tr>\n",
       "  </thead>\n",
       "  <tbody>\n",
       "    <tr>\n",
       "      <th>0</th>\n",
       "      <td>5408/500 Elizabeth Street Melbourne VIC 3000</td>\n",
       "      <td>440.0</td>\n",
       "      <td>[-37.8072443, 144.9602814]</td>\n",
       "      <td>1</td>\n",
       "      <td>1</td>\n",
       "      <td>0</td>\n",
       "      <td>Apartment / Unit / Flat</td>\n",
       "      <td>BRADY residential</td>\n",
       "      <td>3000</td>\n",
       "    </tr>\n",
       "    <tr>\n",
       "      <th>1</th>\n",
       "      <td>502/118 Russell Street Melbourne VIC 3000</td>\n",
       "      <td>620.0</td>\n",
       "      <td>[-37.8135864, 144.9687232]</td>\n",
       "      <td>1</td>\n",
       "      <td>1</td>\n",
       "      <td>0</td>\n",
       "      <td>Apartment / Unit / Flat</td>\n",
       "      <td>Dingle Partners</td>\n",
       "      <td>3000</td>\n",
       "    </tr>\n",
       "    <tr>\n",
       "      <th>2</th>\n",
       "      <td>202A/441 Lonsdale Street Melbourne VIC 3000</td>\n",
       "      <td>300.0</td>\n",
       "      <td>[-37.8134292, 144.9594445]</td>\n",
       "      <td>1</td>\n",
       "      <td>1</td>\n",
       "      <td>0</td>\n",
       "      <td>Apartment / Unit / Flat</td>\n",
       "      <td>Biggin &amp; Scott Stonnington</td>\n",
       "      <td>3000</td>\n",
       "    </tr>\n",
       "    <tr>\n",
       "      <th>3</th>\n",
       "      <td>57/243 Collins Street Melbourne VIC 3000</td>\n",
       "      <td>400.0</td>\n",
       "      <td>[-37.8159969, 144.9657956]</td>\n",
       "      <td>1</td>\n",
       "      <td>1</td>\n",
       "      <td>0</td>\n",
       "      <td>Apartment / Unit / Flat</td>\n",
       "      <td>Harcourts Melbourne City</td>\n",
       "      <td>3000</td>\n",
       "    </tr>\n",
       "    <tr>\n",
       "      <th>4</th>\n",
       "      <td>2311/601 Little Lonsdale Street Melbourne VIC ...</td>\n",
       "      <td>625.0</td>\n",
       "      <td>[-37.8137564, 144.9537143]</td>\n",
       "      <td>2</td>\n",
       "      <td>2</td>\n",
       "      <td>1</td>\n",
       "      <td>Apartment / Unit / Flat</td>\n",
       "      <td>Harcourts Melbourne City</td>\n",
       "      <td>3000</td>\n",
       "    </tr>\n",
       "  </tbody>\n",
       "</table>\n",
       "</div>"
      ],
      "text/plain": [
       "                                                Name   Cost  \\\n",
       "0       5408/500 Elizabeth Street Melbourne VIC 3000  440.0   \n",
       "1          502/118 Russell Street Melbourne VIC 3000  620.0   \n",
       "2        202A/441 Lonsdale Street Melbourne VIC 3000  300.0   \n",
       "3           57/243 Collins Street Melbourne VIC 3000  400.0   \n",
       "4  2311/601 Little Lonsdale Street Melbourne VIC ...  625.0   \n",
       "\n",
       "                  Coordinates  Bed  Bath  Parking            Property_Type  \\\n",
       "0  [-37.8072443, 144.9602814]    1     1        0  Apartment / Unit / Flat   \n",
       "1  [-37.8135864, 144.9687232]    1     1        0  Apartment / Unit / Flat   \n",
       "2  [-37.8134292, 144.9594445]    1     1        0  Apartment / Unit / Flat   \n",
       "3  [-37.8159969, 144.9657956]    1     1        0  Apartment / Unit / Flat   \n",
       "4  [-37.8137564, 144.9537143]    2     2        1  Apartment / Unit / Flat   \n",
       "\n",
       "                       Agency Postcode  \n",
       "0           BRADY residential     3000  \n",
       "1             Dingle Partners     3000  \n",
       "2  Biggin & Scott Stonnington     3000  \n",
       "3    Harcourts Melbourne City     3000  \n",
       "4    Harcourts Melbourne City     3000  "
      ]
     },
     "execution_count": 21,
     "metadata": {},
     "output_type": "execute_result"
    }
   ],
   "source": [
    "# Convert cost to float type\n",
    "properties['Cost'] = properties['Cost'].astype(float)\n",
    "properties['Bed'] = properties['Bed'].astype(int)\n",
    "properties['Bath'] = properties['Bath'].astype(int)\n",
    "properties['Parking'] = properties['Parking'].astype(int)\n",
    "properties['Postcode'] = properties['Postcode'].astype(int).astype(str)\n",
    "\n",
    "properties.head()"
   ]
  },
  {
   "cell_type": "code",
   "execution_count": 22,
   "metadata": {},
   "outputs": [],
   "source": [
    "# zero cost properties\n",
    "properties = properties[properties['Cost'] != 0]"
   ]
  },
  {
   "cell_type": "code",
   "execution_count": 23,
   "metadata": {},
   "outputs": [
    {
     "data": {
      "text/plain": [
       "13298    47000.0\n",
       "1160     39000.0\n",
       "9448     39000.0\n",
       "7844     38000.0\n",
       "8761      5000.0\n",
       "13281     5000.0\n",
       "13108     4000.0\n",
       "10664     3850.0\n",
       "10544     3775.0\n",
       "6156      3750.0\n",
       "Name: Cost, dtype: float64"
      ]
     },
     "execution_count": 23,
     "metadata": {},
     "output_type": "execute_result"
    }
   ],
   "source": [
    "properties['Cost'].sort_values(ascending=False).head(10)"
   ]
  },
  {
   "cell_type": "code",
   "execution_count": 25,
   "metadata": {},
   "outputs": [],
   "source": [
    "properties = properties[properties['Cost'] <= 20000]"
   ]
  },
  {
   "cell_type": "code",
   "execution_count": 26,
   "metadata": {},
   "outputs": [],
   "source": [
    "new = properties.reset_index(drop=True)\n",
    "new.to_csv('../data/curated/properties_processed.csv')\n",
    "new.to_json('../data/curated/properties_processed.json')"
   ]
  }
 ],
 "metadata": {
  "kernelspec": {
   "display_name": "Python 3.8.2 ('MAST30034env': venv)",
   "language": "python",
   "name": "python3"
  },
  "language_info": {
   "codemirror_mode": {
    "name": "ipython",
    "version": 3
   },
   "file_extension": ".py",
   "mimetype": "text/x-python",
   "name": "python",
   "nbconvert_exporter": "python",
   "pygments_lexer": "ipython3",
   "version": "3.8.2"
  },
  "orig_nbformat": 4,
  "vscode": {
   "interpreter": {
    "hash": "a5732c9d997a6f78fcb86dba9b0f86e5cc814f598a215f7fa9c9d5c7c7ffa066"
   }
  }
 },
 "nbformat": 4,
 "nbformat_minor": 2
}
