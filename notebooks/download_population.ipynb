{
 "cells": [
  {
   "cell_type": "markdown",
   "metadata": {},
   "source": [
    "Notebook downloads population, to be added to download_external.py script once finished"
   ]
  },
  {
   "cell_type": "code",
   "execution_count": 1,
   "metadata": {},
   "outputs": [],
   "source": [
    "import os, requests, zipfile\n",
    "from io import BytesIO\n",
    "from urllib.request import urlretrieve\n",
    "\n",
    "## find directory\n",
    "# dir_name = os.path.dirname(__file__)\n",
    "#dir_name = os.path.dirname(dir_name)\n",
    "dir_name = '..'\n",
    "relative_dir = '/data/raw/'\n",
    "\n",
    "## create separate folders for data\n",
    "if not os.path.exists(dir_name + relative_dir + 'external'):\n",
    "    os.makedirs(dir_name + relative_dir + 'external')\n",
    "\n",
    "if not os.path.exists(dir_name + relative_dir + 'external/' + 'population'):\n",
    "    os.makedirs(dir_name + relative_dir + 'external/' + 'population')"
   ]
  },
  {
   "cell_type": "code",
   "execution_count": 4,
   "metadata": {},
   "outputs": [
    {
     "name": "stdout",
     "output_type": "stream",
     "text": [
      "Completed downloading and extracting 2021_GCP_POA_for_VIC_short-header\n",
      "Completed downloading and extracting 2016_GCP_POA_for_VIC_short-header\n",
      "Completed downloading and extracting 2011_BCP_POA_for_VIC_short-header\n"
     ]
    }
   ],
   "source": [
    "pop_base_url = 'https://www.abs.gov.au/census/find-census-data/datapacks/download/'\n",
    "pop_filenames = ['2021_GCP_POA_for_VIC_short-header', '2016_GCP_POA_for_VIC_short-header', '2011_BCP_POA_for_VIC_short-header']\n",
    "for filename in pop_filenames:\n",
    "    output_dir = dir_name + relative_dir + 'external/' + 'population/'\n",
    "    urlretrieve(f'{pop_base_url}{filename}.zip', f'{output_dir}{filename}.zip')\n",
    "    with zipfile.ZipFile(f'{output_dir}{filename}.zip', \"r\") as zip_ref:\n",
    "        zip_ref.extractall(f'{output_dir}{filename}')\n",
    "\n",
    "    print(f\"Completed downloading and extracting {filename}\")"
   ]
  },
  {
   "cell_type": "code",
   "execution_count": null,
   "metadata": {},
   "outputs": [],
   "source": []
  }
 ],
 "metadata": {
  "kernelspec": {
   "display_name": "Python 3.10.4 64-bit",
   "language": "python",
   "name": "python3"
  },
  "language_info": {
   "codemirror_mode": {
    "name": "ipython",
    "version": 3
   },
   "file_extension": ".py",
   "mimetype": "text/x-python",
   "name": "python",
   "nbconvert_exporter": "python",
   "pygments_lexer": "ipython3",
   "version": "3.10.4"
  },
  "orig_nbformat": 4,
  "vscode": {
   "interpreter": {
    "hash": "916dbcbb3f70747c44a77c7bcd40155683ae19c65e1c03b4aa3499c5328201f1"
   }
  }
 },
 "nbformat": 4,
 "nbformat_minor": 2
}
