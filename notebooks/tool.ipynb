{
 "cells": [
  {
   "cell_type": "code",
   "execution_count": 75,
   "metadata": {},
   "outputs": [],
   "source": [
    "import pandas as pd\n",
    "import numpy as np\n",
    "import matplotlib.pyplot as plt\n",
    "import seaborn as sns\n",
    "import ast\n",
    "from scipy.spatial import distance\n",
    "import json \n",
    "\n",
    "import warnings\n",
    "warnings.simplefilter(action='ignore', category=FutureWarning)"
   ]
  },
  {
   "cell_type": "code",
   "execution_count": 2,
   "metadata": {},
   "outputs": [],
   "source": [
    "postcodes = pd.read_csv(\"../data/curated/unique_postcodes.csv\", header=None, names = ['postcode'])\n",
    "latlongs = pd.read_csv(\"../data/raw/external/australian_postcodes.csv\")"
   ]
  },
  {
   "cell_type": "code",
   "execution_count": 42,
   "metadata": {},
   "outputs": [],
   "source": [
    "latlongs = latlongs.loc[latlongs['state']  == 'VIC']"
   ]
  },
  {
   "cell_type": "code",
   "execution_count": 4,
   "metadata": {},
   "outputs": [],
   "source": [
    "merged = postcodes.merge(latlongs, on = 'postcode', how = \"left\")\n",
    "postcode_latlong = merged[['postcode', 'lat', 'long']]"
   ]
  },
  {
   "cell_type": "code",
   "execution_count": 43,
   "metadata": {},
   "outputs": [],
   "source": [
    "postcode_latlong = postcode_latlong.drop_duplicates(subset = ['postcode'])"
   ]
  },
  {
   "cell_type": "code",
   "execution_count": 40,
   "metadata": {},
   "outputs": [],
   "source": [
    "# calculate distance to each postcode   \n",
    "\n",
    "lat = postcode_latlong['lat'][0]\n",
    "long = postcode_latlong['long'][0]\n",
    "\n",
    "coord = [lat, long]\n",
    "\n",
    "lat1 = postcode_latlong['lat'][2]\n",
    "long1 = postcode_latlong['long'][2]\n",
    "coord1 = [lat1, long1]\n",
    "\n",
    "postcode_dict = {}\n",
    "for i in range(0, len(postcode_latlong)):\n",
    "    inner_dict = {}\n",
    "    current_postcode = postcode_latlong.iloc[i]\n",
    "    curr_coords = [current_postcode['lat'], current_postcode['long']]\n",
    "\n",
    "    for j in range(0, len(postcode_latlong)):\n",
    "        if j == i:\n",
    "            continue\n",
    "        else:\n",
    "            # calculate euclidean distance between current postcode and all others\n",
    "            next_postcode = postcode_latlong.iloc[j]\n",
    "            next_coords = [next_postcode['lat'], next_postcode['long']]\n",
    "\n",
    "            inner_dict[int(next_postcode['postcode'])] = distance.euclidean(curr_coords, next_coords)\n",
    "\n",
    "    df = pd.DataFrame(list(inner_dict.items()), columns = ['postcode', 'distance'])\n",
    "    df = df.sort_values('distance')\n",
    "    ten_closest = df.head(10)\n",
    "\n",
    "    postcode_dict[int(current_postcode['postcode'])] = dict(zip(ten_closest['postcode'], ten_closest['distance']))\n",
    "\n"
   ]
  },
  {
   "cell_type": "code",
   "execution_count": 74,
   "metadata": {},
   "outputs": [],
   "source": [
    "with open(\"../data/curated/postcode_dists.json\", \"w\") as outfile: \n",
    "    json.dump(postcode_dict, outfile)"
   ]
  },
  {
   "cell_type": "code",
   "execution_count": 58,
   "metadata": {},
   "outputs": [],
   "source": [
    "# read in growth rate, affordability and liveability csvs and combine for each postcode \n",
    "growth_rate_df = pd.read_csv(\"../data/curated/growthrate.csv\")\n",
    "affordability_df = pd.read_csv(\"../data/curated/affordability.csv\")\n",
    "livability_df = pd.read_csv(\"../data/curated/liveability.csv\")\n"
   ]
  },
  {
   "cell_type": "code",
   "execution_count": 61,
   "metadata": {},
   "outputs": [],
   "source": [
    "growth_rate_df.columns = ['Postcode', 'Growth Rate']"
   ]
  },
  {
   "cell_type": "code",
   "execution_count": 62,
   "metadata": {},
   "outputs": [
    {
     "data": {
      "text/html": [
       "<div>\n",
       "<style scoped>\n",
       "    .dataframe tbody tr th:only-of-type {\n",
       "        vertical-align: middle;\n",
       "    }\n",
       "\n",
       "    .dataframe tbody tr th {\n",
       "        vertical-align: top;\n",
       "    }\n",
       "\n",
       "    .dataframe thead th {\n",
       "        text-align: right;\n",
       "    }\n",
       "</style>\n",
       "<table border=\"1\" class=\"dataframe\">\n",
       "  <thead>\n",
       "    <tr style=\"text-align: right;\">\n",
       "      <th></th>\n",
       "      <th>Unnamed: 0</th>\n",
       "      <th>Postcode</th>\n",
       "      <th>Standardised Liveability</th>\n",
       "    </tr>\n",
       "  </thead>\n",
       "  <tbody>\n",
       "    <tr>\n",
       "      <th>0</th>\n",
       "      <td>0</td>\n",
       "      <td>3000</td>\n",
       "      <td>0.132226</td>\n",
       "    </tr>\n",
       "    <tr>\n",
       "      <th>1</th>\n",
       "      <td>1</td>\n",
       "      <td>3002</td>\n",
       "      <td>0.167572</td>\n",
       "    </tr>\n",
       "    <tr>\n",
       "      <th>2</th>\n",
       "      <td>2</td>\n",
       "      <td>3003</td>\n",
       "      <td>0.155316</td>\n",
       "    </tr>\n",
       "    <tr>\n",
       "      <th>3</th>\n",
       "      <td>3</td>\n",
       "      <td>3004</td>\n",
       "      <td>0.225321</td>\n",
       "    </tr>\n",
       "    <tr>\n",
       "      <th>4</th>\n",
       "      <td>4</td>\n",
       "      <td>3006</td>\n",
       "      <td>0.292377</td>\n",
       "    </tr>\n",
       "    <tr>\n",
       "      <th>...</th>\n",
       "      <td>...</td>\n",
       "      <td>...</td>\n",
       "      <td>...</td>\n",
       "    </tr>\n",
       "    <tr>\n",
       "      <th>685</th>\n",
       "      <td>685</td>\n",
       "      <td>3981</td>\n",
       "      <td>0.311540</td>\n",
       "    </tr>\n",
       "    <tr>\n",
       "      <th>686</th>\n",
       "      <td>686</td>\n",
       "      <td>3984</td>\n",
       "      <td>0.653477</td>\n",
       "    </tr>\n",
       "    <tr>\n",
       "      <th>687</th>\n",
       "      <td>687</td>\n",
       "      <td>3987</td>\n",
       "      <td>0.849286</td>\n",
       "    </tr>\n",
       "    <tr>\n",
       "      <th>692</th>\n",
       "      <td>692</td>\n",
       "      <td>3995</td>\n",
       "      <td>0.447956</td>\n",
       "    </tr>\n",
       "    <tr>\n",
       "      <th>693</th>\n",
       "      <td>693</td>\n",
       "      <td>3996</td>\n",
       "      <td>0.401771</td>\n",
       "    </tr>\n",
       "  </tbody>\n",
       "</table>\n",
       "<p>409 rows × 3 columns</p>\n",
       "</div>"
      ],
      "text/plain": [
       "     Unnamed: 0  Postcode  Standardised Liveability\n",
       "0             0      3000                  0.132226\n",
       "1             1      3002                  0.167572\n",
       "2             2      3003                  0.155316\n",
       "3             3      3004                  0.225321\n",
       "4             4      3006                  0.292377\n",
       "..          ...       ...                       ...\n",
       "685         685      3981                  0.311540\n",
       "686         686      3984                  0.653477\n",
       "687         687      3987                  0.849286\n",
       "692         692      3995                  0.447956\n",
       "693         693      3996                  0.401771\n",
       "\n",
       "[409 rows x 3 columns]"
      ]
     },
     "execution_count": 62,
     "metadata": {},
     "output_type": "execute_result"
    }
   ],
   "source": [
    "livability_df.dropna()"
   ]
  },
  {
   "cell_type": "code",
   "execution_count": 63,
   "metadata": {},
   "outputs": [
    {
     "data": {
      "text/html": [
       "<div>\n",
       "<style scoped>\n",
       "    .dataframe tbody tr th:only-of-type {\n",
       "        vertical-align: middle;\n",
       "    }\n",
       "\n",
       "    .dataframe tbody tr th {\n",
       "        vertical-align: top;\n",
       "    }\n",
       "\n",
       "    .dataframe thead th {\n",
       "        text-align: right;\n",
       "    }\n",
       "</style>\n",
       "<table border=\"1\" class=\"dataframe\">\n",
       "  <thead>\n",
       "    <tr style=\"text-align: right;\">\n",
       "      <th></th>\n",
       "      <th>Unnamed: 0</th>\n",
       "      <th>Postcode</th>\n",
       "      <th>Standardised Affordability</th>\n",
       "    </tr>\n",
       "  </thead>\n",
       "  <tbody>\n",
       "    <tr>\n",
       "      <th>0</th>\n",
       "      <td>0</td>\n",
       "      <td>3000</td>\n",
       "      <td>0.062203</td>\n",
       "    </tr>\n",
       "    <tr>\n",
       "      <th>1</th>\n",
       "      <td>1</td>\n",
       "      <td>3002</td>\n",
       "      <td>0.031659</td>\n",
       "    </tr>\n",
       "    <tr>\n",
       "      <th>2</th>\n",
       "      <td>2</td>\n",
       "      <td>3003</td>\n",
       "      <td>0.588788</td>\n",
       "    </tr>\n",
       "    <tr>\n",
       "      <th>3</th>\n",
       "      <td>3</td>\n",
       "      <td>3004</td>\n",
       "      <td>0.044945</td>\n",
       "    </tr>\n",
       "    <tr>\n",
       "      <th>4</th>\n",
       "      <td>4</td>\n",
       "      <td>3006</td>\n",
       "      <td>0.000000</td>\n",
       "    </tr>\n",
       "    <tr>\n",
       "      <th>...</th>\n",
       "      <td>...</td>\n",
       "      <td>...</td>\n",
       "      <td>...</td>\n",
       "    </tr>\n",
       "    <tr>\n",
       "      <th>221</th>\n",
       "      <td>221</td>\n",
       "      <td>3975</td>\n",
       "      <td>0.769464</td>\n",
       "    </tr>\n",
       "    <tr>\n",
       "      <th>222</th>\n",
       "      <td>222</td>\n",
       "      <td>3976</td>\n",
       "      <td>0.679672</td>\n",
       "    </tr>\n",
       "    <tr>\n",
       "      <th>223</th>\n",
       "      <td>223</td>\n",
       "      <td>3977</td>\n",
       "      <td>0.663470</td>\n",
       "    </tr>\n",
       "    <tr>\n",
       "      <th>224</th>\n",
       "      <td>224</td>\n",
       "      <td>3978</td>\n",
       "      <td>0.670703</td>\n",
       "    </tr>\n",
       "    <tr>\n",
       "      <th>225</th>\n",
       "      <td>225</td>\n",
       "      <td>3995</td>\n",
       "      <td>0.654981</td>\n",
       "    </tr>\n",
       "  </tbody>\n",
       "</table>\n",
       "<p>226 rows × 3 columns</p>\n",
       "</div>"
      ],
      "text/plain": [
       "     Unnamed: 0  Postcode  Standardised Affordability\n",
       "0             0      3000                    0.062203\n",
       "1             1      3002                    0.031659\n",
       "2             2      3003                    0.588788\n",
       "3             3      3004                    0.044945\n",
       "4             4      3006                    0.000000\n",
       "..          ...       ...                         ...\n",
       "221         221      3975                    0.769464\n",
       "222         222      3976                    0.679672\n",
       "223         223      3977                    0.663470\n",
       "224         224      3978                    0.670703\n",
       "225         225      3995                    0.654981\n",
       "\n",
       "[226 rows x 3 columns]"
      ]
     },
     "execution_count": 63,
     "metadata": {},
     "output_type": "execute_result"
    }
   ],
   "source": [
    "affordability_df"
   ]
  },
  {
   "cell_type": "code",
   "execution_count": 69,
   "metadata": {},
   "outputs": [],
   "source": [
    "merged = growth_rate_df.merge(affordability_df, on='Postcode').merge(livability_df, on = 'Postcode')\n",
    "final_df = merged.drop(['Unnamed: 0_x', 'Unnamed: 0_y'], axis = 1)"
   ]
  },
  {
   "cell_type": "code",
   "execution_count": 76,
   "metadata": {},
   "outputs": [],
   "source": [
    "final_df.to_csv('../data/curated/growthrate_afford_live.csv')"
   ]
  },
  {
   "cell_type": "code",
   "execution_count": null,
   "metadata": {},
   "outputs": [],
   "source": []
  }
 ],
 "metadata": {
  "kernelspec": {
   "display_name": "Python 3.8.10 64-bit",
   "language": "python",
   "name": "python3"
  },
  "language_info": {
   "codemirror_mode": {
    "name": "ipython",
    "version": 3
   },
   "file_extension": ".py",
   "mimetype": "text/x-python",
   "name": "python",
   "nbconvert_exporter": "python",
   "pygments_lexer": "ipython3",
   "version": "3.8.10"
  },
  "orig_nbformat": 4,
  "vscode": {
   "interpreter": {
    "hash": "916dbcbb3f70747c44a77c7bcd40155683ae19c65e1c03b4aa3499c5328201f1"
   }
  }
 },
 "nbformat": 4,
 "nbformat_minor": 2
}
