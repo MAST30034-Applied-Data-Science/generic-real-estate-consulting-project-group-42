{
 "cells": [
  {
   "cell_type": "markdown",
   "metadata": {},
   "source": [
    "<h1>Tool database creation</h1>"
   ]
  },
  {
   "cell_type": "code",
   "execution_count": 1,
   "metadata": {},
   "outputs": [],
   "source": [
    "# Importing necessary libraries\n",
    "import json\n",
    "import pandas as pd\n",
    "import warnings\n",
    "\n",
    "from scipy.spatial import distance\n",
    "\n",
    "warnings.simplefilter(action=\"ignore\", category=FutureWarning)"
   ]
  },
  {
   "cell_type": "code",
   "execution_count": 2,
   "metadata": {},
   "outputs": [],
   "source": [
    "# Read in relevant data\n",
    "postcodes = pd.read_csv(\"../data/curated/unique_postcodes.csv\", header=None, names = [\"postcode\"])\n",
    "latlongs = pd.read_csv(\"../data/raw/external/australian_postcodes/australian_postcodes.csv\")\n",
    "\n",
    "growth_rate_df = pd.read_csv(\"../data/curated/growth_rate.csv\")\n",
    "affordability_df = pd.read_csv(\"../data/curated/affordability.csv\")\n",
    "livability_df = pd.read_csv(\"../data/curated/liveability.csv\")"
   ]
  },
  {
   "cell_type": "markdown",
   "metadata": {},
   "source": [
    "## Featurise postcodes"
   ]
  },
  {
   "cell_type": "code",
   "execution_count": 3,
   "metadata": {},
   "outputs": [],
   "source": [
    "# Merging postcode data\n",
    "latlongs = latlongs.loc[latlongs[\"state\"]  == \"VIC\"]\n",
    "\n",
    "merged = postcodes.merge(latlongs, on = \"postcode\", how = \"left\")\n",
    "postcode_latlong = merged[[\"postcode\", \"lat\", \"long\"]]\n",
    "\n",
    "postcode_latlong = postcode_latlong.drop_duplicates(subset = [\"postcode\"])"
   ]
  },
  {
   "cell_type": "code",
   "execution_count": 4,
   "metadata": {},
   "outputs": [],
   "source": [
    "postcode_dict = {}\n",
    "\n",
    "# Iterating through each postcode, calculate distance to each postcode and add the ten closest\n",
    "for i in range(0, len(postcode_latlong)):\n",
    "    inner_dict = {}\n",
    "    current_postcode = postcode_latlong.iloc[i]\n",
    "    curr_coords = [current_postcode[\"lat\"], current_postcode[\"long\"]]\n",
    "\n",
    "    for j in range(0, len(postcode_latlong)):\n",
    "        if j == i:\n",
    "            continue\n",
    "        else:\n",
    "            # Calculate euclidean distance between current postcode and all others\n",
    "            next_postcode = postcode_latlong.iloc[j]\n",
    "            next_coords = [next_postcode[\"lat\"], next_postcode[\"long\"]]\n",
    "\n",
    "            inner_dict[int(next_postcode[\"postcode\"])] = distance.euclidean(curr_coords, next_coords)\n",
    "\n",
    "    df = pd.DataFrame(list(inner_dict.items()), columns = [\"postcode\", \"distance\"])\n",
    "    df = df.sort_values(\"distance\")\n",
    "    ten_closest = df.head(10)\n",
    "\n",
    "    postcode_dict[int(current_postcode[\"postcode\"])] = dict(zip(ten_closest[\"postcode\"], ten_closest[\"distance\"]))"
   ]
  },
  {
   "cell_type": "code",
   "execution_count": 5,
   "metadata": {},
   "outputs": [],
   "source": [
    "# Save postcode distances\n",
    "with open(\"../data/curated/postcode_dists.json\", \"w\") as outfile: \n",
    "    json.dump(postcode_dict, outfile)"
   ]
  },
  {
   "cell_type": "markdown",
   "metadata": {},
   "source": [
    "## Combine desireability measures"
   ]
  },
  {
   "cell_type": "code",
   "execution_count": 6,
   "metadata": {},
   "outputs": [],
   "source": [
    "# View growth rates\n",
    "growth_rate_df.columns = [\"Postcode\", \"Growth Rate\"]\n",
    "\n",
    "# Merge all scores with postcodes\n",
    "postcodes.columns = [\"Postcode\"]\n",
    "final_df = postcodes.merge(growth_rate_df, on = \"Postcode\", how = \"outer\").merge(affordability_df, on=\"Postcode\", how = \"outer\").merge(livability_df, on = \"Postcode\", how = \"outer\")\n",
    "\n",
    "# Save merged dataset\n",
    "final_df.to_csv(\"../data/curated/growthrate_afford_live.csv\")"
   ]
  }
 ],
 "metadata": {
  "kernelspec": {
   "display_name": "Python 3.8.10 64-bit",
   "language": "python",
   "name": "python3"
  },
  "language_info": {
   "codemirror_mode": {
    "name": "ipython",
    "version": 3
   },
   "file_extension": ".py",
   "mimetype": "text/x-python",
   "name": "python",
   "nbconvert_exporter": "python",
   "pygments_lexer": "ipython3",
   "version": "3.10.4"
  },
  "orig_nbformat": 4,
  "vscode": {
   "interpreter": {
    "hash": "916dbcbb3f70747c44a77c7bcd40155683ae19c65e1c03b4aa3499c5328201f1"
   }
  }
 },
 "nbformat": 4,
 "nbformat_minor": 2
}
