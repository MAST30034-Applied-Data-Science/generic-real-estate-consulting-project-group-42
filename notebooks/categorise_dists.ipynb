{
 "cells": [
  {
   "cell_type": "code",
   "execution_count": 14,
   "metadata": {},
   "outputs": [],
   "source": [
    "import pandas as pd\n",
    "import numpy as np\n",
    "import seaborn as sns\n",
    "import matplotlib.pyplot as plt\n",
    "\n",
    "output_dir = '../data/curated/'"
   ]
  },
  {
   "cell_type": "code",
   "execution_count": 33,
   "metadata": {},
   "outputs": [
    {
     "data": {
      "text/plain": [
       "Index(['Unnamed: 0', 'Name', 'Cost', 'Coordinates', 'Bed', 'Bath', 'Parking',\n",
       "       'Property_Type', 'Agency', 'Postcode', 'cbd_distance', 'cbd_duration',\n",
       "       'station_distance', 'station_duration', 'park_distance',\n",
       "       'park_duration', 'postoffice_distance', 'postoffice_duration',\n",
       "       'Nearby_Schools', 'primary_distance', 'primary_duration',\n",
       "       'secondary_distance', 'secondary_duration'],\n",
       "      dtype='object')"
      ]
     },
     "execution_count": 33,
     "metadata": {},
     "output_type": "execute_result"
    }
   ],
   "source": [
    "distances = pd.read_csv(\"../data/curated/all_distances.csv\")\n",
    "distances.columns"
   ]
  },
  {
   "cell_type": "code",
   "execution_count": 34,
   "metadata": {},
   "outputs": [
    {
     "name": "stdout",
     "output_type": "stream",
     "text": [
      "station_duration 771.1\n",
      "park_duration 1077.5\n",
      "postoffice_duration 708.4\n",
      "primary_duration 1908.5\n",
      "secondary_duration 2050.4\n",
      "station_distance 12474.3\n",
      "park_distance 20738.8\n",
      "postoffice_distance 6935.0\n",
      "primary_distance 41158.9\n",
      "secondary_distance 41158.9\n"
     ]
    }
   ],
   "source": [
    "columns_to_categorise = ['station_duration',  'park_duration', 'postoffice_duration', 'primary_duration', 'secondary_duration',\n",
    "                         'station_distance',  'park_distance', 'postoffice_distance', 'primary_distance', 'secondary_distance']\n",
    "\n",
    "processed_distances = distances[['Name', 'Cost', 'Coordinates', 'Bed', 'Bath', 'Parking',\n",
    "       'Property_Type', 'Agency', 'Postcode', 'cbd_duration', 'Nearby_Schools']]\n",
    "processed_distances = processed_distances.reset_index()\n",
    "\n",
    "\n",
    "for col in columns_to_categorise:\n",
    "    data = distances[col]\n",
    "    dist_cat_dict = {}\n",
    "    max_dist = max(data)\n",
    "    print(col, max_dist)\n",
    "    for i in range(0, len(data)):\n",
    "        # categorise\n",
    "        cat = 0 \n",
    "        if (data[i] > 0 and data[i] <= max_dist / 8):\n",
    "            cat = 1\n",
    "        elif (data[i] > max_dist / 8 and data[i] <= max_dist / 4):\n",
    "            cat = 2\n",
    "        elif (data[i] > max_dist / 4 and data[i] <= max_dist / 2):\n",
    "            cat = 3\n",
    "        elif (data[i] > max_dist / 2 and data[i] <= 3 * max_dist / 4):\n",
    "            cat = 4\n",
    "        elif (data[i] > 3 * max_dist / 4 and data[i] <= max_dist):\n",
    "            cat = 5\n",
    "        else:\n",
    "            cat = 6\n",
    "        # if (data[i] > 0 and data[i] <= 500):\n",
    "        #     cat = 1\n",
    "        # elif (data[i] > 500 and data[i] <= 1000):\n",
    "        #     cat = 2\n",
    "        # elif (data[i] > 1000 and data[i] <= 1500):\n",
    "        #     cat = 3 \n",
    "        # elif (data[i] > 1500 and data[i] <= 2000):\n",
    "        #     cat = 4\n",
    "        # else:\n",
    "        #     cat = 5 \n",
    "\n",
    "        dist_cat_dict[i] = cat\n",
    "    \n",
    "    processed_distances[col] = processed_distances['index'].map(dist_cat_dict)\n"
   ]
  },
  {
   "cell_type": "code",
   "execution_count": 35,
   "metadata": {},
   "outputs": [],
   "source": [
    "# processed_distances = processed_distances.set_index('index')\n",
    "processed_distances = processed_distances.drop(['index'], axis=1)"
   ]
  },
  {
   "cell_type": "code",
   "execution_count": 36,
   "metadata": {},
   "outputs": [],
   "source": [
    "processed_distances.to_csv(\"../data/curated/categorised_distances.csv\")"
   ]
  }
 ],
 "metadata": {
  "kernelspec": {
   "display_name": "Python 3.8.2 ('MAST30034env': venv)",
   "language": "python",
   "name": "python3"
  },
  "language_info": {
   "codemirror_mode": {
    "name": "ipython",
    "version": 3
   },
   "file_extension": ".py",
   "mimetype": "text/x-python",
   "name": "python",
   "nbconvert_exporter": "python",
   "pygments_lexer": "ipython3",
   "version": "3.8.2"
  },
  "orig_nbformat": 4,
  "vscode": {
   "interpreter": {
    "hash": "a5732c9d997a6f78fcb86dba9b0f86e5cc814f598a215f7fa9c9d5c7c7ffa066"
   }
  }
 },
 "nbformat": 4,
 "nbformat_minor": 2
}
