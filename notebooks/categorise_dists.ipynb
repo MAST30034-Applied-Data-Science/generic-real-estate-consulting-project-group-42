{
 "cells": [
  {
   "cell_type": "code",
   "execution_count": 10,
   "metadata": {},
   "outputs": [],
   "source": [
    "import pandas as pd\n",
    "import numpy as np\n",
    "import seaborn as sns\n",
    "import matplotlib.pyplot as plt\n",
    "\n",
    "output_dir = '../data/curated/'"
   ]
  },
  {
   "cell_type": "code",
   "execution_count": 11,
   "metadata": {},
   "outputs": [
    {
     "data": {
      "text/plain": [
       "Index(['Name', 'Cost', 'Coordinates', 'Bed', 'Bath', 'Parking',\n",
       "       'Property_Type', 'Agency', 'Postcode', 'CBD_Distance', 'CBD_Duration',\n",
       "       'Railway_Distance', 'Railway_Duration', 'Park_Distance',\n",
       "       'Park_Duration', 'Post_Office_Distance', 'Post_Office_Duration',\n",
       "       'Nearby_Schools', 'Primary_Distance', 'Primary_Duration',\n",
       "       'Secondary_Distance', 'Secondary_Duration'],\n",
       "      dtype='object')"
      ]
     },
     "execution_count": 11,
     "metadata": {},
     "output_type": "execute_result"
    }
   ],
   "source": [
    "distances = pd.read_csv(\"../data/curated/all_distances.csv\", index_col=0)\n",
    "distances.columns"
   ]
  },
  {
   "cell_type": "code",
   "execution_count": 12,
   "metadata": {},
   "outputs": [
    {
     "name": "stdout",
     "output_type": "stream",
     "text": [
      "Railway_Duration 771.1\n",
      "Park_Duration 1077.5\n",
      "Post_Office_Duration 708.4\n",
      "Primary_Duration 1908.5\n",
      "Secondary_Duration 2050.4\n",
      "Railway_Distance 12474.3\n",
      "Park_Distance 20738.8\n",
      "Post_Office_Distance 6935.0\n",
      "Primary_Distance 41158.9\n",
      "Secondary_Distance 41158.9\n"
     ]
    }
   ],
   "source": [
    "columns_to_categorise = ['Railway_Duration',  'Park_Duration', 'Post_Office_Duration', 'Primary_Duration', 'Secondary_Duration',\n",
    "                         'Railway_Distance',  'Park_Distance', 'Post_Office_Distance', 'Primary_Distance', 'Secondary_Distance']\n",
    "\n",
    "processed_distances = distances[['Name', 'Cost', 'Coordinates', 'Bed', 'Bath', 'Parking',\n",
    "       'Property_Type', 'Agency', 'Postcode', 'CBD_Duration', 'Nearby_Schools']]\n",
    "processed_distances = processed_distances.reset_index()\n",
    "\n",
    "for col in columns_to_categorise:\n",
    "    data = distances[col]\n",
    "    dist_cat_dict = {}\n",
    "    max_dist = max(data)\n",
    "    print(col, max_dist)\n",
    "    for i in range(0, len(data)):\n",
    "        # categorise\n",
    "        cat = 0 \n",
    "        if (data[i] > 0 and data[i] <= max_dist / 8):\n",
    "            cat = 1\n",
    "        elif (data[i] > max_dist / 8 and data[i] <= max_dist / 4):\n",
    "            cat = 2\n",
    "        elif (data[i] > max_dist / 4 and data[i] <= max_dist / 2):\n",
    "            cat = 3\n",
    "        elif (data[i] > max_dist / 2 and data[i] <= 3 * max_dist / 4):\n",
    "            cat = 4\n",
    "        elif (data[i] > 3 * max_dist / 4 and data[i] <= max_dist):\n",
    "            cat = 5\n",
    "        else:\n",
    "            cat = 6\n",
    "        # if (data[i] > 0 and data[i] <= 500):\n",
    "        #     cat = 1\n",
    "        # elif (data[i] > 500 and data[i] <= 1000):\n",
    "        #     cat = 2\n",
    "        # elif (data[i] > 1000 and data[i] <= 1500):\n",
    "        #     cat = 3 \n",
    "        # elif (data[i] > 1500 and data[i] <= 2000):\n",
    "        #     cat = 4\n",
    "        # else:\n",
    "        #     cat = 5 \n",
    "\n",
    "        dist_cat_dict[i] = cat\n",
    "    \n",
    "    processed_distances[col] = processed_distances['index'].map(dist_cat_dict)\n"
   ]
  },
  {
   "cell_type": "code",
   "execution_count": 13,
   "metadata": {},
   "outputs": [],
   "source": [
    "# processed_distances = processed_distances.set_index('index')\n",
    "processed_distances = processed_distances.drop(['index'], axis=1)"
   ]
  },
  {
   "cell_type": "code",
   "execution_count": 14,
   "metadata": {},
   "outputs": [],
   "source": [
    "processed_distances.to_csv(\"../data/curated/categorised_distances.csv\")"
   ]
  }
 ],
 "metadata": {
  "kernelspec": {
   "display_name": "Python 3.8.10 64-bit",
   "language": "python",
   "name": "python3"
  },
  "language_info": {
   "codemirror_mode": {
    "name": "ipython",
    "version": 3
   },
   "file_extension": ".py",
   "mimetype": "text/x-python",
   "name": "python",
   "nbconvert_exporter": "python",
   "pygments_lexer": "ipython3",
   "version": "3.8.10"
  },
  "orig_nbformat": 4,
  "vscode": {
   "interpreter": {
    "hash": "916dbcbb3f70747c44a77c7bcd40155683ae19c65e1c03b4aa3499c5328201f1"
   }
  }
 },
 "nbformat": 4,
 "nbformat_minor": 2
}
