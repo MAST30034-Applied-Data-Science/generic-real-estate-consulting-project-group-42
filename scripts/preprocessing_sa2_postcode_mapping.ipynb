{
 "cells": [
  {
   "cell_type": "code",
   "execution_count": 1,
   "metadata": {},
   "outputs": [],
   "source": [
    "import os\n",
    "import pandas as pd\n",
    "\n",
    "dir_name = '..'\n",
    "relative_dir_raw = '/data/raw/external/'\n",
    "relative_dir_curated = '/data/curated/'"
   ]
  },
  {
   "cell_type": "code",
   "execution_count": 89,
   "metadata": {},
   "outputs": [],
   "source": [
    "def preprocess_mapping(input_dir, column1, column2, column1_renamed, column2_renamed):\n",
    "    if input_dir[-3:] == 'csv':\n",
    "        df = pd.read_csv(input_dir)\n",
    "    elif input_dir[-3:] == 'xls':\n",
    "        df = pd.read_excel(input_dir, sheet_name='Table 3', header=[5], engine=\"xlrd\")\n",
    "\n",
    "    # remove NaN values \n",
    "    df = df[~df[column1].isna()]\n",
    "    df = df[~df[column2].isna()]\n",
    "\n",
    "    # select necessary rows and columns\n",
    "    df = df[:-1]\n",
    "    df = df[[column1, column2]]\n",
    "\n",
    "    # convert to string type\n",
    "    df[column1] = df[column1].astype(int).astype(str)\n",
    "    df[column2] = df[column2].astype(int).astype(str)\n",
    "\n",
    "    df = df.rename(columns={column1: column1_renamed, column2: column2_renamed})\n",
    "\n",
    "    return df"
   ]
  },
  {
   "cell_type": "code",
   "execution_count": 102,
   "metadata": {},
   "outputs": [],
   "source": [
    "sa2_postcode_mapping_2011 = preprocess_mapping(dir_name + relative_dir_raw + \"1270055006_CG_POSTCODE_2011_SA2_2011.xls\",\n",
    "                                                'POSTCODE', 'SA2_MAINCODE_2011', 'postcode_2011', 'sa2_2011')\n",
    "\n",
    "sa2_2011_to_2016 = preprocess_mapping(dir_name + relative_dir_raw + 'sa2_2011_to_2016/' + 'CG_SA2_2011_SA2_2016.xls',\n",
    "                                        'SA2_MAINCODE_2016', 'SA2_MAINCODE_2011', 'sa2_2016', 'sa2_2011')   \n",
    "\n",
    "sa2_2016_to_2021 = preprocess_mapping(dir_name + relative_dir_raw + 'sa2_2016_to_2021.csv', \n",
    "                                            'SA2_MAINCODE_2016', 'SA2_CODE_2021', 'sa2_2016', 'sa2_2021')  \n",
    "\n",
    "postcode_2011_to_2016 = preprocess_mapping(dir_name + relative_dir_raw + 'postcode_2011_to_2016/' + 'CG_POA_2011_POA_2016.xls',\n",
    "                                            'POA_CODE_2011', 'POA_CODE_2016', 'postcode_2011', 'postcode_2016')  \n",
    "\n",
    "postcode_2016_to_2021 = preprocess_mapping(dir_name + relative_dir_raw + 'postcode_2016_to_2021.csv', \n",
    "                                            'POA_CODE_2016', 'POA_CODE_2021', 'postcode_2016', 'postcode_2021') \n"
   ]
  },
  {
   "cell_type": "code",
   "execution_count": 126,
   "metadata": {},
   "outputs": [],
   "source": [
    "sa2_postcode_mapping_2021 = sa2_2016_to_2021.merge(sa2_2011_to_2016, on='sa2_2016').merge(sa2_postcode_mapping_2011, on='sa2_2011')\\\n",
    "                                            .merge(postcode_2011_to_2016, on='postcode_2011').merge(postcode_2016_to_2021, on='postcode_2016')\n",
    "sa2_postcode_mapping_2021 = sa2_postcode_mapping_2021[['sa2_2021', 'postcode_2021']].drop_duplicates()"
   ]
  },
  {
   "cell_type": "code",
   "execution_count": 127,
   "metadata": {},
   "outputs": [],
   "source": [
    "sa2_postcode_mapping_2021.to_csv(dir_name + relative_dir_curated + 'sa2_postcode_mapping_2021.csv', index=False)"
   ]
  },
  {
   "cell_type": "code",
   "execution_count": null,
   "metadata": {},
   "outputs": [],
   "source": []
  }
 ],
 "metadata": {
  "kernelspec": {
   "display_name": "Python 3.10.4 64-bit",
   "language": "python",
   "name": "python3"
  },
  "language_info": {
   "codemirror_mode": {
    "name": "ipython",
    "version": 3
   },
   "file_extension": ".py",
   "mimetype": "text/x-python",
   "name": "python",
   "nbconvert_exporter": "python",
   "pygments_lexer": "ipython3",
   "version": "3.10.4"
  },
  "orig_nbformat": 4,
  "vscode": {
   "interpreter": {
    "hash": "916dbcbb3f70747c44a77c7bcd40155683ae19c65e1c03b4aa3499c5328201f1"
   }
  }
 },
 "nbformat": 4,
 "nbformat_minor": 2
}
